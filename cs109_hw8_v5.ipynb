{
 "cells": [
  {
   "cell_type": "markdown",
   "metadata": {},
   "source": [
    "# CS 109A/STAT 121A/AC 209A/CSCI E-109A: Homework 8\n",
    "# Ensemble methods\n",
    "\n",
    "**Harvard University**<br/>\n",
    "**Fall 2017**<br/>\n",
    "**Instructors**: Pavlos Protopapas, Kevin Rader, Rahul Dave\n"
   ]
  },
  {
   "cell_type": "markdown",
   "metadata": {},
   "source": [
    "Enrollment: CS 109A"
   ]
  },
  {
   "cell_type": "markdown",
   "metadata": {},
   "source": [
    "Import libraries:"
   ]
  },
  {
   "cell_type": "code",
   "execution_count": 64,
   "metadata": {
    "collapsed": false
   },
   "outputs": [],
   "source": [
    "import numpy as np\n",
    "import pandas as pd\n",
    "import matplotlib\n",
    "import matplotlib.pyplot as plt\n",
    "import sklearn.metrics as metrics\n",
    "from sklearn.model_selection import cross_val_score\n",
    "from sklearn import tree\n",
    "from sklearn.tree import DecisionTreeClassifier\n",
    "from sklearn.ensemble import RandomForestClassifier\n",
    "from sklearn.ensemble import AdaBoostClassifier\n",
    "from sklearn.linear_model import LogisticRegressionCV\n",
    "from sklearn import tree\n",
    "from sklearn import ensemble\n",
    "from sklearn.metrics import accuracy_score\n",
    "%matplotlib inline"
   ]
  },
  {
   "cell_type": "code",
   "execution_count": null,
   "metadata": {
    "collapsed": false
   },
   "outputs": [],
   "source": []
  },
  {
   "cell_type": "markdown",
   "metadata": {},
   "source": [
    "# Higgs Boson Discovery\n",
    "\n",
    "The discovery of the Higgs boson in July 2012 marked a fundamental breakthrough in particle physics. The Higgs boson particle was discovered through experiments at the Large Hadron Collider at CERN, by colliding beams of protons at high energy. A key challenge in analyzing the results of these experiments is to differentiate between a collision that produces Higgs bosons and collisions thats produce only background noise. We shall explore the use of ensemble methods for this classification task.\n",
    "\n",
    "You are provided with data from Monte-Carlo simulations of collisions of particles in a particle collider experiment. The training set is available in `Higgs_train.csv` and the test set is in `Higgs_test.csv`. Each row in these files corresponds to a particle colision described by 28 features (columns 1-28), of which the first 21 features are kinematic properties measured by the particle detectors in the accelerator, and the remaining features are derived by physicists from the the first 21 features. The class label is provided in the last column, with a label of 1 indicating that the collision produces Higgs bosons (signal), and a label of 0 indicating that the collision produces other particles (background). \n",
    "\n",
    "The data set provided to you is a small subset of the HIGGS data set in the UCI machine learning repository. The following paper contains further details about the data set and the predictors used: <a href = \"https://www.nature.com/articles/ncomms5308\">Baldi et al., Nature Communications 5, 2014</a>.\n"
   ]
  },
  {
   "cell_type": "code",
   "execution_count": 65,
   "metadata": {
    "collapsed": true
   },
   "outputs": [],
   "source": [
    "data_train = pd.read_csv('Higgs_train.csv')\n",
    "data_test = pd.read_csv('Higgs_test.csv')"
   ]
  },
  {
   "cell_type": "code",
   "execution_count": 66,
   "metadata": {
    "collapsed": false
   },
   "outputs": [
    {
     "name": "stdout",
     "output_type": "stream",
     "text": [
      "(5000, 29)\n",
      "(5000, 29)\n"
     ]
    }
   ],
   "source": [
    "print(data_train.shape)\n",
    "print(data_test.shape)"
   ]
  },
  {
   "cell_type": "code",
   "execution_count": 67,
   "metadata": {
    "collapsed": true
   },
   "outputs": [],
   "source": [
    "data_train_nda = data_train.as_matrix()\n",
    "\n",
    "X_train = data_train_nda[:, :-1]\n",
    "Y_train = data_train_nda[:, -1]\n",
    "\n",
    "data_test_nda = data_test.as_matrix()\n",
    "\n",
    "X_test = data_test_nda[:, :-1]\n",
    "Y_test = data_test_nda[:, -1]"
   ]
  },
  {
   "cell_type": "markdown",
   "metadata": {},
   "source": [
    "### EDA"
   ]
  },
  {
   "cell_type": "code",
   "execution_count": 68,
   "metadata": {
    "collapsed": false
   },
   "outputs": [
    {
     "data": {
      "text/html": [
       "<div>\n",
       "<table border=\"1\" class=\"dataframe\">\n",
       "  <thead>\n",
       "    <tr style=\"text-align: right;\">\n",
       "      <th></th>\n",
       "      <th>lepton pT</th>\n",
       "      <th>lepton eta</th>\n",
       "      <th>lepton phi</th>\n",
       "      <th>missing energy magnitude</th>\n",
       "      <th>missing energy phi</th>\n",
       "      <th>jet 1 pt</th>\n",
       "      <th>jet 1 eta</th>\n",
       "      <th>jet 1 phi</th>\n",
       "      <th>jet 1 b-tag</th>\n",
       "      <th>jet 2 pt</th>\n",
       "      <th>...</th>\n",
       "      <th>jet 4 phi</th>\n",
       "      <th>jet 4 b-tag</th>\n",
       "      <th>m_jj</th>\n",
       "      <th>m_jjj</th>\n",
       "      <th>m_lv</th>\n",
       "      <th>m_jlv</th>\n",
       "      <th>m_bb</th>\n",
       "      <th>m_wbb</th>\n",
       "      <th>m_wwbb</th>\n",
       "      <th>class</th>\n",
       "    </tr>\n",
       "  </thead>\n",
       "  <tbody>\n",
       "    <tr>\n",
       "      <th>0</th>\n",
       "      <td>0.376816</td>\n",
       "      <td>-1.583727</td>\n",
       "      <td>-1.707552</td>\n",
       "      <td>0.990897</td>\n",
       "      <td>0.114397</td>\n",
       "      <td>1.253553</td>\n",
       "      <td>0.619859</td>\n",
       "      <td>-1.479572</td>\n",
       "      <td>2.173076</td>\n",
       "      <td>0.753658</td>\n",
       "      <td>...</td>\n",
       "      <td>0.397156</td>\n",
       "      <td>0.000000</td>\n",
       "      <td>0.522449</td>\n",
       "      <td>1.318622</td>\n",
       "      <td>0.982398</td>\n",
       "      <td>1.359610</td>\n",
       "      <td>0.964809</td>\n",
       "      <td>1.309991</td>\n",
       "      <td>1.083203</td>\n",
       "      <td>1.0</td>\n",
       "    </tr>\n",
       "    <tr>\n",
       "      <th>1</th>\n",
       "      <td>0.707330</td>\n",
       "      <td>0.087603</td>\n",
       "      <td>-0.399742</td>\n",
       "      <td>0.918742</td>\n",
       "      <td>-1.229936</td>\n",
       "      <td>1.172847</td>\n",
       "      <td>-0.552574</td>\n",
       "      <td>0.886053</td>\n",
       "      <td>2.173076</td>\n",
       "      <td>1.298317</td>\n",
       "      <td>...</td>\n",
       "      <td>0.236231</td>\n",
       "      <td>0.000000</td>\n",
       "      <td>0.439696</td>\n",
       "      <td>0.828885</td>\n",
       "      <td>0.992241</td>\n",
       "      <td>1.157820</td>\n",
       "      <td>2.215780</td>\n",
       "      <td>1.189586</td>\n",
       "      <td>0.937976</td>\n",
       "      <td>1.0</td>\n",
       "    </tr>\n",
       "    <tr>\n",
       "      <th>2</th>\n",
       "      <td>0.617290</td>\n",
       "      <td>0.265839</td>\n",
       "      <td>-1.345227</td>\n",
       "      <td>1.154581</td>\n",
       "      <td>1.036646</td>\n",
       "      <td>0.954822</td>\n",
       "      <td>0.377252</td>\n",
       "      <td>-0.147960</td>\n",
       "      <td>0.000000</td>\n",
       "      <td>1.063507</td>\n",
       "      <td>...</td>\n",
       "      <td>-0.542413</td>\n",
       "      <td>0.000000</td>\n",
       "      <td>1.024506</td>\n",
       "      <td>1.026255</td>\n",
       "      <td>0.986289</td>\n",
       "      <td>0.927720</td>\n",
       "      <td>1.371080</td>\n",
       "      <td>0.981672</td>\n",
       "      <td>0.917436</td>\n",
       "      <td>1.0</td>\n",
       "    </tr>\n",
       "    <tr>\n",
       "      <th>3</th>\n",
       "      <td>0.850992</td>\n",
       "      <td>-0.380876</td>\n",
       "      <td>-0.071264</td>\n",
       "      <td>1.468704</td>\n",
       "      <td>-0.795133</td>\n",
       "      <td>0.691818</td>\n",
       "      <td>0.883260</td>\n",
       "      <td>0.496881</td>\n",
       "      <td>0.000000</td>\n",
       "      <td>1.616349</td>\n",
       "      <td>...</td>\n",
       "      <td>-1.520171</td>\n",
       "      <td>0.000000</td>\n",
       "      <td>1.197755</td>\n",
       "      <td>1.100534</td>\n",
       "      <td>0.987262</td>\n",
       "      <td>1.353453</td>\n",
       "      <td>1.455383</td>\n",
       "      <td>0.994682</td>\n",
       "      <td>0.953553</td>\n",
       "      <td>1.0</td>\n",
       "    </tr>\n",
       "    <tr>\n",
       "      <th>4</th>\n",
       "      <td>0.767540</td>\n",
       "      <td>-0.691572</td>\n",
       "      <td>-0.040191</td>\n",
       "      <td>0.614843</td>\n",
       "      <td>0.143765</td>\n",
       "      <td>0.748614</td>\n",
       "      <td>0.397057</td>\n",
       "      <td>-0.873640</td>\n",
       "      <td>0.000000</td>\n",
       "      <td>1.147862</td>\n",
       "      <td>...</td>\n",
       "      <td>0.502034</td>\n",
       "      <td>1.550981</td>\n",
       "      <td>0.921948</td>\n",
       "      <td>0.864080</td>\n",
       "      <td>0.982839</td>\n",
       "      <td>1.373222</td>\n",
       "      <td>0.601492</td>\n",
       "      <td>0.918621</td>\n",
       "      <td>0.957063</td>\n",
       "      <td>0.0</td>\n",
       "    </tr>\n",
       "  </tbody>\n",
       "</table>\n",
       "<p>5 rows × 29 columns</p>\n",
       "</div>"
      ],
      "text/plain": [
       "   lepton pT   lepton eta   lepton phi   missing energy magnitude  \\\n",
       "0   0.376816    -1.583727    -1.707552                   0.990897   \n",
       "1   0.707330     0.087603    -0.399742                   0.918742   \n",
       "2   0.617290     0.265839    -1.345227                   1.154581   \n",
       "3   0.850992    -0.380876    -0.071264                   1.468704   \n",
       "4   0.767540    -0.691572    -0.040191                   0.614843   \n",
       "\n",
       "    missing energy phi   jet 1 pt   jet 1 eta   jet 1 phi   jet 1 b-tag  \\\n",
       "0             0.114397   1.253553    0.619859   -1.479572      2.173076   \n",
       "1            -1.229936   1.172847   -0.552574    0.886053      2.173076   \n",
       "2             1.036646   0.954822    0.377252   -0.147960      0.000000   \n",
       "3            -0.795133   0.691818    0.883260    0.496881      0.000000   \n",
       "4             0.143765   0.748614    0.397057   -0.873640      0.000000   \n",
       "\n",
       "    jet 2 pt   ...     jet 4 phi   jet 4 b-tag      m_jj     m_jjj      m_lv  \\\n",
       "0   0.753658   ...      0.397156      0.000000  0.522449  1.318622  0.982398   \n",
       "1   1.298317   ...      0.236231      0.000000  0.439696  0.828885  0.992241   \n",
       "2   1.063507   ...     -0.542413      0.000000  1.024506  1.026255  0.986289   \n",
       "3   1.616349   ...     -1.520171      0.000000  1.197755  1.100534  0.987262   \n",
       "4   1.147862   ...      0.502034      1.550981  0.921948  0.864080  0.982839   \n",
       "\n",
       "      m_jlv      m_bb     m_wbb    m_wwbb   class  \n",
       "0  1.359610  0.964809  1.309991  1.083203     1.0  \n",
       "1  1.157820  2.215780  1.189586  0.937976     1.0  \n",
       "2  0.927720  1.371080  0.981672  0.917436     1.0  \n",
       "3  1.353453  1.455383  0.994682  0.953553     1.0  \n",
       "4  1.373222  0.601492  0.918621  0.957063     0.0  \n",
       "\n",
       "[5 rows x 29 columns]"
      ]
     },
     "execution_count": 68,
     "metadata": {},
     "output_type": "execute_result"
    }
   ],
   "source": [
    "data_train.head()"
   ]
  },
  {
   "cell_type": "code",
   "execution_count": null,
   "metadata": {
    "collapsed": true
   },
   "outputs": [],
   "source": []
  },
  {
   "cell_type": "markdown",
   "metadata": {},
   "source": [
    "## Question 1 (2pt): Single Decision Tree\n",
    "We start by building a basic model which we will use as our base model for comparison. \n",
    "\n",
    "1. Fit a decision tree model to the training set and report the classification accuracy of the model on the test set. Use 5-fold cross-validation to choose the (maximum) depth for the tree. You will use the max_depth you find here throughout the homework. \n"
   ]
  },
  {
   "cell_type": "code",
   "execution_count": 69,
   "metadata": {
    "collapsed": false
   },
   "outputs": [
    {
     "data": {
      "text/html": [
       "<div>\n",
       "<table border=\"1\" class=\"dataframe\">\n",
       "  <thead>\n",
       "    <tr style=\"text-align: right;\">\n",
       "      <th></th>\n",
       "      <th>Depths</th>\n",
       "      <th>Scores</th>\n",
       "    </tr>\n",
       "  </thead>\n",
       "  <tbody>\n",
       "    <tr>\n",
       "      <th>0</th>\n",
       "      <td>2</td>\n",
       "      <td>0.623207</td>\n",
       "    </tr>\n",
       "    <tr>\n",
       "      <th>1</th>\n",
       "      <td>3</td>\n",
       "      <td>0.620411</td>\n",
       "    </tr>\n",
       "    <tr>\n",
       "      <th>2</th>\n",
       "      <td>4</td>\n",
       "      <td>0.635806</td>\n",
       "    </tr>\n",
       "    <tr>\n",
       "      <th>3</th>\n",
       "      <td>5</td>\n",
       "      <td>0.639211</td>\n",
       "    </tr>\n",
       "    <tr>\n",
       "      <th>4</th>\n",
       "      <td>6</td>\n",
       "      <td>0.627406</td>\n",
       "    </tr>\n",
       "    <tr>\n",
       "      <th>5</th>\n",
       "      <td>7</td>\n",
       "      <td>0.629406</td>\n",
       "    </tr>\n",
       "    <tr>\n",
       "      <th>6</th>\n",
       "      <td>8</td>\n",
       "      <td>0.627600</td>\n",
       "    </tr>\n",
       "    <tr>\n",
       "      <th>7</th>\n",
       "      <td>9</td>\n",
       "      <td>0.624207</td>\n",
       "    </tr>\n",
       "    <tr>\n",
       "      <th>8</th>\n",
       "      <td>10</td>\n",
       "      <td>0.616805</td>\n",
       "    </tr>\n",
       "  </tbody>\n",
       "</table>\n",
       "</div>"
      ],
      "text/plain": [
       "   Depths    Scores\n",
       "0       2  0.623207\n",
       "1       3  0.620411\n",
       "2       4  0.635806\n",
       "3       5  0.639211\n",
       "4       6  0.627406\n",
       "5       7  0.629406\n",
       "6       8  0.627600\n",
       "7       9  0.624207\n",
       "8      10  0.616805"
      ]
     },
     "execution_count": 69,
     "metadata": {},
     "output_type": "execute_result"
    }
   ],
   "source": [
    "from sklearn.model_selection import cross_val_score\n",
    "\n",
    "# create an empty array to hold accuracy scores later\n",
    "scores = []\n",
    "depths = [2,3,4,5,6,7,8,9,10]\n",
    "\n",
    "# for each depth, fit the tree classifier onto the train set\n",
    "# use the cross_val_score method to directly perform cv and get the accuracy scores\n",
    "for depth in depths:\n",
    "    dt = DecisionTreeClassifier(max_depth = depth)\n",
    "    cv_scores = cross_val_score(dt, X_train, Y_train, cv=5)\n",
    "    scores.append(np.mean(cv_scores))\n",
    "\n",
    "# format into data series\n",
    "depths_se = pd.Series(depths)\n",
    "scores_se = pd.Series(scores)\n",
    "\n",
    "# create a dataframe for data presentation\n",
    "col_names = ['Depths', 'Scores']\n",
    "depths_scores_df = pd.DataFrame(columns = col_names)\n",
    "\n",
    "depths_scores_df['Depths'] = depths_se.values\n",
    "depths_scores_df['Scores'] = scores_se.values\n",
    "\n",
    "depths_scores_df"
   ]
  },
  {
   "cell_type": "code",
   "execution_count": 70,
   "metadata": {
    "collapsed": false
   },
   "outputs": [
    {
     "data": {
      "text/plain": [
       "0.64539999999999997"
      ]
     },
     "execution_count": 70,
     "metadata": {},
     "output_type": "execute_result"
    }
   ],
   "source": [
    "best_depth = 5\n",
    "dt = DecisionTreeClassifier(max_depth = best_depth)\n",
    "dt.fit(X_train, Y_train)\n",
    "dt.score(X_test, Y_test)"
   ]
  },
  {
   "cell_type": "markdown",
   "metadata": {},
   "source": [
    "## Question 2 (15pt): Dropout-based Approach\n",
    "We start with a simple method inspired from the idea of 'dropout' in machine learning, where we fit multiple decision trees on random subsets of predictors, and combine them through a majority vote. The procedure is described below.\n",
    "\n",
    "- For each predictor in the training sample, set the predictor values to 0 with probability $p$  (i.e. drop the predictor by setting it to 0). Repeat this for $B$ trials to create $B$ separate training sets.\n",
    "\n",
    "\n",
    "- Fit decision tree models $\\hat{h}^1(x), \\ldots, \\hat{h}^B(x) \\in \\{0,1\\}$ to the $B$ training sets. \n",
    "\n",
    "- Combine the decision tree models into a single classifier by taking a majority vote:\n",
    "$$\n",
    "\\hat{H}_{maj}(x) \\,=\\, majority\\Big(\\hat{h}^1(x), \\ldots, \\hat{h}^B(x)\\Big).\n",
    "$$\n",
    "\n",
    "\n",
    "We shall refer to the combined classifier as an ** *ensemble classifier* **. Implement the described dropout approach, and answer the following questions:\n",
    "1. Apply the dropout procedure with $p = 0.5$ for different number of trees (say $2, 4, 8, 16, \\ldots, 256$), and evaluate the training and test accuracy of the combined classifier. Does an increase in the number of trees improve the training and test performance? Explain your observations in terms of the bias-variance trade-off for the classifier.\n",
    "- Fix the number of trees to 64 and apply the dropout procedure with different dropout rates $p = 0.1, 0.3, 0.5, 0.7, 0.9$. Based on your results, explain how the dropout rate influences the bias and variance of the combined classifier.\n",
    "- Apply 5-fold cross-validation to choose the optimal combination of the dropout rate and number of trees. How does the test performance of an ensemble of trees fitted with the optimal dropout rate and number of trees compare with the single decision tree model in Question 1?\n",
    "[hint: Training with large number of trees can take long time. You may need to restrict the max number of trees.]"
   ]
  },
  {
   "cell_type": "markdown",
   "metadata": {},
   "source": [
    "### Part 2.1"
   ]
  },
  {
   "cell_type": "code",
   "execution_count": 71,
   "metadata": {
    "collapsed": true
   },
   "outputs": [],
   "source": [
    "\n",
    "# re-handle the data for safety, split to train and test\n",
    "\n",
    "data_train = pd.read_csv('Higgs_train.csv')\n",
    "data_test = pd.read_csv('Higgs_test.csv')\n",
    "\n",
    "data_train_nda = data_train.as_matrix()\n",
    "\n",
    "X_train = data_train_nda[:, :-1]\n",
    "Y_train = data_train_nda[:, -1]\n",
    "\n",
    "data_test_nda = data_test.as_matrix()\n",
    "\n",
    "X_test = data_test_nda[:, :-1]\n",
    "Y_test = data_test_nda[:, -1]\n",
    "    "
   ]
  },
  {
   "cell_type": "code",
   "execution_count": 72,
   "metadata": {
    "collapsed": true
   },
   "outputs": [],
   "source": [
    "import copy\n",
    "import random\n",
    "\n",
    "# best depth found in q1\n",
    "depth = 5\n",
    "\n",
    "# function to ensemble predict on our data \n",
    "def dropout_procedure(num_trees, dropout_rate, X, Y, X_test, Y_test):\n",
    "        \n",
    "    # num_trees is b- the number of models we build\n",
    "    train_predictions = np.zeros((num_trees, len(X)))\n",
    "    test_predictions = np.zeros((num_trees, len(X_test)))\n",
    "    final_train_prediction = []\n",
    "    final_test_prediction = []\n",
    "    \n",
    "    # loop through B times\n",
    "    for i in range(num_trees):        \n",
    "        model_X = copy.deepcopy(X)\n",
    "        model_X_test = copy.deepcopy(X_test)\n",
    "        \n",
    "        for j in range(len(model_X[0])):\n",
    "            rand = random.uniform(0,1)\n",
    "            # drop with the specified probability\n",
    "            if rand < dropout_rate:\n",
    "                # dropout column- set to 0 \n",
    "                for k in range(len(model_X)):\n",
    "                    model_X[k][j] = 0\n",
    "                \n",
    "        # fit classifier\n",
    "        dt = DecisionTreeClassifier(max_depth = depth)\n",
    "        dt.fit(model_X, Y)\n",
    "        train_predict = dt.predict(model_X)\n",
    "        test_predict = dt.predict(model_X_test)\n",
    "        # put together\n",
    "        train_predictions[i,:] = train_predict\n",
    "        test_predictions[i,:] = test_predict\n",
    "        \n",
    "    \n",
    "    for i in range(len(model_X)):   \n",
    "        # add up ones\n",
    "        sum_one = 0\n",
    "        for j in range(num_trees):\n",
    "            sum_one = sum_one + train_predictions[j][i]\n",
    "        \n",
    "        # if more than .5 classified as 1, classify as 1, otherwise 0\n",
    "        if (1.0*sum_one/num_trees) > 0.5:\n",
    "            final_train_prediction.append(1.0)\n",
    "        else:\n",
    "            final_train_prediction.append(0.0)\n",
    "            \n",
    "    for i in range(len(model_X_test)):   \n",
    "        # add up ones\n",
    "        sum_one = 0\n",
    "        for j in range(num_trees):\n",
    "            sum_one = sum_one + test_predictions[j][i]\n",
    "        \n",
    "        # if more than .5 classified as 1, classify as 1, otherwise 0\n",
    "        if (1.0*sum_one/num_trees) > 0.5:\n",
    "            final_test_prediction.append(1.0)\n",
    "        else:\n",
    "            final_test_prediction.append(0.0)\n",
    "            \n",
    "    train_acc = accuracy_score(Y, final_train_prediction)\n",
    "    test_acc = accuracy_score(Y_test, final_test_prediction)\n",
    "        \n",
    "    return (train_acc, test_acc)\n",
    "    "
   ]
  },
  {
   "cell_type": "code",
   "execution_count": 73,
   "metadata": {
    "collapsed": false
   },
   "outputs": [
    {
     "name": "stdout",
     "output_type": "stream",
     "text": [
      "Data for varied number of trees, dropout rate 0.5\n"
     ]
    },
    {
     "data": {
      "text/html": [
       "<div>\n",
       "<table border=\"1\" class=\"dataframe\">\n",
       "  <thead>\n",
       "    <tr style=\"text-align: right;\">\n",
       "      <th></th>\n",
       "      <th>Number of Trees</th>\n",
       "      <th>Train Accuracy</th>\n",
       "      <th>Test Accuracy</th>\n",
       "    </tr>\n",
       "  </thead>\n",
       "  <tbody>\n",
       "    <tr>\n",
       "      <th>0</th>\n",
       "      <td>2.0</td>\n",
       "      <td>0.6436</td>\n",
       "      <td>0.5928</td>\n",
       "    </tr>\n",
       "    <tr>\n",
       "      <th>1</th>\n",
       "      <td>4.0</td>\n",
       "      <td>0.6798</td>\n",
       "      <td>0.6504</td>\n",
       "    </tr>\n",
       "    <tr>\n",
       "      <th>2</th>\n",
       "      <td>8.0</td>\n",
       "      <td>0.7182</td>\n",
       "      <td>0.6738</td>\n",
       "    </tr>\n",
       "    <tr>\n",
       "      <th>3</th>\n",
       "      <td>16.0</td>\n",
       "      <td>0.7278</td>\n",
       "      <td>0.6728</td>\n",
       "    </tr>\n",
       "    <tr>\n",
       "      <th>4</th>\n",
       "      <td>32.0</td>\n",
       "      <td>0.7294</td>\n",
       "      <td>0.6810</td>\n",
       "    </tr>\n",
       "    <tr>\n",
       "      <th>5</th>\n",
       "      <td>64.0</td>\n",
       "      <td>0.7430</td>\n",
       "      <td>0.6892</td>\n",
       "    </tr>\n",
       "    <tr>\n",
       "      <th>6</th>\n",
       "      <td>128.0</td>\n",
       "      <td>0.7412</td>\n",
       "      <td>0.6880</td>\n",
       "    </tr>\n",
       "    <tr>\n",
       "      <th>7</th>\n",
       "      <td>256.0</td>\n",
       "      <td>0.7370</td>\n",
       "      <td>0.6882</td>\n",
       "    </tr>\n",
       "  </tbody>\n",
       "</table>\n",
       "</div>"
      ],
      "text/plain": [
       "   Number of Trees  Train Accuracy  Test Accuracy\n",
       "0              2.0          0.6436         0.5928\n",
       "1              4.0          0.6798         0.6504\n",
       "2              8.0          0.7182         0.6738\n",
       "3             16.0          0.7278         0.6728\n",
       "4             32.0          0.7294         0.6810\n",
       "5             64.0          0.7430         0.6892\n",
       "6            128.0          0.7412         0.6880\n",
       "7            256.0          0.7370         0.6882"
      ]
     },
     "execution_count": 73,
     "metadata": {},
     "output_type": "execute_result"
    }
   ],
   "source": [
    "# part 1, for many different values of B\n",
    "\n",
    "num_trees_to_test = [2,4,8,16,32,64,128,256]\n",
    "\n",
    "train_accs = []\n",
    "test_accs = []\n",
    "trees = []\n",
    "\n",
    "# loop through desired # trees\n",
    "for num_trees in num_trees_to_test:\n",
    "    \n",
    "    # collect data using function\n",
    "    train_acc, test_acc = dropout_procedure(num_trees, 0.5, X_train, Y_train, X_test, Y_test)\n",
    "    train_accs.append(train_acc)\n",
    "    test_accs.append(test_acc)\n",
    "    \n",
    "# display the data\n",
    "data_table = np.transpose([num_trees_to_test, train_accs, test_accs])\n",
    "x = pd.DataFrame(data_table, columns=[\"Number of Trees\",\"Train Accuracy\", \"Test Accuracy\"])\n",
    "print(\"Data for varied number of trees, dropout rate 0.5\")\n",
    "x"
   ]
  },
  {
   "cell_type": "code",
   "execution_count": 74,
   "metadata": {
    "collapsed": false
   },
   "outputs": [
    {
     "data": {
      "image/png": "[encoded data removed]",
      "text/plain": [
       "<matplotlib.figure.Figure at 0x11f908ef0>"
      ]
     },
     "metadata": {},
     "output_type": "display_data"
    }
   ],
   "source": [
    "# plot train and test accuracy\n",
    "\n",
    "fig, ax = plt.subplots(1, 1, figsize=(8, 6))\n",
    "ax.plot(train_accs, color='red', alpha=0.8, label='Train Accuracies')\n",
    "ax.plot(test_accs, color='blue', alpha=0.8, label='Test Accuracies')\n",
    "ax.set_title('Accuracy Scores vs # of Trees in Ensemble')\n",
    "ax.set_xlabel('Log Number of Trees in Ensemble')\n",
    "ax.set_ylabel('Accuracy Score')\n",
    "ax.set_ylim(0.6,0.8)\n",
    "ax.legend(loc='best')\n",
    "plt.show()"
   ]
  },
  {
   "cell_type": "markdown",
   "metadata": {},
   "source": [
    "### Part 2.2\n",
    "\n",
    "#### Fix the number of trees to 64 and apply the dropout procedure with different dropout rates $p = 0.1, 0.3, 0.5, 0.7, 0.9$. Based on your results, explain how the dropout rate influences the bias and variance of the combined classifier."
   ]
  },
  {
   "cell_type": "code",
   "execution_count": 75,
   "metadata": {
    "collapsed": false
   },
   "outputs": [
    {
     "name": "stdout",
     "output_type": "stream",
     "text": [
      "Data for varied dropout rate, 64 trees\n"
     ]
    },
    {
     "data": {
      "text/html": [
       "<div>\n",
       "<table border=\"1\" class=\"dataframe\">\n",
       "  <thead>\n",
       "    <tr style=\"text-align: right;\">\n",
       "      <th></th>\n",
       "      <th>Dropout Rate</th>\n",
       "      <th>Train Accuracy</th>\n",
       "      <th>Test Accuracy</th>\n",
       "    </tr>\n",
       "  </thead>\n",
       "  <tbody>\n",
       "    <tr>\n",
       "      <th>0</th>\n",
       "      <td>0.1</td>\n",
       "      <td>0.6816</td>\n",
       "      <td>0.6456</td>\n",
       "    </tr>\n",
       "    <tr>\n",
       "      <th>1</th>\n",
       "      <td>0.3</td>\n",
       "      <td>0.6986</td>\n",
       "      <td>0.6546</td>\n",
       "    </tr>\n",
       "    <tr>\n",
       "      <th>2</th>\n",
       "      <td>0.5</td>\n",
       "      <td>0.7352</td>\n",
       "      <td>0.6944</td>\n",
       "    </tr>\n",
       "    <tr>\n",
       "      <th>3</th>\n",
       "      <td>0.7</td>\n",
       "      <td>0.7390</td>\n",
       "      <td>0.6758</td>\n",
       "    </tr>\n",
       "    <tr>\n",
       "      <th>4</th>\n",
       "      <td>0.9</td>\n",
       "      <td>0.6040</td>\n",
       "      <td>0.5746</td>\n",
       "    </tr>\n",
       "  </tbody>\n",
       "</table>\n",
       "</div>"
      ],
      "text/plain": [
       "   Dropout Rate  Train Accuracy  Test Accuracy\n",
       "0           0.1          0.6816         0.6456\n",
       "1           0.3          0.6986         0.6546\n",
       "2           0.5          0.7352         0.6944\n",
       "3           0.7          0.7390         0.6758\n",
       "4           0.9          0.6040         0.5746"
      ]
     },
     "execution_count": 75,
     "metadata": {},
     "output_type": "execute_result"
    }
   ],
   "source": [
    "# part 2, for many different values of dropout_rate\n",
    "num_trees = 64\n",
    "\n",
    "train_accs_2 = []\n",
    "test_accs_2 = []\n",
    "dropout_rates = [0.1,0.3,0.5,0.7,0.9]\n",
    "\n",
    "# iterate through dropout rates\n",
    "for dropout_rate in dropout_rates:\n",
    "    \n",
    "    # collect data with function\n",
    "    train_acc_2, test_acc_2 = dropout_procedure(num_trees, dropout_rate, X_train, Y_train, X_test, Y_test)\n",
    "    train_accs_2.append(train_acc_2)\n",
    "    test_accs_2.append(test_acc_2)\n",
    "    \n",
    "# visualize data\n",
    "data_table_2 = np.transpose([dropout_rates, train_accs_2, test_accs_2])\n",
    "x2 = pd.DataFrame(data_table_2, columns=[\"Dropout Rate\",\"Train Accuracy\", \"Test Accuracy\"])\n",
    "print(\"Data for varied dropout rate, 64 trees\")\n",
    "x2"
   ]
  },
  {
   "cell_type": "code",
   "execution_count": 76,
   "metadata": {
    "collapsed": false
   },
   "outputs": [
    {
     "data": {
      "image/png": "[encoded data removed]",
      "text/plain": [
       "<matplotlib.figure.Figure at 0x120403ef0>"
      ]
     },
     "metadata": {},
     "output_type": "display_data"
    }
   ],
   "source": [
    "# plot training and test data\n",
    "\n",
    "fig, ax = plt.subplots(1, 1, figsize=(8, 6))\n",
    "ax.plot(dropout_rates, train_accs_2, color='red', alpha=0.8, label='Train Accuracies')\n",
    "ax.plot(dropout_rates, test_accs_2, color='blue', alpha=0.8, label='Test Accuracies')\n",
    "ax.set_title('Accuracy Scores vs Dropout Rate for Ensemble')\n",
    "ax.set_xlabel('Dropout Rates')\n",
    "ax.set_ylabel('Accuracy Score')\n",
    "ax.set_ylim(-0.2,0.8)\n",
    "ax.legend(loc='best')\n",
    "plt.show()"
   ]
  },
  {
   "cell_type": "markdown",
   "metadata": {},
   "source": [
    "### Part 2.3"
   ]
  },
  {
   "cell_type": "code",
   "execution_count": 77,
   "metadata": {
    "collapsed": false
   },
   "outputs": [
    {
     "name": "stdout",
     "output_type": "stream",
     "text": [
      "5-fold Cross Validation Accuracy for various numbers of trees and dropout rates\n",
      "Sorted so that the best accuracy is a the top!\n"
     ]
    },
    {
     "data": {
      "text/html": [
       "<div>\n",
       "<table border=\"1\" class=\"dataframe\">\n",
       "  <thead>\n",
       "    <tr style=\"text-align: right;\">\n",
       "      <th></th>\n",
       "      <th>Number of Trees</th>\n",
       "      <th>Dropout Rate</th>\n",
       "      <th>Validation Accuracy</th>\n",
       "    </tr>\n",
       "  </thead>\n",
       "  <tbody>\n",
       "    <tr>\n",
       "      <th>22</th>\n",
       "      <td>24.0</td>\n",
       "      <td>0.5</td>\n",
       "      <td>0.67792</td>\n",
       "    </tr>\n",
       "    <tr>\n",
       "      <th>37</th>\n",
       "      <td>64.0</td>\n",
       "      <td>0.5</td>\n",
       "      <td>0.67700</td>\n",
       "    </tr>\n",
       "    <tr>\n",
       "      <th>32</th>\n",
       "      <td>48.0</td>\n",
       "      <td>0.5</td>\n",
       "      <td>0.67540</td>\n",
       "    </tr>\n",
       "    <tr>\n",
       "      <th>27</th>\n",
       "      <td>32.0</td>\n",
       "      <td>0.5</td>\n",
       "      <td>0.67324</td>\n",
       "    </tr>\n",
       "    <tr>\n",
       "      <th>17</th>\n",
       "      <td>16.0</td>\n",
       "      <td>0.5</td>\n",
       "      <td>0.66872</td>\n",
       "    </tr>\n",
       "    <tr>\n",
       "      <th>16</th>\n",
       "      <td>16.0</td>\n",
       "      <td>0.3</td>\n",
       "      <td>0.66744</td>\n",
       "    </tr>\n",
       "    <tr>\n",
       "      <th>36</th>\n",
       "      <td>64.0</td>\n",
       "      <td>0.3</td>\n",
       "      <td>0.66740</td>\n",
       "    </tr>\n",
       "    <tr>\n",
       "      <th>38</th>\n",
       "      <td>64.0</td>\n",
       "      <td>0.7</td>\n",
       "      <td>0.66684</td>\n",
       "    </tr>\n",
       "    <tr>\n",
       "      <th>33</th>\n",
       "      <td>48.0</td>\n",
       "      <td>0.7</td>\n",
       "      <td>0.66652</td>\n",
       "    </tr>\n",
       "    <tr>\n",
       "      <th>21</th>\n",
       "      <td>24.0</td>\n",
       "      <td>0.3</td>\n",
       "      <td>0.66644</td>\n",
       "    </tr>\n",
       "    <tr>\n",
       "      <th>26</th>\n",
       "      <td>32.0</td>\n",
       "      <td>0.3</td>\n",
       "      <td>0.66584</td>\n",
       "    </tr>\n",
       "    <tr>\n",
       "      <th>11</th>\n",
       "      <td>8.0</td>\n",
       "      <td>0.3</td>\n",
       "      <td>0.66504</td>\n",
       "    </tr>\n",
       "    <tr>\n",
       "      <th>31</th>\n",
       "      <td>48.0</td>\n",
       "      <td>0.3</td>\n",
       "      <td>0.66420</td>\n",
       "    </tr>\n",
       "    <tr>\n",
       "      <th>12</th>\n",
       "      <td>8.0</td>\n",
       "      <td>0.5</td>\n",
       "      <td>0.66120</td>\n",
       "    </tr>\n",
       "    <tr>\n",
       "      <th>23</th>\n",
       "      <td>24.0</td>\n",
       "      <td>0.7</td>\n",
       "      <td>0.66084</td>\n",
       "    </tr>\n",
       "    <tr>\n",
       "      <th>28</th>\n",
       "      <td>32.0</td>\n",
       "      <td>0.7</td>\n",
       "      <td>0.65896</td>\n",
       "    </tr>\n",
       "    <tr>\n",
       "      <th>18</th>\n",
       "      <td>16.0</td>\n",
       "      <td>0.7</td>\n",
       "      <td>0.65568</td>\n",
       "    </tr>\n",
       "    <tr>\n",
       "      <th>13</th>\n",
       "      <td>8.0</td>\n",
       "      <td>0.7</td>\n",
       "      <td>0.65124</td>\n",
       "    </tr>\n",
       "    <tr>\n",
       "      <th>10</th>\n",
       "      <td>8.0</td>\n",
       "      <td>0.1</td>\n",
       "      <td>0.64896</td>\n",
       "    </tr>\n",
       "    <tr>\n",
       "      <th>5</th>\n",
       "      <td>4.0</td>\n",
       "      <td>0.1</td>\n",
       "      <td>0.64812</td>\n",
       "    </tr>\n",
       "    <tr>\n",
       "      <th>15</th>\n",
       "      <td>16.0</td>\n",
       "      <td>0.1</td>\n",
       "      <td>0.64804</td>\n",
       "    </tr>\n",
       "    <tr>\n",
       "      <th>20</th>\n",
       "      <td>24.0</td>\n",
       "      <td>0.1</td>\n",
       "      <td>0.64724</td>\n",
       "    </tr>\n",
       "    <tr>\n",
       "      <th>25</th>\n",
       "      <td>32.0</td>\n",
       "      <td>0.1</td>\n",
       "      <td>0.64716</td>\n",
       "    </tr>\n",
       "    <tr>\n",
       "      <th>35</th>\n",
       "      <td>64.0</td>\n",
       "      <td>0.1</td>\n",
       "      <td>0.64712</td>\n",
       "    </tr>\n",
       "    <tr>\n",
       "      <th>30</th>\n",
       "      <td>48.0</td>\n",
       "      <td>0.1</td>\n",
       "      <td>0.64708</td>\n",
       "    </tr>\n",
       "    <tr>\n",
       "      <th>6</th>\n",
       "      <td>4.0</td>\n",
       "      <td>0.3</td>\n",
       "      <td>0.64536</td>\n",
       "    </tr>\n",
       "    <tr>\n",
       "      <th>0</th>\n",
       "      <td>2.0</td>\n",
       "      <td>0.1</td>\n",
       "      <td>0.64520</td>\n",
       "    </tr>\n",
       "    <tr>\n",
       "      <th>7</th>\n",
       "      <td>4.0</td>\n",
       "      <td>0.5</td>\n",
       "      <td>0.63948</td>\n",
       "    </tr>\n",
       "    <tr>\n",
       "      <th>1</th>\n",
       "      <td>2.0</td>\n",
       "      <td>0.3</td>\n",
       "      <td>0.63444</td>\n",
       "    </tr>\n",
       "    <tr>\n",
       "      <th>8</th>\n",
       "      <td>4.0</td>\n",
       "      <td>0.7</td>\n",
       "      <td>0.61296</td>\n",
       "    </tr>\n",
       "    <tr>\n",
       "      <th>2</th>\n",
       "      <td>2.0</td>\n",
       "      <td>0.5</td>\n",
       "      <td>0.60532</td>\n",
       "    </tr>\n",
       "    <tr>\n",
       "      <th>3</th>\n",
       "      <td>2.0</td>\n",
       "      <td>0.7</td>\n",
       "      <td>0.60408</td>\n",
       "    </tr>\n",
       "    <tr>\n",
       "      <th>14</th>\n",
       "      <td>8.0</td>\n",
       "      <td>0.9</td>\n",
       "      <td>0.58164</td>\n",
       "    </tr>\n",
       "    <tr>\n",
       "      <th>34</th>\n",
       "      <td>48.0</td>\n",
       "      <td>0.9</td>\n",
       "      <td>0.57332</td>\n",
       "    </tr>\n",
       "    <tr>\n",
       "      <th>24</th>\n",
       "      <td>24.0</td>\n",
       "      <td>0.9</td>\n",
       "      <td>0.57228</td>\n",
       "    </tr>\n",
       "    <tr>\n",
       "      <th>9</th>\n",
       "      <td>4.0</td>\n",
       "      <td>0.9</td>\n",
       "      <td>0.57016</td>\n",
       "    </tr>\n",
       "    <tr>\n",
       "      <th>19</th>\n",
       "      <td>16.0</td>\n",
       "      <td>0.9</td>\n",
       "      <td>0.56688</td>\n",
       "    </tr>\n",
       "    <tr>\n",
       "      <th>39</th>\n",
       "      <td>64.0</td>\n",
       "      <td>0.9</td>\n",
       "      <td>0.56352</td>\n",
       "    </tr>\n",
       "    <tr>\n",
       "      <th>29</th>\n",
       "      <td>32.0</td>\n",
       "      <td>0.9</td>\n",
       "      <td>0.56116</td>\n",
       "    </tr>\n",
       "    <tr>\n",
       "      <th>4</th>\n",
       "      <td>2.0</td>\n",
       "      <td>0.9</td>\n",
       "      <td>0.54696</td>\n",
       "    </tr>\n",
       "  </tbody>\n",
       "</table>\n",
       "</div>"
      ],
      "text/plain": [
       "    Number of Trees  Dropout Rate  Validation Accuracy\n",
       "22             24.0           0.5              0.67792\n",
       "37             64.0           0.5              0.67700\n",
       "32             48.0           0.5              0.67540\n",
       "27             32.0           0.5              0.67324\n",
       "17             16.0           0.5              0.66872\n",
       "16             16.0           0.3              0.66744\n",
       "36             64.0           0.3              0.66740\n",
       "38             64.0           0.7              0.66684\n",
       "33             48.0           0.7              0.66652\n",
       "21             24.0           0.3              0.66644\n",
       "26             32.0           0.3              0.66584\n",
       "11              8.0           0.3              0.66504\n",
       "31             48.0           0.3              0.66420\n",
       "12              8.0           0.5              0.66120\n",
       "23             24.0           0.7              0.66084\n",
       "28             32.0           0.7              0.65896\n",
       "18             16.0           0.7              0.65568\n",
       "13              8.0           0.7              0.65124\n",
       "10              8.0           0.1              0.64896\n",
       "5               4.0           0.1              0.64812\n",
       "15             16.0           0.1              0.64804\n",
       "20             24.0           0.1              0.64724\n",
       "25             32.0           0.1              0.64716\n",
       "35             64.0           0.1              0.64712\n",
       "30             48.0           0.1              0.64708\n",
       "6               4.0           0.3              0.64536\n",
       "0               2.0           0.1              0.64520\n",
       "7               4.0           0.5              0.63948\n",
       "1               2.0           0.3              0.63444\n",
       "8               4.0           0.7              0.61296\n",
       "2               2.0           0.5              0.60532\n",
       "3               2.0           0.7              0.60408\n",
       "14              8.0           0.9              0.58164\n",
       "34             48.0           0.9              0.57332\n",
       "24             24.0           0.9              0.57228\n",
       "9               4.0           0.9              0.57016\n",
       "19             16.0           0.9              0.56688\n",
       "39             64.0           0.9              0.56352\n",
       "29             32.0           0.9              0.56116\n",
       "4               2.0           0.9              0.54696"
      ]
     },
     "execution_count": 77,
     "metadata": {},
     "output_type": "execute_result"
    }
   ],
   "source": [
    "from sklearn.cross_validation import KFold\n",
    "\n",
    "# 5 fold CV to select best combo of trees and dropout rate\n",
    "# in part 2.1, we hit our top accuacy at 64 trees, so we should cap it at 64\n",
    "\n",
    "data_train = pd.read_csv('Higgs_train.csv')\n",
    "data_test = pd.read_csv('Higgs_test.csv')\n",
    "\n",
    "tree_options = [2,4,8,16,24,32,48,64]\n",
    "dropout_rates = [0.1,0.3,0.5,0.7,0.9]\n",
    "\n",
    "trees = []\n",
    "rates = []\n",
    "valids = []\n",
    "\n",
    "# iterate through trees and dropout rates\n",
    "for num_trees in tree_options:\n",
    "    for dropout_rate in dropout_rates:\n",
    "        \n",
    "        # use KFold for cross validation \n",
    "        n = len(X_train)\n",
    "        test_acc_total = 0\n",
    "        for f_train, f_test in KFold(n, n_folds=5, shuffle=False, random_state=11):\n",
    "            \n",
    "            # prepare data\n",
    "            train_data = data_train.iloc[f_train]\n",
    "            valid_data = data_train.iloc[f_test]\n",
    "            \n",
    "            data_train_nda = train_data.as_matrix()\n",
    "            data_valid_nda = valid_data.as_matrix()\n",
    "\n",
    "            train_x = data_train_nda[:, :-1]\n",
    "            train_y = data_train_nda[:, -1]\n",
    "            valid_x = data_test_nda[:, :-1]\n",
    "            valid_y = data_test_nda[:, -1]\n",
    "\n",
    "            # collect accuracy from function\n",
    "            train_acc, valid_acc = dropout_procedure(num_trees, dropout_rate, train_x, train_y, valid_x, valid_y)  \n",
    "            test_acc_total += valid_acc\n",
    "        \n",
    "        # collect data for visualization\n",
    "        test_acc_final = test_acc_total / 5.0\n",
    "        trees.append(num_trees)\n",
    "        rates.append(dropout_rate)\n",
    "        valids.append(test_acc_final)\n",
    "\n",
    "# print sorted results        \n",
    "data_table_3 = np.transpose([trees, rates, valids])\n",
    "x3 = pd.DataFrame(data_table_3, columns=[\"Number of Trees\",\"Dropout Rate\", \"Validation Accuracy\"])\n",
    "print(\"5-fold Cross Validation Accuracy for various numbers of trees and dropout rates\")\n",
    "print(\"Sorted so that the best accuracy is a the top!\")\n",
    "x3.sort_values(by=\"Validation Accuracy\", ascending=False)"
   ]
  },
  {
   "cell_type": "code",
   "execution_count": 124,
   "metadata": {
    "collapsed": false
   },
   "outputs": [
    {
     "name": "stdout",
     "output_type": "stream",
     "text": [
      "3D Visualization for this data. The above sorted table \n",
      "is a much cleaner way to understand the results\n"
     ]
    },
    {
     "data": {
      "image/png": "[encoded data removed]",
      "text/plain": [
       "<matplotlib.figure.Figure at 0x11ec32c88>"
      ]
     },
     "metadata": {},
     "output_type": "display_data"
    }
   ],
   "source": [
    "from mpl_toolkits.mplot3d import Axes3D\n",
    "\n",
    "print(\"3D Visualization for this data. The above sorted table \")\n",
    "print(\"is a much cleaner way to understand the results\")\n",
    "\n",
    "d = np.ones(len(rates))\n",
    "d1 = d*.1\n",
    "d2 = d*5\n",
    "fig = plt.figure()\n",
    "ax = fig.add_subplot(111, projection='3d')\n",
    "ax.bar3d(x=trees, y=rates, z=valids, dx=d2, dy=d1, dz=0.33, color='b', zsort='average')\n",
    "ax.set_ylabel(\"Dropout Rate\")\n",
    "ax.set_zlabel(\"Validation Accuracy\")\n",
    "ax.set_xlabel(\"Number of Trees\")\n",
    "plt.show()"
   ]
  },
  {
   "cell_type": "code",
   "execution_count": 79,
   "metadata": {
    "collapsed": false
   },
   "outputs": [
    {
     "name": "stdout",
     "output_type": "stream",
     "text": [
      "For optimal trees: 24 and optimal dropout rate: 0.5, train accuracy is 0.7316 and test accuracy is 0.6772\n"
     ]
    }
   ],
   "source": [
    "# in the previous problem, the highest validation accuracy is for 24 trees and 0.5 dropout rate\n",
    "\n",
    "# re-handle the data for safety, split to train and test\n",
    "\n",
    "data_train = pd.read_csv('Higgs_train.csv')\n",
    "data_test = pd.read_csv('Higgs_test.csv')\n",
    "\n",
    "data_train_nda = data_train.as_matrix()\n",
    "\n",
    "X_train = data_train_nda[:, :-1]\n",
    "Y_train = data_train_nda[:, -1]\n",
    "\n",
    "data_test_nda = data_test.as_matrix()\n",
    "\n",
    "X_test = data_test_nda[:, :-1]\n",
    "Y_test = data_test_nda[:, -1]\n",
    "\n",
    "optimal_trees = 24\n",
    "optimal_dropout_rate = 0.5\n",
    "\n",
    "# use the function to again train and test on the real test data\n",
    "train_acc, test_acc = dropout_procedure(optimal_trees, optimal_dropout_rate, X_train, Y_train, X_test, Y_test)\n",
    "print(\"For optimal trees: {} and optimal dropout rate: {}, train accuracy is {} and test accuracy is {}\".format(optimal_trees, optimal_dropout_rate, train_acc, test_acc))    \n",
    "\n"
   ]
  },
  {
   "cell_type": "markdown",
   "metadata": {},
   "source": [
    "## Analysis: \n",
    "\n",
    "#### Does an increase in the number of trees improve the training and test performance? Explain your observations in terms of the bias-variance trade-off for the classifier.\n",
    "\n",
    "Results printed above in 2.1. \n",
    "\n",
    "Here, for all num_trees from 16 to 256, we get essentailly the same test accuracy but 16 trees by far runs the fastest, so I would say anywhere from 16-64 trees is a good number to avoid a crazy runtime, but still get great test results, which are all considerably higher than the 0.639 that we saw in the original one tree model. Based on this procedure, it seems that more trees would lead to a lower bias and a higher variance in our predictions. Lower bias because using so many different trees will average each other's bias out and \"center us on the bullseye\" on average. However, using so many trees likely leads to higher variance because our predictions will vary greatly across the tree, and majority rule will greatly spread out any point that is near 50-50 for votes. Overall, we see these two affects approximately cancel each other out past ~16 trees, and our train and test accuracy remain about the same. \n",
    "\n",
    "\n",
    "#### Based on your results, explain how the dropout rate influences the bias and variance of the combined classifier.\n",
    "\n",
    "Results printed above in 2.2. \n",
    "\n",
    "So rate of 0.5 is clearly the best here in terms of test performance, and both train and test accuracy decrease sharply when dropout rate increases or decreases away from 0.5. Low dropout rate has relatively higher performance, especially for the training data so I would say that low dropout rate leads to high bias, since then our predictions simply match the trees we were using before, without adding the benefit of randomness that we see with this model. Essentially, low dropout rate just fails to solve the issue that these trees are all slightly biased. We see this high bias, because for 0.1 rate, train and test accuracy are relatively high and similar, just not as good as our optimal model. High dropout rate leads to very high variance because when we only use a few predictors in each tree, we spread out our predictions and they will not be tightly packed together because we are predicting on only a very small amount of data. \n",
    "\n",
    "#### How does the test performance of an ensemble of trees fitted with the optimal dropout rate and number of trees compare with the single decision tree model in Question 1?\n",
    "\n",
    "Results printed above in 2.3\n",
    "\n",
    "With our optimal model (48 trees, 0.5 dropout rate), we get a test accuracy of 0.6772, which is considerably better than the best model we saw in part 1, which had accuracy 0.639.\n"
   ]
  },
  {
   "cell_type": "markdown",
   "metadata": {},
   "source": [
    "## Question 3 (15pt): Random Forests\n",
    "\n",
    "We now move to a more sophisticated ensemble technique, namely random forest:\n",
    "1. How does a random forest approach differ from the dropout procedure described in Question 2? \n",
    " \n",
    "- Fit random forest models to the training set for different number of trees (say $2, 4, 8, 16, \\ldots, 256$), and evaluate the training and test accuracies of the models. You may set the number of predictors for each tree in the random forest model to $\\sqrt{p}$, where $p$ is the total number of predictors. \n",
    "\n",
    "- Based on your results, do you find that a larger number of trees necessarily improves the test accuracy of a random forest model? Explain how the number of trees effects the training and test accuracy of a random forest classifier, and how this relates to the bias-variance trade-off for the classifier. \n",
    "  \n",
    "- Fixing the number of trees to a reasonable value, apply 5-fold cross-validation to choose the optimal value for the  number of predictors. How does the test performance of random forest model fitted with the optimal number of trees compare with the dropout approach in Question 2?  \n",
    "\n",
    "\n"
   ]
  },
  {
   "cell_type": "markdown",
   "metadata": {},
   "source": [
    "### Part 3.1\n",
    "\n",
    "#### How does a random forest approach differ from the dropout procedure described in Question 2? \n",
    "\n",
    "Both approaches involve bootstrap aggregation, but the random forest approach involves random selection of predictors while the dropout procedure only approximates this random selection. Instead, in the dropout procedure, we select the predictors at each split by iterating through all possible predictors. At each possible predictor, we make an **independent** decision (based on a preset probability) as to whether we use it or not. In the random forest approach, we select a subset of predictors from the overall set; selection of predictors is **dependent** since we have a preset number of predictors we select at each split.\n",
    "\n",
    "In Practice: If we had 20 predictors, we could set a dropout rate of 0.5 and end up with X predictors at one split and Y predictors at another (for instance, 8 predictors at one split and 12 at another), but if we used the random forest approach and predetermined that we will select 10 predictors, we will necessarily have a subset of 10 predictors at every split."
   ]
  },
  {
   "cell_type": "markdown",
   "metadata": {},
   "source": [
    "### Part 3.2\n",
    "\n",
    "#### Fit random forest models to the training set for different number of trees (say $2, 4, 8, 16, \\ldots, 256$), and evaluate the training and test accuracies of the models. You may set the number of predictors for each tree in the random forest model to $\\sqrt{p}$, where $p$ is the total number of predictors. "
   ]
  },
  {
   "cell_type": "code",
   "execution_count": 90,
   "metadata": {
    "collapsed": true
   },
   "outputs": [],
   "source": [
    "# pick num of predictors to use at each split; round sqrt(28) up to 6\n",
    "num_rf_pred = int(np.ceil(np.sqrt(X_train.shape[1])))\n",
    "\n",
    "# create empty lists to input training and test accuracy scores into\n",
    "rf_tr_score = []\n",
    "rf_te_score = []\n",
    "\n",
    "# run the model with different numbers of trees, use first 8 powers of 2\n",
    "for i in range(1,9):\n",
    "    rf = ensemble.RandomForestClassifier(n_estimators=(2**i), \n",
    "                                         max_features = num_rf_pred, \n",
    "                                         max_depth = best_depth)\n",
    "    rf.fit(X_train, Y_train)\n",
    "    rf_tr_score.append(rf.score(X_train, Y_train))\n",
    "    rf_te_score.append(rf.score(X_test, Y_test))"
   ]
  },
  {
   "cell_type": "code",
   "execution_count": 91,
   "metadata": {
    "collapsed": false
   },
   "outputs": [
    {
     "data": {
      "text/html": [
       "<div>\n",
       "<style>\n",
       "    .dataframe thead tr:only-child th {\n",
       "        text-align: right;\n",
       "    }\n",
       "\n",
       "    .dataframe thead th {\n",
       "        text-align: left;\n",
       "    }\n",
       "\n",
       "    .dataframe tbody tr th {\n",
       "        vertical-align: top;\n",
       "    }\n",
       "</style>\n",
       "<table border=\"1\" class=\"dataframe\">\n",
       "  <thead>\n",
       "    <tr style=\"text-align: right;\">\n",
       "      <th></th>\n",
       "      <th># of Trees</th>\n",
       "      <th>Train Accuracies</th>\n",
       "      <th>Test Accuracies</th>\n",
       "    </tr>\n",
       "  </thead>\n",
       "  <tbody>\n",
       "    <tr>\n",
       "      <th>0</th>\n",
       "      <td>2</td>\n",
       "      <td>0.6732</td>\n",
       "      <td>0.6290</td>\n",
       "    </tr>\n",
       "    <tr>\n",
       "      <th>1</th>\n",
       "      <td>4</td>\n",
       "      <td>0.6804</td>\n",
       "      <td>0.6590</td>\n",
       "    </tr>\n",
       "    <tr>\n",
       "      <th>2</th>\n",
       "      <td>8</td>\n",
       "      <td>0.7204</td>\n",
       "      <td>0.6706</td>\n",
       "    </tr>\n",
       "    <tr>\n",
       "      <th>3</th>\n",
       "      <td>16</td>\n",
       "      <td>0.7234</td>\n",
       "      <td>0.6806</td>\n",
       "    </tr>\n",
       "    <tr>\n",
       "      <th>4</th>\n",
       "      <td>32</td>\n",
       "      <td>0.7382</td>\n",
       "      <td>0.6886</td>\n",
       "    </tr>\n",
       "    <tr>\n",
       "      <th>5</th>\n",
       "      <td>64</td>\n",
       "      <td>0.7424</td>\n",
       "      <td>0.6930</td>\n",
       "    </tr>\n",
       "    <tr>\n",
       "      <th>6</th>\n",
       "      <td>128</td>\n",
       "      <td>0.7378</td>\n",
       "      <td>0.6986</td>\n",
       "    </tr>\n",
       "    <tr>\n",
       "      <th>7</th>\n",
       "      <td>256</td>\n",
       "      <td>0.7380</td>\n",
       "      <td>0.6990</td>\n",
       "    </tr>\n",
       "  </tbody>\n",
       "</table>\n",
       "</div>"
      ],
      "text/plain": [
       "   # of Trees  Train Accuracies  Test Accuracies\n",
       "0           2            0.6732           0.6290\n",
       "1           4            0.6804           0.6590\n",
       "2           8            0.7204           0.6706\n",
       "3          16            0.7234           0.6806\n",
       "4          32            0.7382           0.6886\n",
       "5          64            0.7424           0.6930\n",
       "6         128            0.7378           0.6986\n",
       "7         256            0.7380           0.6990"
      ]
     },
     "execution_count": 91,
     "metadata": {},
     "output_type": "execute_result"
    }
   ],
   "source": [
    "# format into data series\n",
    "number_trees_se = pd.Series([2,4,8,16,32,64,128,256])\n",
    "train_scores_se = pd.Series(rf_tr_score)\n",
    "test_scores_se = pd.Series(rf_te_score)\n",
    "\n",
    "# create a dataframe for data presentation\n",
    "col_names = ['# of Trees', 'Train Accuracies', 'Test Accuracies']\n",
    "rf_scores_df = pd.DataFrame(columns = col_names)\n",
    "\n",
    "rf_scores_df['# of Trees'] = number_trees_se.values\n",
    "rf_scores_df['Train Accuracies'] = train_scores_se.values\n",
    "rf_scores_df['Test Accuracies'] = test_scores_se.values\n",
    "\n",
    "rf_scores_df"
   ]
  },
  {
   "cell_type": "code",
   "execution_count": 148,
   "metadata": {
    "collapsed": false
   },
   "outputs": [
    {
     "data": {
      "image/png": "[encoded data removed]",
      "text/plain": [
       "<matplotlib.figure.Figure at 0x1263ec5c0>"
      ]
     },
     "metadata": {},
     "output_type": "display_data"
    }
   ],
   "source": [
    "fig, ax = plt.subplots(1, 1, figsize=(8, 6))\n",
    "ax.plot(rf_tr_score, color='red', alpha=0.8, label='Train Accuracies')\n",
    "ax.plot(rf_te_score, color='blue', alpha=0.8, label='Test Accuracies')\n",
    "ax.set_title('Figure 3.2: Accuracy Scores vs Number of Trees in Ensemble')\n",
    "ax.set_xlabel('Number of Trees in Ensemble')\n",
    "ax.set_ylabel('Accuracy Score')\n",
    "ax.set_xticks([0,1,2,3,4,5,6,7])\n",
    "ax.set_xticklabels(['2','4','8','16','32','64','128','256'])\n",
    "ax.set_ylim(0.5,1.05)\n",
    "ax.legend(loc='best')\n",
    "plt.show()"
   ]
  },
  {
   "cell_type": "code",
   "execution_count": 142,
   "metadata": {
    "collapsed": false
   },
   "outputs": [
    {
     "data": {
      "text/plain": [
       "<matplotlib.text.Text at 0x122ab1048>"
      ]
     },
     "execution_count": 142,
     "metadata": {},
     "output_type": "execute_result"
    },
    {
     "data": {
      "image/png": "[encoded data removed]",
      "text/plain": [
       "<matplotlib.figure.Figure at 0x11f623278>"
      ]
     },
     "metadata": {},
     "output_type": "display_data"
    }
   ],
   "source": [
    "rf = ensemble.RandomForestClassifier(n_estimators=32, max_features=1, oob_score=True)\n",
    "rf.fit(X_train, Y_train)\n",
    "\n",
    "feature_importance = rf.feature_importances_\n",
    "feature_importance = 100.0 * (feature_importance / feature_importance.max())\n",
    "\n",
    "# sorted_idx = np.argsort(feature_importance)\n",
    "# pos = np.arange(sorted_idx.shape[0]) + .5\n",
    "\n",
    "# plt.barh(pos, feature_importance[sorted_idx], align='center')\n",
    "# plt.yticks(pos, X_train.columns[sorted_idx])\n",
    "\n",
    "plt.barh(pos, feature_importance, align='center')\n",
    "plt.yticks(pos, data_train.columns)\n",
    "plt.xlabel('Relative Importance')\n",
    "plt.title('Variable Importance')"
   ]
  },
  {
   "cell_type": "markdown",
   "metadata": {},
   "source": [
    "### Part 3.3\n",
    "\n",
    "#### Based on your results, do you find that a larger number of trees necessarily improves the test accuracy of a random forest model? Explain how the number of trees affects the training and test accuracy of a random forest classifier, and how this relates to the bias-variance trade-off for the classifier. \n",
    "\n",
    "A larger number of trees **will not** necessarily improve the test accuracy of a random forest model, because at some point after we have added a large number of trees into the model already, we are susceptible to start adding duplicate trees. I can see this happening if there are a couple predictors that are really strong at explaining the response variable, and they show up consistently in our tree even when we take a subset of the predictors at the very beginning.\n",
    "\n",
    "Before we reach this point when we start adding duplicate trees into the model, we see that using larger number of trees generally leads to higher training and test accuracies. In *Figure 3.2*, we notice that both training and test accuracies improve by > 0.04 when we go from using 2 trees to using 8 trees. In contrast, when we go from using 128 trees to using 256 trees, our accuracies go up by < 0.001.\n",
    "\n",
    "In terms of bias and variance, when we go from using 2 trees to using 8 trees, we are **lowering the bias and increasing the variance**. We know that bias is decreasing since our accuracy scores are improving, but this comes at the However, when we start adding duplicate trees, we will no longer lower the bias of our model since the information from that tree was already used the first time we added it. Therefore, the variances will not increase either; this makes sense we know that random forests model avoid overfitting on the training data. Looking at *Figure 3.2*, we see this idea supported by the fact that the training and test accuracies flatten out but do not decrease. "
   ]
  },
  {
   "cell_type": "markdown",
   "metadata": {},
   "source": [
    "### Part 3.4\n",
    "\n",
    "#### Fixing the number of trees to a reasonable value, apply 5-fold cross-validation to choose the optimal value for the number of predictors."
   ]
  },
  {
   "cell_type": "code",
   "execution_count": 40,
   "metadata": {
    "collapsed": false
   },
   "outputs": [
    {
     "name": "stdout",
     "output_type": "stream",
     "text": [
      "1\n",
      "2\n",
      "3\n",
      "4\n",
      "5\n",
      "6\n",
      "7\n",
      "8\n",
      "9\n",
      "10\n",
      "11\n",
      "12\n",
      "13\n",
      "14\n",
      "15\n",
      "16\n",
      "17\n",
      "18\n",
      "19\n",
      "20\n",
      "21\n",
      "22\n",
      "23\n",
      "24\n",
      "25\n",
      "26\n",
      "27\n",
      "28\n"
     ]
    }
   ],
   "source": [
    "scores = []\n",
    "optimal_num = 0\n",
    "\n",
    "for features in range(1,X_train.shape[1]+1):\n",
    "    rfc = ensemble.RandomForestClassifier(n_estimators=32, max_features = features, oob_score=True)\n",
    "    # Perform 5-fold cross validation \n",
    "    cv_scores = cross_val_score(rfc, X_train, Y_train, cv=5)\n",
    "    if features > 1 and np.mean(cv_scores) >= max(scores):\n",
    "        optimal_num = features\n",
    "    scores.append(np.mean(cv_scores))\n",
    "    print(features)"
   ]
  },
  {
   "cell_type": "code",
   "execution_count": 41,
   "metadata": {
    "collapsed": false
   },
   "outputs": [
    {
     "name": "stdout",
     "output_type": "stream",
     "text": [
      "[0.63380450840450842, 0.65020332280332283, 0.6634087282087282, 0.66380293160293158, 0.66540473140473133, 0.67340813760813767, 0.666807332007332, 0.66560513180513181, 0.67500194060194063, 0.67300393580393592, 0.6782003422003422, 0.67280473660473661, 0.67240414000413995, 0.67940754300754302, 0.67100793500793499, 0.66720153580153574, 0.67440133840133842, 0.67540233620233614, 0.671797134997135, 0.66660973240973243, 0.66340092880092882, 0.67680053880053881, 0.66400072860072856, 0.66680613400613398, 0.67140493440493443, 0.6739983381983381, 0.66140672620672625, 0.65859892479892479]\n",
      "\n",
      "14\n"
     ]
    }
   ],
   "source": [
    "print(scores)\n",
    "print()\n",
    "print(optimal_num)"
   ]
  },
  {
   "cell_type": "code",
   "execution_count": 57,
   "metadata": {
    "collapsed": false
   },
   "outputs": [
    {
     "name": "stdout",
     "output_type": "stream",
     "text": [
      "Train Score:  0.9994\n",
      "Test Score:  0.6806\n"
     ]
    }
   ],
   "source": [
    "best_rfc = ensemble.RandomForestClassifier(n_estimators=32, max_features = optimal_num, oob_score=True)\n",
    "best_rfc.fit(X_train, Y_train)\n",
    "print('Train Score: ', best_rfc.score(X_train, Y_train))\n",
    "print('Test Score: ', best_rfc.score(X_test, Y_test))"
   ]
  },
  {
   "cell_type": "markdown",
   "metadata": {},
   "source": [
    "#### ANALYSIS: How does the test performance of random forest model fitted with the optimal number of trees compare with the dropout approach in Question 2?\n",
    "\n"
   ]
  },
  {
   "cell_type": "markdown",
   "metadata": {},
   "source": [
    "## Question 4 (15pt): Boosting\n",
    "\n",
    "We next compare the random forest model with the approach of boosting:\n",
    "\n",
    "\n",
    "1. Apply the AdaBoost algorithm to fit an ensemble of decision trees. Set the learning rate to 0.05, and try out different tree depths for the base learners: 1, 2, 10, and unrestricted depth.  Make a plot of the training accuracy of the ensemble classifier as a function of tree depths. Make a similar plot of the test accuracies as a function of number of trees (say $2, 4, 8, 16, \\ldots, 256$).\n",
    "- How does the number of trees influence the training and test performance? Compare and contrast between the trends you see in the training and test performance of AdaBoost and that of the random forest models in Question 3. Give an explanation for your observations.\n",
    "- How does the tree depth of the base learner impact the training and test performance? Recall that with random forests, we allow the depth of the individual trees to be unrestricted. Would you recommend the same strategy for boosting? Explain your answer.\n",
    "- Apply 5-fold cross-validation to choose the optimal number of trees $B$ for the ensemble and the optimal tree depth for the base learners. How does an ensemble classifier fitted with the optimal number of trees and the optimal tree depth compare with the random forest model fitted in Question 3.4? \n"
   ]
  },
  {
   "cell_type": "markdown",
   "metadata": {},
   "source": [
    "### Part 4.1"
   ]
  },
  {
   "cell_type": "code",
   "execution_count": 128,
   "metadata": {
    "collapsed": true
   },
   "outputs": [],
   "source": [
    "depths = [1,2,10,None]\n",
    "\n",
    "ab_depths_tr_scores = []\n",
    "ab_depths_te_scores = []\n",
    "\n",
    "for depth in depths:\n",
    "    adaboost = ensemble.AdaBoostClassifier(tree.DecisionTreeClassifier(max_depth=depth), \n",
    "                                           n_estimators=32, learning_rate=0.05)\n",
    "    adaboost.fit(X_train, Y_train)\n",
    "    ab_depths_tr_scores.append(adaboost.score(X_train, Y_train))\n",
    "    ab_depths_te_scores.append(adaboost.score(X_test, Y_test))"
   ]
  },
  {
   "cell_type": "code",
   "execution_count": 145,
   "metadata": {
    "collapsed": false
   },
   "outputs": [
    {
     "name": "stderr",
     "output_type": "stream",
     "text": [
      "/Users/georgeh85/anaconda/lib/python3.6/site-packages/matplotlib/axes/_axes.py:545: UserWarning: No labelled objects found. Use label='...' kwarg on individual plots.\n",
      "  warnings.warn(\"No labelled objects found. \"\n"
     ]
    },
    {
     "data": {
      "image/png": "[encoded data removed]",
      "text/plain": [
       "<matplotlib.figure.Figure at 0x1262a42b0>"
      ]
     },
     "metadata": {},
     "output_type": "display_data"
    }
   ],
   "source": [
    "fig, ax = plt.subplots(1, 1, figsize=(8, 6))\n",
    "ax.plot([0,1,2,3], ab_depths_tr_scores, color='blue', alpha=0.8)\n",
    "ax.set_title('Training Accuracies vs Tree Depth, with 32 Trees in Ensemble')\n",
    "ax.set_ylabel('Training Accuracy')\n",
    "ax.set_xlabel('Tree Depth')\n",
    "ax.set_xticks([0,1,2,3])\n",
    "ax.set_xticklabels(['1','2','10','None'])\n",
    "ax.set_ylim(0.55,1.05)\n",
    "ax.legend()\n",
    "plt.show()"
   ]
  },
  {
   "cell_type": "markdown",
   "metadata": {},
   "source": [
    "#### Test num of trees and tree depth together"
   ]
  },
  {
   "cell_type": "code",
   "execution_count": 58,
   "metadata": {
    "collapsed": true
   },
   "outputs": [],
   "source": [
    "trees = [2,4,8,16,32,64,128,256]\n",
    "depths = [1,2,10,None]\n",
    "\n",
    "# train scores\n",
    "ab_depth_1_tr_scores = []\n",
    "ab_depth_2_tr_scores = []\n",
    "ab_depth_10_tr_scores = []\n",
    "ab_depth_no_tr_scores = []\n",
    "\n",
    "# test scores\n",
    "ab_depth_1_te_scores = []\n",
    "ab_depth_2_te_scores = []\n",
    "ab_depth_10_te_scores = []\n",
    "ab_depth_no_te_scores = []\n",
    "\n",
    "for num_trees in trees:\n",
    "    adaboost = ensemble.AdaBoostClassifier(tree.DecisionTreeClassifier(max_depth=1), \n",
    "                                           n_estimators=num_trees, learning_rate=0.05)\n",
    "    adaboost.fit(X_train, Y_train)\n",
    "    ab_depth_1_tr_scores.append(adaboost.score(X_train, Y_train))\n",
    "    ab_depth_1_te_scores.append(adaboost.score(X_test, Y_test))\n",
    "    \n",
    "for num_trees in trees:\n",
    "    adaboost = ensemble.AdaBoostClassifier(tree.DecisionTreeClassifier(max_depth=2), \n",
    "                                           n_estimators=num_trees, learning_rate=0.05)\n",
    "    adaboost.fit(X_train, Y_train)\n",
    "    ab_depth_2_tr_scores.append(adaboost.score(X_train, Y_train))\n",
    "    ab_depth_2_te_scores.append(adaboost.score(X_test, Y_test))\n",
    "    \n",
    "for num_trees in trees:\n",
    "    adaboost = ensemble.AdaBoostClassifier(tree.DecisionTreeClassifier(max_depth=10), \n",
    "                                           n_estimators=num_trees, learning_rate=0.05)\n",
    "    adaboost.fit(X_train, Y_train)\n",
    "    ab_depth_10_tr_scores.append(adaboost.score(X_train, Y_train))\n",
    "    ab_depth_10_te_scores.append(adaboost.score(X_test, Y_test))\n",
    "    \n",
    "for num_trees in trees:\n",
    "    adaboost = ensemble.AdaBoostClassifier(tree.DecisionTreeClassifier(max_depth=None), \n",
    "                                           n_estimators=num_trees, learning_rate=0.05)\n",
    "    adaboost.fit(X_train, Y_train)\n",
    "    ab_depth_no_tr_scores.append(adaboost.score(X_train, Y_train))\n",
    "    ab_depth_no_te_scores.append(adaboost.score(X_test, Y_test))"
   ]
  },
  {
   "cell_type": "code",
   "execution_count": 76,
   "metadata": {
    "collapsed": false
   },
   "outputs": [
    {
     "data": {
      "image/png": "[encoded data removed]",
      "text/plain": [
       "<matplotlib.figure.Figure at 0x1263d2940>"
      ]
     },
     "metadata": {},
     "output_type": "display_data"
    }
   ],
   "source": [
    "fig, ax = plt.subplots(1, 2, figsize=(16, 6))\n",
    "ax[0].plot(ab_depth_1_tr_scores, color='red', alpha=0.8, label='Depth 1')\n",
    "ax[0].plot(ab_depth_2_tr_scores, color='blue', alpha=0.8, label='Depth 2')\n",
    "ax[0].plot(ab_depth_10_tr_scores, color='green', alpha=0.8, label='Depth 10')\n",
    "ax[0].plot(ab_depth_no_tr_scores, color='black', alpha=0.8, label='Depth None')\n",
    "ax[0].set_title('Train Accuracies')\n",
    "ax[0].set_xlabel('Log Number of Trees in Ensemble')\n",
    "ax[0].set_ylim(0.5,1.05)\n",
    "ax[1].plot(ab_depth_1_te_scores, color='red', alpha=0.8, label='Depth 1')\n",
    "ax[1].plot(ab_depth_2_te_scores, color='blue', alpha=0.8, label='Depth 2')\n",
    "ax[1].plot(ab_depth_10_te_scores, color='green', alpha=0.8, label='Depth 10')\n",
    "ax[1].plot(ab_depth_no_te_scores, color='black', alpha=0.8, label='Depth None')\n",
    "ax[1].set_title('Test Accuracies')\n",
    "ax[1].set_xlabel('Log Number of Trees in Ensemble')\n",
    "ax[1].set_ylim(0.55,0.75)\n",
    "ax[1].legend()\n",
    "plt.show()"
   ]
  },
  {
   "cell_type": "markdown",
   "metadata": {},
   "source": [
    "### Part 4.2: \n",
    "#### How does the number of trees influence the training and test performance? \n",
    "\n",
    "As the number of trees increases from 2 to 256, the training performance steadily improves across all max tree depths (or stays constant once it reaches 1.0 accuracy). The test performance also improves as the number of trees increases, but this improvement is only consistent for models with max depths of 1 or 2. For max depth 10 and no max depth, a lot of the explained \n",
    "\n",
    "#### Compare and contrast between the trends you see in the training and test performance of AdaBoost and that of the random forest models in Question 3. Give an explanation for your observations.\n",
    "\n"
   ]
  },
  {
   "cell_type": "markdown",
   "metadata": {},
   "source": [
    "### Part 4.3\n",
    "\n",
    "#### How does the tree depth of the base learner impact the training and test performance? \n",
    "\n",
    "The tree depth has a big impact on the training performance, since the model overfits on the training set when the max_depth is high. For instance, when there is no max depth, the algorithm immediately tries to explain all of the variation in the entire training set by making more and more splits in just the first tree. A similar thing happens when max_depth = 10, as we reach a 1.0 accuracy score on the training set by the time we add our 8th tree into the ensemble. Models with max_depth = 1 or 2, however, never reach a 1.0 accuracy score even when 256 trees have been added into the ensemble.\n",
    "\n",
    "This overfitting problem is clear in the test performance of the models, as the one with max_depth = 1 performs the best (accuracy score ranging from 0.64 to 0.70) while the one with no max depth performs the worst (score ranging from 0.60 to 0.61). When we have no max depth, or a high max depth, we also don't see substantial improvements in the model as we add more trees into the ensemble. This is because the model overfits on the training set early on, with many splits in each tree, and we can't undo this overfitting. \n",
    "\n",
    "Overall, we can conclude that setting a **lower max_depth** helps us avoid overfitting on the training set, and allows us to better take advantage of the aggregate process of boosting.\n",
    " \n",
    "#### Recall that with random forests, we allow the depth of the individual trees to be unrestricted. Would you recommend the same strategy for boosting? Explain your answer.\n",
    "\n",
    "No, since allowing higher tree depths in boosting leads to overfitting. The random forest approach naturally avoids overfitting since we are averaging many different models, but because boosting is a one-by-one, aggregate process instead of an averaging process, we need to avoid taking too many splits in each tree and overfitting on the training set with just a few trees in the ensemble."
   ]
  },
  {
   "cell_type": "markdown",
   "metadata": {},
   "source": [
    "### Part 4.4\n",
    "\n",
    "#### Apply 5-fold cross-validation to choose the optimal number of trees $B$ for the ensemble and the optimal tree depth for the base learners. How does an ensemble classifier fitted with the optimal number of trees and the optimal tree depth compare with the random forest model fitted in Question 3.4? "
   ]
  },
  {
   "cell_type": "code",
   "execution_count": 88,
   "metadata": {
    "collapsed": true
   },
   "outputs": [],
   "source": [
    "optimal_num_trees = 0\n",
    "optimal_tree_depth = 0\n",
    "\n",
    "scores = [0]\n",
    "\n",
    "for depth in depths:\n",
    "    for num_trees in trees:\n",
    "        adaboost = ensemble.AdaBoostClassifier(tree.DecisionTreeClassifier(max_depth=depth), \n",
    "                                               n_estimators=num_trees, learning_rate=0.05)\n",
    "        cv_scores = cross_val_score(adaboost, X_train, Y_train, cv=5)\n",
    "      \n",
    "        if np.mean(cv_scores) >= max(scores):\n",
    "            optimal_num_trees = num_trees\n",
    "            optimal_tree_depth = depth\n",
    "            \n",
    "        scores.append(np.mean(cv_scores))\n",
    "    "
   ]
  },
  {
   "cell_type": "code",
   "execution_count": null,
   "metadata": {
    "collapsed": true
   },
   "outputs": [],
   "source": [
    "print(optimal_num_trees)\n",
    "print(optimal_tree_depth)"
   ]
  },
  {
   "cell_type": "code",
   "execution_count": null,
   "metadata": {
    "collapsed": true
   },
   "outputs": [],
   "source": [
    "adaboost_opt = ensemble.AdaBoostClassifier(tree.DecisionTreeClassifier(max_depth=optimal_tree_depth), \n",
    "                                           n_estimators=optimal_num_trees, learning_rate=0.05)\n",
    "adaboost_opt.fit(X_train, Y_train)\n",
    "print(adaboost_opt.score(X_train, Y_train))\n",
    "print(adaboost_opt.score(X_test, Y_test))\n",
    "\n",
    "# 0.694"
   ]
  },
  {
   "cell_type": "markdown",
   "metadata": {},
   "source": [
    "## Question 5 (3pt): Meta-classifier\n",
    "\n",
    "We have so far explored techniques that grow a collection of trees either by creating multiple copies of the original training set, or through a sequential procedure, and then combines these trees into a single classifier. Consider an alternate scenario where you are provided with a pre-trained collection of trees, say from different participants of a data science competition for Higgs boson discovery. What would be a good strategy to combine these pre-fitted trees into a single powerful classifier? Of course, a simple approach would be to take the majority vote from the individual trees. Can we do better than this simple combination strategy?\n",
    "\n",
    "A collection of 100 decision tree classifiers is provided in the file `models.npy` and can be loaded into an array by executing:\n",
    "\n",
    "`models = np.load('models.npy')`\n",
    "\n",
    "You can make predictions using the $i^\\text{th}$ model on an array of predictors `x` by executing:\n",
    "\n",
    "`model[i].predict(x)`  &nbsp;&nbsp;&nbsp;\n",
    "or &nbsp;&nbsp;&nbsp;\n",
    "`model[i].predict_proba(x)`\n",
    "\n",
    "and score the model on predictors `x` and labels `y` by using:\n",
    "\n",
    "`model[i].score(x, y)`.\n",
    "\n",
    "1. Implement a strategy to combine the provided decision tree classifiers, and compare the test perfomance of your approach with the majority vote classifier. Explain your strategy/algorithm.\n"
   ]
  },
  {
   "cell_type": "code",
   "execution_count": 70,
   "metadata": {
    "collapsed": true
   },
   "outputs": [],
   "source": [
    "models = np.load('models.npy', encoding='latin1')"
   ]
  },
  {
   "cell_type": "code",
   "execution_count": 71,
   "metadata": {
    "collapsed": false
   },
   "outputs": [
    {
     "name": "stdout",
     "output_type": "stream",
     "text": [
      "Baseline test accuracy: 0.6646\n"
     ]
    }
   ],
   "source": [
    "# baseline majority rules\n",
    "\n",
    "# put predictions together in a matrix\n",
    "test_predictions = np.zeros((len(models), len(X_test)))\n",
    "for i in range(len(models)):\n",
    "    pred = models[i].predict(X_test)\n",
    "    test_predictions[i,:] = pred\n",
    "\n",
    "# loop through, sum up predictions\n",
    "maj_prediction = []\n",
    "for i in range(len(X_test)):\n",
    "    num_1 = sum(test_predictions[:,i])\n",
    "    prob = num_1 / len(models)\n",
    "    \n",
    "    # if more than half say 1, predict as 1 else 0\n",
    "    if prob > 0.5:\n",
    "        maj_prediction.append(1.0)\n",
    "    else:\n",
    "        maj_prediction.append(0.0)\n",
    "        \n",
    "print(\"Baseline test accuracy: {}\".format(accuracy_score(maj_prediction, Y_test)))\n",
    "        \n",
    "    "
   ]
  },
  {
   "cell_type": "code",
   "execution_count": 72,
   "metadata": {
    "collapsed": false
   },
   "outputs": [
    {
     "name": "stdout",
     "output_type": "stream",
     "text": [
      "Percent of 1s in the training set: 0.5246\n",
      "So we will bias slighly toward selecting 1s in the model\n",
      "Biased test accuracy: 0.6646\n"
     ]
    }
   ],
   "source": [
    "# try bias toward 1, since there are more 1s in the training set\n",
    "\n",
    "# sample_percent_1 is the bias. If >0.5, bias toward predicting 1, else 0\n",
    "\n",
    "sample_percent_1 = sum(Y_train)/len(Y_train)\n",
    "print(\"Percent of 1s in the training set: {}\".format(sample_percent_1))\n",
    "print(\"So we will bias slighly toward selecting 1s in the model\")\n",
    "\n",
    "test_predictions = np.zeros((len(models), len(X_test)))\n",
    "for i in range(len(models)):\n",
    "    pred = models[i].predict(X_test)\n",
    "    test_predictions[i,:] = pred\n",
    "\n",
    "maj_prediction = []\n",
    "for i in range(len(X_test)):\n",
    "    num_1 = sum(test_predictions[:,i])\n",
    "    prob = num_1 / len(models)\n",
    "    \n",
    "    # so now, predict as 1 if more than ~0.475 say it is 1,\n",
    "    # have to be .525 confident to predict 0\n",
    "    if prob > (1 - sample_percent_1):\n",
    "        maj_prediction.append(1.0)\n",
    "    else:\n",
    "        maj_prediction.append(0.0)\n",
    "        \n",
    "print(\"Biased test accuracy: {}\".format(accuracy_score(maj_prediction, Y_test)))\n",
    "        "
   ]
  },
  {
   "cell_type": "code",
   "execution_count": 73,
   "metadata": {
    "collapsed": false
   },
   "outputs": [
    {
     "name": "stdout",
     "output_type": "stream",
     "text": [
      "Max train acc: 0.6646 at 44 trees\n",
      "New score: 0.663\n"
     ]
    }
   ],
   "source": [
    "# majority rules, but only use some of the trees (best performing on training set)\n",
    "\n",
    "\n",
    "# collect list of scores for each model\n",
    "scores = []\n",
    "for j in range(len(models)):\n",
    "    pred = models[j].predict(X_train)\n",
    "    score = accuracy_score(pred, Y_train)\n",
    "    scores.append(score)\n",
    "    \n",
    "# select the top i scoring trees, run on training set\n",
    "overall = []\n",
    "for i in range(1,100):\n",
    "    indices = np.argpartition(scores, -i)[-i:]\n",
    "\n",
    "    train_predictions = np.zeros((len(indices), len(X_train)))\n",
    "    for i in range(len(indices)):\n",
    "        pred = models[i].predict(X_train)\n",
    "        train_predictions[i,:] = pred\n",
    "    \n",
    "    maj_prediction = []\n",
    "    for i in range(len(X_train)):\n",
    "        num_1 = sum(train_predictions[:,i])\n",
    "        prob = num_1 / len(indices)\n",
    "        if prob > 0.5:\n",
    "            maj_prediction.append(1.0)\n",
    "        else:\n",
    "            maj_prediction.append(0.0)\n",
    "            \n",
    "    overall.append(accuracy_score(maj_prediction, Y_train))\n",
    "\n",
    "# pick the # trees with the highest accuracy\n",
    "max_acc = max(overall)\n",
    "max_trees = overall.index(max(overall))\n",
    "print(\"Max train acc: {} at {} trees\".format(max_acc, max_trees))\n",
    "\n",
    "# so use 44 trees \n",
    "\n",
    "# now run on the test data with this new number of trees\n",
    "indices = np.argpartition(scores, -max_trees)[-max_trees:]\n",
    "test_predictions = np.zeros((len(indices), len(X_test)))\n",
    "for i in range(len(indices)):\n",
    "    pred = models[i].predict(X_test)\n",
    "    test_predictions[i,:] = pred\n",
    "    \n",
    "    maj_prediction = []\n",
    "    for i in range(len(X_test)):\n",
    "        num_1 = sum(test_predictions[:,i])\n",
    "        prob = num_1 / len(indices)\n",
    "        if prob > 0.5:\n",
    "            maj_prediction.append(1.0)\n",
    "        else:\n",
    "            maj_prediction.append(0.0)\n",
    "            \n",
    "print(\"New score: {}\".format(accuracy_score(maj_prediction, Y_test)))\n"
   ]
  },
  {
   "cell_type": "code",
   "execution_count": 74,
   "metadata": {
    "collapsed": false
   },
   "outputs": [
    {
     "name": "stdout",
     "output_type": "stream",
     "text": [
      "Percent of 1s in the training set: 0.5246\n",
      "So we will bias slighly toward selecting 1s in the model\n",
      "Max train acc: 0.6638 at 44 trees\n",
      "New score: 0.6726\n",
      "So combining the two methods (using only the 44 'best' trees and biasing toward 1 due to the number of 1s) was successful in improving the accuracy of this model!\n"
     ]
    }
   ],
   "source": [
    "# we will only use some of the trees (best performing on training set)\n",
    "# in addition, we will bias this time toward 1 instead of majority rules\n",
    "# essentially comining the last two methods\n",
    "\n",
    "sample_percent_1 = sum(Y_train)/len(Y_train)\n",
    "print(\"Percent of 1s in the training set: {}\".format(sample_percent_1))\n",
    "print(\"So we will bias slighly toward selecting 1s in the model\")\n",
    "\n",
    "# collect scores\n",
    "scores = []\n",
    "for j in range(len(models)):\n",
    "    pred = models[j].predict(X_train)\n",
    "    score = accuracy_score(pred, Y_train)\n",
    "    scores.append(score)\n",
    "    \n",
    "# select the top i scoring trees, run on training set\n",
    "overall = []\n",
    "for i in range(1,100):\n",
    "    indices = np.argpartition(scores, -i)[-i:]\n",
    "\n",
    "    train_predictions = np.zeros((len(indices), len(X_train)))\n",
    "    for i in range(len(indices)):\n",
    "        pred = models[i].predict(X_train)\n",
    "        train_predictions[i,:] = pred\n",
    "    \n",
    "    maj_prediction = []\n",
    "    for i in range(len(X_train)):\n",
    "        num_1 = sum(train_predictions[:,i])\n",
    "        prob = num_1 / len(indices)\n",
    "        \n",
    "        # include bias toward 1\n",
    "        if prob > (1 - sample_percent_1):\n",
    "            maj_prediction.append(1.0)\n",
    "        else:\n",
    "            maj_prediction.append(0.0)\n",
    "            \n",
    "    overall.append(accuracy_score(maj_prediction, Y_train))\n",
    "    \n",
    "# pick the # trees with the highest accuracy on training se\n",
    "max_acc = max(overall)\n",
    "max_trees = overall.index(max(overall))\n",
    "print(\"Max train acc: {} at {} trees\".format(max_acc, max_trees))\n",
    "\n",
    "# so use 44 trees \n",
    "\n",
    "# now run on test data\n",
    "indices = np.argpartition(scores, -max_trees)[-max_trees:]\n",
    "test_predictions = np.zeros((len(indices), len(X_test)))\n",
    "for i in range(len(indices)):\n",
    "    pred = models[i].predict(X_test)\n",
    "    test_predictions[i,:] = pred\n",
    "    \n",
    "    maj_prediction = []\n",
    "    for i in range(len(X_test)):\n",
    "        num_1 = sum(test_predictions[:,i])\n",
    "        prob = num_1 / len(indices)\n",
    "        \n",
    "        # bias toward 1\n",
    "        if prob > (1 - sample_percent_1):\n",
    "            maj_prediction.append(1.0)\n",
    "        else:\n",
    "            maj_prediction.append(0.0)\n",
    "            \n",
    "print(\"New score: {}\".format(accuracy_score(maj_prediction, Y_test)))\n",
    "\n",
    "print(\"So combining the two methods (using only the 44 'best' trees and biasing toward 1 due to the number of 1s) was successful in improving the accuracy of this model!\")"
   ]
  },
  {
   "cell_type": "markdown",
   "metadata": {},
   "source": [
    "### ANALYSIS\n",
    "\n",
    "#### Explain your strategy/algorithm.\n",
    "\n",
    "Here, I experimented and found two measures that essentially kept the test accuracy the same. The first was to find an optimal i for which i selected the top i individually performing trees, and ran majority rules with this many trees. The second was to introduce bias, so that I had a higher threshold majority needed to select a 0 (since 0s are overall less likely in the training set). Neither of these methods improved my baseline accuracy. However, using both together actually provides an edge over the baseline accuracy (0.6646) and boosts it to 0.6726! So these methods together allow for smarter use of these pre-trained classification trees.\n",
    "\n",
    "Note: some other things that I tried were: bagging, VotingClassifier and GridSearchCV from sklearn, and introducing randomness when the majority vote was unclear (this actually improved performance on some trials, but was obviously inconsistent due to its random nature). In the end, the above method was the most successful."
   ]
  },
  {
   "cell_type": "markdown",
   "metadata": {},
   "source": [
    "--- \n",
    "\n",
    "---\n",
    "\n",
    "## APCOMP209a - Homework Question\n",
    "​\n",
    "We've worked with imputation methods on missing data in Homework 6.  We've worked with Decision Trees in HW7 and here.  Now let's see what happens if we try to work with Decision Trees and Missing Data at the same time! We'll be working with a dataset from the UCI Machine Learning Repository that uses a variety of wine chemical predictors to classify wines grown in the same region in Italy.  Each line represents 13 (mostly chemical) predictors of the response variable wine class, including things like alcohol content, hue , and phenols.  Unfortunately some of the predictor values were lost in measurement. Please load `wine_quality_missing.csv`. \n",
    "​\n",
    "*Note*: As in HW6 be careful of reading/treating column names and row names in this data set.\n",
    "​\n",
    "​\n",
    "1. Remove all observations that contain and missing values, split the dataset into a 75-25 train-test split, and fit the sklearn DecisionTreeClassifier and RandomForestClassifier.   Use cross-validation to find the optimal tree depth for each method.  Report the optimal tree-depth, overall classification rate and confusion matrix on the test set for each method.\n",
    "2. Restart with a fresh copy of the data and impute the missing data via mean imputation.  Split the data 75-25 and again fit DecisionTreeClassifier and RandomForestClassifier using cross-validation to find the optimal tree depth.  Report the optimal tree depth, overall classification rate and confusion matrix on the test set for each method.  \n",
    "3. Again restart with a fresh copy of the data but this time let's try something different.  As discussed in section, CART Decision Trees can take advantage of surrogate splits to handle missing data.  Split the data 75-25 and construct a **custom** decision tree model and train it on the training set with missing data. Report the optimal tree depth, overall classification rate and confusion matrix on the test set and compare your results to the Imputation and DecisionTree model results in part 1 & 2.\n"
   ]
  },
  {
   "cell_type": "code",
   "execution_count": null,
   "metadata": {
    "collapsed": true
   },
   "outputs": [],
   "source": []
  },
  {
   "cell_type": "code",
   "execution_count": null,
   "metadata": {
    "collapsed": true
   },
   "outputs": [],
   "source": []
  },
  {
   "cell_type": "code",
   "execution_count": null,
   "metadata": {
    "collapsed": true
   },
   "outputs": [],
   "source": []
  }
 ],
 "metadata": {
  "anaconda-cloud": {},
  "kernelspec": {
   "display_name": "Python 3",
   "language": "python",
   "name": "python3"
  },
  "language_info": {
   "codemirror_mode": {
    "name": "ipython",
    "version": 3
   },
   "file_extension": ".py",
   "mimetype": "text/x-python",
   "name": "python",
   "nbconvert_exporter": "python",
   "pygments_lexer": "ipython3",
   "version": "3.6.0"
  },
  "latex_envs": {
   "bibliofile": "biblio.bib",
   "cite_by": "apalike",
   "current_citInitial": 1,
   "eqLabelWithNumbers": true,
   "eqNumInitial": 0
  }
 },
 "nbformat": 4,
 "nbformat_minor": 1
}
