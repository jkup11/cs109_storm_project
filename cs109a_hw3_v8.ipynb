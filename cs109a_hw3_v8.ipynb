{
 "cells": [
  {
   "cell_type": "markdown",
   "metadata": {},
   "source": [
    "# CS 109A/STAT 121A/AC 209A/CSCI E-109A: Homework 3\n",
    "# Multiple Linear Regression, Subset Selection, Cross Validation\n",
    "\n",
    "**Harvard University**<br/>\n",
    "**Fall 2017**<br/>\n",
    "**Instructors**: Pavlos Protopapas, Kevin Rader, Rahul Dave, Margo Levine\n",
    "\n",
    "---\n",
    "\n",
    "### INSTRUCTIONS\n",
    "\n",
    "- To submit your assignment follow the instructions given in canvas.\n",
    "- Restart the kernel and run the whole notebook again before you submit. \n",
    "- Do not include your name(s) in the notebook if you are submitting as a group. \n",
    "- If you submit individually and you have worked with someone, please include the name of your [one] partner below. \n",
    "\n",
    "---"
   ]
  },
  {
   "cell_type": "markdown",
   "metadata": {
    "collapsed": true
   },
   "source": [
    "Your partner's name (if you submit separately):\n",
    "\n",
    "Enrollment Status (109A, 121A, 209A, or E109A):"
   ]
  },
  {
   "cell_type": "markdown",
   "metadata": {},
   "source": [
    "Import libraries:"
   ]
  },
  {
   "cell_type": "code",
   "execution_count": 1,
   "metadata": {
    "collapsed": true
   },
   "outputs": [],
   "source": [
    "import numpy as np\n",
    "import pandas as pd\n",
    "import matplotlib\n",
    "import matplotlib.pyplot as plt\n",
    "from sklearn.metrics import r2_score\n",
    "import statsmodels.api as sm\n",
    "from statsmodels.api import OLS\n",
    "from statsmodels.tools import add_constant\n",
    "from sklearn.preprocessing import PolynomialFeatures\n",
    "from sklearn.linear_model import LinearRegression\n",
    "from sklearn.linear_model import Ridge\n",
    "from sklearn.linear_model import Lasso\n",
    "from sklearn.linear_model import RidgeCV\n",
    "from sklearn.linear_model import LassoCV\n",
    "from sklearn.model_selection import KFold\n",
    "%matplotlib inline"
   ]
  },
  {
   "cell_type": "markdown",
   "metadata": {},
   "source": [
    "# Forecasting Bike Sharing Usage\n",
    "\n",
    "In this homework, we will focus on multiple linear regression and will explore techniques for subset selection. The specific task is to build a regression model for a bike share system that can predict the total number of bike rentals in a given day, based on attributes about the day. Such a demand forecasting model would be useful in planning the number of bikes that need to be available in the system on any given day, and also in monitoring traffic in the city. The data for this problem was collected from the Capital Bikeshare program in Washington D.C. over two years.   \n",
    "\n",
    "The data set is provided in the files `Bikeshare_train.csv` and `Bikeshare_test.csv`, as separate training and test sets. Each row in these files contains 10 attributes describing a day and its weather:\n",
    "- season (1 = spring, 2 = summer, 3 = fall, 4 = winter)\n",
    "- month (1 through 12, with 1 denoting Jan)\n",
    "- holiday (1 = the day is a holiday, 0 = otherwise)\n",
    "- day_of_week (0 through 6, with 0 denoting Sunday)\n",
    "- workingday (1 = the day is neither a holiday or weekend, 0 = otherwise)\n",
    "- weather \n",
    "    - 1: Clear, Few clouds, Partly cloudy, Partly cloudy\n",
    "    - 2: Mist + Cloudy, Mist + Broken clouds, Mist + Few clouds, Mist\n",
    "    - 3: Light Snow, Light Rain + Thunderstorm + Scattered clouds, Light Rain + Scattered clouds\n",
    "    - 4: Heavy Rain + Ice Pallets + Thunderstorm + Mist, Snow + Fog \n",
    "- temp (temperature in Celsius)\n",
    "- atemp (apparent temperature, or relative outdoor temperature, in Celsius)\n",
    "- humidity (relative humidity)\n",
    "- windspeed (wind speed)\n",
    "\n",
    "and the last column 'count' contains the response variable, i.e. total number of bike rentals on the day.\n"
   ]
  },
  {
   "cell_type": "markdown",
   "metadata": {},
   "source": [
    "## Part (a): Data Exploration & Preprocessing\n",
    "\n",
    "As a first step, identify important characteristics of the data using suitable visualizations when necessary. Some of the questions you may ask include (but are not limited to):\n",
    "\n",
    "- How does the number of bike rentals vary between weekdays and weekends? \n",
    "- How about bike rentals on holidays?\n",
    "- What effect does the season have on the bike rentals on a given day?\n",
    "- Is the number of bike rentals lower than average when there is rain or snow?\n",
    "- How does temperature effect bike rentals?\n",
    "- Do any of the numeric attributes have a clear non-linear dependence with number of the bike rentals?\n",
    "\n"
   ]
  },
  {
   "cell_type": "markdown",
   "metadata": {},
   "source": [
    "### Data Exploration: Effect of Day of Week, Holidays, and Seasons\n"
   ]
  },
  {
   "cell_type": "code",
   "execution_count": 2,
   "metadata": {
    "collapsed": false
   },
   "outputs": [
    {
     "name": "stdout",
     "output_type": "stream",
     "text": [
      "Number of weekend rentals:  440066.0\n",
      "Number of weekday rentals:  1082020.0\n",
      "Average number of rentals per weekend day:  220033.0\n",
      "Average number of rentals per week day:  216404.0\n",
      "\n",
      "Number of holiday rentals:  46191.0\n",
      "Number of non-holiday rentals:  1475895.0\n",
      "Average number of rentals per holiday day:  4199.18181818\n",
      "Average number of rentals per non-holiday day:  4612.171875\n",
      "\n",
      "Number of Spring rentals:  190060.0\n",
      "Number of Summer rentals:  428774.0\n",
      "Number of Fall rentals:  499905.0\n",
      "Number of Winter rentals:  403347.0\n",
      "\n"
     ]
    }
   ],
   "source": [
    "train_data = pd.read_csv('Bikeshare_train.csv')\n",
    "test_data = pd.read_csv('Bikeshare_test.csv')\n",
    "\n",
    "train_data = train_data.drop('Unnamed: 0', axis = 1)\n",
    "test_data = test_data.drop('Unnamed: 0', axis = 1)\n",
    "\n",
    "#weekend/weekday information\n",
    "weekend_rental = sum(train_data[train_data.day_of_week == 0.0]['count']) + np.sum(train_data[train_data.day_of_week == 6.0]['count'])\n",
    "weekday_rental = sum(train_data['count'])-weekend_rental\n",
    "daily_rental = []\n",
    "daily_label = ['Sun', 'Mon', 'Tues', 'Wed', 'Thur', 'Fri', 'Sat']\n",
    "sunday = sum(train_data[train_data.day_of_week == 0.0]['count'])\n",
    "daily_rental.append(sunday)\n",
    "monday = sum(train_data[train_data.day_of_week == 1.0]['count'])\n",
    "daily_rental.append(monday)\n",
    "tuesday = sum(train_data[train_data.day_of_week == 2.0]['count'])\n",
    "daily_rental.append(tuesday)\n",
    "wednesday = sum(train_data[train_data.day_of_week == 3.0]['count'])\n",
    "daily_rental.append(wednesday)\n",
    "thursday = sum(train_data[train_data.day_of_week == 4.0]['count'])\n",
    "daily_rental.append(thursday)\n",
    "friday = sum(train_data[train_data.day_of_week == 5.0]['count'])\n",
    "daily_rental.append(friday)\n",
    "saturday = sum(train_data[train_data.day_of_week == 6.0]['count'])\n",
    "daily_rental.append(saturday)\n",
    "\n",
    "print(\"Number of weekend rentals: \", weekend_rental)\n",
    "print(\"Number of weekday rentals: \", weekday_rental)\n",
    "print(\"Average number of rentals per weekend day: \", weekend_rental / 2.0)\n",
    "print(\"Average number of rentals per week day: \", weekday_rental / 5.0)\n",
    "print()\n",
    "\n",
    "#holiday/non-holiday information\n",
    "holiday_rentals = sum(train_data[train_data.holiday == 1.0]['count'])\n",
    "non_holiday_rentals = sum(train_data[train_data.holiday == 0.0]['count'])\n",
    "holidays = len(train_data[train_data.holiday == 1.0])\n",
    "print(\"Number of holiday rentals: \", holiday_rentals)\n",
    "print(\"Number of non-holiday rentals: \", non_holiday_rentals)\n",
    "print(\"Average number of rentals per holiday day: \", holiday_rentals/ holidays)\n",
    "print(\"Average number of rentals per non-holiday day: \", non_holiday_rentals/(len(train_data)-holidays))\n",
    "print()\n",
    "\n",
    "#seasonal information\n",
    "spring_rentals = sum(train_data[train_data.season == 1.0]['count'])\n",
    "summer_rentals = sum(train_data[train_data.season == 2.0]['count'])\n",
    "fall_rentals = sum(train_data[train_data.season == 3.0]['count'])\n",
    "winter_rentals = sum(train_data[train_data.season == 4.0]['count'])\n",
    "seasons = [spring_rentals, summer_rentals, fall_rentals, winter_rentals]\n",
    "season_label = ['Spring', 'Summer', 'Fall', 'Winter']\n",
    "print(\"Number of Spring rentals: \", spring_rentals)\n",
    "print(\"Number of Summer rentals: \", summer_rentals)\n",
    "print(\"Number of Fall rentals: \", fall_rentals)\n",
    "print(\"Number of Winter rentals: \", winter_rentals)\n",
    "print()"
   ]
  },
  {
   "cell_type": "code",
   "execution_count": 3,
   "metadata": {
    "collapsed": false
   },
   "outputs": [
    {
     "data": {
      "text/plain": [
       "<matplotlib.text.Text at 0x106aa60b8>"
      ]
     },
     "execution_count": 3,
     "metadata": {},
     "output_type": "execute_result"
    },
    {
     "data": {
      "image/png": "[encoded data removed]",
      "text/plain": [
       "<matplotlib.figure.Figure at 0x1140db828>"
      ]
     },
     "metadata": {},
     "output_type": "display_data"
    },
    {
     "data": {
      "image/png": "[encoded data removed]",
      "text/plain": [
       "<matplotlib.figure.Figure at 0x107affd68>"
      ]
     },
     "metadata": {},
     "output_type": "display_data"
    }
   ],
   "source": [
    "plt.figure(1)\n",
    "plt.bar(range(1,8), daily_rental,tick_label=daily_label)\n",
    "plt.xlabel(\"Day of the Week\")\n",
    "plt.ylabel(\"Number of Rentals\")\n",
    "plt.title(\"Rental Stats for Training Set by Day of Week\")\n",
    "\n",
    "plt.figure(2)\n",
    "plt.bar(range(1,5), seasons, tick_label=season_label)\n",
    "plt.xlabel(\"Season\")\n",
    "plt.ylabel(\"Number of Rentals\")\n",
    "plt.title(\"Rental Stats for Training Set by Season\")\n"
   ]
  },
  {
   "cell_type": "markdown",
   "metadata": {},
   "source": [
    "#### Analysis\n",
    "\n",
    "#### How does the number of bike rentals vary between weekdays and weekends?\n",
    "\n",
    "We can see in the printed statement above that there are slightly more rentals on average on a weekend day, but it is very close. Through the week, Monday is actually the day with the most total rentals. \n",
    "\n",
    "#### How about bike rentals on holidays?\n",
    "\n",
    "Again, the counts of rentals on holidays and non-holidays are relatively close, but there are about 10% more rentals on non-holidays than on holidays, on average. This is a surprising result to me, because I would expect people to get out and rent bikes on holidays (i.e. long weekends are very popular for bike and kayak rentals in Cambridge). People biking to work must be a big factor behind this.\n",
    "\n",
    "#### What effect does the season have on the bike rentals on a given day?\n",
    "\n",
    "Seasonally, the bar chart shows us that Fall is a clear peak in bike rental, with Summer and Winter (both close) following in rentals, and finally, Spring is the least popular. This surprised me as well; I expected summer and spring to be the months with the most rentals."
   ]
  },
  {
   "cell_type": "markdown",
   "metadata": {},
   "source": [
    "### Data Exploration: Effect of Weather"
   ]
  },
  {
   "cell_type": "code",
   "execution_count": 4,
   "metadata": {
    "collapsed": false
   },
   "outputs": [
    {
     "name": "stdout",
     "output_type": "stream",
     "text": [
      "Number of clear day rentals:  1504724.0\n",
      "Number of rainy/snowy day rentals:  17362.0\n",
      "Average number of rentals per clear day:  4687.61370717\n",
      "Average number of rentals per rainy/snowy day:  1736.2\n",
      "Big difference there in the averages! Not surprising.\n",
      "\n"
     ]
    }
   ],
   "source": [
    "#rain/snow information\n",
    "rainy_snowy_days = train_data[(train_data['weather'] == 3.0) | (train_data['weather'] == 4.0)]\n",
    "clear_days = train_data[(train_data['weather'] == 1.0) | (train_data['weather'] == 2.0)]\n",
    "rainy_snowy_count = sum(rainy_snowy_days['count'])\n",
    "clear_count = sum(clear_days['count'])\n",
    "num_rainy = len(rainy_snowy_days)\n",
    "num_clear = len(clear_days)\n",
    "print(\"Number of clear day rentals: \", clear_count)\n",
    "print(\"Number of rainy/snowy day rentals: \", rainy_snowy_count)\n",
    "print(\"Average number of rentals per clear day: \", clear_count/num_clear)\n",
    "print(\"Average number of rentals per rainy/snowy day: \", rainy_snowy_count/num_rainy)\n",
    "print(\"Big difference there in the averages! Not surprising.\")\n",
    "print()\n",
    "\n",
    "# temperature plot\n",
    "indices = (train_data.temp != None) & (train_data.count != None) & (train_data.atemp != None)\n",
    "temp_data = train_data[indices]['temp']\n",
    "count_data = train_data[indices]['count']\n",
    "atemp_data = train_data[indices]['atemp']"
   ]
  },
  {
   "cell_type": "markdown",
   "metadata": {},
   "source": [
    "#### Analysis\n",
    "\n",
    "#### Is the number of bike rentals lower than average when there is rain or snow?\n",
    "\n",
    "Yes, much lower. On average, there are just over 1/3 as many rentals on rainy/snowy days as when it is clear or cloudy. This is an expected result, since biking in the rain isn't fun."
   ]
  },
  {
   "cell_type": "markdown",
   "metadata": {},
   "source": [
    "### Data Exploration: Effect of Temperature"
   ]
  },
  {
   "cell_type": "code",
   "execution_count": 5,
   "metadata": {
    "collapsed": false,
    "scrolled": true
   },
   "outputs": [
    {
     "data": {
      "text/plain": [
       "<matplotlib.legend.Legend at 0x1143bb828>"
      ]
     },
     "execution_count": 5,
     "metadata": {},
     "output_type": "execute_result"
    },
    {
     "data": {
      "image/png": "[encoded data removed]",
      "text/plain": [
       "<matplotlib.figure.Figure at 0x11414d668>"
      ]
     },
     "metadata": {},
     "output_type": "display_data"
    }
   ],
   "source": [
    "# add in line of best fit?\n",
    "plt.figure(3)\n",
    "plt.scatter(temp_data, count_data)\n",
    "plt.scatter(atemp_data, count_data)\n",
    "plt.plot(np.unique(temp_data), np.poly1d(np.polyfit(temp_data, count_data, 1))(np.unique(temp_data)))\n",
    "plt.plot(np.unique(atemp_data), np.poly1d(np.polyfit(atemp_data, count_data, 1))(np.unique(atemp_data)))\n",
    "plt.xlabel(\"Temp and Apparent Temp (C)\")\n",
    "plt.ylabel(\"Number of rentals\")\n",
    "plt.title(\"Bike Rentals by Temperature\")\n",
    "plt.legend(['temp linear regression', 'atemp linear regression', 'temp', 'atemp'])"
   ]
  },
  {
   "cell_type": "markdown",
   "metadata": {},
   "source": [
    "#### Analysis\n",
    "\n",
    "#### How does temperature effect bike rentals?\n",
    "\n",
    "The scatter plot of temp vs rentals and atemp vs rentals (as well as the linear regressions fit to the data) show that although there is not a clear linear relationship, there are on average more rentals when it is warmer. This intuitively makes sense, because biking exposes you to air temperature and people would be less willing to bike in colder temperatures."
   ]
  },
  {
   "cell_type": "markdown",
   "metadata": {},
   "source": [
    "### Data Exploration: Non-Linear Dependencies"
   ]
  },
  {
   "cell_type": "code",
   "execution_count": 6,
   "metadata": {
    "collapsed": false
   },
   "outputs": [
    {
     "data": {
      "text/plain": [
       "<matplotlib.text.Text at 0x1144b78d0>"
      ]
     },
     "execution_count": 6,
     "metadata": {},
     "output_type": "execute_result"
    },
    {
     "data": {
      "image/png": "[encoded data removed]",
      "text/plain": [
       "<matplotlib.figure.Figure at 0x114137978>"
      ]
     },
     "metadata": {},
     "output_type": "display_data"
    }
   ],
   "source": [
    "indices = (train_data.humidity != None) & (train_data.count != None)\n",
    "plt.figure(4)\n",
    "plt.scatter(train_data[indices]['humidity'], train_data[indices]['count'])\n",
    "plt.xlabel(\"Humidity\")\n",
    "plt.ylabel(\"Number of Rentals\")\n",
    "plt.title(\"Non-linear relationship of Humidity and Rentals\")"
   ]
  },
  {
   "cell_type": "code",
   "execution_count": 7,
   "metadata": {
    "collapsed": false
   },
   "outputs": [
    {
     "data": {
      "text/plain": [
       "<matplotlib.text.Text at 0x1145e5f28>"
      ]
     },
     "execution_count": 7,
     "metadata": {},
     "output_type": "execute_result"
    },
    {
     "data": {
      "image/png": "[encoded data removed]",
      "text/plain": [
       "<matplotlib.figure.Figure at 0x1142a1668>"
      ]
     },
     "metadata": {},
     "output_type": "display_data"
    }
   ],
   "source": [
    "indices = (train_data.windspeed != None) & (train_data.count != None)\n",
    "plt.figure(5)\n",
    "plt.scatter(train_data[indices]['windspeed'], train_data[indices]['count'])\n",
    "plt.xlabel(\"Windspeed\")\n",
    "plt.ylabel(\"Number of Rentals\")\n",
    "plt.title(\"Non-linear relationship of Windspeed and Rentals\")"
   ]
  },
  {
   "cell_type": "markdown",
   "metadata": {},
   "source": [
    "#### Analysis\n",
    "\n",
    "#### Do any of the numeric attributes have a clear non-linear dependence with number of the bike rentals?\n",
    "\n",
    "The graph of humidity vs rentals shows that there is clearly no linear dependance between these variables. The scatter plot just looks like an arrangement of random points- there may be a relationship but it is definitely not linear. The same is true for the next plot of windspeed. Our conclusion from seeing these two relationships is that humidity and windspeed are usually not significant enough to affect a person's habits. As in, if they bike in humid weather, they will also probably bike in dry weather.\n"
   ]
  },
  {
   "cell_type": "markdown",
   "metadata": {},
   "source": [
    "### Data Processing"
   ]
  },
  {
   "cell_type": "markdown",
   "metadata": {},
   "source": []
  },
  {
   "cell_type": "markdown",
   "metadata": {},
   "source": [
    "We next require you to pre-process the categorical and numerical attributes in the data set:\n",
    "\n",
    "- Notice that this data set contains categorical attributes with two or more categories. **Why can't they be directly used as predictors?** Convert these categorical attributes into multiple binary attributes using one-hot encoding: in the place of every categorical attribute $x_j$ that has categories $1, \\ldots, K_j$, introduce $K_j-1$ binary predictors $x_{j1}, \\ldots, x_{j,K_j-1}$ where $x_{jk}$ is 1 whenever $x_j = k$ and 0 otherwise. \n",
    "** Why is it okay to not have a binary column for the $K_j$-th category? **\n",
    "\n",
    "- Since the attributes are in different scales, it is a good practice to standardize the continuous predictors, i.e. to scale each continuous predictor to have zero mean and a standard deviation of 1. This can be done by applying the following transform to each continuous-valued predictor $j$:\n",
    "$\\hat{x}_{ij} = (x_{ij} - \\bar{x}_j) / s_j$, where $\\bar{x}_j$ and $s_j$ are the sample mean and sample standard deviation (SD) of predictor $j$ in the training set. We emphasize that the mean and SD values used for standardization must be estimated using only the training set observations, while the transform is applied to both the training and test sets. \n",
    "** Why shouldn't we include the test set observations in computing the mean and SD? **\n",
    "\n",
    "- Provide a table of the summary statistics of the new attributes (`pd.describe()' function will help).\n",
    "\n",
    "*Hint:* You may use the `pd.get_dummies` function to convert a categorical attribute in a data frame to one-hot encoding. This function creates $K$ binary columns for an attribute with $K$ categories. We suggest that you delete the last (or first) binary column generated by this function.\n",
    "\n",
    "**Note:** We shall use the term \"attribute\" to refer to a categorical column in the data set, and the term \"predictor\" to refer to the individual binary columns resulting out of one-hot encoding."
   ]
  },
  {
   "cell_type": "code",
   "execution_count": 8,
   "metadata": {
    "collapsed": false
   },
   "outputs": [
    {
     "name": "stdout",
     "output_type": "stream",
     "text": [
      "       Unnamed: 0     holiday  workingday        temp       atemp    humidity  \\\n",
      "count  331.000000  331.000000  331.000000  331.000000  331.000000  331.000000   \n",
      "mean   165.000000    0.033233    0.670695   17.018127   19.543807   63.385776   \n",
      "std     95.695698    0.179515    0.470672   11.192515    9.930991   14.334789   \n",
      "min      0.000000    0.000000    0.000000  -11.000000   -6.000000   25.416700   \n",
      "25%     82.500000    0.000000    0.000000    7.500000   11.000000   52.702900   \n",
      "50%    165.000000    0.000000    1.000000   18.000000   21.000000   63.291700   \n",
      "75%    247.500000    0.000000    1.000000   26.000000   27.000000   73.500000   \n",
      "max    330.000000    1.000000    1.000000   38.000000   39.000000   97.250000   \n",
      "\n",
      "        windspeed        count  season_1.0  season_2.0     ...       \\\n",
      "count  331.000000   331.000000  331.000000  331.000000     ...        \n",
      "mean     0.190833  4598.447130    0.217523    0.259819     ...        \n",
      "std      0.078240  1935.319338    0.413186    0.439199     ...        \n",
      "min      0.022392   431.000000    0.000000    0.000000     ...        \n",
      "25%      0.133083  3370.000000    0.000000    0.000000     ...        \n",
      "50%      0.178479  4648.000000    0.000000    0.000000     ...        \n",
      "75%      0.235380  5981.000000    0.000000    1.000000     ...        \n",
      "max      0.421642  8714.000000    1.000000    1.000000     ...        \n",
      "\n",
      "       day_of_week_0.0  day_of_week_1.0  day_of_week_2.0  day_of_week_3.0  \\\n",
      "count       331.000000       331.000000       331.000000       331.000000   \n",
      "mean          0.160121         0.175227         0.135952         0.123867   \n",
      "std           0.367273         0.380736         0.343256         0.329929   \n",
      "min           0.000000         0.000000         0.000000         0.000000   \n",
      "25%           0.000000         0.000000         0.000000         0.000000   \n",
      "50%           0.000000         0.000000         0.000000         0.000000   \n",
      "75%           0.000000         0.000000         0.000000         0.000000   \n",
      "max           1.000000         1.000000         1.000000         1.000000   \n",
      "\n",
      "       day_of_week_4.0  day_of_week_5.0  day_of_week_6.0  weather_1.0  \\\n",
      "count       331.000000       331.000000       331.000000   331.000000   \n",
      "mean          0.123867         0.145015         0.135952     0.640483   \n",
      "std           0.329929         0.352649         0.343256     0.480585   \n",
      "min           0.000000         0.000000         0.000000     0.000000   \n",
      "25%           0.000000         0.000000         0.000000     0.000000   \n",
      "50%           0.000000         0.000000         0.000000     1.000000   \n",
      "75%           0.000000         0.000000         0.000000     1.000000   \n",
      "max           1.000000         1.000000         1.000000     1.000000   \n",
      "\n",
      "       weather_2.0  weather_3.0  \n",
      "count   331.000000   331.000000  \n",
      "mean      0.329305     0.030211  \n",
      "std       0.470672     0.171428  \n",
      "min       0.000000     0.000000  \n",
      "25%       0.000000     0.000000  \n",
      "50%       0.000000     0.000000  \n",
      "75%       1.000000     0.000000  \n",
      "max       1.000000     1.000000  \n",
      "\n",
      "[8 rows x 34 columns]\n",
      "       Unnamed: 0    holiday  workingday        temp       atemp    humidity  \\\n",
      "count  400.000000  400.00000  400.000000  400.000000  400.000000  400.000000   \n",
      "mean   199.500000    0.02500    0.695000   15.577500   18.340000   62.295911   \n",
      "std    115.614301    0.15632    0.460984   11.777979   10.538598   14.165383   \n",
      "min      0.000000    0.00000    0.000000   -9.000000   -4.000000    0.000000   \n",
      "25%     99.750000    0.00000    0.000000    5.000000    9.000000   50.774450   \n",
      "50%    199.500000    0.00000    1.000000   15.000000   18.000000   62.062500   \n",
      "75%    299.250000    0.00000    1.000000   26.000000   28.000000   72.927100   \n",
      "max    399.000000    1.00000    1.000000   39.000000   42.000000   94.958300   \n",
      "\n",
      "        windspeed        count  season_1.0  season_2.0     ...       \\\n",
      "count  400.000000    400.00000  400.000000  400.000000     ...        \n",
      "mean     0.190199   4514.21250    0.272500    0.245000     ...        \n",
      "std      0.076975   2092.60635    0.445803    0.430626     ...        \n",
      "min      0.045404     22.00000    0.000000    0.000000     ...        \n",
      "25%      0.134957   2875.25000    0.000000    0.000000     ...        \n",
      "50%      0.183144   4516.00000    0.000000    0.000000     ...        \n",
      "75%      0.232680   6174.75000    1.000000    0.000000     ...        \n",
      "max      0.507463  10045.00000    1.000000    1.000000     ...        \n",
      "\n",
      "       day_of_week_0.0  day_of_week_1.0  day_of_week_2.0  day_of_week_3.0  \\\n",
      "count       400.000000       400.000000       400.000000       400.000000   \n",
      "mean          0.130000         0.117500         0.147500         0.157500   \n",
      "std           0.336725         0.322418         0.355048         0.364728   \n",
      "min           0.000000         0.000000         0.000000         0.000000   \n",
      "25%           0.000000         0.000000         0.000000         0.000000   \n",
      "50%           0.000000         0.000000         0.000000         0.000000   \n",
      "75%           0.000000         0.000000         0.000000         0.000000   \n",
      "max           1.000000         1.000000         1.000000         1.000000   \n",
      "\n",
      "       day_of_week_4.0  day_of_week_5.0  day_of_week_6.0  weather_1.0  \\\n",
      "count       400.000000       400.000000       400.000000   400.000000   \n",
      "mean          0.157500         0.140000         0.150000     0.627500   \n",
      "std           0.364728         0.347422         0.357519     0.484076   \n",
      "min           0.000000         0.000000         0.000000     0.000000   \n",
      "25%           0.000000         0.000000         0.000000     0.000000   \n",
      "50%           0.000000         0.000000         0.000000     1.000000   \n",
      "75%           0.000000         0.000000         0.000000     1.000000   \n",
      "max           1.000000         1.000000         1.000000     1.000000   \n",
      "\n",
      "       weather_2.0  weather_3.0  \n",
      "count   400.000000    400.00000  \n",
      "mean      0.345000      0.02750  \n",
      "std       0.475964      0.16374  \n",
      "min       0.000000      0.00000  \n",
      "25%       0.000000      0.00000  \n",
      "50%       0.000000      0.00000  \n",
      "75%       1.000000      0.00000  \n",
      "max       1.000000      1.00000  \n",
      "\n",
      "[8 rows x 34 columns]\n"
     ]
    }
   ],
   "source": [
    "train_data2 = pd.read_csv('Bikeshare_train.csv')\n",
    "test_data2 = pd.read_csv('Bikeshare_test.csv')\n",
    "\n",
    "train_data3 = pd.get_dummies(train_data2, columns = ['season', 'month', 'day_of_week', 'weather'])\n",
    "test_data3 = pd.get_dummies(test_data2, columns = ['season', 'month', 'day_of_week', 'weather'])\n",
    "\n",
    "print(train_data3.describe())\n",
    "print(test_data3.describe())"
   ]
  },
  {
   "cell_type": "code",
   "execution_count": 9,
   "metadata": {
    "collapsed": false
   },
   "outputs": [
    {
     "data": {
      "text/html": [
       "<div>\n",
       "<table border=\"1\" class=\"dataframe\">\n",
       "  <thead>\n",
       "    <tr style=\"text-align: right;\">\n",
       "      <th></th>\n",
       "      <th>holiday</th>\n",
       "      <th>workingday</th>\n",
       "      <th>temp</th>\n",
       "      <th>atemp</th>\n",
       "      <th>humidity</th>\n",
       "      <th>windspeed</th>\n",
       "      <th>count</th>\n",
       "      <th>season_1.0</th>\n",
       "      <th>season_2.0</th>\n",
       "      <th>season_3.0</th>\n",
       "      <th>...</th>\n",
       "      <th>month_10.0</th>\n",
       "      <th>month_11.0</th>\n",
       "      <th>day_of_week_0.0</th>\n",
       "      <th>day_of_week_1.0</th>\n",
       "      <th>day_of_week_2.0</th>\n",
       "      <th>day_of_week_3.0</th>\n",
       "      <th>day_of_week_4.0</th>\n",
       "      <th>day_of_week_5.0</th>\n",
       "      <th>weather_1.0</th>\n",
       "      <th>weather_2.0</th>\n",
       "    </tr>\n",
       "  </thead>\n",
       "  <tbody>\n",
       "    <tr>\n",
       "      <th>count</th>\n",
       "      <td>331.000000</td>\n",
       "      <td>331.000000</td>\n",
       "      <td>331.000000</td>\n",
       "      <td>331.000000</td>\n",
       "      <td>331.000000</td>\n",
       "      <td>331.000000</td>\n",
       "      <td>331.000000</td>\n",
       "      <td>331.000000</td>\n",
       "      <td>331.000000</td>\n",
       "      <td>331.000000</td>\n",
       "      <td>...</td>\n",
       "      <td>331.000000</td>\n",
       "      <td>331.000000</td>\n",
       "      <td>331.000000</td>\n",
       "      <td>331.000000</td>\n",
       "      <td>331.000000</td>\n",
       "      <td>331.000000</td>\n",
       "      <td>331.000000</td>\n",
       "      <td>331.000000</td>\n",
       "      <td>331.000000</td>\n",
       "      <td>331.000000</td>\n",
       "    </tr>\n",
       "    <tr>\n",
       "      <th>mean</th>\n",
       "      <td>0.033233</td>\n",
       "      <td>0.670695</td>\n",
       "      <td>17.018127</td>\n",
       "      <td>19.543807</td>\n",
       "      <td>63.385776</td>\n",
       "      <td>0.190833</td>\n",
       "      <td>4598.447130</td>\n",
       "      <td>0.217523</td>\n",
       "      <td>0.259819</td>\n",
       "      <td>0.265861</td>\n",
       "      <td>...</td>\n",
       "      <td>0.090634</td>\n",
       "      <td>0.093656</td>\n",
       "      <td>0.160121</td>\n",
       "      <td>0.175227</td>\n",
       "      <td>0.135952</td>\n",
       "      <td>0.123867</td>\n",
       "      <td>0.123867</td>\n",
       "      <td>0.145015</td>\n",
       "      <td>0.640483</td>\n",
       "      <td>0.329305</td>\n",
       "    </tr>\n",
       "    <tr>\n",
       "      <th>std</th>\n",
       "      <td>0.179515</td>\n",
       "      <td>0.470672</td>\n",
       "      <td>11.192515</td>\n",
       "      <td>9.930991</td>\n",
       "      <td>14.334789</td>\n",
       "      <td>0.078240</td>\n",
       "      <td>1935.319338</td>\n",
       "      <td>0.413186</td>\n",
       "      <td>0.439199</td>\n",
       "      <td>0.442459</td>\n",
       "      <td>...</td>\n",
       "      <td>0.287523</td>\n",
       "      <td>0.291790</td>\n",
       "      <td>0.367273</td>\n",
       "      <td>0.380736</td>\n",
       "      <td>0.343256</td>\n",
       "      <td>0.329929</td>\n",
       "      <td>0.329929</td>\n",
       "      <td>0.352649</td>\n",
       "      <td>0.480585</td>\n",
       "      <td>0.470672</td>\n",
       "    </tr>\n",
       "    <tr>\n",
       "      <th>min</th>\n",
       "      <td>0.000000</td>\n",
       "      <td>0.000000</td>\n",
       "      <td>-11.000000</td>\n",
       "      <td>-6.000000</td>\n",
       "      <td>25.416700</td>\n",
       "      <td>0.022392</td>\n",
       "      <td>431.000000</td>\n",
       "      <td>0.000000</td>\n",
       "      <td>0.000000</td>\n",
       "      <td>0.000000</td>\n",
       "      <td>...</td>\n",
       "      <td>0.000000</td>\n",
       "      <td>0.000000</td>\n",
       "      <td>0.000000</td>\n",
       "      <td>0.000000</td>\n",
       "      <td>0.000000</td>\n",
       "      <td>0.000000</td>\n",
       "      <td>0.000000</td>\n",
       "      <td>0.000000</td>\n",
       "      <td>0.000000</td>\n",
       "      <td>0.000000</td>\n",
       "    </tr>\n",
       "    <tr>\n",
       "      <th>25%</th>\n",
       "      <td>0.000000</td>\n",
       "      <td>0.000000</td>\n",
       "      <td>7.500000</td>\n",
       "      <td>11.000000</td>\n",
       "      <td>52.702900</td>\n",
       "      <td>0.133083</td>\n",
       "      <td>3370.000000</td>\n",
       "      <td>0.000000</td>\n",
       "      <td>0.000000</td>\n",
       "      <td>0.000000</td>\n",
       "      <td>...</td>\n",
       "      <td>0.000000</td>\n",
       "      <td>0.000000</td>\n",
       "      <td>0.000000</td>\n",
       "      <td>0.000000</td>\n",
       "      <td>0.000000</td>\n",
       "      <td>0.000000</td>\n",
       "      <td>0.000000</td>\n",
       "      <td>0.000000</td>\n",
       "      <td>0.000000</td>\n",
       "      <td>0.000000</td>\n",
       "    </tr>\n",
       "    <tr>\n",
       "      <th>50%</th>\n",
       "      <td>0.000000</td>\n",
       "      <td>1.000000</td>\n",
       "      <td>18.000000</td>\n",
       "      <td>21.000000</td>\n",
       "      <td>63.291700</td>\n",
       "      <td>0.178479</td>\n",
       "      <td>4648.000000</td>\n",
       "      <td>0.000000</td>\n",
       "      <td>0.000000</td>\n",
       "      <td>0.000000</td>\n",
       "      <td>...</td>\n",
       "      <td>0.000000</td>\n",
       "      <td>0.000000</td>\n",
       "      <td>0.000000</td>\n",
       "      <td>0.000000</td>\n",
       "      <td>0.000000</td>\n",
       "      <td>0.000000</td>\n",
       "      <td>0.000000</td>\n",
       "      <td>0.000000</td>\n",
       "      <td>1.000000</td>\n",
       "      <td>0.000000</td>\n",
       "    </tr>\n",
       "    <tr>\n",
       "      <th>75%</th>\n",
       "      <td>0.000000</td>\n",
       "      <td>1.000000</td>\n",
       "      <td>26.000000</td>\n",
       "      <td>27.000000</td>\n",
       "      <td>73.500000</td>\n",
       "      <td>0.235380</td>\n",
       "      <td>5981.000000</td>\n",
       "      <td>0.000000</td>\n",
       "      <td>1.000000</td>\n",
       "      <td>1.000000</td>\n",
       "      <td>...</td>\n",
       "      <td>0.000000</td>\n",
       "      <td>0.000000</td>\n",
       "      <td>0.000000</td>\n",
       "      <td>0.000000</td>\n",
       "      <td>0.000000</td>\n",
       "      <td>0.000000</td>\n",
       "      <td>0.000000</td>\n",
       "      <td>0.000000</td>\n",
       "      <td>1.000000</td>\n",
       "      <td>1.000000</td>\n",
       "    </tr>\n",
       "    <tr>\n",
       "      <th>max</th>\n",
       "      <td>1.000000</td>\n",
       "      <td>1.000000</td>\n",
       "      <td>38.000000</td>\n",
       "      <td>39.000000</td>\n",
       "      <td>97.250000</td>\n",
       "      <td>0.421642</td>\n",
       "      <td>8714.000000</td>\n",
       "      <td>1.000000</td>\n",
       "      <td>1.000000</td>\n",
       "      <td>1.000000</td>\n",
       "      <td>...</td>\n",
       "      <td>1.000000</td>\n",
       "      <td>1.000000</td>\n",
       "      <td>1.000000</td>\n",
       "      <td>1.000000</td>\n",
       "      <td>1.000000</td>\n",
       "      <td>1.000000</td>\n",
       "      <td>1.000000</td>\n",
       "      <td>1.000000</td>\n",
       "      <td>1.000000</td>\n",
       "      <td>1.000000</td>\n",
       "    </tr>\n",
       "  </tbody>\n",
       "</table>\n",
       "<p>8 rows × 29 columns</p>\n",
       "</div>"
      ],
      "text/plain": [
       "          holiday  workingday        temp       atemp    humidity   windspeed  \\\n",
       "count  331.000000  331.000000  331.000000  331.000000  331.000000  331.000000   \n",
       "mean     0.033233    0.670695   17.018127   19.543807   63.385776    0.190833   \n",
       "std      0.179515    0.470672   11.192515    9.930991   14.334789    0.078240   \n",
       "min      0.000000    0.000000  -11.000000   -6.000000   25.416700    0.022392   \n",
       "25%      0.000000    0.000000    7.500000   11.000000   52.702900    0.133083   \n",
       "50%      0.000000    1.000000   18.000000   21.000000   63.291700    0.178479   \n",
       "75%      0.000000    1.000000   26.000000   27.000000   73.500000    0.235380   \n",
       "max      1.000000    1.000000   38.000000   39.000000   97.250000    0.421642   \n",
       "\n",
       "             count  season_1.0  season_2.0  season_3.0     ...       \\\n",
       "count   331.000000  331.000000  331.000000  331.000000     ...        \n",
       "mean   4598.447130    0.217523    0.259819    0.265861     ...        \n",
       "std    1935.319338    0.413186    0.439199    0.442459     ...        \n",
       "min     431.000000    0.000000    0.000000    0.000000     ...        \n",
       "25%    3370.000000    0.000000    0.000000    0.000000     ...        \n",
       "50%    4648.000000    0.000000    0.000000    0.000000     ...        \n",
       "75%    5981.000000    0.000000    1.000000    1.000000     ...        \n",
       "max    8714.000000    1.000000    1.000000    1.000000     ...        \n",
       "\n",
       "       month_10.0  month_11.0  day_of_week_0.0  day_of_week_1.0  \\\n",
       "count  331.000000  331.000000       331.000000       331.000000   \n",
       "mean     0.090634    0.093656         0.160121         0.175227   \n",
       "std      0.287523    0.291790         0.367273         0.380736   \n",
       "min      0.000000    0.000000         0.000000         0.000000   \n",
       "25%      0.000000    0.000000         0.000000         0.000000   \n",
       "50%      0.000000    0.000000         0.000000         0.000000   \n",
       "75%      0.000000    0.000000         0.000000         0.000000   \n",
       "max      1.000000    1.000000         1.000000         1.000000   \n",
       "\n",
       "       day_of_week_2.0  day_of_week_3.0  day_of_week_4.0  day_of_week_5.0  \\\n",
       "count       331.000000       331.000000       331.000000       331.000000   \n",
       "mean          0.135952         0.123867         0.123867         0.145015   \n",
       "std           0.343256         0.329929         0.329929         0.352649   \n",
       "min           0.000000         0.000000         0.000000         0.000000   \n",
       "25%           0.000000         0.000000         0.000000         0.000000   \n",
       "50%           0.000000         0.000000         0.000000         0.000000   \n",
       "75%           0.000000         0.000000         0.000000         0.000000   \n",
       "max           1.000000         1.000000         1.000000         1.000000   \n",
       "\n",
       "       weather_1.0  weather_2.0  \n",
       "count   331.000000   331.000000  \n",
       "mean      0.640483     0.329305  \n",
       "std       0.480585     0.470672  \n",
       "min       0.000000     0.000000  \n",
       "25%       0.000000     0.000000  \n",
       "50%       1.000000     0.000000  \n",
       "75%       1.000000     1.000000  \n",
       "max       1.000000     1.000000  \n",
       "\n",
       "[8 rows x 29 columns]"
      ]
     },
     "execution_count": 9,
     "metadata": {},
     "output_type": "execute_result"
    }
   ],
   "source": [
    "# introduce binary columns for seasons, months, day_of_week, and weather\n",
    "train_data = pd.get_dummies(train_data, columns = ['season', 'month', 'day_of_week', 'weather'])\n",
    "test_data = pd.get_dummies(test_data, columns = ['season', 'month', 'day_of_week', 'weather'])\n",
    "\n",
    "# drop kth column, already done for weather\n",
    "train_data = train_data.drop('day_of_week_6.0', 1)\n",
    "train_data = train_data.drop('season_4.0', 1)\n",
    "train_data = train_data.drop('month_12.0', 1)\n",
    "test_data = test_data.drop('day_of_week_6.0', 1)\n",
    "test_data = test_data.drop('season_4.0', 1)\n",
    "test_data = test_data.drop('month_12.0', 1)\n",
    "\n",
    "# drop another weather column since the 4th column doesn't contain any data points\n",
    "train_data = train_data.drop('weather_3.0', 1)\n",
    "test_data = test_data.drop('weather_3.0', 1)\n",
    "\n",
    "train_data.describe()"
   ]
  },
  {
   "cell_type": "code",
   "execution_count": 1,
   "metadata": {
    "collapsed": false
   },
   "outputs": [
    {
     "ename": "NameError",
     "evalue": "name 'train_data' is not defined",
     "output_type": "error",
     "traceback": [
      "\u001b[0;31m---------------------------------------------------------------------------\u001b[0m",
      "\u001b[0;31mNameError\u001b[0m                                 Traceback (most recent call last)",
      "\u001b[0;32m<ipython-input-1-dd2fe00c8663>\u001b[0m in \u001b[0;36m<module>\u001b[0;34m()\u001b[0m\n\u001b[1;32m      1\u001b[0m \u001b[0;31m# normalize\u001b[0m\u001b[0;34m\u001b[0m\u001b[0;34m\u001b[0m\u001b[0m\n\u001b[1;32m      2\u001b[0m \u001b[0;32mfor\u001b[0m \u001b[0mi\u001b[0m \u001b[0;32min\u001b[0m \u001b[0;34m[\u001b[0m\u001b[0;34m'temp'\u001b[0m\u001b[0;34m,\u001b[0m \u001b[0;34m'atemp'\u001b[0m\u001b[0;34m,\u001b[0m \u001b[0;34m'humidity'\u001b[0m\u001b[0;34m,\u001b[0m \u001b[0;34m'windspeed'\u001b[0m\u001b[0;34m]\u001b[0m\u001b[0;34m:\u001b[0m\u001b[0;34m\u001b[0m\u001b[0m\n\u001b[0;32m----> 3\u001b[0;31m     \u001b[0mmean\u001b[0m \u001b[0;34m=\u001b[0m \u001b[0mtrain_data\u001b[0m\u001b[0;34m[\u001b[0m\u001b[0mi\u001b[0m\u001b[0;34m]\u001b[0m\u001b[0;34m.\u001b[0m\u001b[0mmean\u001b[0m\u001b[0;34m(\u001b[0m\u001b[0;34m)\u001b[0m\u001b[0;34m\u001b[0m\u001b[0m\n\u001b[0m\u001b[1;32m      4\u001b[0m     \u001b[0msd\u001b[0m \u001b[0;34m=\u001b[0m \u001b[0mtrain_data\u001b[0m\u001b[0;34m[\u001b[0m\u001b[0mi\u001b[0m\u001b[0;34m]\u001b[0m\u001b[0;34m.\u001b[0m\u001b[0mstd\u001b[0m\u001b[0;34m(\u001b[0m\u001b[0;34m)\u001b[0m\u001b[0;34m\u001b[0m\u001b[0m\n\u001b[1;32m      5\u001b[0m     \u001b[0mtrain_data\u001b[0m\u001b[0;34m[\u001b[0m\u001b[0mi\u001b[0m\u001b[0;34m]\u001b[0m \u001b[0;34m=\u001b[0m \u001b[0;34m(\u001b[0m\u001b[0mtrain_data\u001b[0m\u001b[0;34m[\u001b[0m\u001b[0mi\u001b[0m\u001b[0;34m]\u001b[0m \u001b[0;34m-\u001b[0m \u001b[0mmean\u001b[0m\u001b[0;34m)\u001b[0m \u001b[0;34m/\u001b[0m \u001b[0msd\u001b[0m\u001b[0;34m\u001b[0m\u001b[0m\n",
      "\u001b[0;31mNameError\u001b[0m: name 'train_data' is not defined"
     ]
    }
   ],
   "source": [
    "# normalize\n",
    "for i in ['temp', 'atemp', 'humidity', 'windspeed']:\n",
    "    mean = train_data[i].mean()\n",
    "    sd = train_data[i].std()\n",
    "    train_data[i] = (train_data[i] - mean) / sd\n",
    "    test_data[i] = (test_data[i] - mean) / sd\n",
    "\n",
    "train_data.describe()\n",
    "# we can see that mean is 1 and sd is 0 for temp, atemp, humidity, windspeed"
   ]
  },
  {
   "cell_type": "markdown",
   "metadata": {},
   "source": [
    "#### Analysis\n",
    "\n",
    "#### Why can't the categorical attributes be directly used as predictors?\n",
    "\n",
    "Categorical variables can't be used as predictors because our regression will interpret the assigned values as actual numbers rather than as substitutes for categories. In general, we shouldn't be assigning an \"order\" to things that have no order. For instance, convention says that we start a year in the winter, but someone could easily argue that a year starts in spring, or even fall (like the school year). Another big issue is that it doesn't make sense to scale categorical variables with a coefficient, as this makes it difficult to interpret which of the variables are actually affecting the model. Instead, we introduce a binary system and apply to each possible category item to isolate the impact that category item is having.\n",
    "\n",
    "#### Why is it okay to not have a binary column for the  KjKj -th category?\n",
    "\n",
    "This is okay because each categorical type of variable has a value in one of the categories. So if we go through $j-1$ binary columns for a category with $j$ types, and have not seen a 1 yet, we can extrapolate that the jth column will be a 1, so it's unneccesary to use extra storage for redundant information.\n",
    "\n",
    "#### Why shouldn't we include the test set observations in computing the mean and SD?\n",
    "\n",
    "We shouldn't do this because if we touch the test set and perform calculations on it, then it invalidates our use of this data for testing. We have to leave the data alone if we want to use it later to test our fully organic model (not built using any test data)."
   ]
  },
  {
   "cell_type": "markdown",
   "metadata": {},
   "source": [
    "#### Check for Null Values before Continuing"
   ]
  },
  {
   "cell_type": "code",
   "execution_count": 11,
   "metadata": {
    "collapsed": false
   },
   "outputs": [
    {
     "data": {
      "text/plain": [
       "holiday            0\n",
       "workingday         0\n",
       "temp               0\n",
       "atemp              0\n",
       "humidity           0\n",
       "windspeed          0\n",
       "count              0\n",
       "season_1.0         0\n",
       "season_2.0         0\n",
       "season_3.0         0\n",
       "month_1.0          0\n",
       "month_2.0          0\n",
       "month_3.0          0\n",
       "month_4.0          0\n",
       "month_5.0          0\n",
       "month_6.0          0\n",
       "month_7.0          0\n",
       "month_8.0          0\n",
       "month_9.0          0\n",
       "month_10.0         0\n",
       "month_11.0         0\n",
       "day_of_week_0.0    0\n",
       "day_of_week_1.0    0\n",
       "day_of_week_2.0    0\n",
       "day_of_week_3.0    0\n",
       "day_of_week_4.0    0\n",
       "day_of_week_5.0    0\n",
       "weather_1.0        0\n",
       "weather_2.0        0\n",
       "dtype: int64"
      ]
     },
     "execution_count": 11,
     "metadata": {},
     "output_type": "execute_result"
    }
   ],
   "source": [
    "test_data.isnull().sum()"
   ]
  },
  {
   "cell_type": "markdown",
   "metadata": {},
   "source": [
    "## Part (b): Multiple Linear Regression\n",
    "\n",
    "We are now ready to fit a linear regression model and analyze its coefficients and residuals.\n",
    "\n",
    "- Fit a multiple linear regression model to the training set, and report its $R^2$ score on the test set.\n",
    "- *Statistical significance*: Using a t-test, find out which of estimated coefficients are statistically significant at a significance level of 5% (p-value<0.05). Based on the results of the test, answer the following questions:\n",
    "    - Which among the predictors have a positive correlation with the number of bike rentals? \n",
    "    - Does the day of a week have a relationship with bike rentals? \n",
    "    - Does the month influence the bike rentals? \n",
    "    - What effect does a holiday have on  bike rentals? \n",
    "    - Is there a difference in the coefficients assigned to `temp` and `atemp`? Give an explanation for your observation.\n",
    "- *Residual plot:* Make a plot of residuals of the fitted model ${e} = y - \\hat{y}$ as a function of the predicted value $\\hat{y}$. Note that this is different from the residual plot for simple linear regression. Draw a horizontal line denoting the zero residual value on the Y-axis. Does the plot reveal a non-linear relationship between the predictors and response? What does the plot convey about the variance of the error terms?\n"
   ]
  },
  {
   "cell_type": "code",
   "execution_count": 12,
   "metadata": {
    "collapsed": false
   },
   "outputs": [
    {
     "name": "stdout",
     "output_type": "stream",
     "text": [
      "R^2 Value for Test Set:  0.249342111465\n"
     ]
    }
   ],
   "source": [
    "# .loc[:, df_train.columns != 'count'].columns\n",
    "X_train = train_data.loc[:, train_data.columns != 'count'].values\n",
    "Y_train = train_data['count'].values\n",
    "\n",
    "X_test = test_data.loc[:, test_data.columns != 'count'].values\n",
    "Y_test = test_data['count'].values\n",
    "\n",
    "multi_regr_model = LinearRegression(fit_intercept=True)\n",
    "multi_regr_model.fit(X_train, Y_train)\n",
    "\n",
    "test_R_sq = multi_regr_model.score(X_test, Y_test)\n",
    "print(\"R^2 Value for Test Set: \", test_R_sq)"
   ]
  },
  {
   "cell_type": "code",
   "execution_count": 13,
   "metadata": {
    "collapsed": false
   },
   "outputs": [
    {
     "name": "stdout",
     "output_type": "stream",
     "text": [
      "                            OLS Regression Results                            \n",
      "==============================================================================\n",
      "Dep. Variable:                      y   R-squared:                       0.576\n",
      "Model:                            OLS   Adj. R-squared:                  0.538\n",
      "Method:                 Least Squares   F-statistic:                     15.25\n",
      "Date:                Wed, 04 Oct 2017   Prob (F-statistic):           6.56e-42\n",
      "Time:                        20:48:37   Log-Likelihood:                -2832.1\n",
      "No. Observations:                 331   AIC:                             5720.\n",
      "Df Residuals:                     303   BIC:                             5827.\n",
      "Df Model:                          27                                         \n",
      "Covariance Type:            nonrobust                                         \n",
      "===================================================================================\n",
      "                      coef    std err          t      P>|t|      [95.0% Conf. Int.]\n",
      "-----------------------------------------------------------------------------------\n",
      "constant         3672.2940    664.433      5.527      0.000      2364.807  4979.781\n",
      "holiday          -616.6027    405.068     -1.522      0.129     -1413.706   180.500\n",
      "workingday        -24.0933    174.143     -0.138      0.890      -366.777   318.590\n",
      "temp              925.7338    474.536      1.951      0.052        -8.070  1859.538\n",
      "atemp             312.4341    429.987      0.727      0.468      -533.705  1158.573\n",
      "humidity         -548.4929    113.200     -4.845      0.000      -771.251  -325.735\n",
      "windspeed        -255.1226     80.766     -3.159      0.002      -414.057   -96.189\n",
      "season_1.0      -1226.1865    506.763     -2.420      0.016     -2223.407  -228.966\n",
      "season_2.0       -327.3575    573.373     -0.571      0.568     -1455.654   800.939\n",
      "season_3.0       -193.3050    449.171     -0.430      0.667     -1077.194   690.584\n",
      "month_1.0         118.8358    505.353      0.235      0.814      -875.611  1113.282\n",
      "month_2.0         207.7759    516.216      0.402      0.688      -808.047  1223.599\n",
      "month_3.0         358.0167    511.391      0.700      0.484      -648.310  1364.344\n",
      "month_4.0         452.1849    657.792      0.687      0.492      -842.234  1746.604\n",
      "month_5.0          53.0233    700.991      0.076      0.940     -1326.403  1432.450\n",
      "month_6.0        -673.4271    696.142     -0.967      0.334     -2043.313   696.458\n",
      "month_7.0       -1161.1512    701.261     -1.656      0.099     -2541.109   218.806\n",
      "month_8.0        -657.6397    684.628     -0.961      0.338     -2004.868   689.588\n",
      "month_9.0         523.9804    548.284      0.956      0.340      -554.945  1602.906\n",
      "month_10.0        605.0867    439.844      1.376      0.170      -260.449  1470.623\n",
      "month_11.0        231.5175    413.966      0.559      0.576      -583.094  1046.129\n",
      "day_of_week_0.0  -465.1450    269.154     -1.728      0.085      -994.794    64.504\n",
      "day_of_week_1.0  -256.6501    172.675     -1.486      0.138      -596.445    83.145\n",
      "day_of_week_2.0  -328.1845    204.810     -1.602      0.110      -731.214    74.845\n",
      "day_of_week_3.0    37.6128    214.916      0.175      0.861      -385.304   460.530\n",
      "day_of_week_4.0   -71.6425    208.337     -0.344      0.731      -481.612   338.327\n",
      "day_of_week_5.0   -21.8317    200.742     -0.109      0.913      -416.858   373.194\n",
      "weather_1.0      1581.9783    529.223      2.989      0.003       540.560  2623.396\n",
      "weather_2.0      1565.4117    478.500      3.271      0.001       623.807  2507.016\n",
      "==============================================================================\n",
      "Omnibus:                       28.947   Durbin-Watson:                   1.912\n",
      "Prob(Omnibus):                  0.000   Jarque-Bera (JB):                9.753\n",
      "Skew:                           0.054   Prob(JB):                      0.00762\n",
      "Kurtosis:                       2.166   Cond. No.                     1.96e+15\n",
      "==============================================================================\n",
      "\n",
      "Warnings:\n",
      "[1] Standard Errors assume that the covariance matrix of the errors is correctly specified.\n",
      "[2] The smallest eigenvalue is 2.12e-28. This might indicate that there are\n",
      "strong multicollinearity problems or that the design matrix is singular.\n"
     ]
    },
    {
     "data": {
      "text/plain": [
       "array([ 1.        ,  0.        ,  1.        ,  0.6237984 ,  0.65010562,\n",
       "        0.92066404, -0.92875796,  0.        ,  1.        ,  0.        ,\n",
       "        0.        ,  0.        ,  0.        ,  0.        ,  1.        ,\n",
       "        0.        ,  0.        ,  0.        ,  0.        ,  0.        ,\n",
       "        0.        ,  0.        ,  0.        ,  1.        ,  0.        ,\n",
       "        0.        ,  0.        ,  0.        ,  1.        ])"
      ]
     },
     "execution_count": 13,
     "metadata": {},
     "output_type": "execute_result"
    }
   ],
   "source": [
    "pred_names = train_data.loc[:, train_data.columns != 'count'].columns.values\n",
    "pred_names_new = np.insert(pred_names, 0, 'constant')\n",
    "\n",
    "# add a column of 1s\n",
    "X = sm.add_constant(X_train)\n",
    "regr_sm = sm.OLS(Y_train, X)\n",
    "multi_regr_model = regr_sm.fit()\n",
    "print(multi_regr_model.summary(xname=list(pred_names_new)))\n",
    "\n",
    "X[0:len(X)][0]"
   ]
  },
  {
   "cell_type": "markdown",
   "metadata": {},
   "source": [
    "### Analysis\n",
    "\n",
    "Based on our preset significance level of 5%, we see that humidity, windspeed, the spring season, clear weather, and cloudy weather have statistically significant impacts on the number of bikes rented.\n",
    "\n",
    "#### Which among the predictors have a positive correlation with the number of bike rentals? \n",
    "\n",
    "The temperature and apparent temperature have a positive correlation with the number of rentals. Of the indicator predictors, the months of January, February, March, April, May, September, October, and November, the day Wednesday, and clear and cloudy weather conditions also show positive correlations. Of all of these predictors, only the clear and cloudy weather conditions have an impact on the count of rentals that is statistically significant (p < 0.05). The temperature also comes close with a p-value of 0.052.\n",
    "\n",
    "#### Does the day of a week have a relationship with bike rentals? \n",
    "\n",
    "No; none of the days we tested have a p-value < 0.05, meaning none contribute to the rental count in a statistically significant way. In other words, the variation between the days can be explained by randomness.\n",
    "\n",
    "#### Does the month influence the bike rentals? \n",
    "\n",
    "No; just like the days of the week, none of the months we tested had a p-value < 0.05. Once again, the month does not affect the number of rentals in a statistically significant way, and the variation can be explained by randomness.\n",
    "\n",
    "#### What effect does a holiday have on bike rentals? \n",
    "\n",
    "The coefficient is negative, meaning that less people rent bikes if the day is a holiday. This makes sense because people don't need to go to work on holidays, and are in general more likely to stay home. However, this effect is not statistically significant since the p-value is not < 0.05, which means the negative correlation could be explained by randomness.\n",
    "\n",
    "#### Is there a difference in the coefficients assigned to `temp` and `atemp`? Give an explanation for your observation.\n",
    "\n",
    "Yes, there is a difference of over 600. We attribute this difference to the fact that `temp` and `atemp` are probably nearly collinear, and whatever could be explained by `temp` could also be explained by `atemp`. Thus, the model simply selects which one happens to be more accurate at each particular point. It does make sense that these coefficients have the same sign however, since `temp` and `atemp` themselves are positively correlated.\n"
   ]
  },
  {
   "cell_type": "code",
   "execution_count": 14,
   "metadata": {
    "collapsed": false
   },
   "outputs": [
    {
     "data": {
      "text/plain": [
       "<matplotlib.legend.Legend at 0x118d89898>"
      ]
     },
     "execution_count": 14,
     "metadata": {},
     "output_type": "execute_result"
    },
    {
     "data": {
      "image/png": "[encoded data removed]",
      "text/plain": [
       "<matplotlib.figure.Figure at 0x1145d10f0>"
      ]
     },
     "metadata": {},
     "output_type": "display_data"
    }
   ],
   "source": [
    "fig, ax = plt.subplots(1, 2, figsize=(15, 8))\n",
    "# add a column of 1s, add_constant\n",
    "errors = Y_train - multi_regr_model.predict(X)\n",
    "ax[0].scatter(multi_regr_model.predict(X), errors, color='r', alpha=0.5, label='residuals')\n",
    "ax[0].axhline(y=0, color='gold', label='zero error')\n",
    "\n",
    "ax[0].set_xlabel('Predicted Count')\n",
    "ax[0].set_ylabel('Residual')\n",
    "ax[0].set_title('Number of Bike Rentals:\\n Predicted Count vs Residual')\n",
    "ax[0].legend(loc='best')\n",
    "\n",
    "ax[1].hist(errors, color='r', alpha=0.5, label='residuals', bins=50, edgecolor='white', linewidth=2)\n",
    "ax[1].axvline(x=0, color='gold', label='zero error')\n",
    "\n",
    "ax[1].set_xlabel('Residual')\n",
    "ax[1].set_ylabel('Frequency')\n",
    "ax[1].set_title('Number of Bike Rentals:\\n Residual Histogram')\n",
    "ax[1].legend(loc='best')"
   ]
  },
  {
   "cell_type": "markdown",
   "metadata": {},
   "source": [
    "### Analysis\n",
    "\n",
    "#### Does the plot reveal a non-linear relationship between the predictors and response? \n",
    "\n",
    "No; the residuals look evenly distributed above the zero error line, which suggests that our linear model is an accurate one. \n",
    "\n",
    "#### What does the plot convey about the variance of the error terms?\n",
    "\n",
    "The even distribution of residuals conveys that the variance is random.\n"
   ]
  },
  {
   "cell_type": "markdown",
   "metadata": {},
   "source": [
    "## Part (c): Checking Collinearity\n",
    "\n",
    "Does the data suffer from multi-collinearity? To answer this question, let us first analyze the correlation matrix for the data. Compute the (Pearson product-moment) correlation matrix for the predictor variables in the training set, and visualize the matrix using a heatmap. For categorical attributes, you should use each binary predictor resulting from one-hot encoding to compute their correlations.  Are there predictors that fall into natural groups based on the correlation values? \n",
    "\n",
    "*Hint:* You may use the `np.corrcoef` function to compute the correlation matrix for a data set (do not forget to transpose the data matrix). You may use `plt.pcolor` function to visualize the correlation matrix."
   ]
  },
  {
   "cell_type": "code",
   "execution_count": 15,
   "metadata": {
    "collapsed": false
   },
   "outputs": [
    {
     "data": {
      "text/plain": [
       "<matplotlib.colorbar.Colorbar at 0x119276eb8>"
      ]
     },
     "execution_count": 15,
     "metadata": {},
     "output_type": "execute_result"
    },
    {
     "data": {
      "image/png": "[encoded data removed]",
      "text/plain": [
       "<matplotlib.figure.Figure at 0x1145709e8>"
      ]
     },
     "metadata": {},
     "output_type": "display_data"
    }
   ],
   "source": [
    "# extract dataframe with all predictors\n",
    "corr_df = train_data.loc[:, train_data.columns != 'count']\n",
    "\n",
    "trans = corr_df.values.T\n",
    "coeff_matrix1 = np.corrcoef(trans)\n",
    "\n",
    "plt.figure(1)\n",
    "heatmap = plt.pcolor(coeff_matrix1)\n",
    "plt.title(\"Heatmap of Correlation Between Predictors\")\n",
    "plt.xlabel(\"Index of predictor, 1-29\")\n",
    "plt.ylabel(\"Index of predictor, 1-29\")\n",
    "plt.colorbar(heatmap)"
   ]
  },
  {
   "cell_type": "markdown",
   "metadata": {},
   "source": [
    "#### Does the data suffer from multi-collinearity? \n",
    "\n",
    "ANSWER: Yes, there are a few sets of predictors with a high value of correlation. \n",
    "\n",
    "3,4\n",
    "9,3\n",
    "9,4\n",
    "28,5\n",
    "7,10\n",
    "7,11\n",
    "8,13\n",
    "8,14\n",
    "9,16\n",
    "9,17\n",
    "\n",
    "#### Are there predictors that fall into natural groups based on the correlation values?\n",
    "\n",
    "ANSWER: Months with Seasons. Atemp and Temp\n",
    " "
   ]
  },
  {
   "cell_type": "markdown",
   "metadata": {},
   "source": [
    "## Part (d): Subset Selection\n",
    "\n",
    "Apply either one of the following subset selection methods discussed in class to choose a minimal subset of predictors that are related to the response variable:\n",
    "- Step-wise forward selection\n",
    "- Step-wise backward selection\n",
    "\n",
    "We require you to implement both these methods *from scratch*. You may use the Bayesian Information Criterion (BIC) to choose the subset size in each method. Do these methods eliminate one or more of the redundant predictors (if any) identified in Part (c)? In each case, fit linear regression models using the identified subset of predictors to the training set. How do the test $R^2$ scores for the fitted models compare with the model fitted in Part (b) using all predictors?\n",
    "\n",
    "\n"
   ]
  },
  {
   "cell_type": "code",
   "execution_count": 16,
   "metadata": {
    "collapsed": true
   },
   "outputs": [],
   "source": [
    "# STEP-WISE FORWARD SELECTION of PREDICTORS using BIC\n",
    "def forward_select(x, y): # x is dataframe, y is counts\n",
    "    # Makes use of code for exhaustive selection from section notes\n",
    "    # ms stores the best model for #predictors=0,1,2...\n",
    "    ms = [[]]\n",
    "    \n",
    "    # store bic values for testing purposes\n",
    "    bics = [100000000]\n",
    "    d = x.shape[1]\n",
    "\n",
    "    # find best set of predictors for each value up to #predictors\n",
    "    for k in range(1,d):\n",
    "        min_bic = 10000\n",
    "        min_temp_model = []\n",
    "        model = ms[k-1]\n",
    "        \n",
    "        # get predictors that are not in temp_model\n",
    "        remaining_predictors = np.setdiff1d(predictors,model)\n",
    "        \n",
    "        # for each predictor, add to model, fit regression, \n",
    "        # see if it is a new min BIC value\n",
    "        for pred in remaining_predictors:\n",
    "            temp_model = copy.deepcopy(model)\n",
    "            # add new predictor to model and fit\n",
    "            temp_model.append(pred)\n",
    "            x_subset = sm.add_constant(x[list(temp_model)])\n",
    "            model_regression = OLS(y, x_subset)\n",
    "            results = model_regression.fit()\n",
    "            # store this model as the new minimum if < min_bic\n",
    "            bic = results.bic\n",
    "            if bic < min_bic:\n",
    "                min_bic = bic\n",
    "                min_temp_model = temp_model\n",
    "        # bics and ms now hold information for the best model with k predictors\n",
    "        bics.append(min_bic)\n",
    "        ms.append(min_temp_model)\n",
    "        \n",
    "    # iterate through models of different sizes, pick lowest BIC\n",
    "    overall_min_bic = 10000\n",
    "    overall_min_model = ms[0]\n",
    "    for m in ms:\n",
    "        if m != []:\n",
    "            # fit OLS model for each set of predictors\n",
    "            x_subset = add_constant(x[m])\n",
    "            model = OLS(y, x_subset)\n",
    "            results = model.fit()\n",
    "            bic = results.bic\n",
    "            if bic < overall_min_bic:\n",
    "                overall_min_bic = bic\n",
    "                overall_min_model = m\n",
    "    \n",
    "    # returns list of predictors corresponding to best model        \n",
    "    return overall_min_model"
   ]
  },
  {
   "cell_type": "code",
   "execution_count": 17,
   "metadata": {
    "collapsed": true
   },
   "outputs": [],
   "source": [
    "def backward_select(x, y): # x is dataframe (columns predictors), y is counts\n",
    "    # Makes use of code for exhaustive selection from section notes\n",
    "    d = x.shape[1]\n",
    "    # ms holds the best model with #predictors = 28, 27, ..., 1\n",
    "    ms = [predictors]\n",
    "\n",
    "    # find best set of predictors for each value up to #predictors\n",
    "    for k in range(1,d):\n",
    "        min_bic = 10000\n",
    "        min_temp_model = []\n",
    "        model = ms[k-1]\n",
    "        if len(model) > 1:\n",
    "        \n",
    "            # get predictors that are not in temp_model\n",
    "            for index, pred in enumerate(model):\n",
    "                temp_model = copy.deepcopy(model)\n",
    "                # remove one predictor from previous model on each iteration\n",
    "                temp_model.pop(index)\n",
    "                # fit OLS model\n",
    "                x_subset = sm.add_constant(x[list(temp_model)])\n",
    "                model_regression = OLS(y, x_subset)\n",
    "                results = model_regression.fit()\n",
    "                # store this model as the new minimum if < min_bic\n",
    "                bic = results.bic\n",
    "                if bic < min_bic:\n",
    "                    min_bic = bic\n",
    "                    min_temp_model = temp_model\n",
    "            ms.append(min_temp_model)\n",
    "        \n",
    "    # iterate through models of different sizes, pick lowest BIC\n",
    "    overall_min_bic = 10000\n",
    "    overall_min_model = ms[0]\n",
    "    for m in ms:\n",
    "        if m != []:\n",
    "            # fit the model and determine the minimum\n",
    "            x_subset = add_constant(x[m])\n",
    "            model = OLS(y, x_subset)\n",
    "            results = model.fit()\n",
    "            bic = results.bic\n",
    "            if bic < overall_min_bic:\n",
    "                overall_min_bic = bic\n",
    "                overall_min_model = m\n",
    "    \n",
    "    # returns list of predictors corresponding to best model        \n",
    "    return overall_min_model"
   ]
  },
  {
   "cell_type": "code",
   "execution_count": 25,
   "metadata": {
    "collapsed": false
   },
   "outputs": [
    {
     "name": "stdout",
     "output_type": "stream",
     "text": [
      "Predictors selected from forward selection:  ['atemp', 'humidity', 'season_1.0', 'month_9.0', 'month_10.0', 'windspeed', 'month_7.0']\n",
      "R2 Value for Best Forward Selection Model:  0.534328867236\n",
      "R2 TEST Value for Best Forward Selection Model:  0.233907286063\n",
      "BIC Value for Best Forward Selection Model:  5741.81180016\n",
      "\n",
      "Predictors selected from backward selection:  ['temp', 'humidity', 'windspeed', 'season_1.0', 'month_6.0', 'month_7.0', 'month_8.0']\n",
      "R2 Value for Best Backward Selection Model:  0.535287352653\n",
      "R2 TEST Value for Best Backward Selection Model:  0.235806759622\n",
      "BIC Value for Best Backward Selection Model:  5741.12980464\n",
      "\n"
     ]
    }
   ],
   "source": [
    "\n",
    "import copy\n",
    "\n",
    "predictors = list(pred_names)\n",
    "\n",
    "# call function to get the best set of predictors using forward selection\n",
    "best_forward_model = forward_select(train_data[predictors], train_data['count'])\n",
    "print(\"Predictors selected from forward selection: \", best_forward_model)\n",
    "\n",
    "# prepare data for modeling\n",
    "x_subset = add_constant(train_data[best_forward_model])\n",
    "y = train_data['count']\n",
    "\n",
    "# fit the model\n",
    "est = LinearRegression()\n",
    "est.fit(x_subset, y) # fit\n",
    "prediction = est.predict(x_subset)\n",
    "test_prediction = est.predict(add_constant(test_data[best_forward_model]))\n",
    "\n",
    "# generate and print train r2, test r2, and train BIC\n",
    "forward_r2 = r2_score(y, prediction)\n",
    "forward_test_r2 = r2_score(test_data['count'], test_prediction)\n",
    "model = OLS(y, x_subset)\n",
    "results = model.fit()\n",
    "forward_bic = results.bic\n",
    "print(\"R2 Value for Best Forward Selection Model: \", forward_r2)\n",
    "print(\"R2 TEST Value for Best Forward Selection Model: \", forward_test_r2)\n",
    "print(\"BIC Value for Best Forward Selection Model: \", forward_bic)\n",
    "print()\n",
    "\n",
    "\n",
    "# call function to get the best set of predictors using backward selection\n",
    "best_backward_model = backward_select(train_data[predictors], train_data['count'])\n",
    "print(\"Predictors selected from backward selection: \", best_backward_model)\n",
    "\n",
    "# prepare data for modeling\n",
    "x_subset = add_constant(train_data[best_backward_model])\n",
    "y = train_data['count']\n",
    "\n",
    "# fit the model\n",
    "est = LinearRegression()\n",
    "est.fit(x_subset, y) # fit\n",
    "prediction = est.predict(x_subset)\n",
    "test_prediction = est.predict(add_constant(test_data[best_backward_model]))\n",
    "\n",
    "# generate and print train r2, test r2, and train BIC\n",
    "backward_test_r2 = r2_score(test_data['count'], test_prediction)\n",
    "backward_r2 = r2_score(y, prediction)\n",
    "model = OLS(y, x_subset)\n",
    "results = model.fit()\n",
    "backward_bic = results.bic\n",
    "print(\"R2 Value for Best Backward Selection Model: \", backward_r2)\n",
    "print(\"R2 TEST Value for Best Backward Selection Model: \", backward_test_r2)\n",
    "print(\"BIC Value for Best Backward Selection Model: \", backward_bic)\n",
    "print()\n"
   ]
  },
  {
   "cell_type": "markdown",
   "metadata": {},
   "source": [
    "#### Do these methods eliminate one or more of the redundant predictors (if any) identified in Part (c)? \n",
    "\n",
    "ANSWER: Yes, these methods do eliminate redundant predictors. As we can see, both forward and backward selection reduce our 28 original predictors into only 7 predictors. As a result, several redundancies that we noticed in part C were eliminated. Temp and Atemp are highly correlated, so each model only picks one, and drops the other (forward selects atemp, backward selects temp). Additionally, we see that there is no overlap in month and season data. Forward selection uses season 1.0 (Spring), as well as months 7.0, 9.0, and 10.0 (July, September, and October), so there is no redundancy between season and month data. Backward selection uses season 1.0 (Spring), as well as months 6.0, 7.0, and 8.0 (June, July, and August), so again, there is no redundancy between season and month data. Of course, many of the other predictors that are removed are likely correlated with predictors that remain, so other redundanies are likely eliminated. \n",
    "\n",
    "#### How do the test  R2R2 scores for the fitted models compare with the model fitted in Part (b) using all predictors?\n",
    "\n",
    "The test R2 scores are slightly lower than the model fit in b) with all predictors. All predictors yields r2 = .576, and here, forward selection yields r2 = .534, and backward selection yields r2 = .535. These r2 values are generated from the training data, so it makes sense that all variables will fit the data better, since more predictors can more closely model the trends, even though this may overfit for the test data. As we can see, test r2 values for forward and backward selection is much lower than the training values, and this is likely the case for all predictors too. The reason why forward and backward selection pick models with lower r2 values than all predictors is that BIC punishes excessive use of predictors, and tries to maximize fit with a minimal amount of predictors. "
   ]
  },
  {
   "cell_type": "markdown",
   "metadata": {},
   "source": [
    "## Part (e): Cross Validation\n",
    "\n",
    "- Perform a 10-fold cross-validation procedure to select between the 3 competing models you have so far: the model with the best BIC from Step-wise forward selection, the model with the best BIC from Step-wise backward selection (if it is different), and the model with all possible predictors.  Report the average $R^2$ across all 10 validation sets for each model and compare the results.  Why do you think this is the case?\n",
    "- Evaluate each of the 3 models on the provided left out test set by calculating $R^2$.  Do the results agree with the cross-validation?  Why or why not?"
   ]
  },
  {
   "cell_type": "code",
   "execution_count": 26,
   "metadata": {
    "collapsed": false
   },
   "outputs": [
    {
     "name": "stdout",
     "output_type": "stream",
     "text": [
      "\n",
      "TRAIN ERRORS: \n",
      "[[ 1663996.29849652  1747767.35610558  1782836.5749766   1785726.88254717\n",
      "   1808653.22553773  1633752.45887987  1708157.26347206  1776037.07581112\n",
      "   1751129.3923874   1686988.01153565]\n",
      " [ 1732581.89659374  1654985.82256329  1722027.54172804  1717774.21096662\n",
      "   1668717.32992638  1729838.96482046  1733294.048434    1765751.20165229\n",
      "   1796130.50053751  1770093.51868193]\n",
      " [ 1617958.14977652  1471015.14399125  1635528.79249385  1566709.12877065\n",
      "   1570373.56639446  1589212.20332479  1597389.82075366  1558865.14826652\n",
      "   1490101.18169903  1528000.96976774]]\n",
      "\n",
      "VALIDATION ERRORS: \n",
      "[[ 2471877.67455734  1712428.87952247  1387455.44494581  1351741.10947965\n",
      "   1118493.27508892  2752560.54990321  2055782.95397716  1413434.41959436\n",
      "   1678750.08194913  2263181.82311875]\n",
      " [ 1815727.30720741  2556734.48973598  1920836.14853711  1968806.58238529\n",
      "   2419105.01430425  1867817.67020394  1824985.67494782  1475355.2831534\n",
      "   1219274.82588968  1479265.94613209]\n",
      " [ 1421588.05567237  4690673.86055921  1186313.31909807  1917561.56435268\n",
      "   1850808.26856514  1722695.30020884  1637097.88596072  1942244.02982691\n",
      "   2731600.74819661  2293076.18367808]]\n",
      "\n",
      "TRAIN R SQUARED: \n",
      "[[ 0.55786031  0.53560759  0.52111668  0.52650037  0.52461076  0.54615972\n",
      "   0.54078065  0.52454607  0.53616071  0.54083326]\n",
      " [ 0.56117891  0.55361765  0.53301999  0.54776201  0.54183795  0.51735382\n",
      "   0.53099193  0.53083267  0.52874249  0.52045609]\n",
      " [ 0.5713381   0.59718115  0.57238757  0.57986253  0.58455232  0.58466946\n",
      "   0.5727941   0.57894121  0.57974511  0.59338857]]\n",
      "\n",
      "VALIDATION R SQUARED: \n",
      "[[ 0.23439201  0.49981562  0.63766549  0.58134543  0.63708999  0.4095474\n",
      "   0.46555046  0.61805516  0.4841825   0.45883887]\n",
      " [-0.00299331  0.30402252  0.53495824  0.35765247  0.45508937  0.59629199\n",
      "   0.55180681  0.57339591  0.59808831  0.63814785]\n",
      " [ 0.57340371 -0.082021    0.59278933  0.48862616  0.4093218   0.40607995\n",
      "   0.50517288  0.51166603  0.49583029  0.33672232]]\n",
      "\n",
      "AVERAGE R SQUARED FOR VALIDATION SETS w/ FORWARD SELECTION:  0.502648293006\n",
      "AVERAGE R SQUARED FOR VALIDATION SETS w/ BACKWARD SELECTION:  0.46064601509\n",
      "AVERAGE R SQUARED FOR VALIDATION SETS w/ ALL PREDICTORS:  0.42375914707\n",
      "\n",
      "R SQUARED VALUE FOR TEST SET WITH FORWARD SELECTION:  0.233907286063\n",
      "R SQUARED VALUE FOR TEST SET WITH BACKWARD SELECTION:  0.235806759622\n",
      "R SQUARED VALUE FOR TEST SET WITH ALL PREDICTORS:  0.249342111465\n"
     ]
    }
   ],
   "source": [
    "from sklearn.preprocessing import PolynomialFeatures\n",
    "from sklearn.linear_model import LinearRegression\n",
    "from sklearn.metrics import mean_squared_error\n",
    "from sklearn.model_selection import KFold\n",
    "\n",
    "train_errors = np.zeros((3,10))\n",
    "valid_errors = np.zeros((3,10))\n",
    "train_R_sqs = np.zeros((3,10))\n",
    "valid_R_sqs = np.zeros((3,10))\n",
    "\n",
    "predictors = list(pred_names)\n",
    "\n",
    "# collect 3 sets of predictors used\n",
    "forward_predictors = forward_select(train_data[list(predictors)], train_data['count'])\n",
    "backward_predictors = backward_select(train_data[list(predictors)], train_data['count'])\n",
    "all_predictors = predictors\n",
    "predictor_set = [forward_predictors, backward_predictors, all_predictors]\n",
    "\n",
    "n_folds = 10\n",
    "\n",
    "for index, preds in enumerate(predictor_set):\n",
    "    fold = 0\n",
    "    for train, valid in KFold(n_folds, shuffle=True).split(range(331)): # split data into train/test groups, 4 times\n",
    "        X_train = add_constant(train_data[preds])\n",
    "        Y_train = train_data['count']\n",
    "        est = LinearRegression()\n",
    "        est.fit(X_train.ix[train], Y_train.ix[train]) # fit\n",
    "        train_errors[index,fold] = (mean_squared_error(Y_train.ix[train], est.predict(X_train.ix[train]))) # evaluate score function on held-out data\n",
    "        valid_errors[index,fold] = (mean_squared_error(Y_train.ix[valid], est.predict(X_train.ix[valid]))) # evaluate score function on held-out data\n",
    "        train_R_sqs[index,fold] = (est.score(X_train.ix[train], Y_train.ix[train]))\n",
    "        valid_R_sqs[index,fold] = (est.score(X_train.ix[valid], Y_train.ix[valid]))\n",
    "        fold += 1\n",
    "        \n",
    "print()\n",
    "print(\"TRAIN ERRORS: \")\n",
    "print(train_errors)\n",
    "print()\n",
    "print(\"VALIDATION ERRORS: \")\n",
    "print(valid_errors)\n",
    "print()\n",
    "print(\"TRAIN R SQUARED: \")\n",
    "print(train_R_sqs)\n",
    "print()\n",
    "print(\"VALIDATION R SQUARED: \")\n",
    "print(valid_R_sqs)\n",
    "print()\n",
    "print(\"AVERAGE R SQUARED FOR VALIDATION SETS w/ FORWARD SELECTION: \", np.mean(valid_R_sqs[0]))\n",
    "print(\"AVERAGE R SQUARED FOR VALIDATION SETS w/ BACKWARD SELECTION: \", np.mean(valid_R_sqs[1]))\n",
    "print(\"AVERAGE R SQUARED FOR VALIDATION SETS w/ ALL PREDICTORS: \", np.mean(valid_R_sqs[2]))\n",
    "    \n",
    "r_sqs = []\n",
    "for preds in predictor_set:\n",
    "    try:\n",
    "        X_train = add_constant(train_data[preds])\n",
    "        Y_train = train_data['count']\n",
    "        est = LinearRegression(fit_intercept = True)\n",
    "        est.fit(X_train, Y_train) # fit\n",
    "        test_R_sq = est.score(add_constant(test_data[preds]), test_data['count'])\n",
    "        r_sqs.append(test_R_sq)\n",
    "    except: print(preds)\n",
    "\n",
    "print()\n",
    "print(\"R SQUARED VALUE FOR TEST SET WITH FORWARD SELECTION: \", r_sqs[0])\n",
    "print(\"R SQUARED VALUE FOR TEST SET WITH BACKWARD SELECTION: \", r_sqs[1])\n",
    "print(\"R SQUARED VALUE FOR TEST SET WITH ALL PREDICTORS: \", r_sqs[2])"
   ]
  },
  {
   "cell_type": "markdown",
   "metadata": {},
   "source": [
    "\n",
    "\n",
    "#### Report the average $R^2$ across all 10 validation sets for each model and compare the results. Why do you think this is the case?\n",
    "\n",
    "There appears to be a minimal difference between the $R^2$ values when we forward selection vs. backward selection. However, both of these $R^2$ values are higher than the $R^2$ value for the set with all predictors. This difference makes sense because we have improved the model by selecting certain predictors.\n",
    "\n",
    "#### Evaluate each of the 3 models on the provided left out test set by calculating $R^2$. Do the results agree with the cross-validation? Why or why not?\n",
    "\n",
    "These results do "
   ]
  },
  {
   "cell_type": "code",
   "execution_count": null,
   "metadata": {
    "collapsed": true
   },
   "outputs": [],
   "source": []
  }
 ],
 "metadata": {
  "anaconda-cloud": {},
  "kernelspec": {
   "display_name": "Python 3",
   "language": "python",
   "name": "python3"
  },
  "language_info": {
   "codemirror_mode": {
    "name": "ipython",
    "version": 3
   },
   "file_extension": ".py",
   "mimetype": "text/x-python",
   "name": "python",
   "nbconvert_exporter": "python",
   "pygments_lexer": "ipython3",
   "version": "3.6.0"
  }
 },
 "nbformat": 4,
 "nbformat_minor": 1
}
