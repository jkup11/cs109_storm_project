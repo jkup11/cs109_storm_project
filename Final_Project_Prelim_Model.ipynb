{
 "cells": [
  {
   "cell_type": "code",
   "execution_count": 1,
   "metadata": {
    "collapsed": true
   },
   "outputs": [],
   "source": [
    "import pandas as pd\n",
    "import numpy as np\n",
    "import seaborn as sns\n",
    "import matplotlib.pyplot as plt\n",
    "from sklearn.model_selection import train_test_split\n",
    "from sklearn.linear_model import LogisticRegressionCV\n",
    "import sklearn.metrics as metrics\n",
    "from sklearn.preprocessing import PolynomialFeatures\n",
    "from sklearn.discriminant_analysis import LinearDiscriminantAnalysis\n",
    "from sklearn.discriminant_analysis import QuadraticDiscriminantAnalysis\n",
    "from sklearn.linear_model import LinearRegression\n",
    "from sklearn.neighbors import KNeighborsClassifier\n",
    "from sklearn.tree import DecisionTreeClassifier\n",
    "from sklearn.model_selection import cross_val_score\n",
    "from sklearn.metrics import accuracy_score\n",
    "from sklearn.metrics import confusion_matrix\n",
    "from sklearn.preprocessing import Imputer\n",
    "from sklearn.metrics import mean_squared_error\n",
    "from sklearn.metrics import r2_score"
   ]
  },
  {
   "cell_type": "code",
   "execution_count": 2,
   "metadata": {
    "collapsed": false
   },
   "outputs": [
    {
     "name": "stdout",
     "output_type": "stream",
     "text": [
      "(42528, 51)\n"
     ]
    },
    {
     "data": {
      "text/html": [
       "<div>\n",
       "<table border=\"1\" class=\"dataframe\">\n",
       "  <thead>\n",
       "    <tr style=\"text-align: right;\">\n",
       "      <th></th>\n",
       "      <th>BEGIN_YEARMONTH</th>\n",
       "      <th>BEGIN_DAY</th>\n",
       "      <th>BEGIN_TIME</th>\n",
       "      <th>END_YEARMONTH</th>\n",
       "      <th>END_DAY</th>\n",
       "      <th>END_TIME</th>\n",
       "      <th>EPISODE_ID</th>\n",
       "      <th>EVENT_ID</th>\n",
       "      <th>STATE</th>\n",
       "      <th>STATE_FIPS</th>\n",
       "      <th>...</th>\n",
       "      <th>END_RANGE</th>\n",
       "      <th>END_AZIMUTH</th>\n",
       "      <th>END_LOCATION</th>\n",
       "      <th>BEGIN_LAT</th>\n",
       "      <th>BEGIN_LON</th>\n",
       "      <th>END_LAT</th>\n",
       "      <th>END_LON</th>\n",
       "      <th>EPISODE_NARRATIVE</th>\n",
       "      <th>EVENT_NARRATIVE</th>\n",
       "      <th>DATA_SOURCE</th>\n",
       "    </tr>\n",
       "  </thead>\n",
       "  <tbody>\n",
       "    <tr>\n",
       "      <th>0</th>\n",
       "      <td>201704</td>\n",
       "      <td>6</td>\n",
       "      <td>1509</td>\n",
       "      <td>201704</td>\n",
       "      <td>6</td>\n",
       "      <td>1509</td>\n",
       "      <td>113355</td>\n",
       "      <td>678791</td>\n",
       "      <td>NEW JERSEY</td>\n",
       "      <td>34</td>\n",
       "      <td>...</td>\n",
       "      <td>1.0</td>\n",
       "      <td>NW</td>\n",
       "      <td>FRIES MILLS</td>\n",
       "      <td>39.6600</td>\n",
       "      <td>-75.0800</td>\n",
       "      <td>39.6600</td>\n",
       "      <td>-75.0800</td>\n",
       "      <td>Low pressure tracked from the Ohio Valley into...</td>\n",
       "      <td>A couple of trees were taken down due to thund...</td>\n",
       "      <td>CSV</td>\n",
       "    </tr>\n",
       "    <tr>\n",
       "      <th>1</th>\n",
       "      <td>201704</td>\n",
       "      <td>5</td>\n",
       "      <td>1555</td>\n",
       "      <td>201704</td>\n",
       "      <td>5</td>\n",
       "      <td>1555</td>\n",
       "      <td>113397</td>\n",
       "      <td>679188</td>\n",
       "      <td>ALABAMA</td>\n",
       "      <td>1</td>\n",
       "      <td>...</td>\n",
       "      <td>2.0</td>\n",
       "      <td>E</td>\n",
       "      <td>HUNTSVILLE</td>\n",
       "      <td>34.7300</td>\n",
       "      <td>-86.5900</td>\n",
       "      <td>34.7300</td>\n",
       "      <td>-86.5900</td>\n",
       "      <td>Isolated supercells developed during the mid a...</td>\n",
       "      <td>Quarter sized hail was reported in the Huntsvi...</td>\n",
       "      <td>CSV</td>\n",
       "    </tr>\n",
       "    <tr>\n",
       "      <th>2</th>\n",
       "      <td>201704</td>\n",
       "      <td>6</td>\n",
       "      <td>930</td>\n",
       "      <td>201704</td>\n",
       "      <td>6</td>\n",
       "      <td>940</td>\n",
       "      <td>113459</td>\n",
       "      <td>679228</td>\n",
       "      <td>FLORIDA</td>\n",
       "      <td>12</td>\n",
       "      <td>...</td>\n",
       "      <td>1.0</td>\n",
       "      <td>SW</td>\n",
       "      <td>FORT MYERS VILLAS</td>\n",
       "      <td>26.5010</td>\n",
       "      <td>-81.9980</td>\n",
       "      <td>26.5339</td>\n",
       "      <td>-81.8836</td>\n",
       "      <td>A line of thunderstorms developed along a pref...</td>\n",
       "      <td>Emergency management reported and broadcast me...</td>\n",
       "      <td>CSV</td>\n",
       "    </tr>\n",
       "    <tr>\n",
       "      <th>3</th>\n",
       "      <td>201704</td>\n",
       "      <td>5</td>\n",
       "      <td>1749</td>\n",
       "      <td>201704</td>\n",
       "      <td>5</td>\n",
       "      <td>1753</td>\n",
       "      <td>113448</td>\n",
       "      <td>679268</td>\n",
       "      <td>OHIO</td>\n",
       "      <td>39</td>\n",
       "      <td>...</td>\n",
       "      <td>3.0</td>\n",
       "      <td>NE</td>\n",
       "      <td>FAIRBORN</td>\n",
       "      <td>39.8500</td>\n",
       "      <td>-83.9900</td>\n",
       "      <td>39.8500</td>\n",
       "      <td>-83.9900</td>\n",
       "      <td>Showers and thunderstorms developed ahead of a...</td>\n",
       "      <td>An entire tree was uprooted in a yard on Dayto...</td>\n",
       "      <td>CSV</td>\n",
       "    </tr>\n",
       "    <tr>\n",
       "      <th>4</th>\n",
       "      <td>201704</td>\n",
       "      <td>16</td>\n",
       "      <td>1759</td>\n",
       "      <td>201704</td>\n",
       "      <td>16</td>\n",
       "      <td>1900</td>\n",
       "      <td>113697</td>\n",
       "      <td>682042</td>\n",
       "      <td>OHIO</td>\n",
       "      <td>39</td>\n",
       "      <td>...</td>\n",
       "      <td>1.0</td>\n",
       "      <td>NW</td>\n",
       "      <td>SUMMERSIDE</td>\n",
       "      <td>39.1065</td>\n",
       "      <td>-84.2875</td>\n",
       "      <td>39.1061</td>\n",
       "      <td>-84.2874</td>\n",
       "      <td>Thunderstorms with very heavy rain developed a...</td>\n",
       "      <td>Garage of a home was flooded by high water.</td>\n",
       "      <td>CSV</td>\n",
       "    </tr>\n",
       "  </tbody>\n",
       "</table>\n",
       "<p>5 rows × 51 columns</p>\n",
       "</div>"
      ],
      "text/plain": [
       "   BEGIN_YEARMONTH  BEGIN_DAY  BEGIN_TIME  END_YEARMONTH  END_DAY  END_TIME  \\\n",
       "0           201704          6        1509         201704        6      1509   \n",
       "1           201704          5        1555         201704        5      1555   \n",
       "2           201704          6         930         201704        6       940   \n",
       "3           201704          5        1749         201704        5      1753   \n",
       "4           201704         16        1759         201704       16      1900   \n",
       "\n",
       "   EPISODE_ID  EVENT_ID       STATE  STATE_FIPS     ...      END_RANGE  \\\n",
       "0      113355    678791  NEW JERSEY          34     ...            1.0   \n",
       "1      113397    679188     ALABAMA           1     ...            2.0   \n",
       "2      113459    679228     FLORIDA          12     ...            1.0   \n",
       "3      113448    679268        OHIO          39     ...            3.0   \n",
       "4      113697    682042        OHIO          39     ...            1.0   \n",
       "\n",
       "  END_AZIMUTH       END_LOCATION BEGIN_LAT  BEGIN_LON  END_LAT  END_LON  \\\n",
       "0          NW        FRIES MILLS   39.6600   -75.0800  39.6600 -75.0800   \n",
       "1           E         HUNTSVILLE   34.7300   -86.5900  34.7300 -86.5900   \n",
       "2          SW  FORT MYERS VILLAS   26.5010   -81.9980  26.5339 -81.8836   \n",
       "3          NE           FAIRBORN   39.8500   -83.9900  39.8500 -83.9900   \n",
       "4          NW         SUMMERSIDE   39.1065   -84.2875  39.1061 -84.2874   \n",
       "\n",
       "                                   EPISODE_NARRATIVE  \\\n",
       "0  Low pressure tracked from the Ohio Valley into...   \n",
       "1  Isolated supercells developed during the mid a...   \n",
       "2  A line of thunderstorms developed along a pref...   \n",
       "3  Showers and thunderstorms developed ahead of a...   \n",
       "4  Thunderstorms with very heavy rain developed a...   \n",
       "\n",
       "                                     EVENT_NARRATIVE DATA_SOURCE  \n",
       "0  A couple of trees were taken down due to thund...         CSV  \n",
       "1  Quarter sized hail was reported in the Huntsvi...         CSV  \n",
       "2  Emergency management reported and broadcast me...         CSV  \n",
       "3  An entire tree was uprooted in a yard on Dayto...         CSV  \n",
       "4        Garage of a home was flooded by high water.         CSV  \n",
       "\n",
       "[5 rows x 51 columns]"
      ]
     },
     "execution_count": 2,
     "metadata": {},
     "output_type": "execute_result"
    }
   ],
   "source": [
    "# load in details data\n",
    "\n",
    "details = pd.read_csv('Storm_Details_2017.csv')\n",
    "print(details.shape)\n",
    "details.head()"
   ]
  },
  {
   "cell_type": "code",
   "execution_count": 3,
   "metadata": {
    "collapsed": false
   },
   "outputs": [
    {
     "name": "stdout",
     "output_type": "stream",
     "text": [
      "(40621, 11)\n"
     ]
    },
    {
     "data": {
      "text/html": [
       "<div>\n",
       "<table border=\"1\" class=\"dataframe\">\n",
       "  <thead>\n",
       "    <tr style=\"text-align: right;\">\n",
       "      <th></th>\n",
       "      <th>YEARMONTH</th>\n",
       "      <th>EPISODE_ID</th>\n",
       "      <th>EVENT_ID</th>\n",
       "      <th>LOCATION_INDEX</th>\n",
       "      <th>RANGE</th>\n",
       "      <th>AZIMUTH</th>\n",
       "      <th>LOCATION</th>\n",
       "      <th>LATITUDE</th>\n",
       "      <th>LONGITUDE</th>\n",
       "      <th>LAT2</th>\n",
       "      <th>LON2</th>\n",
       "    </tr>\n",
       "  </thead>\n",
       "  <tbody>\n",
       "    <tr>\n",
       "      <th>0</th>\n",
       "      <td>201703</td>\n",
       "      <td>112682</td>\n",
       "      <td>673239</td>\n",
       "      <td>1</td>\n",
       "      <td>0.86</td>\n",
       "      <td>SSW</td>\n",
       "      <td>ELKINS</td>\n",
       "      <td>38.9087</td>\n",
       "      <td>-79.8569</td>\n",
       "      <td>3854522</td>\n",
       "      <td>7951414</td>\n",
       "    </tr>\n",
       "    <tr>\n",
       "      <th>1</th>\n",
       "      <td>201703</td>\n",
       "      <td>112682</td>\n",
       "      <td>673240</td>\n",
       "      <td>1</td>\n",
       "      <td>0.00</td>\n",
       "      <td>N</td>\n",
       "      <td>(EKN)RANDOLPH FLD EL</td>\n",
       "      <td>38.8800</td>\n",
       "      <td>-79.8500</td>\n",
       "      <td>3852800</td>\n",
       "      <td>7951000</td>\n",
       "    </tr>\n",
       "    <tr>\n",
       "      <th>2</th>\n",
       "      <td>201703</td>\n",
       "      <td>112682</td>\n",
       "      <td>673241</td>\n",
       "      <td>1</td>\n",
       "      <td>14.77</td>\n",
       "      <td>WSW</td>\n",
       "      <td>PEELTREE</td>\n",
       "      <td>39.0417</td>\n",
       "      <td>-80.4707</td>\n",
       "      <td>392502</td>\n",
       "      <td>8028242</td>\n",
       "    </tr>\n",
       "    <tr>\n",
       "      <th>3</th>\n",
       "      <td>201703</td>\n",
       "      <td>112682</td>\n",
       "      <td>673699</td>\n",
       "      <td>1</td>\n",
       "      <td>2.00</td>\n",
       "      <td>S</td>\n",
       "      <td>GLENVILLE</td>\n",
       "      <td>38.9011</td>\n",
       "      <td>-80.8300</td>\n",
       "      <td>3854066</td>\n",
       "      <td>8049800</td>\n",
       "    </tr>\n",
       "    <tr>\n",
       "      <th>4</th>\n",
       "      <td>201703</td>\n",
       "      <td>112681</td>\n",
       "      <td>673155</td>\n",
       "      <td>1</td>\n",
       "      <td>0.60</td>\n",
       "      <td>NNW</td>\n",
       "      <td>LANGSVILLE</td>\n",
       "      <td>39.0577</td>\n",
       "      <td>-82.1854</td>\n",
       "      <td>393462</td>\n",
       "      <td>8211124</td>\n",
       "    </tr>\n",
       "  </tbody>\n",
       "</table>\n",
       "</div>"
      ],
      "text/plain": [
       "   YEARMONTH  EPISODE_ID  EVENT_ID  LOCATION_INDEX  RANGE AZIMUTH  \\\n",
       "0     201703      112682    673239               1   0.86     SSW   \n",
       "1     201703      112682    673240               1   0.00       N   \n",
       "2     201703      112682    673241               1  14.77     WSW   \n",
       "3     201703      112682    673699               1   2.00       S   \n",
       "4     201703      112681    673155               1   0.60     NNW   \n",
       "\n",
       "               LOCATION  LATITUDE  LONGITUDE     LAT2     LON2  \n",
       "0                ELKINS   38.9087   -79.8569  3854522  7951414  \n",
       "1  (EKN)RANDOLPH FLD EL   38.8800   -79.8500  3852800  7951000  \n",
       "2              PEELTREE   39.0417   -80.4707   392502  8028242  \n",
       "3             GLENVILLE   38.9011   -80.8300  3854066  8049800  \n",
       "4            LANGSVILLE   39.0577   -82.1854   393462  8211124  "
      ]
     },
     "execution_count": 3,
     "metadata": {},
     "output_type": "execute_result"
    }
   ],
   "source": [
    "# load in locations dat\n",
    "\n",
    "locations = pd.read_csv('Storm_Location_2017.csv')\n",
    "print(locations.shape)\n",
    "locations.head()"
   ]
  },
  {
   "cell_type": "code",
   "execution_count": 4,
   "metadata": {
    "collapsed": false
   },
   "outputs": [
    {
     "name": "stdout",
     "output_type": "stream",
     "text": [
      "(40621, 60)\n"
     ]
    },
    {
     "data": {
      "text/html": [
       "<div>\n",
       "<table border=\"1\" class=\"dataframe\">\n",
       "  <thead>\n",
       "    <tr style=\"text-align: right;\">\n",
       "      <th></th>\n",
       "      <th>BEGIN_YEARMONTH</th>\n",
       "      <th>BEGIN_DAY</th>\n",
       "      <th>BEGIN_TIME</th>\n",
       "      <th>END_YEARMONTH</th>\n",
       "      <th>END_DAY</th>\n",
       "      <th>END_TIME</th>\n",
       "      <th>EPISODE_ID</th>\n",
       "      <th>EVENT_ID</th>\n",
       "      <th>STATE</th>\n",
       "      <th>STATE_FIPS</th>\n",
       "      <th>...</th>\n",
       "      <th>DATA_SOURCE</th>\n",
       "      <th>YEARMONTH</th>\n",
       "      <th>LOCATION_INDEX</th>\n",
       "      <th>RANGE</th>\n",
       "      <th>AZIMUTH</th>\n",
       "      <th>LOCATION</th>\n",
       "      <th>LATITUDE</th>\n",
       "      <th>LONGITUDE</th>\n",
       "      <th>LAT2</th>\n",
       "      <th>LON2</th>\n",
       "    </tr>\n",
       "  </thead>\n",
       "  <tbody>\n",
       "    <tr>\n",
       "      <th>0</th>\n",
       "      <td>201704</td>\n",
       "      <td>6</td>\n",
       "      <td>1509</td>\n",
       "      <td>201704</td>\n",
       "      <td>6</td>\n",
       "      <td>1509</td>\n",
       "      <td>113355</td>\n",
       "      <td>678791</td>\n",
       "      <td>NEW JERSEY</td>\n",
       "      <td>34</td>\n",
       "      <td>...</td>\n",
       "      <td>CSV</td>\n",
       "      <td>201704</td>\n",
       "      <td>1</td>\n",
       "      <td>0.87</td>\n",
       "      <td>NW</td>\n",
       "      <td>FRIES MILLS</td>\n",
       "      <td>39.6600</td>\n",
       "      <td>-75.0800</td>\n",
       "      <td>3939600</td>\n",
       "      <td>754800</td>\n",
       "    </tr>\n",
       "    <tr>\n",
       "      <th>1</th>\n",
       "      <td>201704</td>\n",
       "      <td>5</td>\n",
       "      <td>1555</td>\n",
       "      <td>201704</td>\n",
       "      <td>5</td>\n",
       "      <td>1555</td>\n",
       "      <td>113397</td>\n",
       "      <td>679188</td>\n",
       "      <td>ALABAMA</td>\n",
       "      <td>1</td>\n",
       "      <td>...</td>\n",
       "      <td>CSV</td>\n",
       "      <td>201704</td>\n",
       "      <td>1</td>\n",
       "      <td>1.70</td>\n",
       "      <td>E</td>\n",
       "      <td>HUNTSVILLE</td>\n",
       "      <td>34.7300</td>\n",
       "      <td>-86.5900</td>\n",
       "      <td>3443800</td>\n",
       "      <td>8635400</td>\n",
       "    </tr>\n",
       "    <tr>\n",
       "      <th>2</th>\n",
       "      <td>201704</td>\n",
       "      <td>6</td>\n",
       "      <td>930</td>\n",
       "      <td>201704</td>\n",
       "      <td>6</td>\n",
       "      <td>940</td>\n",
       "      <td>113459</td>\n",
       "      <td>679228</td>\n",
       "      <td>FLORIDA</td>\n",
       "      <td>12</td>\n",
       "      <td>...</td>\n",
       "      <td>CSV</td>\n",
       "      <td>201704</td>\n",
       "      <td>1</td>\n",
       "      <td>0.63</td>\n",
       "      <td>S</td>\n",
       "      <td>PUNTA RASSA</td>\n",
       "      <td>26.5010</td>\n",
       "      <td>-81.9980</td>\n",
       "      <td>2630060</td>\n",
       "      <td>8159880</td>\n",
       "    </tr>\n",
       "    <tr>\n",
       "      <th>3</th>\n",
       "      <td>201704</td>\n",
       "      <td>6</td>\n",
       "      <td>930</td>\n",
       "      <td>201704</td>\n",
       "      <td>6</td>\n",
       "      <td>940</td>\n",
       "      <td>113459</td>\n",
       "      <td>679228</td>\n",
       "      <td>FLORIDA</td>\n",
       "      <td>12</td>\n",
       "      <td>...</td>\n",
       "      <td>CSV</td>\n",
       "      <td>201704</td>\n",
       "      <td>2</td>\n",
       "      <td>1.39</td>\n",
       "      <td>SW</td>\n",
       "      <td>FORT MYERS VILLAS</td>\n",
       "      <td>26.5339</td>\n",
       "      <td>-81.8836</td>\n",
       "      <td>2632034</td>\n",
       "      <td>8153016</td>\n",
       "    </tr>\n",
       "    <tr>\n",
       "      <th>4</th>\n",
       "      <td>201704</td>\n",
       "      <td>5</td>\n",
       "      <td>1749</td>\n",
       "      <td>201704</td>\n",
       "      <td>5</td>\n",
       "      <td>1753</td>\n",
       "      <td>113448</td>\n",
       "      <td>679268</td>\n",
       "      <td>OHIO</td>\n",
       "      <td>39</td>\n",
       "      <td>...</td>\n",
       "      <td>CSV</td>\n",
       "      <td>201704</td>\n",
       "      <td>1</td>\n",
       "      <td>2.61</td>\n",
       "      <td>NE</td>\n",
       "      <td>FAIRBORN</td>\n",
       "      <td>39.8500</td>\n",
       "      <td>-83.9900</td>\n",
       "      <td>3951000</td>\n",
       "      <td>8359400</td>\n",
       "    </tr>\n",
       "  </tbody>\n",
       "</table>\n",
       "<p>5 rows × 60 columns</p>\n",
       "</div>"
      ],
      "text/plain": [
       "   BEGIN_YEARMONTH  BEGIN_DAY  BEGIN_TIME  END_YEARMONTH  END_DAY  END_TIME  \\\n",
       "0           201704          6        1509         201704        6      1509   \n",
       "1           201704          5        1555         201704        5      1555   \n",
       "2           201704          6         930         201704        6       940   \n",
       "3           201704          6         930         201704        6       940   \n",
       "4           201704          5        1749         201704        5      1753   \n",
       "\n",
       "   EPISODE_ID  EVENT_ID       STATE  STATE_FIPS   ...     DATA_SOURCE  \\\n",
       "0      113355    678791  NEW JERSEY          34   ...             CSV   \n",
       "1      113397    679188     ALABAMA           1   ...             CSV   \n",
       "2      113459    679228     FLORIDA          12   ...             CSV   \n",
       "3      113459    679228     FLORIDA          12   ...             CSV   \n",
       "4      113448    679268        OHIO          39   ...             CSV   \n",
       "\n",
       "  YEARMONTH LOCATION_INDEX RANGE  AZIMUTH           LOCATION LATITUDE  \\\n",
       "0    201704              1  0.87       NW        FRIES MILLS  39.6600   \n",
       "1    201704              1  1.70        E         HUNTSVILLE  34.7300   \n",
       "2    201704              1  0.63        S        PUNTA RASSA  26.5010   \n",
       "3    201704              2  1.39       SW  FORT MYERS VILLAS  26.5339   \n",
       "4    201704              1  2.61       NE           FAIRBORN  39.8500   \n",
       "\n",
       "  LONGITUDE     LAT2     LON2  \n",
       "0  -75.0800  3939600   754800  \n",
       "1  -86.5900  3443800  8635400  \n",
       "2  -81.9980  2630060  8159880  \n",
       "3  -81.8836  2632034  8153016  \n",
       "4  -83.9900  3951000  8359400  \n",
       "\n",
       "[5 rows x 60 columns]"
      ]
     },
     "execution_count": 4,
     "metadata": {},
     "output_type": "execute_result"
    }
   ],
   "source": [
    "# merge data\n",
    "\n",
    "data = pd.merge(details, locations, how='inner', on=['EPISODE_ID', 'EVENT_ID'])\n",
    "print(data.shape)\n",
    "data.head()"
   ]
  },
  {
   "cell_type": "code",
   "execution_count": null,
   "metadata": {
    "collapsed": true
   },
   "outputs": [],
   "source": []
  },
  {
   "cell_type": "code",
   "execution_count": 5,
   "metadata": {
    "collapsed": false
   },
   "outputs": [
    {
     "name": "stdout",
     "output_type": "stream",
     "text": [
      "['Flood', 'Lightning', 'Hail', 'Funnel Cloud', 'Debris Flow', 'Dust Devil', 'Waterspout', 'Heavy Rain', 'Flash Flood', 'Tornado', 'Marine Hail', 'Marine Strong Wind', 'Marine Thunderstorm Wind', 'Thunderstorm Wind', 'Marine High Wind']\n",
      "(15091, 60)\n"
     ]
    }
   ],
   "source": [
    "# drop null rows and check if any null values remaining\n",
    "\n",
    "storm_types = list(set(data['EVENT_TYPE'].values))\n",
    "print(storm_types)\n",
    "\n",
    "data.dropna(inplace=True, subset = ['DAMAGE_PROPERTY', 'DAMAGE_CROPS','BEGIN_YEARMONTH', 'BEGIN_DAY','STATE_FIPS', 'YEAR','CZ_FIPS','MAGNITUDE','LOCATION_INDEX', 'RANGE','LATITUDE', 'LONGITUDE'])      \n",
    "print(data.shape)\n",
    "\n",
    "# deleted 7000 rows"
   ]
  },
  {
   "cell_type": "code",
   "execution_count": 6,
   "metadata": {
    "collapsed": false
   },
   "outputs": [
    {
     "name": "stdout",
     "output_type": "stream",
     "text": [
      "['BEGIN_YEARMONTH', 'BEGIN_DAY', 'BEGIN_TIME', 'END_YEARMONTH', 'END_DAY', 'END_TIME', 'EPISODE_ID', 'EVENT_ID', 'STATE', 'STATE_FIPS', 'YEAR', 'MONTH_NAME', 'EVENT_TYPE', 'CZ_TYPE', 'CZ_FIPS', 'CZ_NAME', 'WFO', 'BEGIN_DATE_TIME', 'CZ_TIMEZONE', 'END_DATE_TIME', 'INJURIES_DIRECT', 'INJURIES_INDIRECT', 'DEATHS_DIRECT', 'DEATHS_INDIRECT', 'DAMAGE_PROPERTY', 'DAMAGE_CROPS', 'SOURCE', 'MAGNITUDE', 'MAGNITUDE_TYPE', 'FLOOD_CAUSE', 'CATEGORY', 'TOR_F_SCALE', 'TOR_LENGTH', 'TOR_WIDTH', 'TOR_OTHER_WFO', 'TOR_OTHER_CZ_STATE', 'TOR_OTHER_CZ_FIPS', 'TOR_OTHER_CZ_NAME', 'BEGIN_RANGE', 'BEGIN_AZIMUTH', 'BEGIN_LOCATION', 'END_RANGE', 'END_AZIMUTH', 'END_LOCATION', 'BEGIN_LAT', 'BEGIN_LON', 'END_LAT', 'END_LON', 'EPISODE_NARRATIVE', 'EVENT_NARRATIVE', 'DATA_SOURCE', 'YEARMONTH', 'LOCATION_INDEX', 'RANGE', 'AZIMUTH', 'LOCATION', 'LATITUDE', 'LONGITUDE', 'LAT2', 'LON2']\n",
      "\n",
      "['Hail', 'Marine Hail', 'Marine Strong Wind', 'Marine Thunderstorm Wind', 'Thunderstorm Wind', 'Marine High Wind']\n"
     ]
    }
   ],
   "source": [
    "cols = list(data.columns.values)\n",
    "print(cols)\n",
    "print()\n",
    "data['DAMAGE_PROPERTY'].head()\n",
    "\n",
    "storm_types = list(set(data['EVENT_TYPE'].values))\n",
    "print(storm_types)\n"
   ]
  },
  {
   "cell_type": "code",
   "execution_count": null,
   "metadata": {
    "collapsed": true
   },
   "outputs": [],
   "source": []
  },
  {
   "cell_type": "code",
   "execution_count": 7,
   "metadata": {
    "collapsed": false
   },
   "outputs": [
    {
     "name": "stdout",
     "output_type": "stream",
     "text": [
      "0\n",
      "0\n"
     ]
    }
   ],
   "source": [
    "\n",
    "print(data['DAMAGE_PROPERTY'][data['DAMAGE_PROPERTY'].isnull()].size)\n",
    "\n",
    "damage_property = []\n",
    "for i in data[\"DAMAGE_PROPERTY\"]:\n",
    "    try:\n",
    "        dam = float(i.split('K')[0])*1000.0\n",
    "        damage_property.append(dam)\n",
    "    except:\n",
    "        try:\n",
    "            dam = float(i.split('M')[0])*1000000.0\n",
    "            damage_property.append(dam)\n",
    "        except:\n",
    "            try:\n",
    "                dam = float(i.split('B')[0])*1000000000.0\n",
    "                damage_property.append(dam)\n",
    "            except:\n",
    "                try:\n",
    "                    dam = float(i)*1.0\n",
    "                    damage_property.append(dam)\n",
    "                except:\n",
    "                    print(i)\n",
    "                    \n",
    "damage_crops = []\n",
    "for i in data[\"DAMAGE_CROPS\"]:\n",
    "    try:\n",
    "        dam = float(i.split('K')[0])*1000.0\n",
    "        damage_crops.append(dam)\n",
    "    except:\n",
    "        try:\n",
    "            dam = float(i.split('M')[0])*1000000.0\n",
    "            damage_crops.append(dam)\n",
    "        except:\n",
    "            try:\n",
    "                dam = float(i.split('B')[0])*1000000000.0\n",
    "                damage_crops.append(dam)\n",
    "            except:\n",
    "                try:\n",
    "                    dam = float(i)*1.0\n",
    "                    damage_crops.append(dam)\n",
    "                except:\n",
    "                    print(i)\n",
    "                    \n",
    "data[\"DAMAGE_PROPERTY\"] = damage_property\n",
    "data[\"DAMAGE_CROPS\"] = damage_crops\n",
    "\n",
    "print(data['DAMAGE_PROPERTY'][data['DAMAGE_PROPERTY'].isnull()].size)\n",
    "        \n",
    "data['DAMAGE_TOTAL'] = data['DAMAGE_PROPERTY'] + data['DAMAGE_CROPS']\n"
   ]
  },
  {
   "cell_type": "code",
   "execution_count": 8,
   "metadata": {
    "collapsed": false
   },
   "outputs": [
    {
     "data": {
      "text/plain": [
       "4     1\n",
       "9     0\n",
       "10    1\n",
       "16    1\n",
       "22    0\n",
       "Name: HAS_DAMAGE, dtype: int64"
      ]
     },
     "execution_count": 8,
     "metadata": {},
     "output_type": "execute_result"
    }
   ],
   "source": [
    "has_damage = []\n",
    "for x in data['DAMAGE_TOTAL']:\n",
    "    if x > 0.0:\n",
    "        has_damage.append(1)\n",
    "    else:\n",
    "        has_damage.append(0)\n",
    "\n",
    "data['HAS_DAMAGE'] = has_damage\n",
    "data['HAS_DAMAGE'].head()"
   ]
  },
  {
   "cell_type": "code",
   "execution_count": 9,
   "metadata": {
    "collapsed": true
   },
   "outputs": [],
   "source": [
    "data.to_csv(\"full_data.csv\")"
   ]
  },
  {
   "cell_type": "code",
   "execution_count": 10,
   "metadata": {
    "collapsed": true
   },
   "outputs": [],
   "source": [
    "\n",
    "#train_cols = cols.remove([['BEGIN_YEARMONTH', 'END_YEARMONTH', 'END_DAY', 'END_TIME', 'EPISODE_ID', 'EVENT_ID', 'STATE', 'MONTH_NAME', 'EVENT_TYPE', 'CZ_TYPE', 'CZ_NAME', 'WFO', 'BEGIN_DATE_TIME', 'CZ_TIMEZONE', 'END_DATE_TIME', 'INJURIES_DIRECT', 'INJURIES_INDIRECT', 'DEATHS_DIRECT', 'DEATHS_INDIRECT', 'DAMAGE_PROPERTY', 'DAMAGE_CROPS', 'SOURCE', 'MAGNITUDE_TYPE', 'FLOOD_CAUSE', 'CATEGORY', 'TOR_F_SCALE', 'TOR_LENGTH', 'TOR_WIDTH', 'TOR_OTHER_WFO', 'TOR_OTHER_CZ_STATE', 'TOR_OTHER_CZ_FIPS', 'TOR_OTHER_CZ_NAME', 'BEGIN_AZIMUTH', 'BEGIN_LOCATION', 'END_RANGE', 'END_AZIMUTH', 'END_LOCATION', 'BEGIN_LAT', 'BEGIN_LON', 'END_LAT', 'END_LON', 'EPISODE_NARRATIVE', 'EVENT_NARRATIVE', 'DATA_SOURCE', 'YEARMONTH', 'AZIMUTH', 'LOCATION', 'LAT2', 'LON2']])\n",
    "train_cols = ['BEGIN_DAY', 'YEAR','CZ_FIPS','MAGNITUDE','LOCATION_INDEX', 'RANGE','LATITUDE', 'LONGITUDE', 'STATE', 'EVENT_TYPE', 'CZ_TYPE', 'MONTH_NAME', 'CZ_TIMEZONE']\n",
    "#train_cols = ['EVENT_TYPE']\n",
    "\n",
    "X = data[train_cols]\n",
    "y = data['HAS_DAMAGE']\n",
    "\n",
    "X = pd.get_dummies(X, columns=['STATE','EVENT_TYPE','CZ_TYPE', 'MONTH_NAME', 'CZ_TIMEZONE'], drop_first=True)\n",
    "#X = pd.get_dummies(X, columns=['EVENT_TYPE'], drop_first=True)\n",
    "\n",
    "X_train, X_test, y_train, y_test = train_test_split(X, y, test_size=0.33, random_state=42)"
   ]
  },
  {
   "cell_type": "code",
   "execution_count": 11,
   "metadata": {
    "collapsed": false
   },
   "outputs": [
    {
     "name": "stdout",
     "output_type": "stream",
     "text": [
      "10034\n",
      "5057\n",
      "\n",
      "0.796834817013\n",
      "0.805059225055\n",
      "4054\n",
      "11037\n"
     ]
    }
   ],
   "source": [
    "# fit prelim model\n",
    "\n",
    "print(len(data[data['HAS_DAMAGE'] == 0]))\n",
    "print(len(data[data['HAS_DAMAGE'] == 1]))\n",
    "\n",
    "#print(X_train[X_train.isnull().any(axis=1)].size)\n",
    "#print(y_train[y_train.isnull()].size)\n",
    "#print(X_test[X_test.isnull().any(axis=1)].size)\n",
    "#print(y_test[y_test.isnull()].size)\n",
    "\n",
    "model = LogisticRegressionCV(penalty = 'l2')\n",
    "model.fit(X_train, y_train)\n",
    "train_pred = model.predict(X_train)\n",
    "test_pred = model.predict(X_test)\n",
    "\n",
    "print()\n",
    "print(accuracy_score(train_pred, y_train))\n",
    "print(accuracy_score(test_pred, y_test))\n",
    "\n",
    "print(len(train_pred[train_pred == 1]) + len(test_pred[test_pred == 1]))\n",
    "print(len(train_pred[train_pred == 0]) + len(test_pred[test_pred == 0]))\n"
   ]
  },
  {
   "cell_type": "code",
   "execution_count": 12,
   "metadata": {
    "collapsed": false
   },
   "outputs": [],
   "source": [
    "# EDA, out of storms with damage, where are they occuring\n",
    "\n",
    "damage_data = data[data['HAS_DAMAGE'] == 1]"
   ]
  },
  {
   "cell_type": "code",
   "execution_count": 13,
   "metadata": {
    "collapsed": false
   },
   "outputs": [
    {
     "name": "stdout",
     "output_type": "stream",
     "text": [
      "35\n",
      "35\n"
     ]
    },
    {
     "data": {
      "image/png": "[encoded data removed]",
      "text/plain": [
       "<matplotlib.figure.Figure at 0x10f9759b0>"
      ]
     },
     "metadata": {},
     "output_type": "display_data"
    }
   ],
   "source": [
    "# display average damage per state (keep in mind, smallish sample)\n",
    "\n",
    "sns.set(color_codes=True)\n",
    "\n",
    "states = list(set(damage_data['STATE'].values))\n",
    "\n",
    "states_final = []\n",
    "ave_per_state = []\n",
    "for i in range(len(states)):\n",
    "    state = states[i]\n",
    "    state_damage = damage_data[damage_data['STATE'] == state]['DAMAGE_TOTAL']\n",
    "    if len(state_damage) > 10:\n",
    "        ave = np.mean(state_damage)\n",
    "        states_final.append(state)\n",
    "        ave_per_state.append(ave)\n",
    "\n",
    "print(len(states_final))\n",
    "print(len(ave_per_state))\n",
    "\n",
    "# plot this info\n",
    "fig, ax = plt.subplots(1, 1, figsize=(18, 5))\n",
    "\n",
    "ax.bar(range(35), ave_per_state, align='center', alpha=0.5)\n",
    "ax.set_xlim([-1, 35])\n",
    "ax.set_xticks(range(35))\n",
    "ax.set_xticklabels(states_final, rotation=90)\n",
    "ax.set_xlabel('State/Region')\n",
    "ax.set_ylabel('Average Damage of Storm')\n",
    "ax.set_title('Average Damage of Damaging Storms by State')\n",
    "\n",
    "plt.show()"
   ]
  },
  {
   "cell_type": "code",
   "execution_count": 14,
   "metadata": {
    "collapsed": false
   },
   "outputs": [
    {
     "name": "stdout",
     "output_type": "stream",
     "text": [
      "['Hail', 'Marine Strong Wind', 'Marine Thunderstorm Wind', 'Thunderstorm Wind']\n",
      "4\n",
      "4\n"
     ]
    },
    {
     "data": {
      "image/png": "[encoded data removed]",
      "text/plain": [
       "<matplotlib.figure.Figure at 0x10fa52f60>"
      ]
     },
     "metadata": {},
     "output_type": "display_data"
    }
   ],
   "source": [
    "# display average damage per state (keep in mind, smallish sample)\n",
    "\n",
    "sns.set(color_codes=True)\n",
    "\n",
    "storm_types = list(set(damage_data['EVENT_TYPE'].values))\n",
    "print(storm_types)\n",
    "\n",
    "ave_per_storm = []\n",
    "for i in range(len(storm_types)):\n",
    "    storm = storm_types[i]\n",
    "    storm_damage = damage_data[damage_data['EVENT_TYPE'] == storm]['DAMAGE_TOTAL']\n",
    "    ave = np.mean(storm_damage)\n",
    "    ave_per_storm.append(ave)\n",
    "\n",
    "print(len(storm_types))\n",
    "print(len(ave_per_storm))\n",
    "\n",
    "# plot this info\n",
    "fig, ax = plt.subplots(1, 1, figsize=(18, 5))\n",
    "\n",
    "ax.bar(range(len(storm_types)), ave_per_storm, align='center', alpha=0.5)\n",
    "ax.set_xlim([-1, len(storm_types)])\n",
    "ax.set_xticks(range(len(storm_types)))\n",
    "ax.set_xticklabels(storm_types, rotation=90)\n",
    "ax.set_xlabel('Storm Type')\n",
    "ax.set_ylabel('Average Damage of Storm')\n",
    "ax.set_title('Average Damage of Damaging Storms by Storm Type')\n",
    "\n",
    "plt.show()"
   ]
  },
  {
   "cell_type": "code",
   "execution_count": 15,
   "metadata": {
    "collapsed": false
   },
   "outputs": [
    {
     "name": "stdout",
     "output_type": "stream",
     "text": [
      "['Hail', 'Marine Hail', 'Marine Strong Wind', 'Marine Thunderstorm Wind', 'Thunderstorm Wind', 'Marine High Wind']\n",
      "6\n",
      "6\n"
     ]
    },
    {
     "data": {
      "image/png": "[encoded data removed]",
      "text/plain": [
       "<matplotlib.figure.Figure at 0x110cab9b0>"
      ]
     },
     "metadata": {},
     "output_type": "display_data"
    }
   ],
   "source": [
    "# display average damage per state (keep in mind, smallish sample)\n",
    "\n",
    "sns.set(color_codes=True)\n",
    "\n",
    "storm_types = list(set(data['EVENT_TYPE'].values))\n",
    "print(storm_types)\n",
    "\n",
    "ave_per_storm = []\n",
    "for i in range(len(storm_types)):\n",
    "    storm = storm_types[i]\n",
    "    storm_damage = data[data['EVENT_TYPE'] == storm]['DAMAGE_TOTAL']\n",
    "    ave = np.mean(storm_damage)\n",
    "    ave_per_storm.append(ave)\n",
    "\n",
    "print(len(storm_types))\n",
    "print(len(ave_per_storm))\n",
    "\n",
    "# plot this info\n",
    "fig, ax = plt.subplots(1, 1, figsize=(18, 5))\n",
    "\n",
    "ax.bar(range(len(storm_types)), ave_per_storm, align='center', alpha=0.5)\n",
    "ax.set_xlim([-1, len(storm_types)])\n",
    "ax.set_xticks(range(len(storm_types)))\n",
    "ax.set_xticklabels(storm_types, rotation=90)\n",
    "ax.set_xlabel('Storm Type')\n",
    "ax.set_ylabel('Average Damage of Storm')\n",
    "ax.set_title('Average Damage of Damaging Storms by Storm Type')\n",
    "\n",
    "plt.show()"
   ]
  },
  {
   "cell_type": "code",
   "execution_count": null,
   "metadata": {
    "collapsed": true
   },
   "outputs": [],
   "source": []
  }
 ],
 "metadata": {
  "kernelspec": {
   "display_name": "Python 3",
   "language": "python",
   "name": "python3"
  },
  "language_info": {
   "codemirror_mode": {
    "name": "ipython",
    "version": 3
   },
   "file_extension": ".py",
   "mimetype": "text/x-python",
   "name": "python",
   "nbconvert_exporter": "python",
   "pygments_lexer": "ipython3",
   "version": "3.6.0"
  }
 },
 "nbformat": 4,
 "nbformat_minor": 2
}
