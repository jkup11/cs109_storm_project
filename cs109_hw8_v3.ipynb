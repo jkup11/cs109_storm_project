{
 "cells": [
  {
   "cell_type": "markdown",
   "metadata": {},
   "source": [
    "# CS 109A/STAT 121A/AC 209A/CSCI E-109A: Homework 8\n",
    "# Ensemble methods\n",
    "\n",
    "**Harvard University**<br/>\n",
    "**Fall 2017**<br/>\n",
    "**Instructors**: Pavlos Protopapas, Kevin Rader, Rahul Dave\n"
   ]
  },
  {
   "cell_type": "markdown",
   "metadata": {},
   "source": [
    "Enrollment: CS 109A"
   ]
  },
  {
   "cell_type": "markdown",
   "metadata": {},
   "source": [
    "Import libraries:"
   ]
  },
  {
   "cell_type": "code",
   "execution_count": 2,
   "metadata": {
    "collapsed": false
   },
   "outputs": [],
   "source": [
    "import numpy as np\n",
    "import pandas as pd\n",
    "import matplotlib\n",
    "import matplotlib.pyplot as plt\n",
    "import sklearn.metrics as metrics\n",
    "from sklearn.model_selection import cross_val_score\n",
    "from sklearn import tree\n",
    "from sklearn.tree import DecisionTreeClassifier\n",
    "from sklearn.ensemble import RandomForestClassifier\n",
    "from sklearn.ensemble import AdaBoostClassifier\n",
    "from sklearn.linear_model import LogisticRegressionCV\n",
    "from sklearn import tree\n",
    "from sklearn import ensemble\n",
    "from sklearn.metrics import accuracy_score\n",
    "%matplotlib inline"
   ]
  },
  {
   "cell_type": "markdown",
   "metadata": {},
   "source": [
    "# Higgs Boson Discovery\n",
    "\n",
    "The discovery of the Higgs boson in July 2012 marked a fundamental breakthrough in particle physics. The Higgs boson particle was discovered through experiments at the Large Hadron Collider at CERN, by colliding beams of protons at high energy. A key challenge in analyzing the results of these experiments is to differentiate between a collision that produces Higgs bosons and collisions thats produce only background noise. We shall explore the use of ensemble methods for this classification task.\n",
    "\n",
    "You are provided with data from Monte-Carlo simulations of collisions of particles in a particle collider experiment. The training set is available in `Higgs_train.csv` and the test set is in `Higgs_test.csv`. Each row in these files corresponds to a particle colision described by 28 features (columns 1-28), of which the first 21 features are kinematic properties measured by the particle detectors in the accelerator, and the remaining features are derived by physicists from the the first 21 features. The class label is provided in the last column, with a label of 1 indicating that the collision produces Higgs bosons (signal), and a label of 0 indicating that the collision produces other particles (background). \n",
    "\n",
    "The data set provided to you is a small subset of the HIGGS data set in the UCI machine learning repository. The following paper contains further details about the data set and the predictors used: <a href = \"https://www.nature.com/articles/ncomms5308\">Baldi et al., Nature Communications 5, 2014</a>.\n"
   ]
  },
  {
   "cell_type": "code",
   "execution_count": 3,
   "metadata": {
    "collapsed": false
   },
   "outputs": [],
   "source": [
    "data_train = pd.read_csv('Higgs_train.csv')\n",
    "data_test = pd.read_csv('Higgs_test.csv')"
   ]
  },
  {
   "cell_type": "code",
   "execution_count": 4,
   "metadata": {
    "collapsed": false
   },
   "outputs": [
    {
     "name": "stdout",
     "output_type": "stream",
     "text": [
      "(5000, 29)\n",
      "(5000, 29)\n"
     ]
    }
   ],
   "source": [
    "print(data_train.shape)\n",
    "print(data_test.shape)"
   ]
  },
  {
   "cell_type": "code",
   "execution_count": 5,
   "metadata": {
    "collapsed": true
   },
   "outputs": [],
   "source": [
    "data_train_nda = data_train.as_matrix()\n",
    "\n",
    "X_train = data_train_nda[:, :-1]\n",
    "Y_train = data_train_nda[:, -1]\n",
    "\n",
    "data_test_nda = data_test.as_matrix()\n",
    "\n",
    "X_test = data_test_nda[:, :-1]\n",
    "Y_test = data_test_nda[:, -1]"
   ]
  },
  {
   "cell_type": "markdown",
   "metadata": {},
   "source": [
    "## Question 1 (2pt): Single Decision Tree\n",
    "We start by building a basic model which we will use as our base model for comparison. \n",
    "\n",
    "1. Fit a decision tree model to the training set and report the classification accuracy of the model on the test set. Use 5-fold cross-validation to choose the (maximum) depth for the tree. You will use the max_depth you find here throughout the homework. \n"
   ]
  },
  {
   "cell_type": "code",
   "execution_count": 5,
   "metadata": {
    "collapsed": false
   },
   "outputs": [
    {
     "data": {
      "text/html": [
       "<div>\n",
       "<table border=\"1\" class=\"dataframe\">\n",
       "  <thead>\n",
       "    <tr style=\"text-align: right;\">\n",
       "      <th></th>\n",
       "      <th>Depths</th>\n",
       "      <th>Scores</th>\n",
       "    </tr>\n",
       "  </thead>\n",
       "  <tbody>\n",
       "    <tr>\n",
       "      <th>0</th>\n",
       "      <td>2</td>\n",
       "      <td>0.623207</td>\n",
       "    </tr>\n",
       "    <tr>\n",
       "      <th>1</th>\n",
       "      <td>3</td>\n",
       "      <td>0.620411</td>\n",
       "    </tr>\n",
       "    <tr>\n",
       "      <th>2</th>\n",
       "      <td>4</td>\n",
       "      <td>0.635806</td>\n",
       "    </tr>\n",
       "    <tr>\n",
       "      <th>3</th>\n",
       "      <td>5</td>\n",
       "      <td>0.639612</td>\n",
       "    </tr>\n",
       "    <tr>\n",
       "      <th>4</th>\n",
       "      <td>6</td>\n",
       "      <td>0.626406</td>\n",
       "    </tr>\n",
       "    <tr>\n",
       "      <th>5</th>\n",
       "      <td>7</td>\n",
       "      <td>0.629408</td>\n",
       "    </tr>\n",
       "    <tr>\n",
       "      <th>6</th>\n",
       "      <td>8</td>\n",
       "      <td>0.627602</td>\n",
       "    </tr>\n",
       "    <tr>\n",
       "      <th>7</th>\n",
       "      <td>9</td>\n",
       "      <td>0.625805</td>\n",
       "    </tr>\n",
       "    <tr>\n",
       "      <th>8</th>\n",
       "      <td>10</td>\n",
       "      <td>0.615404</td>\n",
       "    </tr>\n",
       "  </tbody>\n",
       "</table>\n",
       "</div>"
      ],
      "text/plain": [
       "   Depths    Scores\n",
       "0       2  0.623207\n",
       "1       3  0.620411\n",
       "2       4  0.635806\n",
       "3       5  0.639612\n",
       "4       6  0.626406\n",
       "5       7  0.629408\n",
       "6       8  0.627602\n",
       "7       9  0.625805\n",
       "8      10  0.615404"
      ]
     },
     "execution_count": 5,
     "metadata": {},
     "output_type": "execute_result"
    }
   ],
   "source": [
    "from sklearn.model_selection import cross_val_score\n",
    "\n",
    "# create an empty array to hold accuracy scores later\n",
    "scores = []\n",
    "depths = [2,3,4,5,6,7,8,9,10]\n",
    "\n",
    "# for each depth, fit the tree classifier onto the train set\n",
    "# use the cross_val_score method to directly perform cv and get the accuracy scores\n",
    "for depth in depths:\n",
    "    dt = DecisionTreeClassifier(max_depth = depth)\n",
    "    cv_scores = cross_val_score(dt, X_train, Y_train, cv=5)\n",
    "    scores.append(np.mean(cv_scores))\n",
    "\n",
    "# format into data series\n",
    "depths_se = pd.Series(depths)\n",
    "scores_se = pd.Series(scores)\n",
    "\n",
    "# create a dataframe for data presentation\n",
    "col_names = ['Depths', 'Scores']\n",
    "depths_scores_df = pd.DataFrame(columns = col_names)\n",
    "\n",
    "depths_scores_df['Depths'] = depths_se.values\n",
    "depths_scores_df['Scores'] = scores_se.values\n",
    "\n",
    "depths_scores_df"
   ]
  },
  {
   "cell_type": "code",
   "execution_count": 6,
   "metadata": {
    "collapsed": false
   },
   "outputs": [
    {
     "data": {
      "text/plain": [
       "0.64559999999999995"
      ]
     },
     "execution_count": 6,
     "metadata": {},
     "output_type": "execute_result"
    }
   ],
   "source": [
    "best_depth = 5\n",
    "dt = DecisionTreeClassifier(max_depth = best_depth)\n",
    "dt.fit(X_train, Y_train)\n",
    "dt.score(X_test, Y_test)"
   ]
  },
  {
   "cell_type": "markdown",
   "metadata": {},
   "source": [
    "## Question 2 (15pt): Dropout-based Approach\n",
    "We start with a simple method inspired from the idea of 'dropout' in machine learning, where we fit multiple decision trees on random subsets of predictors, and combine them through a majority vote. The procedure is described below.\n",
    "\n",
    "- For each predictor in the training sample, set the predictor values to 0 with probability $p$  (i.e. drop the predictor by setting it to 0). Repeat this for $B$ trials to create $B$ separate training sets.\n",
    "\n",
    "\n",
    "- Fit decision tree models $\\hat{h}^1(x), \\ldots, \\hat{h}^B(x) \\in \\{0,1\\}$ to the $B$ training sets. \n",
    "\n",
    "- Combine the decision tree models into a single classifier by taking a majority vote:\n",
    "$$\n",
    "\\hat{H}_{maj}(x) \\,=\\, majority\\Big(\\hat{h}^1(x), \\ldots, \\hat{h}^B(x)\\Big).\n",
    "$$\n",
    "\n",
    "\n",
    "We shall refer to the combined classifier as an ** *ensemble classifier* **. Implement the described dropout approach, and answer the following questions:\n",
    "1. Apply the dropout procedure with $p = 0.5$ for different number of trees (say $2, 4, 8, 16, \\ldots, 256$), and evaluate the training and test accuracy of the combined classifier. Does an increase in the number of trees improve the training and test performance? Explain your observations in terms of the bias-variance trade-off for the classifier.\n",
    "- Fix the number of trees to 64 and apply the dropout procedure with different dropout rates $p = 0.1, 0.3, 0.5, 0.7, 0.9$. Based on your results, explain how the dropout rate influences the bias and variance of the combined classifier.\n",
    "- Apply 5-fold cross-validation to choose the optimal combination of the dropout rate and number of trees. How does the test performance of an ensemble of trees fitted with the optimal dropout rate and number of trees compare with the single decision tree model in Question 1?\n",
    "[hint: Training with large number of trees can take long time. You may need to restrict the max number of trees.]"
   ]
  },
  {
   "cell_type": "markdown",
   "metadata": {},
   "source": [
    "### Part 2.1"
   ]
  },
  {
   "cell_type": "code",
   "execution_count": 7,
   "metadata": {
    "collapsed": false
   },
   "outputs": [],
   "source": [
    "\n",
    "# re-handle the data for safety, split to train and test\n",
    "\n",
    "data_train = pd.read_csv('Higgs_train.csv')\n",
    "data_test = pd.read_csv('Higgs_test.csv')\n",
    "\n",
    "data_train_nda = data_train.as_matrix()\n",
    "\n",
    "X_train = data_train_nda[:, :-1]\n",
    "Y_train = data_train_nda[:, -1]\n",
    "\n",
    "data_test_nda = data_test.as_matrix()\n",
    "\n",
    "X_test = data_test_nda[:, :-1]\n",
    "Y_test = data_test_nda[:, -1]\n",
    "    "
   ]
  },
  {
   "cell_type": "code",
   "execution_count": 8,
   "metadata": {
    "collapsed": false
   },
   "outputs": [],
   "source": [
    "import copy\n",
    "import random\n",
    "\n",
    "# best depth found in q1\n",
    "depth = 5\n",
    "\n",
    "# function to ensemble predict on our data \n",
    "def dropout_procedure(num_trees, dropout_rate, X, Y, X_test, Y_test):\n",
    "        \n",
    "    # num_trees is b- the number of models we build\n",
    "    train_predictions = np.zeros((num_trees, len(X)))\n",
    "    test_predictions = np.zeros((num_trees, len(X_test)))\n",
    "    final_train_prediction = []\n",
    "    final_test_prediction = []\n",
    "    \n",
    "    # loop through B times\n",
    "    for i in range(num_trees):        \n",
    "        model_X = copy.deepcopy(X)\n",
    "        model_X_test = copy.deepcopy(X_test)\n",
    "        for j in range(len(model_X[0])):\n",
    "            rand = random.uniform(0,1)\n",
    "            \n",
    "            # drop with the specified probability\n",
    "            if rand < dropout_rate:\n",
    "                # dropout column- set to 0 \n",
    "                for k in range(len(model_X)):\n",
    "                    model_X[k][j] = 0\n",
    "                \n",
    "        # fit classifier\n",
    "        dt = DecisionTreeClassifier(max_depth = depth)\n",
    "        dt.fit(model_X, Y)\n",
    "        \n",
    "        train_predict = dt.predict(model_X)\n",
    "        test_predict = dt.predict(model_X_test)\n",
    "        \n",
    "        # put tog\n",
    "        train_predictions[i,:] = train_predict\n",
    "        test_predictions[i,:] = test_predict\n",
    "        \n",
    "    \n",
    "    for i in range(len(model_X)):   \n",
    "        # add up ones\n",
    "        sum_one = 0\n",
    "        for j in range(num_trees):\n",
    "            sum_one = sum_one + train_predictions[j][i]\n",
    "        \n",
    "        # if more than .5 classified as 1, classify as 1, otherwise 0\n",
    "        if (1.0*sum_one/num_trees) > 0.5:\n",
    "            final_train_prediction.append(1.0)\n",
    "        else:\n",
    "            final_train_prediction.append(0.0)\n",
    "            \n",
    "    for i in range(len(model_X_test)):   \n",
    "        # add up ones\n",
    "        sum_one = 0\n",
    "        for j in range(num_trees):\n",
    "            sum_one = sum_one + test_predictions[j][i]\n",
    "        \n",
    "        # if more than .5 classified as 1, classify as 1, otherwise 0\n",
    "        if (1.0*sum_one/num_trees) > 0.5:\n",
    "            final_test_prediction.append(1.0)\n",
    "        else:\n",
    "            final_test_prediction.append(0.0)\n",
    "            \n",
    "    train_acc = accuracy_score(Y, final_train_prediction)\n",
    "    test_acc = accuracy_score(Y_test, final_test_prediction)\n",
    "        \n",
    "    return (train_acc, test_acc)\n",
    "    "
   ]
  },
  {
   "cell_type": "code",
   "execution_count": 9,
   "metadata": {
    "collapsed": false
   },
   "outputs": [
    {
     "name": "stdout",
     "output_type": "stream",
     "text": [
      "For 2 trees and 0.5 dropout rate, train accuracy is 0.6924 and test accuracy is 0.653\n",
      "For 4 trees and 0.5 dropout rate, train accuracy is 0.6826 and test accuracy is 0.6538\n",
      "For 8 trees and 0.5 dropout rate, train accuracy is 0.7178 and test accuracy is 0.675\n",
      "For 16 trees and 0.5 dropout rate, train accuracy is 0.7112 and test accuracy is 0.6718\n",
      "For 32 trees and 0.5 dropout rate, train accuracy is 0.7292 and test accuracy is 0.6754\n",
      "For 64 trees and 0.5 dropout rate, train accuracy is 0.7356 and test accuracy is 0.6874\n",
      "For 128 trees and 0.5 dropout rate, train accuracy is 0.7338 and test accuracy is 0.6828\n",
      "For 256 trees and 0.5 dropout rate, train accuracy is 0.7398 and test accuracy is 0.6866\n"
     ]
    }
   ],
   "source": [
    "# part 1, for many different values of B\n",
    "for num_trees in [2,4,8,16,32,64,128,256]:\n",
    "    \n",
    "    train_acc, test_acc = dropout_procedure(num_trees, 0.5, X_train, Y_train, X_test, Y_test)\n",
    "    \n",
    "    print(\"For {} trees and 0.5 dropout rate, train accuracy is {} and test accuracy is {}\".format(num_trees, train_acc, test_acc))    \n",
    "    \n",
    "    "
   ]
  },
  {
   "cell_type": "markdown",
   "metadata": {},
   "source": [
    "### Part 2.2"
   ]
  },
  {
   "cell_type": "code",
   "execution_count": 10,
   "metadata": {
    "collapsed": false
   },
   "outputs": [
    {
     "name": "stdout",
     "output_type": "stream",
     "text": [
      "For 64 trees and 0.1 dropout rate, train accuracy is 0.682 and test accuracy is 0.6456\n",
      "For 64 trees and 0.3 dropout rate, train accuracy is 0.7094 and test accuracy is 0.6674\n",
      "For 64 trees and 0.5 dropout rate, train accuracy is 0.7326 and test accuracy is 0.6838\n",
      "For 64 trees and 0.7 dropout rate, train accuracy is 0.7286 and test accuracy is 0.6788\n",
      "For 64 trees and 0.9 dropout rate, train accuracy is 0.6474 and test accuracy is 0.5976\n"
     ]
    }
   ],
   "source": [
    "# part 2, for many different values of dropout_rate\n",
    "num_trees = 64\n",
    "for dropout_rate in [0.1, 0.3, 0.5, 0.7, 0.9]:\n",
    "    \n",
    "    train_acc, test_acc = dropout_procedure(num_trees, dropout_rate, X_train, Y_train, X_test, Y_test)\n",
    "    \n",
    "    print(\"For 64 trees and {} dropout rate, train accuracy is {} and test accuracy is {}\".format(dropout_rate, train_acc, test_acc))   \n",
    "       \n",
    "    \n",
    "    \n",
    "    "
   ]
  },
  {
   "cell_type": "markdown",
   "metadata": {},
   "source": [
    "### Part 2.3"
   ]
  },
  {
   "cell_type": "code",
   "execution_count": 11,
   "metadata": {
    "collapsed": false
   },
   "outputs": [
    {
     "name": "stderr",
     "output_type": "stream",
     "text": [
      "/Users/joshkuppersmith/anaconda/lib/python3.6/site-packages/sklearn/cross_validation.py:44: DeprecationWarning: This module was deprecated in version 0.18 in favor of the model_selection module into which all the refactored classes and functions are moved. Also note that the interface of the new CV iterators are different from that of this module. This module will be removed in 0.20.\n",
      "  \"This module will be removed in 0.20.\", DeprecationWarning)\n"
     ]
    },
    {
     "name": "stdout",
     "output_type": "stream",
     "text": [
      "For 2 trees and 0.1 dropout rate, average validation accuracy is 0.6441200000000001\n",
      "For 2 trees and 0.3 dropout rate, average validation accuracy is 0.632\n",
      "For 2 trees and 0.5 dropout rate, average validation accuracy is 0.61808\n",
      "For 2 trees and 0.7 dropout rate, average validation accuracy is 0.57516\n",
      "For 2 trees and 0.9 dropout rate, average validation accuracy is 0.54784\n",
      "For 4 trees and 0.1 dropout rate, average validation accuracy is 0.6548\n",
      "For 4 trees and 0.3 dropout rate, average validation accuracy is 0.66008\n",
      "For 4 trees and 0.5 dropout rate, average validation accuracy is 0.6439199999999999\n",
      "For 4 trees and 0.7 dropout rate, average validation accuracy is 0.6230800000000001\n",
      "For 4 trees and 0.9 dropout rate, average validation accuracy is 0.5504800000000001\n",
      "For 8 trees and 0.1 dropout rate, average validation accuracy is 0.64756\n",
      "For 8 trees and 0.3 dropout rate, average validation accuracy is 0.65892\n",
      "For 8 trees and 0.5 dropout rate, average validation accuracy is 0.66196\n",
      "For 8 trees and 0.7 dropout rate, average validation accuracy is 0.63992\n",
      "For 8 trees and 0.9 dropout rate, average validation accuracy is 0.5965199999999999\n",
      "For 16 trees and 0.1 dropout rate, average validation accuracy is 0.6485200000000001\n",
      "For 16 trees and 0.3 dropout rate, average validation accuracy is 0.6605999999999999\n",
      "For 16 trees and 0.5 dropout rate, average validation accuracy is 0.6696799999999999\n",
      "For 16 trees and 0.7 dropout rate, average validation accuracy is 0.65904\n",
      "For 16 trees and 0.9 dropout rate, average validation accuracy is 0.56368\n",
      "For 24 trees and 0.1 dropout rate, average validation accuracy is 0.64704\n",
      "For 24 trees and 0.3 dropout rate, average validation accuracy is 0.66636\n",
      "For 24 trees and 0.5 dropout rate, average validation accuracy is 0.67764\n",
      "For 24 trees and 0.7 dropout rate, average validation accuracy is 0.6632\n",
      "For 24 trees and 0.9 dropout rate, average validation accuracy is 0.5607599999999999\n",
      "For 32 trees and 0.1 dropout rate, average validation accuracy is 0.64764\n",
      "For 32 trees and 0.3 dropout rate, average validation accuracy is 0.6660000000000001\n",
      "For 32 trees and 0.5 dropout rate, average validation accuracy is 0.6768400000000001\n",
      "For 32 trees and 0.7 dropout rate, average validation accuracy is 0.66652\n",
      "For 32 trees and 0.9 dropout rate, average validation accuracy is 0.5617599999999999\n",
      "For 48 trees and 0.1 dropout rate, average validation accuracy is 0.6470400000000001\n",
      "For 48 trees and 0.3 dropout rate, average validation accuracy is 0.665\n",
      "For 48 trees and 0.5 dropout rate, average validation accuracy is 0.67556\n",
      "For 48 trees and 0.7 dropout rate, average validation accuracy is 0.66452\n",
      "For 48 trees and 0.9 dropout rate, average validation accuracy is 0.5652000000000001\n",
      "For 64 trees and 0.1 dropout rate, average validation accuracy is 0.64716\n",
      "For 64 trees and 0.3 dropout rate, average validation accuracy is 0.66684\n",
      "For 64 trees and 0.5 dropout rate, average validation accuracy is 0.67608\n",
      "For 64 trees and 0.7 dropout rate, average validation accuracy is 0.66384\n",
      "For 64 trees and 0.9 dropout rate, average validation accuracy is 0.56416\n"
     ]
    }
   ],
   "source": [
    "from sklearn.cross_validation import KFold\n",
    "\n",
    "# 5 fold CV to select best combo of trees and dropout rate\n",
    "# in part 2.1, we hit our top accuacy at 64 trees, so we should cap it at 64\n",
    "\n",
    "data_train = pd.read_csv('Higgs_train.csv')\n",
    "data_test = pd.read_csv('Higgs_test.csv')\n",
    "\n",
    "tree_options = [2,4,8,16,24,32,48,64]\n",
    "dropout_rates = [0.1,0.3,0.5,0.7,0.9]\n",
    "\n",
    "for num_trees in tree_options:\n",
    "    for dropout_rate in dropout_rates:\n",
    "        \n",
    "        n = len(X_train)\n",
    "        test_acc_total = 0\n",
    "        for f_train, f_test in KFold(n, n_folds=5, shuffle=False, random_state=11):\n",
    "            \n",
    "            train_data = data_train.iloc[f_train]\n",
    "            valid_data = data_train.iloc[f_test]\n",
    "            \n",
    "            data_train_nda = train_data.as_matrix()\n",
    "            data_valid_nda = valid_data.as_matrix()\n",
    "\n",
    "            train_x = data_train_nda[:, :-1]\n",
    "            train_y = data_train_nda[:, -1]\n",
    "            valid_x = data_test_nda[:, :-1]\n",
    "            valid_y = data_test_nda[:, -1]\n",
    "\n",
    "            train_acc, valid_acc = dropout_procedure(num_trees, dropout_rate, train_x, train_y, valid_x, valid_y)  \n",
    "            test_acc_total += valid_acc\n",
    "        test_acc_final = test_acc_total / 5.0\n",
    "        \n",
    "        print(\"For {} trees and {} dropout rate, average validation accuracy is {}\".format(num_trees, dropout_rate, test_acc_final))   \n",
    "            \n",
    "    \n",
    "    \n"
   ]
  },
  {
   "cell_type": "code",
   "execution_count": 12,
   "metadata": {
    "collapsed": false
   },
   "outputs": [
    {
     "name": "stdout",
     "output_type": "stream",
     "text": [
      "For optimal trees: 48 and optimal dropout rate: 0.5, train accuracy is 0.7348 and test accuracy is 0.682\n"
     ]
    }
   ],
   "source": [
    "# in the previous problem, the highest validation accuracy is for 48 trees and 0.5 dropout rate\n",
    "\n",
    "# re-handle the data for safety, split to train and test\n",
    "\n",
    "data_train = pd.read_csv('Higgs_train.csv')\n",
    "data_test = pd.read_csv('Higgs_test.csv')\n",
    "\n",
    "data_train_nda = data_train.as_matrix()\n",
    "\n",
    "X_train = data_train_nda[:, :-1]\n",
    "Y_train = data_train_nda[:, -1]\n",
    "\n",
    "data_test_nda = data_test.as_matrix()\n",
    "\n",
    "X_test = data_test_nda[:, :-1]\n",
    "Y_test = data_test_nda[:, -1]\n",
    "\n",
    "optimal_trees = 48\n",
    "optimal_dropout_rate = 0.5\n",
    "\n",
    "train_acc, test_acc = dropout_procedure(optimal_trees, optimal_dropout_rate, X_train, Y_train, X_test, Y_test)\n",
    "print(\"For optimal trees: {} and optimal dropout rate: {}, train accuracy is {} and test accuracy is {}\".format(optimal_trees, optimal_dropout_rate, train_acc, test_acc))    \n",
    "\n"
   ]
  },
  {
   "cell_type": "markdown",
   "metadata": {},
   "source": [
    "## Analysis: \n",
    "\n",
    "#### Does an increase in the number of trees improve the training and test performance? Explain your observations in terms of the bias-variance trade-off for the classifier.\n",
    "\n",
    "Results: \n",
    "\n",
    "For 2 trees and 0.5 dropout rate, train accuracy is 0.6592 and test accuracy is 0.6256\n",
    "\n",
    "For 4 trees and 0.5 dropout rate, train accuracy is 0.6952 and test accuracy is 0.6424\n",
    "\n",
    "For 8 trees and 0.5 dropout rate, train accuracy is 0.7128 and test accuracy is 0.663\n",
    "\n",
    "For 16 trees and 0.5 dropout rate, train accuracy is 0.7326 and test accuracy is 0.6846\n",
    "\n",
    "For 32 trees and 0.5 dropout rate, train accuracy is 0.7354 and test accuracy is 0.6782\n",
    "\n",
    "For 64 trees and 0.5 dropout rate, train accuracy is 0.7382 and test accuracy is 0.6872\n",
    "\n",
    "For 128 trees and 0.5 dropout rate, train accuracy is 0.7328 and test accuracy is 0.688\n",
    "\n",
    "For 256 trees and 0.5 dropout rate, train accuracy is 0.7366 and test accuracy is 0.6868\n",
    "\n",
    "Here, for all num_trees from 16 to 256, we get essentailly the same test accuracy but 16 trees by far runs the fastest, so I would say anywhere from 16-64 trees is a good number to avoid a crazy runtime, but still get great test results, which are all considerably higher than the 0.639 that we saw in the original one tree model. Based on this procedure, it seems that more trees would lead to a lower bias and a higher variance in our predictions. Lower bias because using so many different trees will average each other's bias out and \"center us on the bullseye\" on average. However, using so many trees likely leads to higher variance because our predictions will vary greatly across the tree, and majority rule will greatly spread out any point that is near 50-50 for votes. Overall, we see these two affects approximately cancel each other out past ~16 trees, and our train and test accuracy remain about the same. \n",
    "\n",
    "\n",
    "#### Based on your results, explain how the dropout rate influences the bias and variance of the combined classifier.\n",
    "\n",
    "Results:\n",
    "\n",
    "For 64 trees and 0.1 dropout rate, train accuracy is 0.6818 and test accuracy is 0.6456\n",
    "\n",
    "For 64 trees and 0.3 dropout rate, train accuracy is 0.7034 and test accuracy is 0.663\n",
    "\n",
    "For 64 trees and 0.5 dropout rate, train accuracy is 0.7262 and test accuracy is 0.6828\n",
    "\n",
    "For 64 trees and 0.7 dropout rate, train accuracy is 0.7338 and test accuracy is 0.6596\n",
    "\n",
    "For 64 trees and 0.9 dropout rate, train accuracy is 0.6026 and test accuracy is 0.5734\n",
    "\n",
    "So rate of 0.5 is clearly the best here in terms of test performance, and both train and test accuracy decrease sharply when dropout rate increases or decreases away from 0.5. Low dropout rate has relatively higher performance, especially for the training data so I would say that low dropout rate leads to high bias, since then our predictions simply match the trees we were using before, without adding the benefit of randomness that we see with this model. Essentially, low dropout rate just fails to solve the issue that these trees are all slightly biased. We see this high bias, because for 0.1 rate, train and test accuracy are relatively high and similar, just not as good as our optimal model. High dropout rate leads to very high variance because when we only use a few predictors in each tree, we spread out our predictions and they will not be tightly packed together because we are predicting on only a very small amount of data. \n",
    "\n",
    "#### How does the test performance of an ensemble of trees fitted with the optimal dropout rate and number of trees compare with the single decision tree model in Question 1?\n",
    "\n",
    "Results printed above!\n",
    "\n",
    "With our optimal model (48 trees, 0.5 dropout rate), we get a test accuracy of 0.682, which is considerably better than the best model we saw in part 1, which had accuracy 0.639.\n"
   ]
  },
  {
   "cell_type": "markdown",
   "metadata": {},
   "source": [
    "## Question 3 (15pt): Random Forests\n",
    "\n",
    "We now move to a more sophisticated ensemble technique, namely random forest:\n",
    "1. How does a random forest approach differ from the dropout procedure described in Question 2? \n",
    " \n",
    "- Fit random forest models to the training set for different number of trees (say $2, 4, 8, 16, \\ldots, 256$), and evaluate the training and test accuracies of the models. You may set the number of predictors for each tree in the random forest model to $\\sqrt{p}$, where $p$ is the total number of predictors. \n",
    "\n",
    "- Based on your results, do you find that a larger number of trees necessarily improves the test accuracy of a random forest model? Explain how the number of trees effects the training and test accuracy of a random forest classifier, and how this relates to the bias-variance trade-off for the classifier. \n",
    "  \n",
    "- Fixing the number of trees to a reasonable value, apply 5-fold cross-validation to choose the optimal value for the  number of predictors. How does the test performance of random forest model fitted with the optimal number of trees compare with the dropout approach in Question 2?  \n",
    "\n",
    "\n"
   ]
  },
  {
   "cell_type": "markdown",
   "metadata": {},
   "source": [
    "### Part 3.1\n",
    "\n",
    "A random forest approach..."
   ]
  },
  {
   "cell_type": "markdown",
   "metadata": {},
   "source": [
    "### Part 3.2"
   ]
  },
  {
   "cell_type": "code",
   "execution_count": 13,
   "metadata": {
    "collapsed": false
   },
   "outputs": [
    {
     "name": "stderr",
     "output_type": "stream",
     "text": [
      "/Users/joshkuppersmith/anaconda/lib/python3.6/site-packages/sklearn/ensemble/forest.py:439: UserWarning: Some inputs do not have OOB scores. This probably means too few trees were used to compute any reliable oob estimates.\n",
      "  warn(\"Some inputs do not have OOB scores. \"\n",
      "/Users/joshkuppersmith/anaconda/lib/python3.6/site-packages/sklearn/ensemble/forest.py:444: RuntimeWarning: invalid value encountered in true_divide\n",
      "  predictions[k].sum(axis=1)[:, np.newaxis])\n",
      "/Users/joshkuppersmith/anaconda/lib/python3.6/site-packages/sklearn/ensemble/forest.py:439: UserWarning: Some inputs do not have OOB scores. This probably means too few trees were used to compute any reliable oob estimates.\n",
      "  warn(\"Some inputs do not have OOB scores. \"\n",
      "/Users/joshkuppersmith/anaconda/lib/python3.6/site-packages/sklearn/ensemble/forest.py:444: RuntimeWarning: invalid value encountered in true_divide\n",
      "  predictions[k].sum(axis=1)[:, np.newaxis])\n",
      "/Users/joshkuppersmith/anaconda/lib/python3.6/site-packages/sklearn/ensemble/forest.py:439: UserWarning: Some inputs do not have OOB scores. This probably means too few trees were used to compute any reliable oob estimates.\n",
      "  warn(\"Some inputs do not have OOB scores. \"\n",
      "/Users/joshkuppersmith/anaconda/lib/python3.6/site-packages/sklearn/ensemble/forest.py:444: RuntimeWarning: invalid value encountered in true_divide\n",
      "  predictions[k].sum(axis=1)[:, np.newaxis])\n",
      "/Users/joshkuppersmith/anaconda/lib/python3.6/site-packages/sklearn/ensemble/forest.py:439: UserWarning: Some inputs do not have OOB scores. This probably means too few trees were used to compute any reliable oob estimates.\n",
      "  warn(\"Some inputs do not have OOB scores. \"\n",
      "/Users/joshkuppersmith/anaconda/lib/python3.6/site-packages/sklearn/ensemble/forest.py:444: RuntimeWarning: invalid value encountered in true_divide\n",
      "  predictions[k].sum(axis=1)[:, np.newaxis])\n"
     ]
    }
   ],
   "source": [
    "# bag_score = []\n",
    "# bag_oob = []\n",
    "rf_tr_score = []\n",
    "rf_te_score = []\n",
    "rf_oob = []\n",
    "for i in range(1,9):\n",
    "#     bag = ensemble.BaggingClassifier(n_estimators=(2**i), oob_score=True)\n",
    "#     bag.fit(X_train, Y_train)\n",
    "#     bag_score.append(bag.score(X_test, Y_test))\n",
    "#     bag_oob.append(bag.oob_score_)\n",
    "    \n",
    "    # round number of predictors, sqrt(28), up to 6\n",
    "    rf = ensemble.RandomForestClassifier(n_estimators=(2**i), \n",
    "                                         max_features = int(np.ceil(np.sqrt(X_train.shape[1]))), \n",
    "                                         oob_score=True)\n",
    "    rf.fit(X_train, Y_train)\n",
    "    rf_tr_score.append(rf.score(X_train, Y_train))\n",
    "    rf_te_score.append(rf.score(X_test, Y_test))\n",
    "    rf_oob.append(rf.oob_score_)"
   ]
  },
  {
   "cell_type": "code",
   "execution_count": 14,
   "metadata": {
    "collapsed": false
   },
   "outputs": [
    {
     "data": {
      "text/html": [
       "<div>\n",
       "<table border=\"1\" class=\"dataframe\">\n",
       "  <thead>\n",
       "    <tr style=\"text-align: right;\">\n",
       "      <th></th>\n",
       "      <th># of Trees</th>\n",
       "      <th>Train Accuracies</th>\n",
       "      <th>Test Accuracies</th>\n",
       "    </tr>\n",
       "  </thead>\n",
       "  <tbody>\n",
       "    <tr>\n",
       "      <th>0</th>\n",
       "      <td>2</td>\n",
       "      <td>0.8458</td>\n",
       "      <td>0.5716</td>\n",
       "    </tr>\n",
       "    <tr>\n",
       "      <th>1</th>\n",
       "      <td>4</td>\n",
       "      <td>0.9284</td>\n",
       "      <td>0.6078</td>\n",
       "    </tr>\n",
       "    <tr>\n",
       "      <th>2</th>\n",
       "      <td>8</td>\n",
       "      <td>0.9804</td>\n",
       "      <td>0.6304</td>\n",
       "    </tr>\n",
       "    <tr>\n",
       "      <th>3</th>\n",
       "      <td>16</td>\n",
       "      <td>0.9948</td>\n",
       "      <td>0.6656</td>\n",
       "    </tr>\n",
       "    <tr>\n",
       "      <th>4</th>\n",
       "      <td>32</td>\n",
       "      <td>1.0000</td>\n",
       "      <td>0.6768</td>\n",
       "    </tr>\n",
       "    <tr>\n",
       "      <th>5</th>\n",
       "      <td>64</td>\n",
       "      <td>1.0000</td>\n",
       "      <td>0.6850</td>\n",
       "    </tr>\n",
       "    <tr>\n",
       "      <th>6</th>\n",
       "      <td>128</td>\n",
       "      <td>1.0000</td>\n",
       "      <td>0.6962</td>\n",
       "    </tr>\n",
       "    <tr>\n",
       "      <th>7</th>\n",
       "      <td>256</td>\n",
       "      <td>1.0000</td>\n",
       "      <td>0.7000</td>\n",
       "    </tr>\n",
       "  </tbody>\n",
       "</table>\n",
       "</div>"
      ],
      "text/plain": [
       "   # of Trees  Train Accuracies  Test Accuracies\n",
       "0           2            0.8458           0.5716\n",
       "1           4            0.9284           0.6078\n",
       "2           8            0.9804           0.6304\n",
       "3          16            0.9948           0.6656\n",
       "4          32            1.0000           0.6768\n",
       "5          64            1.0000           0.6850\n",
       "6         128            1.0000           0.6962\n",
       "7         256            1.0000           0.7000"
      ]
     },
     "execution_count": 14,
     "metadata": {},
     "output_type": "execute_result"
    }
   ],
   "source": [
    "# format into data series\n",
    "number_trees_se = pd.Series([2,4,8,16,32,64,128,256])\n",
    "train_scores_se = pd.Series(rf_tr_score)\n",
    "test_scores_se = pd.Series(rf_te_score)\n",
    "# oob_depths_se = pd.Series(rf_oob)\n",
    "\n",
    "\n",
    "# create a dataframe for data presentation\n",
    "col_names = ['# of Trees', 'Train Accuracies', 'Test Accuracies']\n",
    "rf_scores_df = pd.DataFrame(columns = col_names)\n",
    "\n",
    "rf_scores_df['# of Trees'] = number_trees_se.values\n",
    "rf_scores_df['Train Accuracies'] = train_scores_se.values\n",
    "rf_scores_df['Test Accuracies'] = test_scores_se.values\n",
    "\n",
    "rf_scores_df"
   ]
  },
  {
   "cell_type": "markdown",
   "metadata": {},
   "source": [
    "### Part 3.3\n",
    "\n",
    "Test accuracy does improve. Less bias (more accurate) but higher variation."
   ]
  },
  {
   "cell_type": "markdown",
   "metadata": {},
   "source": [
    "### Part 3.4"
   ]
  },
  {
   "cell_type": "code",
   "execution_count": 15,
   "metadata": {
    "collapsed": false
   },
   "outputs": [
    {
     "data": {
      "text/plain": [
       "29"
      ]
     },
     "execution_count": 15,
     "metadata": {},
     "output_type": "execute_result"
    }
   ],
   "source": [
    "X_train.shape[1]+1"
   ]
  },
  {
   "cell_type": "code",
   "execution_count": 16,
   "metadata": {
    "collapsed": false
   },
   "outputs": [
    {
     "name": "stdout",
     "output_type": "stream",
     "text": [
      "1\n",
      "2\n",
      "3\n",
      "4\n",
      "5\n",
      "6\n",
      "7\n",
      "8\n",
      "9\n",
      "10\n",
      "11\n",
      "12\n",
      "13\n",
      "14\n",
      "15\n",
      "16\n",
      "17\n",
      "18\n",
      "19\n",
      "20\n",
      "21\n",
      "22\n",
      "23\n",
      "24\n",
      "25\n",
      "26\n",
      "27\n",
      "28\n"
     ]
    }
   ],
   "source": [
    "scores = []\n",
    "optimal_num = 0\n",
    "\n",
    "for features in range(1,X_train.shape[1]+1):\n",
    "    rfc = ensemble.RandomForestClassifier(n_estimators=32, max_features = features, oob_score=True)\n",
    "    # Perform 5-fold cross validation \n",
    "    cv_scores = cross_val_score(rfc, X_train, Y_train, cv=5)\n",
    "    if features > 1 and np.mean(cv_scores) >= max(scores):\n",
    "        optimal_num = features\n",
    "    scores.append(np.mean(cv_scores))\n",
    "    print(features)"
   ]
  },
  {
   "cell_type": "code",
   "execution_count": 17,
   "metadata": {
    "collapsed": false
   },
   "outputs": [
    {
     "name": "stdout",
     "output_type": "stream",
     "text": [
      "[0.62960350180350189, 0.64900632140632131, 0.66541153021153021, 0.65740232380232377, 0.66440393180393187, 0.66780413280413276, 0.67380213960213964, 0.66400732760732761, 0.67461033901033896, 0.66780013280013273, 0.67700733920733913, 0.67120673260673258, 0.670410132010132, 0.67660414240414235, 0.67900854280854284, 0.66839753179753181, 0.67300673900673913, 0.66840753180753176, 0.66960493120493114, 0.66800953260953266, 0.6700047338047338, 0.66760353140353135, 0.67120293360293359, 0.65900312540312544, 0.67219813239813242, 0.67820074340074332, 0.66720773080773077, 0.66120752780752778]\n",
      "\n",
      "15\n"
     ]
    }
   ],
   "source": [
    "print(scores)\n",
    "print()\n",
    "print(optimal_num)"
   ]
  },
  {
   "cell_type": "code",
   "execution_count": 18,
   "metadata": {
    "collapsed": false
   },
   "outputs": [
    {
     "name": "stdout",
     "output_type": "stream",
     "text": [
      "0.9992\n",
      "0.6898\n"
     ]
    }
   ],
   "source": [
    "best_rfc = ensemble.RandomForestClassifier(n_estimators=32, max_features = optimal_num, oob_score=True)\n",
    "best_rfc.fit(X_train, Y_train)\n",
    "print(best_rfc.score(X_train, Y_train))\n",
    "print(best_rfc.score(X_test, Y_test))"
   ]
  },
  {
   "cell_type": "markdown",
   "metadata": {},
   "source": [
    "## Question 4 (15pt): Boosting\n",
    "\n",
    "We next compare the random forest model with the approach of boosting:\n",
    "\n",
    "\n",
    "1. Apply the AdaBoost algorithm to fit an ensemble of decision trees. Set the learning rate to 0.05, and try out different tree depths for the base learners: 1, 2, 10, and unrestricted depth.  Make a plot of the training accuracy of the ensemble classifier as a function of tree depths. Make a similar plot of the test accuracies as a function of number of trees (say $2, 4, 8, 16, \\ldots, 256$).\n",
    "- How does the number of trees influence the training and test performance? Compare and contrast between the trends you see in the training and test performance of AdaBoost and that of the random forest models in Question 3. Give an explanation for your observations.\n",
    "- How does the tree depth of the base learner impact the training and test performance? Recall that with random forests, we allow the depth of the individual trees to be unrestricted. Would you recommend the same strategy for boosting? Explain your answer.\n",
    "- Apply 5-fold cross-validation to choose the optimal number of trees $B$ for the ensemble and the optimal tree depth for the base learners. How does an ensemble classifier fitted with the optimal number of trees and the optimal tree depth compare with the random forest model fitted in Question 3.4? \n"
   ]
  },
  {
   "cell_type": "markdown",
   "metadata": {},
   "source": [
    "### Part 4.1"
   ]
  },
  {
   "cell_type": "markdown",
   "metadata": {},
   "source": [
    "#### Test num of trees and tree depth together"
   ]
  },
  {
   "cell_type": "code",
   "execution_count": 19,
   "metadata": {
    "collapsed": true
   },
   "outputs": [],
   "source": [
    "trees = [2,4,8,16,32,64,128,256]\n",
    "depths = [1,2,10,None]\n",
    "\n",
    "# train scores\n",
    "ab_depth_1_tr_scores = []\n",
    "ab_depth_2_tr_scores = []\n",
    "ab_depth_10_tr_scores = []\n",
    "ab_depth_no_tr_scores = []\n",
    "\n",
    "# test scores\n",
    "ab_depth_1_te_scores = []\n",
    "ab_depth_2_te_scores = []\n",
    "ab_depth_10_te_scores = []\n",
    "ab_depth_no_te_scores = []\n",
    "\n",
    "for num_trees in trees:\n",
    "    adaboost = ensemble.AdaBoostClassifier(tree.DecisionTreeClassifier(max_depth=1), \n",
    "                                           n_estimators=num_trees, learning_rate=0.05)\n",
    "    adaboost.fit(X_train, Y_train)\n",
    "    ab_depth_1_tr_scores.append(adaboost.score(X_train, Y_train))\n",
    "    ab_depth_1_te_scores.append(adaboost.score(X_test, Y_test))\n",
    "    \n",
    "for num_trees in trees:\n",
    "    adaboost = ensemble.AdaBoostClassifier(tree.DecisionTreeClassifier(max_depth=2), \n",
    "                                           n_estimators=num_trees, learning_rate=0.05)\n",
    "    adaboost.fit(X_train, Y_train)\n",
    "    ab_depth_2_tr_scores.append(adaboost.score(X_train, Y_train))\n",
    "    ab_depth_2_te_scores.append(adaboost.score(X_test, Y_test))\n",
    "    \n",
    "for num_trees in trees:\n",
    "    adaboost = ensemble.AdaBoostClassifier(tree.DecisionTreeClassifier(max_depth=10), \n",
    "                                           n_estimators=num_trees, learning_rate=0.05)\n",
    "    adaboost.fit(X_train, Y_train)\n",
    "    ab_depth_10_tr_scores.append(adaboost.score(X_train, Y_train))\n",
    "    ab_depth_10_te_scores.append(adaboost.score(X_test, Y_test))\n",
    "    \n",
    "for num_trees in trees:\n",
    "    adaboost = ensemble.AdaBoostClassifier(tree.DecisionTreeClassifier(max_depth=None), \n",
    "                                           n_estimators=num_trees, learning_rate=0.05)\n",
    "    adaboost.fit(X_train, Y_train)\n",
    "    ab_depth_no_tr_scores.append(adaboost.score(X_train, Y_train))\n",
    "    ab_depth_no_te_scores.append(adaboost.score(X_test, Y_test))\n"
   ]
  },
  {
   "cell_type": "code",
   "execution_count": 20,
   "metadata": {
    "collapsed": false
   },
   "outputs": [
    {
     "data": {
      "image/png": "[encoded data removed]",
      "text/plain": [
       "<matplotlib.figure.Figure at 0x1174dff98>"
      ]
     },
     "metadata": {},
     "output_type": "display_data"
    }
   ],
   "source": [
    "fig, ax = plt.subplots(1, 2, figsize=(16, 6))\n",
    "ax[0].plot(ab_depth_1_tr_scores, color='red', alpha=0.8, label='Depth 1')\n",
    "ax[0].plot(ab_depth_2_tr_scores, color='blue', alpha=0.8, label='Depth 2')\n",
    "ax[0].plot(ab_depth_10_tr_scores, color='green', alpha=0.8, label='Depth 10')\n",
    "ax[0].plot(ab_depth_no_tr_scores, color='black', alpha=0.8, label='Depth None')\n",
    "ax[0].set_title('Train Accuracies')\n",
    "ax[0].set_xlabel('Log Number of Trees in Ensemble')\n",
    "ax[1].plot(ab_depth_1_te_scores, color='red', alpha=0.8, label='Depth 1')\n",
    "ax[1].plot(ab_depth_2_te_scores, color='blue', alpha=0.8, label='Depth 2')\n",
    "ax[1].plot(ab_depth_10_te_scores, color='green', alpha=0.8, label='Depth 10')\n",
    "ax[1].plot(ab_depth_no_te_scores, color='black', alpha=0.8, label='Depth None')\n",
    "ax[1].set_title('Test Accuracies')\n",
    "ax[1].set_xlabel('Log Number of Trees in Ensemble')\n",
    "ax[1].legend()\n",
    "plt.show()"
   ]
  },
  {
   "cell_type": "markdown",
   "metadata": {},
   "source": [
    "#### Test num of trees and tree depth separately"
   ]
  },
  {
   "cell_type": "code",
   "execution_count": 21,
   "metadata": {
    "collapsed": true
   },
   "outputs": [],
   "source": [
    "depths = [1,2,4,6,8,10,None]\n",
    "\n",
    "ab_depths_tr_scores = []\n",
    "ab_depths_te_scores = []\n",
    "\n",
    "for depth in depths:\n",
    "    adaboost = ensemble.AdaBoostClassifier(tree.DecisionTreeClassifier(max_depth=depth), \n",
    "                                           n_estimators=32, learning_rate=0.05)\n",
    "    adaboost.fit(X_train, Y_train)\n",
    "    ab_depths_tr_scores.append(adaboost.score(X_train, Y_train))\n",
    "    ab_depths_te_scores.append(adaboost.score(X_test, Y_test))\n"
   ]
  },
  {
   "cell_type": "code",
   "execution_count": 22,
   "metadata": {
    "collapsed": false
   },
   "outputs": [
    {
     "name": "stdout",
     "output_type": "stream",
     "text": [
      "[0.61680000000000001, 0.66600000000000004, 0.74480000000000002, 0.89780000000000004, 0.98599999999999999, 1.0, 1.0]\n",
      "\n",
      "[0.61960000000000004, 0.66500000000000004, 0.68679999999999997, 0.66679999999999995, 0.63060000000000005, 0.61180000000000001, 0.59840000000000004]\n"
     ]
    }
   ],
   "source": [
    "print(ab_depths_tr_scores)\n",
    "print()\n",
    "print(ab_depths_te_scores)"
   ]
  },
  {
   "cell_type": "code",
   "execution_count": 23,
   "metadata": {
    "collapsed": true
   },
   "outputs": [],
   "source": [
    "trees = [2,4,8,16,32,64,128,256]\n",
    "\n",
    "ab_trees_tr_scores = []\n",
    "ab_trees_te_scores = []\n",
    "\n",
    "for num_trees in trees:\n",
    "    adaboost = ensemble.AdaBoostClassifier(tree.DecisionTreeClassifier(max_depth=2), \n",
    "                                           n_estimators=num_trees, learning_rate=0.05)\n",
    "    adaboost.fit(X_train, Y_train)\n",
    "    ab_trees_tr_scores.append(adaboost.score(X_train, Y_train))\n",
    "    ab_trees_te_scores.append(adaboost.score(X_test, Y_test))"
   ]
  },
  {
   "cell_type": "code",
   "execution_count": 24,
   "metadata": {
    "collapsed": false
   },
   "outputs": [
    {
     "name": "stdout",
     "output_type": "stream",
     "text": [
      "[0.63859999999999995, 0.63859999999999995, 0.6452, 0.66000000000000003, 0.66600000000000004, 0.68520000000000003, 0.70899999999999996, 0.74019999999999997]\n",
      "\n",
      "[0.64300000000000002, 0.64300000000000002, 0.64680000000000004, 0.65680000000000005, 0.66500000000000004, 0.68359999999999999, 0.68740000000000001, 0.69399999999999995]\n"
     ]
    }
   ],
   "source": [
    "print(ab_trees_tr_scores)\n",
    "print()\n",
    "print(ab_trees_te_scores)"
   ]
  },
  {
   "cell_type": "markdown",
   "metadata": {},
   "source": [
    "### Part 4.2: \n",
    "#### How does the number of trees influence the training and test performance? Compare and contrast between the trends you see in the training and test performance of AdaBoost and that of the random forest models in Question 3. Give an explanation for your observations.\n",
    "\n",
    "As num of trees goes up, both train and test perf go up."
   ]
  },
  {
   "cell_type": "markdown",
   "metadata": {},
   "source": [
    "### Part 4.3\n",
    "\n",
    "#### How does the tree depth of the base learner impact the training and test performance? Recall that with random forests, we allow the depth of the individual trees to be unrestricted. Would you recommend the same strategy for boosting? Explain your answer."
   ]
  },
  {
   "cell_type": "markdown",
   "metadata": {},
   "source": [
    "### Part 4.4\n",
    "\n",
    "#### Apply 5-fold cross-validation to choose the optimal number of trees $B$ for the ensemble and the optimal tree depth for the base learners. How does an ensemble classifier fitted with the optimal number of trees and the optimal tree depth compare with the random forest model fitted in Question 3.4? "
   ]
  },
  {
   "cell_type": "code",
   "execution_count": 25,
   "metadata": {
    "collapsed": false
   },
   "outputs": [
    {
     "ename": "KeyboardInterrupt",
     "evalue": "",
     "output_type": "error",
     "traceback": [
      "\u001b[0;31m---------------------------------------------------------------------------\u001b[0m",
      "\u001b[0;31mKeyboardInterrupt\u001b[0m                         Traceback (most recent call last)",
      "\u001b[0;32m<ipython-input-25-08d89f7a01a0>\u001b[0m in \u001b[0;36m<module>\u001b[0;34m()\u001b[0m\n\u001b[1;32m      8\u001b[0m         adaboost = ensemble.AdaBoostClassifier(tree.DecisionTreeClassifier(max_depth=depth), \n\u001b[1;32m      9\u001b[0m                                                n_estimators=num_trees, learning_rate=0.05)\n\u001b[0;32m---> 10\u001b[0;31m         \u001b[0mcv_scores\u001b[0m \u001b[0;34m=\u001b[0m \u001b[0mcross_val_score\u001b[0m\u001b[0;34m(\u001b[0m\u001b[0madaboost\u001b[0m\u001b[0;34m,\u001b[0m \u001b[0mX_train\u001b[0m\u001b[0;34m,\u001b[0m \u001b[0mY_train\u001b[0m\u001b[0;34m,\u001b[0m \u001b[0mcv\u001b[0m\u001b[0;34m=\u001b[0m\u001b[0;36m5\u001b[0m\u001b[0;34m)\u001b[0m\u001b[0;34m\u001b[0m\u001b[0m\n\u001b[0m\u001b[1;32m     11\u001b[0m \u001b[0;34m\u001b[0m\u001b[0m\n\u001b[1;32m     12\u001b[0m         \u001b[0;32mif\u001b[0m \u001b[0mnp\u001b[0m\u001b[0;34m.\u001b[0m\u001b[0mmean\u001b[0m\u001b[0;34m(\u001b[0m\u001b[0mcv_scores\u001b[0m\u001b[0;34m)\u001b[0m \u001b[0;34m>=\u001b[0m \u001b[0mmax\u001b[0m\u001b[0;34m(\u001b[0m\u001b[0mscores\u001b[0m\u001b[0;34m)\u001b[0m\u001b[0;34m:\u001b[0m\u001b[0;34m\u001b[0m\u001b[0m\n",
      "\u001b[0;32m/Users/joshkuppersmith/anaconda/lib/python3.6/site-packages/sklearn/model_selection/_validation.py\u001b[0m in \u001b[0;36mcross_val_score\u001b[0;34m(estimator, X, y, groups, scoring, cv, n_jobs, verbose, fit_params, pre_dispatch)\u001b[0m\n\u001b[1;32m    138\u001b[0m                                               \u001b[0mtrain\u001b[0m\u001b[0;34m,\u001b[0m \u001b[0mtest\u001b[0m\u001b[0;34m,\u001b[0m \u001b[0mverbose\u001b[0m\u001b[0;34m,\u001b[0m \u001b[0;32mNone\u001b[0m\u001b[0;34m,\u001b[0m\u001b[0;34m\u001b[0m\u001b[0m\n\u001b[1;32m    139\u001b[0m                                               fit_params)\n\u001b[0;32m--> 140\u001b[0;31m                       for train, test in cv_iter)\n\u001b[0m\u001b[1;32m    141\u001b[0m     \u001b[0;32mreturn\u001b[0m \u001b[0mnp\u001b[0m\u001b[0;34m.\u001b[0m\u001b[0marray\u001b[0m\u001b[0;34m(\u001b[0m\u001b[0mscores\u001b[0m\u001b[0;34m)\u001b[0m\u001b[0;34m[\u001b[0m\u001b[0;34m:\u001b[0m\u001b[0;34m,\u001b[0m \u001b[0;36m0\u001b[0m\u001b[0;34m]\u001b[0m\u001b[0;34m\u001b[0m\u001b[0m\n\u001b[1;32m    142\u001b[0m \u001b[0;34m\u001b[0m\u001b[0m\n",
      "\u001b[0;32m/Users/joshkuppersmith/anaconda/lib/python3.6/site-packages/sklearn/externals/joblib/parallel.py\u001b[0m in \u001b[0;36m__call__\u001b[0;34m(self, iterable)\u001b[0m\n\u001b[1;32m    756\u001b[0m             \u001b[0;31m# was dispatched. In particular this covers the edge\u001b[0m\u001b[0;34m\u001b[0m\u001b[0;34m\u001b[0m\u001b[0m\n\u001b[1;32m    757\u001b[0m             \u001b[0;31m# case of Parallel used with an exhausted iterator.\u001b[0m\u001b[0;34m\u001b[0m\u001b[0;34m\u001b[0m\u001b[0m\n\u001b[0;32m--> 758\u001b[0;31m             \u001b[0;32mwhile\u001b[0m \u001b[0mself\u001b[0m\u001b[0;34m.\u001b[0m\u001b[0mdispatch_one_batch\u001b[0m\u001b[0;34m(\u001b[0m\u001b[0miterator\u001b[0m\u001b[0;34m)\u001b[0m\u001b[0;34m:\u001b[0m\u001b[0;34m\u001b[0m\u001b[0m\n\u001b[0m\u001b[1;32m    759\u001b[0m                 \u001b[0mself\u001b[0m\u001b[0;34m.\u001b[0m\u001b[0m_iterating\u001b[0m \u001b[0;34m=\u001b[0m \u001b[0;32mTrue\u001b[0m\u001b[0;34m\u001b[0m\u001b[0m\n\u001b[1;32m    760\u001b[0m             \u001b[0;32melse\u001b[0m\u001b[0;34m:\u001b[0m\u001b[0;34m\u001b[0m\u001b[0m\n",
      "\u001b[0;32m/Users/joshkuppersmith/anaconda/lib/python3.6/site-packages/sklearn/externals/joblib/parallel.py\u001b[0m in \u001b[0;36mdispatch_one_batch\u001b[0;34m(self, iterator)\u001b[0m\n\u001b[1;32m    606\u001b[0m                 \u001b[0;32mreturn\u001b[0m \u001b[0;32mFalse\u001b[0m\u001b[0;34m\u001b[0m\u001b[0m\n\u001b[1;32m    607\u001b[0m             \u001b[0;32melse\u001b[0m\u001b[0;34m:\u001b[0m\u001b[0;34m\u001b[0m\u001b[0m\n\u001b[0;32m--> 608\u001b[0;31m                 \u001b[0mself\u001b[0m\u001b[0;34m.\u001b[0m\u001b[0m_dispatch\u001b[0m\u001b[0;34m(\u001b[0m\u001b[0mtasks\u001b[0m\u001b[0;34m)\u001b[0m\u001b[0;34m\u001b[0m\u001b[0m\n\u001b[0m\u001b[1;32m    609\u001b[0m                 \u001b[0;32mreturn\u001b[0m \u001b[0;32mTrue\u001b[0m\u001b[0;34m\u001b[0m\u001b[0m\n\u001b[1;32m    610\u001b[0m \u001b[0;34m\u001b[0m\u001b[0m\n",
      "\u001b[0;32m/Users/joshkuppersmith/anaconda/lib/python3.6/site-packages/sklearn/externals/joblib/parallel.py\u001b[0m in \u001b[0;36m_dispatch\u001b[0;34m(self, batch)\u001b[0m\n\u001b[1;32m    569\u001b[0m         \u001b[0mdispatch_timestamp\u001b[0m \u001b[0;34m=\u001b[0m \u001b[0mtime\u001b[0m\u001b[0;34m.\u001b[0m\u001b[0mtime\u001b[0m\u001b[0;34m(\u001b[0m\u001b[0;34m)\u001b[0m\u001b[0;34m\u001b[0m\u001b[0m\n\u001b[1;32m    570\u001b[0m         \u001b[0mcb\u001b[0m \u001b[0;34m=\u001b[0m \u001b[0mBatchCompletionCallBack\u001b[0m\u001b[0;34m(\u001b[0m\u001b[0mdispatch_timestamp\u001b[0m\u001b[0;34m,\u001b[0m \u001b[0mlen\u001b[0m\u001b[0;34m(\u001b[0m\u001b[0mbatch\u001b[0m\u001b[0;34m)\u001b[0m\u001b[0;34m,\u001b[0m \u001b[0mself\u001b[0m\u001b[0;34m)\u001b[0m\u001b[0;34m\u001b[0m\u001b[0m\n\u001b[0;32m--> 571\u001b[0;31m         \u001b[0mjob\u001b[0m \u001b[0;34m=\u001b[0m \u001b[0mself\u001b[0m\u001b[0;34m.\u001b[0m\u001b[0m_backend\u001b[0m\u001b[0;34m.\u001b[0m\u001b[0mapply_async\u001b[0m\u001b[0;34m(\u001b[0m\u001b[0mbatch\u001b[0m\u001b[0;34m,\u001b[0m \u001b[0mcallback\u001b[0m\u001b[0;34m=\u001b[0m\u001b[0mcb\u001b[0m\u001b[0;34m)\u001b[0m\u001b[0;34m\u001b[0m\u001b[0m\n\u001b[0m\u001b[1;32m    572\u001b[0m         \u001b[0mself\u001b[0m\u001b[0;34m.\u001b[0m\u001b[0m_jobs\u001b[0m\u001b[0;34m.\u001b[0m\u001b[0mappend\u001b[0m\u001b[0;34m(\u001b[0m\u001b[0mjob\u001b[0m\u001b[0;34m)\u001b[0m\u001b[0;34m\u001b[0m\u001b[0m\n\u001b[1;32m    573\u001b[0m \u001b[0;34m\u001b[0m\u001b[0m\n",
      "\u001b[0;32m/Users/joshkuppersmith/anaconda/lib/python3.6/site-packages/sklearn/externals/joblib/_parallel_backends.py\u001b[0m in \u001b[0;36mapply_async\u001b[0;34m(self, func, callback)\u001b[0m\n\u001b[1;32m    107\u001b[0m     \u001b[0;32mdef\u001b[0m \u001b[0mapply_async\u001b[0m\u001b[0;34m(\u001b[0m\u001b[0mself\u001b[0m\u001b[0;34m,\u001b[0m \u001b[0mfunc\u001b[0m\u001b[0;34m,\u001b[0m \u001b[0mcallback\u001b[0m\u001b[0;34m=\u001b[0m\u001b[0;32mNone\u001b[0m\u001b[0;34m)\u001b[0m\u001b[0;34m:\u001b[0m\u001b[0;34m\u001b[0m\u001b[0m\n\u001b[1;32m    108\u001b[0m         \u001b[0;34m\"\"\"Schedule a func to be run\"\"\"\u001b[0m\u001b[0;34m\u001b[0m\u001b[0m\n\u001b[0;32m--> 109\u001b[0;31m         \u001b[0mresult\u001b[0m \u001b[0;34m=\u001b[0m \u001b[0mImmediateResult\u001b[0m\u001b[0;34m(\u001b[0m\u001b[0mfunc\u001b[0m\u001b[0;34m)\u001b[0m\u001b[0;34m\u001b[0m\u001b[0m\n\u001b[0m\u001b[1;32m    110\u001b[0m         \u001b[0;32mif\u001b[0m \u001b[0mcallback\u001b[0m\u001b[0;34m:\u001b[0m\u001b[0;34m\u001b[0m\u001b[0m\n\u001b[1;32m    111\u001b[0m             \u001b[0mcallback\u001b[0m\u001b[0;34m(\u001b[0m\u001b[0mresult\u001b[0m\u001b[0;34m)\u001b[0m\u001b[0;34m\u001b[0m\u001b[0m\n",
      "\u001b[0;32m/Users/joshkuppersmith/anaconda/lib/python3.6/site-packages/sklearn/externals/joblib/_parallel_backends.py\u001b[0m in \u001b[0;36m__init__\u001b[0;34m(self, batch)\u001b[0m\n\u001b[1;32m    324\u001b[0m         \u001b[0;31m# Don't delay the application, to avoid keeping the input\u001b[0m\u001b[0;34m\u001b[0m\u001b[0;34m\u001b[0m\u001b[0m\n\u001b[1;32m    325\u001b[0m         \u001b[0;31m# arguments in memory\u001b[0m\u001b[0;34m\u001b[0m\u001b[0;34m\u001b[0m\u001b[0m\n\u001b[0;32m--> 326\u001b[0;31m         \u001b[0mself\u001b[0m\u001b[0;34m.\u001b[0m\u001b[0mresults\u001b[0m \u001b[0;34m=\u001b[0m \u001b[0mbatch\u001b[0m\u001b[0;34m(\u001b[0m\u001b[0;34m)\u001b[0m\u001b[0;34m\u001b[0m\u001b[0m\n\u001b[0m\u001b[1;32m    327\u001b[0m \u001b[0;34m\u001b[0m\u001b[0m\n\u001b[1;32m    328\u001b[0m     \u001b[0;32mdef\u001b[0m \u001b[0mget\u001b[0m\u001b[0;34m(\u001b[0m\u001b[0mself\u001b[0m\u001b[0;34m)\u001b[0m\u001b[0;34m:\u001b[0m\u001b[0;34m\u001b[0m\u001b[0m\n",
      "\u001b[0;32m/Users/joshkuppersmith/anaconda/lib/python3.6/site-packages/sklearn/externals/joblib/parallel.py\u001b[0m in \u001b[0;36m__call__\u001b[0;34m(self)\u001b[0m\n\u001b[1;32m    129\u001b[0m \u001b[0;34m\u001b[0m\u001b[0m\n\u001b[1;32m    130\u001b[0m     \u001b[0;32mdef\u001b[0m \u001b[0m__call__\u001b[0m\u001b[0;34m(\u001b[0m\u001b[0mself\u001b[0m\u001b[0;34m)\u001b[0m\u001b[0;34m:\u001b[0m\u001b[0;34m\u001b[0m\u001b[0m\n\u001b[0;32m--> 131\u001b[0;31m         \u001b[0;32mreturn\u001b[0m \u001b[0;34m[\u001b[0m\u001b[0mfunc\u001b[0m\u001b[0;34m(\u001b[0m\u001b[0;34m*\u001b[0m\u001b[0margs\u001b[0m\u001b[0;34m,\u001b[0m \u001b[0;34m**\u001b[0m\u001b[0mkwargs\u001b[0m\u001b[0;34m)\u001b[0m \u001b[0;32mfor\u001b[0m \u001b[0mfunc\u001b[0m\u001b[0;34m,\u001b[0m \u001b[0margs\u001b[0m\u001b[0;34m,\u001b[0m \u001b[0mkwargs\u001b[0m \u001b[0;32min\u001b[0m \u001b[0mself\u001b[0m\u001b[0;34m.\u001b[0m\u001b[0mitems\u001b[0m\u001b[0;34m]\u001b[0m\u001b[0;34m\u001b[0m\u001b[0m\n\u001b[0m\u001b[1;32m    132\u001b[0m \u001b[0;34m\u001b[0m\u001b[0m\n\u001b[1;32m    133\u001b[0m     \u001b[0;32mdef\u001b[0m \u001b[0m__len__\u001b[0m\u001b[0;34m(\u001b[0m\u001b[0mself\u001b[0m\u001b[0;34m)\u001b[0m\u001b[0;34m:\u001b[0m\u001b[0;34m\u001b[0m\u001b[0m\n",
      "\u001b[0;32m/Users/joshkuppersmith/anaconda/lib/python3.6/site-packages/sklearn/externals/joblib/parallel.py\u001b[0m in \u001b[0;36m<listcomp>\u001b[0;34m(.0)\u001b[0m\n\u001b[1;32m    129\u001b[0m \u001b[0;34m\u001b[0m\u001b[0m\n\u001b[1;32m    130\u001b[0m     \u001b[0;32mdef\u001b[0m \u001b[0m__call__\u001b[0m\u001b[0;34m(\u001b[0m\u001b[0mself\u001b[0m\u001b[0;34m)\u001b[0m\u001b[0;34m:\u001b[0m\u001b[0;34m\u001b[0m\u001b[0m\n\u001b[0;32m--> 131\u001b[0;31m         \u001b[0;32mreturn\u001b[0m \u001b[0;34m[\u001b[0m\u001b[0mfunc\u001b[0m\u001b[0;34m(\u001b[0m\u001b[0;34m*\u001b[0m\u001b[0margs\u001b[0m\u001b[0;34m,\u001b[0m \u001b[0;34m**\u001b[0m\u001b[0mkwargs\u001b[0m\u001b[0;34m)\u001b[0m \u001b[0;32mfor\u001b[0m \u001b[0mfunc\u001b[0m\u001b[0;34m,\u001b[0m \u001b[0margs\u001b[0m\u001b[0;34m,\u001b[0m \u001b[0mkwargs\u001b[0m \u001b[0;32min\u001b[0m \u001b[0mself\u001b[0m\u001b[0;34m.\u001b[0m\u001b[0mitems\u001b[0m\u001b[0;34m]\u001b[0m\u001b[0;34m\u001b[0m\u001b[0m\n\u001b[0m\u001b[1;32m    132\u001b[0m \u001b[0;34m\u001b[0m\u001b[0m\n\u001b[1;32m    133\u001b[0m     \u001b[0;32mdef\u001b[0m \u001b[0m__len__\u001b[0m\u001b[0;34m(\u001b[0m\u001b[0mself\u001b[0m\u001b[0;34m)\u001b[0m\u001b[0;34m:\u001b[0m\u001b[0;34m\u001b[0m\u001b[0m\n",
      "\u001b[0;32m/Users/joshkuppersmith/anaconda/lib/python3.6/site-packages/sklearn/model_selection/_validation.py\u001b[0m in \u001b[0;36m_fit_and_score\u001b[0;34m(estimator, X, y, scorer, train, test, verbose, parameters, fit_params, return_train_score, return_parameters, return_n_test_samples, return_times, error_score)\u001b[0m\n\u001b[1;32m    236\u001b[0m             \u001b[0mestimator\u001b[0m\u001b[0;34m.\u001b[0m\u001b[0mfit\u001b[0m\u001b[0;34m(\u001b[0m\u001b[0mX_train\u001b[0m\u001b[0;34m,\u001b[0m \u001b[0;34m**\u001b[0m\u001b[0mfit_params\u001b[0m\u001b[0;34m)\u001b[0m\u001b[0;34m\u001b[0m\u001b[0m\n\u001b[1;32m    237\u001b[0m         \u001b[0;32melse\u001b[0m\u001b[0;34m:\u001b[0m\u001b[0;34m\u001b[0m\u001b[0m\n\u001b[0;32m--> 238\u001b[0;31m             \u001b[0mestimator\u001b[0m\u001b[0;34m.\u001b[0m\u001b[0mfit\u001b[0m\u001b[0;34m(\u001b[0m\u001b[0mX_train\u001b[0m\u001b[0;34m,\u001b[0m \u001b[0my_train\u001b[0m\u001b[0;34m,\u001b[0m \u001b[0;34m**\u001b[0m\u001b[0mfit_params\u001b[0m\u001b[0;34m)\u001b[0m\u001b[0;34m\u001b[0m\u001b[0m\n\u001b[0m\u001b[1;32m    239\u001b[0m \u001b[0;34m\u001b[0m\u001b[0m\n\u001b[1;32m    240\u001b[0m     \u001b[0;32mexcept\u001b[0m \u001b[0mException\u001b[0m \u001b[0;32mas\u001b[0m \u001b[0me\u001b[0m\u001b[0;34m:\u001b[0m\u001b[0;34m\u001b[0m\u001b[0m\n",
      "\u001b[0;32m/Users/joshkuppersmith/anaconda/lib/python3.6/site-packages/sklearn/ensemble/weight_boosting.py\u001b[0m in \u001b[0;36mfit\u001b[0;34m(self, X, y, sample_weight)\u001b[0m\n\u001b[1;32m    409\u001b[0m \u001b[0;34m\u001b[0m\u001b[0m\n\u001b[1;32m    410\u001b[0m         \u001b[0;31m# Fit\u001b[0m\u001b[0;34m\u001b[0m\u001b[0;34m\u001b[0m\u001b[0m\n\u001b[0;32m--> 411\u001b[0;31m         \u001b[0;32mreturn\u001b[0m \u001b[0msuper\u001b[0m\u001b[0;34m(\u001b[0m\u001b[0mAdaBoostClassifier\u001b[0m\u001b[0;34m,\u001b[0m \u001b[0mself\u001b[0m\u001b[0;34m)\u001b[0m\u001b[0;34m.\u001b[0m\u001b[0mfit\u001b[0m\u001b[0;34m(\u001b[0m\u001b[0mX\u001b[0m\u001b[0;34m,\u001b[0m \u001b[0my\u001b[0m\u001b[0;34m,\u001b[0m \u001b[0msample_weight\u001b[0m\u001b[0;34m)\u001b[0m\u001b[0;34m\u001b[0m\u001b[0m\n\u001b[0m\u001b[1;32m    412\u001b[0m \u001b[0;34m\u001b[0m\u001b[0m\n\u001b[1;32m    413\u001b[0m     \u001b[0;32mdef\u001b[0m \u001b[0m_validate_estimator\u001b[0m\u001b[0;34m(\u001b[0m\u001b[0mself\u001b[0m\u001b[0;34m)\u001b[0m\u001b[0;34m:\u001b[0m\u001b[0;34m\u001b[0m\u001b[0m\n",
      "\u001b[0;32m/Users/joshkuppersmith/anaconda/lib/python3.6/site-packages/sklearn/ensemble/weight_boosting.py\u001b[0m in \u001b[0;36mfit\u001b[0;34m(self, X, y, sample_weight)\u001b[0m\n\u001b[1;32m    141\u001b[0m                 \u001b[0mX\u001b[0m\u001b[0;34m,\u001b[0m \u001b[0my\u001b[0m\u001b[0;34m,\u001b[0m\u001b[0;34m\u001b[0m\u001b[0m\n\u001b[1;32m    142\u001b[0m                 \u001b[0msample_weight\u001b[0m\u001b[0;34m,\u001b[0m\u001b[0;34m\u001b[0m\u001b[0m\n\u001b[0;32m--> 143\u001b[0;31m                 random_state)\n\u001b[0m\u001b[1;32m    144\u001b[0m \u001b[0;34m\u001b[0m\u001b[0m\n\u001b[1;32m    145\u001b[0m             \u001b[0;31m# Early termination\u001b[0m\u001b[0;34m\u001b[0m\u001b[0;34m\u001b[0m\u001b[0m\n",
      "\u001b[0;32m/Users/joshkuppersmith/anaconda/lib/python3.6/site-packages/sklearn/ensemble/weight_boosting.py\u001b[0m in \u001b[0;36m_boost\u001b[0;34m(self, iboost, X, y, sample_weight, random_state)\u001b[0m\n\u001b[1;32m    469\u001b[0m         \"\"\"\n\u001b[1;32m    470\u001b[0m         \u001b[0;32mif\u001b[0m \u001b[0mself\u001b[0m\u001b[0;34m.\u001b[0m\u001b[0malgorithm\u001b[0m \u001b[0;34m==\u001b[0m \u001b[0;34m'SAMME.R'\u001b[0m\u001b[0;34m:\u001b[0m\u001b[0;34m\u001b[0m\u001b[0m\n\u001b[0;32m--> 471\u001b[0;31m             \u001b[0;32mreturn\u001b[0m \u001b[0mself\u001b[0m\u001b[0;34m.\u001b[0m\u001b[0m_boost_real\u001b[0m\u001b[0;34m(\u001b[0m\u001b[0miboost\u001b[0m\u001b[0;34m,\u001b[0m \u001b[0mX\u001b[0m\u001b[0;34m,\u001b[0m \u001b[0my\u001b[0m\u001b[0;34m,\u001b[0m \u001b[0msample_weight\u001b[0m\u001b[0;34m,\u001b[0m \u001b[0mrandom_state\u001b[0m\u001b[0;34m)\u001b[0m\u001b[0;34m\u001b[0m\u001b[0m\n\u001b[0m\u001b[1;32m    472\u001b[0m \u001b[0;34m\u001b[0m\u001b[0m\n\u001b[1;32m    473\u001b[0m         \u001b[0;32melse\u001b[0m\u001b[0;34m:\u001b[0m  \u001b[0;31m# elif self.algorithm == \"SAMME\":\u001b[0m\u001b[0;34m\u001b[0m\u001b[0m\n",
      "\u001b[0;32m/Users/joshkuppersmith/anaconda/lib/python3.6/site-packages/sklearn/ensemble/weight_boosting.py\u001b[0m in \u001b[0;36m_boost_real\u001b[0;34m(self, iboost, X, y, sample_weight, random_state)\u001b[0m\n\u001b[1;32m    479\u001b[0m         \u001b[0mestimator\u001b[0m \u001b[0;34m=\u001b[0m \u001b[0mself\u001b[0m\u001b[0;34m.\u001b[0m\u001b[0m_make_estimator\u001b[0m\u001b[0;34m(\u001b[0m\u001b[0mrandom_state\u001b[0m\u001b[0;34m=\u001b[0m\u001b[0mrandom_state\u001b[0m\u001b[0;34m)\u001b[0m\u001b[0;34m\u001b[0m\u001b[0m\n\u001b[1;32m    480\u001b[0m \u001b[0;34m\u001b[0m\u001b[0m\n\u001b[0;32m--> 481\u001b[0;31m         \u001b[0mestimator\u001b[0m\u001b[0;34m.\u001b[0m\u001b[0mfit\u001b[0m\u001b[0;34m(\u001b[0m\u001b[0mX\u001b[0m\u001b[0;34m,\u001b[0m \u001b[0my\u001b[0m\u001b[0;34m,\u001b[0m \u001b[0msample_weight\u001b[0m\u001b[0;34m=\u001b[0m\u001b[0msample_weight\u001b[0m\u001b[0;34m)\u001b[0m\u001b[0;34m\u001b[0m\u001b[0m\n\u001b[0m\u001b[1;32m    482\u001b[0m \u001b[0;34m\u001b[0m\u001b[0m\n\u001b[1;32m    483\u001b[0m         \u001b[0my_predict_proba\u001b[0m \u001b[0;34m=\u001b[0m \u001b[0mestimator\u001b[0m\u001b[0;34m.\u001b[0m\u001b[0mpredict_proba\u001b[0m\u001b[0;34m(\u001b[0m\u001b[0mX\u001b[0m\u001b[0;34m)\u001b[0m\u001b[0;34m\u001b[0m\u001b[0m\n",
      "\u001b[0;32m/Users/joshkuppersmith/anaconda/lib/python3.6/site-packages/sklearn/tree/tree.py\u001b[0m in \u001b[0;36mfit\u001b[0;34m(self, X, y, sample_weight, check_input, X_idx_sorted)\u001b[0m\n\u001b[1;32m    737\u001b[0m             \u001b[0msample_weight\u001b[0m\u001b[0;34m=\u001b[0m\u001b[0msample_weight\u001b[0m\u001b[0;34m,\u001b[0m\u001b[0;34m\u001b[0m\u001b[0m\n\u001b[1;32m    738\u001b[0m             \u001b[0mcheck_input\u001b[0m\u001b[0;34m=\u001b[0m\u001b[0mcheck_input\u001b[0m\u001b[0;34m,\u001b[0m\u001b[0;34m\u001b[0m\u001b[0m\n\u001b[0;32m--> 739\u001b[0;31m             X_idx_sorted=X_idx_sorted)\n\u001b[0m\u001b[1;32m    740\u001b[0m         \u001b[0;32mreturn\u001b[0m \u001b[0mself\u001b[0m\u001b[0;34m\u001b[0m\u001b[0m\n\u001b[1;32m    741\u001b[0m \u001b[0;34m\u001b[0m\u001b[0m\n",
      "\u001b[0;32m/Users/joshkuppersmith/anaconda/lib/python3.6/site-packages/sklearn/tree/tree.py\u001b[0m in \u001b[0;36mfit\u001b[0;34m(self, X, y, sample_weight, check_input, X_idx_sorted)\u001b[0m\n\u001b[1;32m    348\u001b[0m                                            self.min_impurity_split)\n\u001b[1;32m    349\u001b[0m \u001b[0;34m\u001b[0m\u001b[0m\n\u001b[0;32m--> 350\u001b[0;31m         \u001b[0mbuilder\u001b[0m\u001b[0;34m.\u001b[0m\u001b[0mbuild\u001b[0m\u001b[0;34m(\u001b[0m\u001b[0mself\u001b[0m\u001b[0;34m.\u001b[0m\u001b[0mtree_\u001b[0m\u001b[0;34m,\u001b[0m \u001b[0mX\u001b[0m\u001b[0;34m,\u001b[0m \u001b[0my\u001b[0m\u001b[0;34m,\u001b[0m \u001b[0msample_weight\u001b[0m\u001b[0;34m,\u001b[0m \u001b[0mX_idx_sorted\u001b[0m\u001b[0;34m)\u001b[0m\u001b[0;34m\u001b[0m\u001b[0m\n\u001b[0m\u001b[1;32m    351\u001b[0m \u001b[0;34m\u001b[0m\u001b[0m\n\u001b[1;32m    352\u001b[0m         \u001b[0;32mif\u001b[0m \u001b[0mself\u001b[0m\u001b[0;34m.\u001b[0m\u001b[0mn_outputs_\u001b[0m \u001b[0;34m==\u001b[0m \u001b[0;36m1\u001b[0m\u001b[0;34m:\u001b[0m\u001b[0;34m\u001b[0m\u001b[0m\n",
      "\u001b[0;31mKeyboardInterrupt\u001b[0m: "
     ]
    }
   ],
   "source": [
    "optimal_num_trees = 0\n",
    "optimal_tree_depth = 0\n",
    "\n",
    "scores = [0]\n",
    "\n",
    "for depth in depths:\n",
    "    for num_trees in trees:\n",
    "        adaboost = ensemble.AdaBoostClassifier(tree.DecisionTreeClassifier(max_depth=depth), \n",
    "                                               n_estimators=num_trees, learning_rate=0.05)\n",
    "        cv_scores = cross_val_score(adaboost, X_train, Y_train, cv=5)\n",
    "      \n",
    "        if np.mean(cv_scores) >= max(scores):\n",
    "            optimal_num_trees = num_trees\n",
    "            optimal_tree_depth = depth\n",
    "            \n",
    "        scores.append(np.mean(cv_scores))\n",
    "    "
   ]
  },
  {
   "cell_type": "code",
   "execution_count": null,
   "metadata": {
    "collapsed": false
   },
   "outputs": [],
   "source": [
    "print(optimal_num_trees)\n",
    "print(optimal_tree_depth)"
   ]
  },
  {
   "cell_type": "code",
   "execution_count": null,
   "metadata": {
    "collapsed": false
   },
   "outputs": [],
   "source": [
    "adaboost_opt = ensemble.AdaBoostClassifier(tree.DecisionTreeClassifier(max_depth=optimal_tree_depth), \n",
    "                                           n_estimators=optimal_num_trees, learning_rate=0.05)\n",
    "adaboost_opt.fit(X_train, Y_train)\n",
    "print(adaboost_opt.score(X_train, Y_train))\n",
    "print(adaboost_opt.score(X_test, Y_test))"
   ]
  },
  {
   "cell_type": "markdown",
   "metadata": {},
   "source": [
    "## Question 5 (3pt): Meta-classifier\n",
    "\n",
    "We have so far explored techniques that grow a collection of trees either by creating multiple copies of the original training set, or through a sequential procedure, and then combines these trees into a single classifier. Consider an alternate scenario where you are provided with a pre-trained collection of trees, say from different participants of a data science competition for Higgs boson discovery. What would be a good strategy to combine these pre-fitted trees into a single powerful classifier? Of course, a simple approach would be to take the majority vote from the individual trees. Can we do better than this simple combination strategy?\n",
    "\n",
    "A collection of 100 decision tree classifiers is provided in the file `models.npy` and can be loaded into an array by executing:\n",
    "\n",
    "`models = np.load('models.npy')`\n",
    "\n",
    "You can make predictions using the $i^\\text{th}$ model on an array of predictors `x` by executing:\n",
    "\n",
    "`model[i].predict(x)`  &nbsp;&nbsp;&nbsp;\n",
    "or &nbsp;&nbsp;&nbsp;\n",
    "`model[i].predict_proba(x)`\n",
    "\n",
    "and score the model on predictors `x` and labels `y` by using:\n",
    "\n",
    "`model[i].score(x, y)`.\n",
    "\n",
    "1. Implement a strategy to combine the provided decision tree classifiers, and compare the test perfomance of your approach with the majority vote classifier. Explain your strategy/algorithm.\n"
   ]
  },
  {
   "cell_type": "code",
   "execution_count": 70,
   "metadata": {
    "collapsed": false
   },
   "outputs": [],
   "source": [
    "models = np.load('models.npy', encoding='latin1')"
   ]
  },
  {
   "cell_type": "code",
   "execution_count": 71,
   "metadata": {
    "collapsed": false
   },
   "outputs": [
    {
     "name": "stdout",
     "output_type": "stream",
     "text": [
      "Baseline test accuracy: 0.6646\n"
     ]
    }
   ],
   "source": [
    "# baseline majority rules\n",
    "\n",
    "# put predictions together in a matrix\n",
    "test_predictions = np.zeros((len(models), len(X_test)))\n",
    "for i in range(len(models)):\n",
    "    pred = models[i].predict(X_test)\n",
    "    test_predictions[i,:] = pred\n",
    "\n",
    "# loop through, sum up predictions\n",
    "maj_prediction = []\n",
    "for i in range(len(X_test)):\n",
    "    num_1 = sum(test_predictions[:,i])\n",
    "    prob = num_1 / len(models)\n",
    "    \n",
    "    # if more than half say 1, predict as 1 else 0\n",
    "    if prob > 0.5:\n",
    "        maj_prediction.append(1.0)\n",
    "    else:\n",
    "        maj_prediction.append(0.0)\n",
    "        \n",
    "print(\"Baseline test accuracy: {}\".format(accuracy_score(maj_prediction, Y_test)))\n",
    "        \n",
    "    "
   ]
  },
  {
   "cell_type": "code",
   "execution_count": 72,
   "metadata": {
    "collapsed": false
   },
   "outputs": [
    {
     "name": "stdout",
     "output_type": "stream",
     "text": [
      "Percent of 1s in the training set: 0.5246\n",
      "So we will bias slighly toward selecting 1s in the model\n",
      "Biased test accuracy: 0.6646\n"
     ]
    }
   ],
   "source": [
    "# try bias toward 1, since there are more 1s in the training set\n",
    "\n",
    "# sample_percent_1 is the bias. If >0.5, bias toward predicting 1, else 0\n",
    "\n",
    "sample_percent_1 = sum(Y_train)/len(Y_train)\n",
    "print(\"Percent of 1s in the training set: {}\".format(sample_percent_1))\n",
    "print(\"So we will bias slighly toward selecting 1s in the model\")\n",
    "\n",
    "test_predictions = np.zeros((len(models), len(X_test)))\n",
    "for i in range(len(models)):\n",
    "    pred = models[i].predict(X_test)\n",
    "    test_predictions[i,:] = pred\n",
    "\n",
    "maj_prediction = []\n",
    "for i in range(len(X_test)):\n",
    "    num_1 = sum(test_predictions[:,i])\n",
    "    prob = num_1 / len(models)\n",
    "    \n",
    "    # so now, predict as 1 if more than ~0.475 say it is 1,\n",
    "    # have to be .525 confident to predict 0\n",
    "    if prob > (1 - sample_percent_1):\n",
    "        maj_prediction.append(1.0)\n",
    "    else:\n",
    "        maj_prediction.append(0.0)\n",
    "        \n",
    "print(\"Biased test accuracy: {}\".format(accuracy_score(maj_prediction, Y_test)))\n",
    "        "
   ]
  },
  {
   "cell_type": "code",
   "execution_count": 73,
   "metadata": {
    "collapsed": false
   },
   "outputs": [
    {
     "name": "stdout",
     "output_type": "stream",
     "text": [
      "Max train acc: 0.6646 at 44 trees\n",
      "New score: 0.663\n"
     ]
    }
   ],
   "source": [
    "# majority rules, but only use some of the trees (best performing on training set)\n",
    "\n",
    "\n",
    "# collect list of scores for each model\n",
    "scores = []\n",
    "for j in range(len(models)):\n",
    "    pred = models[j].predict(X_train)\n",
    "    score = accuracy_score(pred, Y_train)\n",
    "    scores.append(score)\n",
    "    \n",
    "# select the top i scoring trees, run on training set\n",
    "overall = []\n",
    "for i in range(1,100):\n",
    "    indices = np.argpartition(scores, -i)[-i:]\n",
    "\n",
    "    train_predictions = np.zeros((len(indices), len(X_train)))\n",
    "    for i in range(len(indices)):\n",
    "        pred = models[i].predict(X_train)\n",
    "        train_predictions[i,:] = pred\n",
    "    \n",
    "    maj_prediction = []\n",
    "    for i in range(len(X_train)):\n",
    "        num_1 = sum(train_predictions[:,i])\n",
    "        prob = num_1 / len(indices)\n",
    "        if prob > 0.5:\n",
    "            maj_prediction.append(1.0)\n",
    "        else:\n",
    "            maj_prediction.append(0.0)\n",
    "            \n",
    "    overall.append(accuracy_score(maj_prediction, Y_train))\n",
    "\n",
    "# pick the # trees with the highest accuracy\n",
    "max_acc = max(overall)\n",
    "max_trees = overall.index(max(overall))\n",
    "print(\"Max train acc: {} at {} trees\".format(max_acc, max_trees))\n",
    "\n",
    "# so use 44 trees \n",
    "\n",
    "# now run on the test data with this new number of trees\n",
    "indices = np.argpartition(scores, -max_trees)[-max_trees:]\n",
    "test_predictions = np.zeros((len(indices), len(X_test)))\n",
    "for i in range(len(indices)):\n",
    "    pred = models[i].predict(X_test)\n",
    "    test_predictions[i,:] = pred\n",
    "    \n",
    "    maj_prediction = []\n",
    "    for i in range(len(X_test)):\n",
    "        num_1 = sum(test_predictions[:,i])\n",
    "        prob = num_1 / len(indices)\n",
    "        if prob > 0.5:\n",
    "            maj_prediction.append(1.0)\n",
    "        else:\n",
    "            maj_prediction.append(0.0)\n",
    "            \n",
    "print(\"New score: {}\".format(accuracy_score(maj_prediction, Y_test)))\n"
   ]
  },
  {
   "cell_type": "code",
   "execution_count": 74,
   "metadata": {
    "collapsed": false
   },
   "outputs": [
    {
     "name": "stdout",
     "output_type": "stream",
     "text": [
      "Percent of 1s in the training set: 0.5246\n",
      "So we will bias slighly toward selecting 1s in the model\n",
      "Max train acc: 0.6638 at 44 trees\n",
      "New score: 0.6726\n",
      "So combining the two methods (using only the 44 'best' trees and biasing toward 1 due to the number of 1s) was successful in improving the accuracy of this model!\n"
     ]
    }
   ],
   "source": [
    "# we will only use some of the trees (best performing on training set)\n",
    "# in addition, we will bias this time toward 1 instead of majority rules\n",
    "# essentially comining the last two methods\n",
    "\n",
    "sample_percent_1 = sum(Y_train)/len(Y_train)\n",
    "print(\"Percent of 1s in the training set: {}\".format(sample_percent_1))\n",
    "print(\"So we will bias slighly toward selecting 1s in the model\")\n",
    "\n",
    "# collect scores\n",
    "scores = []\n",
    "for j in range(len(models)):\n",
    "    pred = models[j].predict(X_train)\n",
    "    score = accuracy_score(pred, Y_train)\n",
    "    scores.append(score)\n",
    "    \n",
    "# select the top i scoring trees, run on training set\n",
    "overall = []\n",
    "for i in range(1,100):\n",
    "    indices = np.argpartition(scores, -i)[-i:]\n",
    "\n",
    "    train_predictions = np.zeros((len(indices), len(X_train)))\n",
    "    for i in range(len(indices)):\n",
    "        pred = models[i].predict(X_train)\n",
    "        train_predictions[i,:] = pred\n",
    "    \n",
    "    maj_prediction = []\n",
    "    for i in range(len(X_train)):\n",
    "        num_1 = sum(train_predictions[:,i])\n",
    "        prob = num_1 / len(indices)\n",
    "        \n",
    "        # include bias toward 1\n",
    "        if prob > (1 - sample_percent_1):\n",
    "            maj_prediction.append(1.0)\n",
    "        else:\n",
    "            maj_prediction.append(0.0)\n",
    "            \n",
    "    overall.append(accuracy_score(maj_prediction, Y_train))\n",
    "    \n",
    "# pick the # trees with the highest accuracy on training se\n",
    "max_acc = max(overall)\n",
    "max_trees = overall.index(max(overall))\n",
    "print(\"Max train acc: {} at {} trees\".format(max_acc, max_trees))\n",
    "\n",
    "# so use 44 trees \n",
    "\n",
    "# now run on test data\n",
    "indices = np.argpartition(scores, -max_trees)[-max_trees:]\n",
    "test_predictions = np.zeros((len(indices), len(X_test)))\n",
    "for i in range(len(indices)):\n",
    "    pred = models[i].predict(X_test)\n",
    "    test_predictions[i,:] = pred\n",
    "    \n",
    "    maj_prediction = []\n",
    "    for i in range(len(X_test)):\n",
    "        num_1 = sum(test_predictions[:,i])\n",
    "        prob = num_1 / len(indices)\n",
    "        \n",
    "        # bias toward 1\n",
    "        if prob > (1 - sample_percent_1):\n",
    "            maj_prediction.append(1.0)\n",
    "        else:\n",
    "            maj_prediction.append(0.0)\n",
    "            \n",
    "print(\"New score: {}\".format(accuracy_score(maj_prediction, Y_test)))\n",
    "\n",
    "print(\"So combining the two methods (using only the 44 'best' trees and biasing toward 1 due to the number of 1s) was successful in improving the accuracy of this model!\")"
   ]
  },
  {
   "cell_type": "markdown",
   "metadata": {},
   "source": [
    "### ANALYSIS\n",
    "\n",
    "#### Explain your strategy/algorithm.\n",
    "\n",
    "Here, I experimented and found two measures that essentially kept the test accuracy the same. The first was to find an optimal i for which i selected the top i individually performing trees, and ran majority rules with this many trees. The second was to introduce bias, so that I had a higher threshold majority needed to select a 0 (since 0s are overall less likely in the training set). Neither of these methods improved my baseline accuracy. However, using both together actually provides an edge over the baseline accuracy (0.6646) and boosts it to 0.6726! So these methods together allow for smarter use of these pre-trained classification trees.\n",
    "\n",
    "Note: some other things that I tried were: bagging, VotingClassifier and GridSearchCV from sklearn, and introducing randomness when the majority vote was unclear (this actually improved performance on some trials, but was obviously inconsistent due to its random nature). In the end, the above method was the most successful."
   ]
  },
  {
   "cell_type": "markdown",
   "metadata": {},
   "source": [
    "--- \n",
    "\n",
    "---\n",
    "\n",
    "## APCOMP209a - Homework Question\n",
    "​\n",
    "We've worked with imputation methods on missing data in Homework 6.  We've worked with Decision Trees in HW7 and here.  Now let's see what happens if we try to work with Decision Trees and Missing Data at the same time! We'll be working with a dataset from the UCI Machine Learning Repository that uses a variety of wine chemical predictors to classify wines grown in the same region in Italy.  Each line represents 13 (mostly chemical) predictors of the response variable wine class, including things like alcohol content, hue , and phenols.  Unfortunately some of the predictor values were lost in measurement. Please load `wine_quality_missing.csv`. \n",
    "​\n",
    "*Note*: As in HW6 be careful of reading/treating column names and row names in this data set.\n",
    "​\n",
    "​\n",
    "1. Remove all observations that contain and missing values, split the dataset into a 75-25 train-test split, and fit the sklearn DecisionTreeClassifier and RandomForestClassifier.   Use cross-validation to find the optimal tree depth for each method.  Report the optimal tree-depth, overall classification rate and confusion matrix on the test set for each method.\n",
    "2. Restart with a fresh copy of the data and impute the missing data via mean imputation.  Split the data 75-25 and again fit DecisionTreeClassifier and RandomForestClassifier using cross-validation to find the optimal tree depth.  Report the optimal tree depth, overall classification rate and confusion matrix on the test set for each method.  \n",
    "3. Again restart with a fresh copy of the data but this time let's try something different.  As discussed in section, CART Decision Trees can take advantage of surrogate splits to handle missing data.  Split the data 75-25 and construct a **custom** decision tree model and train it on the training set with missing data. Report the optimal tree depth, overall classification rate and confusion matrix on the test set and compare your results to the Imputation and DecisionTree model results in part 1 & 2.\n"
   ]
  },
  {
   "cell_type": "code",
   "execution_count": null,
   "metadata": {
    "collapsed": true
   },
   "outputs": [],
   "source": []
  },
  {
   "cell_type": "code",
   "execution_count": null,
   "metadata": {
    "collapsed": true
   },
   "outputs": [],
   "source": []
  },
  {
   "cell_type": "code",
   "execution_count": null,
   "metadata": {
    "collapsed": true
   },
   "outputs": [],
   "source": []
  }
 ],
 "metadata": {
  "anaconda-cloud": {},
  "kernelspec": {
   "display_name": "Python 3",
   "language": "python",
   "name": "python3"
  },
  "language_info": {
   "codemirror_mode": {
    "name": "ipython",
    "version": 3
   },
   "file_extension": ".py",
   "mimetype": "text/x-python",
   "name": "python",
   "nbconvert_exporter": "python",
   "pygments_lexer": "ipython3",
   "version": "3.6.0"
  },
  "latex_envs": {
   "bibliofile": "biblio.bib",
   "cite_by": "apalike",
   "current_citInitial": 1,
   "eqLabelWithNumbers": true,
   "eqNumInitial": 0
  }
 },
 "nbformat": 4,
 "nbformat_minor": 1
}
