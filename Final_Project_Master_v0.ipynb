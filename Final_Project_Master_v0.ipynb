{
 "cells": [
  {
   "cell_type": "markdown",
   "metadata": {},
   "source": [
    "# CS109a Final Project: Group 90 <br>Predicting damage of US storms<br>\n",
    "### Data Science 1: CS 109A/STAT 121A/AC 209A/ E 109A <br> Instructors: Pavlos Protopapas, Kevin Rader, Rahul Dave\n",
    "#### Harvard University <br> Fall 2017 <br> \n",
    "#### Date: December 7, 2017<br> Written By: George Hu, Manav Khandelwal, Josh Kuppersmith Evan Mackay <br> \n",
    "\n",
    "---\n",
    "\n",
    "\n"
   ]
  },
  {
   "cell_type": "code",
   "execution_count": 1,
   "metadata": {
    "collapsed": true
   },
   "outputs": [],
   "source": [
    "import pandas as pd\n",
    "import numpy as np\n",
    "import seaborn as sns\n",
    "import matplotlib.pyplot as plt\n",
    "from sklearn.model_selection import train_test_split\n",
    "from sklearn.linear_model import LogisticRegressionCV\n",
    "import sklearn.metrics as metrics\n",
    "from sklearn.preprocessing import PolynomialFeatures\n",
    "from sklearn.discriminant_analysis import LinearDiscriminantAnalysis\n",
    "from sklearn.discriminant_analysis import QuadraticDiscriminantAnalysis\n",
    "from sklearn.linear_model import LinearRegression\n",
    "from sklearn.neighbors import KNeighborsClassifier\n",
    "from sklearn.tree import DecisionTreeClassifier\n",
    "from sklearn.model_selection import cross_val_score\n",
    "from sklearn.metrics import accuracy_score\n",
    "from sklearn.metrics import confusion_matrix\n",
    "from sklearn.preprocessing import Imputer\n",
    "from sklearn.metrics import mean_squared_error\n",
    "from sklearn.metrics import r2_score\n",
    "\n",
    "# from zipcode\n",
    "%matplotlib inline\n",
    "import numpy as np\n",
    "import scipy as sp\n",
    "import matplotlib as mpl\n",
    "import matplotlib.cm as cm\n",
    "import matplotlib.pyplot as plt\n",
    "import pandas as pd\n",
    "import time\n",
    "pd.set_option('display.width', 500)\n",
    "pd.set_option('display.max_columns', 100)\n",
    "pd.set_option('display.notebook_repr_html', True)\n",
    "import seaborn as sns\n",
    "sns.set_style(\"whitegrid\")\n",
    "sns.set_context(\"poster\")\n",
    "import time"
   ]
  },
  {
   "cell_type": "markdown",
   "metadata": {},
   "source": [
    "# Part 1: Loading In Data"
   ]
  },
  {
   "cell_type": "code",
   "execution_count": 2,
   "metadata": {
    "collapsed": false
   },
   "outputs": [
    {
     "name": "stdout",
     "output_type": "stream",
     "text": [
      "(55964, 51)\n"
     ]
    },
    {
     "data": {
      "text/html": [
       "<div>\n",
       "<table border=\"1\" class=\"dataframe\">\n",
       "  <thead>\n",
       "    <tr style=\"text-align: right;\">\n",
       "      <th></th>\n",
       "      <th>BEGIN_YEARMONTH</th>\n",
       "      <th>BEGIN_DAY</th>\n",
       "      <th>BEGIN_TIME</th>\n",
       "      <th>END_YEARMONTH</th>\n",
       "      <th>END_DAY</th>\n",
       "      <th>END_TIME</th>\n",
       "      <th>EPISODE_ID</th>\n",
       "      <th>EVENT_ID</th>\n",
       "      <th>STATE</th>\n",
       "      <th>STATE_FIPS</th>\n",
       "      <th>YEAR</th>\n",
       "      <th>MONTH_NAME</th>\n",
       "      <th>EVENT_TYPE</th>\n",
       "      <th>CZ_TYPE</th>\n",
       "      <th>CZ_FIPS</th>\n",
       "      <th>CZ_NAME</th>\n",
       "      <th>WFO</th>\n",
       "      <th>BEGIN_DATE_TIME</th>\n",
       "      <th>CZ_TIMEZONE</th>\n",
       "      <th>END_DATE_TIME</th>\n",
       "      <th>INJURIES_DIRECT</th>\n",
       "      <th>INJURIES_INDIRECT</th>\n",
       "      <th>DEATHS_DIRECT</th>\n",
       "      <th>DEATHS_INDIRECT</th>\n",
       "      <th>DAMAGE_PROPERTY</th>\n",
       "      <th>DAMAGE_CROPS</th>\n",
       "      <th>SOURCE</th>\n",
       "      <th>MAGNITUDE</th>\n",
       "      <th>MAGNITUDE_TYPE</th>\n",
       "      <th>FLOOD_CAUSE</th>\n",
       "      <th>CATEGORY</th>\n",
       "      <th>TOR_F_SCALE</th>\n",
       "      <th>TOR_LENGTH</th>\n",
       "      <th>TOR_WIDTH</th>\n",
       "      <th>TOR_OTHER_WFO</th>\n",
       "      <th>TOR_OTHER_CZ_STATE</th>\n",
       "      <th>TOR_OTHER_CZ_FIPS</th>\n",
       "      <th>TOR_OTHER_CZ_NAME</th>\n",
       "      <th>BEGIN_RANGE</th>\n",
       "      <th>BEGIN_AZIMUTH</th>\n",
       "      <th>BEGIN_LOCATION</th>\n",
       "      <th>END_RANGE</th>\n",
       "      <th>END_AZIMUTH</th>\n",
       "      <th>END_LOCATION</th>\n",
       "      <th>BEGIN_LAT</th>\n",
       "      <th>BEGIN_LON</th>\n",
       "      <th>END_LAT</th>\n",
       "      <th>END_LON</th>\n",
       "      <th>EPISODE_NARRATIVE</th>\n",
       "      <th>EVENT_NARRATIVE</th>\n",
       "      <th>DATA_SOURCE</th>\n",
       "    </tr>\n",
       "  </thead>\n",
       "  <tbody>\n",
       "    <tr>\n",
       "      <th>0</th>\n",
       "      <td>201607</td>\n",
       "      <td>15</td>\n",
       "      <td>1715</td>\n",
       "      <td>201607</td>\n",
       "      <td>15</td>\n",
       "      <td>1715</td>\n",
       "      <td>108769</td>\n",
       "      <td>651823</td>\n",
       "      <td>SOUTH CAROLINA</td>\n",
       "      <td>45</td>\n",
       "      <td>2016</td>\n",
       "      <td>July</td>\n",
       "      <td>Heavy Rain</td>\n",
       "      <td>C</td>\n",
       "      <td>91</td>\n",
       "      <td>YORK</td>\n",
       "      <td>GSP</td>\n",
       "      <td>15-JUL-16 17:15:00</td>\n",
       "      <td>EST-5</td>\n",
       "      <td>15-JUL-16 17:15:00</td>\n",
       "      <td>0</td>\n",
       "      <td>0</td>\n",
       "      <td>0</td>\n",
       "      <td>0</td>\n",
       "      <td>2.00K</td>\n",
       "      <td>0.00K</td>\n",
       "      <td>Social Media</td>\n",
       "      <td>NaN</td>\n",
       "      <td>NaN</td>\n",
       "      <td>NaN</td>\n",
       "      <td>NaN</td>\n",
       "      <td>NaN</td>\n",
       "      <td>NaN</td>\n",
       "      <td>NaN</td>\n",
       "      <td>NaN</td>\n",
       "      <td>NaN</td>\n",
       "      <td>NaN</td>\n",
       "      <td>NaN</td>\n",
       "      <td>1.0</td>\n",
       "      <td>N</td>\n",
       "      <td>BOYD HILL</td>\n",
       "      <td>1.0</td>\n",
       "      <td>N</td>\n",
       "      <td>BOYD HILL</td>\n",
       "      <td>34.94</td>\n",
       "      <td>-81.03</td>\n",
       "      <td>34.94</td>\n",
       "      <td>-81.03</td>\n",
       "      <td>Scattered thunderstorms developed across the U...</td>\n",
       "      <td>One to two feet of deep standing water develop...</td>\n",
       "      <td>CSV</td>\n",
       "    </tr>\n",
       "    <tr>\n",
       "      <th>1</th>\n",
       "      <td>201607</td>\n",
       "      <td>15</td>\n",
       "      <td>1725</td>\n",
       "      <td>201607</td>\n",
       "      <td>15</td>\n",
       "      <td>1725</td>\n",
       "      <td>108769</td>\n",
       "      <td>651825</td>\n",
       "      <td>SOUTH CAROLINA</td>\n",
       "      <td>45</td>\n",
       "      <td>2016</td>\n",
       "      <td>July</td>\n",
       "      <td>Thunderstorm Wind</td>\n",
       "      <td>C</td>\n",
       "      <td>91</td>\n",
       "      <td>YORK</td>\n",
       "      <td>GSP</td>\n",
       "      <td>15-JUL-16 17:25:00</td>\n",
       "      <td>EST-5</td>\n",
       "      <td>15-JUL-16 17:25:00</td>\n",
       "      <td>0</td>\n",
       "      <td>0</td>\n",
       "      <td>0</td>\n",
       "      <td>0</td>\n",
       "      <td>0.00K</td>\n",
       "      <td>0.00K</td>\n",
       "      <td>NWS Employee</td>\n",
       "      <td>50.0</td>\n",
       "      <td>EG</td>\n",
       "      <td>NaN</td>\n",
       "      <td>NaN</td>\n",
       "      <td>NaN</td>\n",
       "      <td>NaN</td>\n",
       "      <td>NaN</td>\n",
       "      <td>NaN</td>\n",
       "      <td>NaN</td>\n",
       "      <td>NaN</td>\n",
       "      <td>NaN</td>\n",
       "      <td>1.0</td>\n",
       "      <td>S</td>\n",
       "      <td>FT MILL</td>\n",
       "      <td>1.0</td>\n",
       "      <td>S</td>\n",
       "      <td>FT MILL</td>\n",
       "      <td>35.01</td>\n",
       "      <td>-80.93</td>\n",
       "      <td>35.01</td>\n",
       "      <td>-80.93</td>\n",
       "      <td>Scattered thunderstorms developed across the U...</td>\n",
       "      <td>NWS Columbia relayed a report of trees blown d...</td>\n",
       "      <td>CSV</td>\n",
       "    </tr>\n",
       "    <tr>\n",
       "      <th>2</th>\n",
       "      <td>201607</td>\n",
       "      <td>16</td>\n",
       "      <td>1246</td>\n",
       "      <td>201607</td>\n",
       "      <td>16</td>\n",
       "      <td>1246</td>\n",
       "      <td>108812</td>\n",
       "      <td>651828</td>\n",
       "      <td>NORTH CAROLINA</td>\n",
       "      <td>37</td>\n",
       "      <td>2016</td>\n",
       "      <td>July</td>\n",
       "      <td>Thunderstorm Wind</td>\n",
       "      <td>C</td>\n",
       "      <td>111</td>\n",
       "      <td>MCDOWELL</td>\n",
       "      <td>GSP</td>\n",
       "      <td>16-JUL-16 12:46:00</td>\n",
       "      <td>EST-5</td>\n",
       "      <td>16-JUL-16 12:46:00</td>\n",
       "      <td>0</td>\n",
       "      <td>0</td>\n",
       "      <td>0</td>\n",
       "      <td>0</td>\n",
       "      <td>0.00K</td>\n",
       "      <td>0.00K</td>\n",
       "      <td>Broadcast Media</td>\n",
       "      <td>50.0</td>\n",
       "      <td>EG</td>\n",
       "      <td>NaN</td>\n",
       "      <td>NaN</td>\n",
       "      <td>NaN</td>\n",
       "      <td>NaN</td>\n",
       "      <td>NaN</td>\n",
       "      <td>NaN</td>\n",
       "      <td>NaN</td>\n",
       "      <td>NaN</td>\n",
       "      <td>NaN</td>\n",
       "      <td>2.0</td>\n",
       "      <td>ENE</td>\n",
       "      <td>OLD FT</td>\n",
       "      <td>2.0</td>\n",
       "      <td>ENE</td>\n",
       "      <td>OLD FT</td>\n",
       "      <td>35.64</td>\n",
       "      <td>-82.14</td>\n",
       "      <td>35.64</td>\n",
       "      <td>-82.14</td>\n",
       "      <td>Scattered thunderstorms developed near the Blu...</td>\n",
       "      <td>Media reported two trees blown down along I-40...</td>\n",
       "      <td>CSV</td>\n",
       "    </tr>\n",
       "    <tr>\n",
       "      <th>3</th>\n",
       "      <td>201607</td>\n",
       "      <td>8</td>\n",
       "      <td>1755</td>\n",
       "      <td>201607</td>\n",
       "      <td>8</td>\n",
       "      <td>1755</td>\n",
       "      <td>105872</td>\n",
       "      <td>635287</td>\n",
       "      <td>TENNESSEE</td>\n",
       "      <td>47</td>\n",
       "      <td>2016</td>\n",
       "      <td>July</td>\n",
       "      <td>Thunderstorm Wind</td>\n",
       "      <td>C</td>\n",
       "      <td>105</td>\n",
       "      <td>LOUDON</td>\n",
       "      <td>MRX</td>\n",
       "      <td>08-JUL-16 17:55:00</td>\n",
       "      <td>EST-5</td>\n",
       "      <td>08-JUL-16 17:55:00</td>\n",
       "      <td>0</td>\n",
       "      <td>0</td>\n",
       "      <td>0</td>\n",
       "      <td>0</td>\n",
       "      <td>NaN</td>\n",
       "      <td>NaN</td>\n",
       "      <td>Public</td>\n",
       "      <td>50.0</td>\n",
       "      <td>EG</td>\n",
       "      <td>NaN</td>\n",
       "      <td>NaN</td>\n",
       "      <td>NaN</td>\n",
       "      <td>NaN</td>\n",
       "      <td>NaN</td>\n",
       "      <td>NaN</td>\n",
       "      <td>NaN</td>\n",
       "      <td>NaN</td>\n",
       "      <td>NaN</td>\n",
       "      <td>1.0</td>\n",
       "      <td>W</td>\n",
       "      <td>JENA</td>\n",
       "      <td>1.0</td>\n",
       "      <td>W</td>\n",
       "      <td>JENA</td>\n",
       "      <td>35.65</td>\n",
       "      <td>-84.18</td>\n",
       "      <td>35.65</td>\n",
       "      <td>-84.18</td>\n",
       "      <td>The combination of summer heating and high low...</td>\n",
       "      <td>Numerous trees were reported down in the Green...</td>\n",
       "      <td>CSV</td>\n",
       "    </tr>\n",
       "    <tr>\n",
       "      <th>4</th>\n",
       "      <td>201607</td>\n",
       "      <td>8</td>\n",
       "      <td>1810</td>\n",
       "      <td>201607</td>\n",
       "      <td>8</td>\n",
       "      <td>1810</td>\n",
       "      <td>105872</td>\n",
       "      <td>635296</td>\n",
       "      <td>TENNESSEE</td>\n",
       "      <td>47</td>\n",
       "      <td>2016</td>\n",
       "      <td>July</td>\n",
       "      <td>Thunderstorm Wind</td>\n",
       "      <td>C</td>\n",
       "      <td>155</td>\n",
       "      <td>SEVIER</td>\n",
       "      <td>MRX</td>\n",
       "      <td>08-JUL-16 18:10:00</td>\n",
       "      <td>EST-5</td>\n",
       "      <td>08-JUL-16 18:10:00</td>\n",
       "      <td>0</td>\n",
       "      <td>0</td>\n",
       "      <td>0</td>\n",
       "      <td>0</td>\n",
       "      <td>NaN</td>\n",
       "      <td>NaN</td>\n",
       "      <td>State Official</td>\n",
       "      <td>60.0</td>\n",
       "      <td>EG</td>\n",
       "      <td>NaN</td>\n",
       "      <td>NaN</td>\n",
       "      <td>NaN</td>\n",
       "      <td>NaN</td>\n",
       "      <td>NaN</td>\n",
       "      <td>NaN</td>\n",
       "      <td>NaN</td>\n",
       "      <td>NaN</td>\n",
       "      <td>NaN</td>\n",
       "      <td>1.0</td>\n",
       "      <td>WSW</td>\n",
       "      <td>PITNER</td>\n",
       "      <td>1.0</td>\n",
       "      <td>WSW</td>\n",
       "      <td>PITNER</td>\n",
       "      <td>35.87</td>\n",
       "      <td>-83.77</td>\n",
       "      <td>35.87</td>\n",
       "      <td>-83.77</td>\n",
       "      <td>The combination of summer heating and high low...</td>\n",
       "      <td>Numerous trees were reported down in Seymour. ...</td>\n",
       "      <td>CSV</td>\n",
       "    </tr>\n",
       "  </tbody>\n",
       "</table>\n",
       "</div>"
      ],
      "text/plain": [
       "   BEGIN_YEARMONTH  BEGIN_DAY  BEGIN_TIME  END_YEARMONTH  END_DAY  END_TIME  EPISODE_ID  EVENT_ID           STATE  STATE_FIPS  YEAR MONTH_NAME         EVENT_TYPE CZ_TYPE  CZ_FIPS   CZ_NAME  WFO     BEGIN_DATE_TIME CZ_TIMEZONE       END_DATE_TIME  INJURIES_DIRECT  INJURIES_INDIRECT  DEATHS_DIRECT  DEATHS_INDIRECT DAMAGE_PROPERTY DAMAGE_CROPS           SOURCE  MAGNITUDE MAGNITUDE_TYPE FLOOD_CAUSE  CATEGORY TOR_F_SCALE  TOR_LENGTH  TOR_WIDTH TOR_OTHER_WFO TOR_OTHER_CZ_STATE  TOR_OTHER_CZ_FIPS  \\\n",
       "0           201607         15        1715         201607       15      1715      108769    651823  SOUTH CAROLINA          45  2016       July         Heavy Rain       C       91      YORK  GSP  15-JUL-16 17:15:00       EST-5  15-JUL-16 17:15:00                0                  0              0                0           2.00K        0.00K     Social Media        NaN            NaN         NaN       NaN         NaN         NaN        NaN           NaN                NaN                NaN   \n",
       "1           201607         15        1725         201607       15      1725      108769    651825  SOUTH CAROLINA          45  2016       July  Thunderstorm Wind       C       91      YORK  GSP  15-JUL-16 17:25:00       EST-5  15-JUL-16 17:25:00                0                  0              0                0           0.00K        0.00K     NWS Employee       50.0             EG         NaN       NaN         NaN         NaN        NaN           NaN                NaN                NaN   \n",
       "2           201607         16        1246         201607       16      1246      108812    651828  NORTH CAROLINA          37  2016       July  Thunderstorm Wind       C      111  MCDOWELL  GSP  16-JUL-16 12:46:00       EST-5  16-JUL-16 12:46:00                0                  0              0                0           0.00K        0.00K  Broadcast Media       50.0             EG         NaN       NaN         NaN         NaN        NaN           NaN                NaN                NaN   \n",
       "3           201607          8        1755         201607        8      1755      105872    635287       TENNESSEE          47  2016       July  Thunderstorm Wind       C      105    LOUDON  MRX  08-JUL-16 17:55:00       EST-5  08-JUL-16 17:55:00                0                  0              0                0             NaN          NaN           Public       50.0             EG         NaN       NaN         NaN         NaN        NaN           NaN                NaN                NaN   \n",
       "4           201607          8        1810         201607        8      1810      105872    635296       TENNESSEE          47  2016       July  Thunderstorm Wind       C      155    SEVIER  MRX  08-JUL-16 18:10:00       EST-5  08-JUL-16 18:10:00                0                  0              0                0             NaN          NaN   State Official       60.0             EG         NaN       NaN         NaN         NaN        NaN           NaN                NaN                NaN   \n",
       "\n",
       "  TOR_OTHER_CZ_NAME  BEGIN_RANGE BEGIN_AZIMUTH BEGIN_LOCATION  END_RANGE END_AZIMUTH END_LOCATION  BEGIN_LAT  BEGIN_LON  END_LAT  END_LON                                  EPISODE_NARRATIVE                                    EVENT_NARRATIVE DATA_SOURCE  \n",
       "0               NaN          1.0             N      BOYD HILL        1.0           N    BOYD HILL      34.94     -81.03    34.94   -81.03  Scattered thunderstorms developed across the U...  One to two feet of deep standing water develop...         CSV  \n",
       "1               NaN          1.0             S        FT MILL        1.0           S      FT MILL      35.01     -80.93    35.01   -80.93  Scattered thunderstorms developed across the U...  NWS Columbia relayed a report of trees blown d...         CSV  \n",
       "2               NaN          2.0           ENE         OLD FT        2.0         ENE       OLD FT      35.64     -82.14    35.64   -82.14  Scattered thunderstorms developed near the Blu...  Media reported two trees blown down along I-40...         CSV  \n",
       "3               NaN          1.0             W           JENA        1.0           W         JENA      35.65     -84.18    35.65   -84.18  The combination of summer heating and high low...  Numerous trees were reported down in the Green...         CSV  \n",
       "4               NaN          1.0           WSW         PITNER        1.0         WSW       PITNER      35.87     -83.77    35.87   -83.77  The combination of summer heating and high low...  Numerous trees were reported down in Seymour. ...         CSV  "
      ]
     },
     "execution_count": 2,
     "metadata": {},
     "output_type": "execute_result"
    }
   ],
   "source": [
    "# load in all data for 2016 and 2017\n",
    "\n",
    "details_2016 = pd.read_csv('Details_2016.csv')\n",
    "details_2017 = pd.read_csv('Details_2017.csv')\n",
    "locations_2016 = pd.read_csv('Locations_2016.csv')\n",
    "locations_2017 = pd.read_csv('Locations_2017.csv')\n",
    "fatalities_2016 = pd.read_csv('Fatalities_2016.csv')\n",
    "fatalities_2017 = pd.read_csv('Fatalities_2017.csv')\n",
    "\n",
    "print(details_2016.shape)\n",
    "details_2016.head()"
   ]
  },
  {
   "cell_type": "code",
   "execution_count": 3,
   "metadata": {
    "collapsed": false
   },
   "outputs": [
    {
     "name": "stdout",
     "output_type": "stream",
     "text": [
      "(103177, 51)\n"
     ]
    },
    {
     "data": {
      "text/html": [
       "<div>\n",
       "<table border=\"1\" class=\"dataframe\">\n",
       "  <thead>\n",
       "    <tr style=\"text-align: right;\">\n",
       "      <th></th>\n",
       "      <th>BEGIN_YEARMONTH</th>\n",
       "      <th>BEGIN_DAY</th>\n",
       "      <th>BEGIN_TIME</th>\n",
       "      <th>END_YEARMONTH</th>\n",
       "      <th>END_DAY</th>\n",
       "      <th>END_TIME</th>\n",
       "      <th>EPISODE_ID</th>\n",
       "      <th>EVENT_ID</th>\n",
       "      <th>STATE</th>\n",
       "      <th>STATE_FIPS</th>\n",
       "      <th>YEAR</th>\n",
       "      <th>MONTH_NAME</th>\n",
       "      <th>EVENT_TYPE</th>\n",
       "      <th>CZ_TYPE</th>\n",
       "      <th>CZ_FIPS</th>\n",
       "      <th>CZ_NAME</th>\n",
       "      <th>WFO</th>\n",
       "      <th>BEGIN_DATE_TIME</th>\n",
       "      <th>CZ_TIMEZONE</th>\n",
       "      <th>END_DATE_TIME</th>\n",
       "      <th>INJURIES_DIRECT</th>\n",
       "      <th>INJURIES_INDIRECT</th>\n",
       "      <th>DEATHS_DIRECT</th>\n",
       "      <th>DEATHS_INDIRECT</th>\n",
       "      <th>DAMAGE_PROPERTY</th>\n",
       "      <th>DAMAGE_CROPS</th>\n",
       "      <th>SOURCE</th>\n",
       "      <th>MAGNITUDE</th>\n",
       "      <th>MAGNITUDE_TYPE</th>\n",
       "      <th>FLOOD_CAUSE</th>\n",
       "      <th>CATEGORY</th>\n",
       "      <th>TOR_F_SCALE</th>\n",
       "      <th>TOR_LENGTH</th>\n",
       "      <th>TOR_WIDTH</th>\n",
       "      <th>TOR_OTHER_WFO</th>\n",
       "      <th>TOR_OTHER_CZ_STATE</th>\n",
       "      <th>TOR_OTHER_CZ_FIPS</th>\n",
       "      <th>TOR_OTHER_CZ_NAME</th>\n",
       "      <th>BEGIN_RANGE</th>\n",
       "      <th>BEGIN_AZIMUTH</th>\n",
       "      <th>BEGIN_LOCATION</th>\n",
       "      <th>END_RANGE</th>\n",
       "      <th>END_AZIMUTH</th>\n",
       "      <th>END_LOCATION</th>\n",
       "      <th>BEGIN_LAT</th>\n",
       "      <th>BEGIN_LON</th>\n",
       "      <th>END_LAT</th>\n",
       "      <th>END_LON</th>\n",
       "      <th>EPISODE_NARRATIVE</th>\n",
       "      <th>EVENT_NARRATIVE</th>\n",
       "      <th>DATA_SOURCE</th>\n",
       "    </tr>\n",
       "  </thead>\n",
       "  <tbody>\n",
       "    <tr>\n",
       "      <th>0</th>\n",
       "      <td>201607</td>\n",
       "      <td>15</td>\n",
       "      <td>1715</td>\n",
       "      <td>201607</td>\n",
       "      <td>15</td>\n",
       "      <td>1715</td>\n",
       "      <td>108769</td>\n",
       "      <td>651823</td>\n",
       "      <td>SOUTH CAROLINA</td>\n",
       "      <td>45</td>\n",
       "      <td>2016</td>\n",
       "      <td>July</td>\n",
       "      <td>Heavy Rain</td>\n",
       "      <td>C</td>\n",
       "      <td>91</td>\n",
       "      <td>YORK</td>\n",
       "      <td>GSP</td>\n",
       "      <td>15-JUL-16 17:15:00</td>\n",
       "      <td>EST-5</td>\n",
       "      <td>15-JUL-16 17:15:00</td>\n",
       "      <td>0</td>\n",
       "      <td>0</td>\n",
       "      <td>0</td>\n",
       "      <td>0</td>\n",
       "      <td>2.00K</td>\n",
       "      <td>0.00K</td>\n",
       "      <td>Social Media</td>\n",
       "      <td>NaN</td>\n",
       "      <td>NaN</td>\n",
       "      <td>NaN</td>\n",
       "      <td>NaN</td>\n",
       "      <td>NaN</td>\n",
       "      <td>NaN</td>\n",
       "      <td>NaN</td>\n",
       "      <td>NaN</td>\n",
       "      <td>NaN</td>\n",
       "      <td>NaN</td>\n",
       "      <td>NaN</td>\n",
       "      <td>1.0</td>\n",
       "      <td>N</td>\n",
       "      <td>BOYD HILL</td>\n",
       "      <td>1.0</td>\n",
       "      <td>N</td>\n",
       "      <td>BOYD HILL</td>\n",
       "      <td>34.94</td>\n",
       "      <td>-81.03</td>\n",
       "      <td>34.94</td>\n",
       "      <td>-81.03</td>\n",
       "      <td>Scattered thunderstorms developed across the U...</td>\n",
       "      <td>One to two feet of deep standing water develop...</td>\n",
       "      <td>CSV</td>\n",
       "    </tr>\n",
       "    <tr>\n",
       "      <th>1</th>\n",
       "      <td>201607</td>\n",
       "      <td>15</td>\n",
       "      <td>1725</td>\n",
       "      <td>201607</td>\n",
       "      <td>15</td>\n",
       "      <td>1725</td>\n",
       "      <td>108769</td>\n",
       "      <td>651825</td>\n",
       "      <td>SOUTH CAROLINA</td>\n",
       "      <td>45</td>\n",
       "      <td>2016</td>\n",
       "      <td>July</td>\n",
       "      <td>Thunderstorm Wind</td>\n",
       "      <td>C</td>\n",
       "      <td>91</td>\n",
       "      <td>YORK</td>\n",
       "      <td>GSP</td>\n",
       "      <td>15-JUL-16 17:25:00</td>\n",
       "      <td>EST-5</td>\n",
       "      <td>15-JUL-16 17:25:00</td>\n",
       "      <td>0</td>\n",
       "      <td>0</td>\n",
       "      <td>0</td>\n",
       "      <td>0</td>\n",
       "      <td>0.00K</td>\n",
       "      <td>0.00K</td>\n",
       "      <td>NWS Employee</td>\n",
       "      <td>50.0</td>\n",
       "      <td>EG</td>\n",
       "      <td>NaN</td>\n",
       "      <td>NaN</td>\n",
       "      <td>NaN</td>\n",
       "      <td>NaN</td>\n",
       "      <td>NaN</td>\n",
       "      <td>NaN</td>\n",
       "      <td>NaN</td>\n",
       "      <td>NaN</td>\n",
       "      <td>NaN</td>\n",
       "      <td>1.0</td>\n",
       "      <td>S</td>\n",
       "      <td>FT MILL</td>\n",
       "      <td>1.0</td>\n",
       "      <td>S</td>\n",
       "      <td>FT MILL</td>\n",
       "      <td>35.01</td>\n",
       "      <td>-80.93</td>\n",
       "      <td>35.01</td>\n",
       "      <td>-80.93</td>\n",
       "      <td>Scattered thunderstorms developed across the U...</td>\n",
       "      <td>NWS Columbia relayed a report of trees blown d...</td>\n",
       "      <td>CSV</td>\n",
       "    </tr>\n",
       "    <tr>\n",
       "      <th>2</th>\n",
       "      <td>201607</td>\n",
       "      <td>16</td>\n",
       "      <td>1246</td>\n",
       "      <td>201607</td>\n",
       "      <td>16</td>\n",
       "      <td>1246</td>\n",
       "      <td>108812</td>\n",
       "      <td>651828</td>\n",
       "      <td>NORTH CAROLINA</td>\n",
       "      <td>37</td>\n",
       "      <td>2016</td>\n",
       "      <td>July</td>\n",
       "      <td>Thunderstorm Wind</td>\n",
       "      <td>C</td>\n",
       "      <td>111</td>\n",
       "      <td>MCDOWELL</td>\n",
       "      <td>GSP</td>\n",
       "      <td>16-JUL-16 12:46:00</td>\n",
       "      <td>EST-5</td>\n",
       "      <td>16-JUL-16 12:46:00</td>\n",
       "      <td>0</td>\n",
       "      <td>0</td>\n",
       "      <td>0</td>\n",
       "      <td>0</td>\n",
       "      <td>0.00K</td>\n",
       "      <td>0.00K</td>\n",
       "      <td>Broadcast Media</td>\n",
       "      <td>50.0</td>\n",
       "      <td>EG</td>\n",
       "      <td>NaN</td>\n",
       "      <td>NaN</td>\n",
       "      <td>NaN</td>\n",
       "      <td>NaN</td>\n",
       "      <td>NaN</td>\n",
       "      <td>NaN</td>\n",
       "      <td>NaN</td>\n",
       "      <td>NaN</td>\n",
       "      <td>NaN</td>\n",
       "      <td>2.0</td>\n",
       "      <td>ENE</td>\n",
       "      <td>OLD FT</td>\n",
       "      <td>2.0</td>\n",
       "      <td>ENE</td>\n",
       "      <td>OLD FT</td>\n",
       "      <td>35.64</td>\n",
       "      <td>-82.14</td>\n",
       "      <td>35.64</td>\n",
       "      <td>-82.14</td>\n",
       "      <td>Scattered thunderstorms developed near the Blu...</td>\n",
       "      <td>Media reported two trees blown down along I-40...</td>\n",
       "      <td>CSV</td>\n",
       "    </tr>\n",
       "    <tr>\n",
       "      <th>3</th>\n",
       "      <td>201607</td>\n",
       "      <td>8</td>\n",
       "      <td>1755</td>\n",
       "      <td>201607</td>\n",
       "      <td>8</td>\n",
       "      <td>1755</td>\n",
       "      <td>105872</td>\n",
       "      <td>635287</td>\n",
       "      <td>TENNESSEE</td>\n",
       "      <td>47</td>\n",
       "      <td>2016</td>\n",
       "      <td>July</td>\n",
       "      <td>Thunderstorm Wind</td>\n",
       "      <td>C</td>\n",
       "      <td>105</td>\n",
       "      <td>LOUDON</td>\n",
       "      <td>MRX</td>\n",
       "      <td>08-JUL-16 17:55:00</td>\n",
       "      <td>EST-5</td>\n",
       "      <td>08-JUL-16 17:55:00</td>\n",
       "      <td>0</td>\n",
       "      <td>0</td>\n",
       "      <td>0</td>\n",
       "      <td>0</td>\n",
       "      <td>NaN</td>\n",
       "      <td>NaN</td>\n",
       "      <td>Public</td>\n",
       "      <td>50.0</td>\n",
       "      <td>EG</td>\n",
       "      <td>NaN</td>\n",
       "      <td>NaN</td>\n",
       "      <td>NaN</td>\n",
       "      <td>NaN</td>\n",
       "      <td>NaN</td>\n",
       "      <td>NaN</td>\n",
       "      <td>NaN</td>\n",
       "      <td>NaN</td>\n",
       "      <td>NaN</td>\n",
       "      <td>1.0</td>\n",
       "      <td>W</td>\n",
       "      <td>JENA</td>\n",
       "      <td>1.0</td>\n",
       "      <td>W</td>\n",
       "      <td>JENA</td>\n",
       "      <td>35.65</td>\n",
       "      <td>-84.18</td>\n",
       "      <td>35.65</td>\n",
       "      <td>-84.18</td>\n",
       "      <td>The combination of summer heating and high low...</td>\n",
       "      <td>Numerous trees were reported down in the Green...</td>\n",
       "      <td>CSV</td>\n",
       "    </tr>\n",
       "    <tr>\n",
       "      <th>4</th>\n",
       "      <td>201607</td>\n",
       "      <td>8</td>\n",
       "      <td>1810</td>\n",
       "      <td>201607</td>\n",
       "      <td>8</td>\n",
       "      <td>1810</td>\n",
       "      <td>105872</td>\n",
       "      <td>635296</td>\n",
       "      <td>TENNESSEE</td>\n",
       "      <td>47</td>\n",
       "      <td>2016</td>\n",
       "      <td>July</td>\n",
       "      <td>Thunderstorm Wind</td>\n",
       "      <td>C</td>\n",
       "      <td>155</td>\n",
       "      <td>SEVIER</td>\n",
       "      <td>MRX</td>\n",
       "      <td>08-JUL-16 18:10:00</td>\n",
       "      <td>EST-5</td>\n",
       "      <td>08-JUL-16 18:10:00</td>\n",
       "      <td>0</td>\n",
       "      <td>0</td>\n",
       "      <td>0</td>\n",
       "      <td>0</td>\n",
       "      <td>NaN</td>\n",
       "      <td>NaN</td>\n",
       "      <td>State Official</td>\n",
       "      <td>60.0</td>\n",
       "      <td>EG</td>\n",
       "      <td>NaN</td>\n",
       "      <td>NaN</td>\n",
       "      <td>NaN</td>\n",
       "      <td>NaN</td>\n",
       "      <td>NaN</td>\n",
       "      <td>NaN</td>\n",
       "      <td>NaN</td>\n",
       "      <td>NaN</td>\n",
       "      <td>NaN</td>\n",
       "      <td>1.0</td>\n",
       "      <td>WSW</td>\n",
       "      <td>PITNER</td>\n",
       "      <td>1.0</td>\n",
       "      <td>WSW</td>\n",
       "      <td>PITNER</td>\n",
       "      <td>35.87</td>\n",
       "      <td>-83.77</td>\n",
       "      <td>35.87</td>\n",
       "      <td>-83.77</td>\n",
       "      <td>The combination of summer heating and high low...</td>\n",
       "      <td>Numerous trees were reported down in Seymour. ...</td>\n",
       "      <td>CSV</td>\n",
       "    </tr>\n",
       "  </tbody>\n",
       "</table>\n",
       "</div>"
      ],
      "text/plain": [
       "   BEGIN_YEARMONTH  BEGIN_DAY  BEGIN_TIME  END_YEARMONTH  END_DAY  END_TIME  EPISODE_ID  EVENT_ID           STATE  STATE_FIPS  YEAR MONTH_NAME         EVENT_TYPE CZ_TYPE  CZ_FIPS   CZ_NAME  WFO     BEGIN_DATE_TIME CZ_TIMEZONE       END_DATE_TIME  INJURIES_DIRECT  INJURIES_INDIRECT  DEATHS_DIRECT  DEATHS_INDIRECT DAMAGE_PROPERTY DAMAGE_CROPS           SOURCE  MAGNITUDE MAGNITUDE_TYPE FLOOD_CAUSE  CATEGORY TOR_F_SCALE  TOR_LENGTH  TOR_WIDTH TOR_OTHER_WFO TOR_OTHER_CZ_STATE  TOR_OTHER_CZ_FIPS  \\\n",
       "0           201607         15        1715         201607       15      1715      108769    651823  SOUTH CAROLINA          45  2016       July         Heavy Rain       C       91      YORK  GSP  15-JUL-16 17:15:00       EST-5  15-JUL-16 17:15:00                0                  0              0                0           2.00K        0.00K     Social Media        NaN            NaN         NaN       NaN         NaN         NaN        NaN           NaN                NaN                NaN   \n",
       "1           201607         15        1725         201607       15      1725      108769    651825  SOUTH CAROLINA          45  2016       July  Thunderstorm Wind       C       91      YORK  GSP  15-JUL-16 17:25:00       EST-5  15-JUL-16 17:25:00                0                  0              0                0           0.00K        0.00K     NWS Employee       50.0             EG         NaN       NaN         NaN         NaN        NaN           NaN                NaN                NaN   \n",
       "2           201607         16        1246         201607       16      1246      108812    651828  NORTH CAROLINA          37  2016       July  Thunderstorm Wind       C      111  MCDOWELL  GSP  16-JUL-16 12:46:00       EST-5  16-JUL-16 12:46:00                0                  0              0                0           0.00K        0.00K  Broadcast Media       50.0             EG         NaN       NaN         NaN         NaN        NaN           NaN                NaN                NaN   \n",
       "3           201607          8        1755         201607        8      1755      105872    635287       TENNESSEE          47  2016       July  Thunderstorm Wind       C      105    LOUDON  MRX  08-JUL-16 17:55:00       EST-5  08-JUL-16 17:55:00                0                  0              0                0             NaN          NaN           Public       50.0             EG         NaN       NaN         NaN         NaN        NaN           NaN                NaN                NaN   \n",
       "4           201607          8        1810         201607        8      1810      105872    635296       TENNESSEE          47  2016       July  Thunderstorm Wind       C      155    SEVIER  MRX  08-JUL-16 18:10:00       EST-5  08-JUL-16 18:10:00                0                  0              0                0             NaN          NaN   State Official       60.0             EG         NaN       NaN         NaN         NaN        NaN           NaN                NaN                NaN   \n",
       "\n",
       "  TOR_OTHER_CZ_NAME  BEGIN_RANGE BEGIN_AZIMUTH BEGIN_LOCATION  END_RANGE END_AZIMUTH END_LOCATION  BEGIN_LAT  BEGIN_LON  END_LAT  END_LON                                  EPISODE_NARRATIVE                                    EVENT_NARRATIVE DATA_SOURCE  \n",
       "0               NaN          1.0             N      BOYD HILL        1.0           N    BOYD HILL      34.94     -81.03    34.94   -81.03  Scattered thunderstorms developed across the U...  One to two feet of deep standing water develop...         CSV  \n",
       "1               NaN          1.0             S        FT MILL        1.0           S      FT MILL      35.01     -80.93    35.01   -80.93  Scattered thunderstorms developed across the U...  NWS Columbia relayed a report of trees blown d...         CSV  \n",
       "2               NaN          2.0           ENE         OLD FT        2.0         ENE       OLD FT      35.64     -82.14    35.64   -82.14  Scattered thunderstorms developed near the Blu...  Media reported two trees blown down along I-40...         CSV  \n",
       "3               NaN          1.0             W           JENA        1.0           W         JENA      35.65     -84.18    35.65   -84.18  The combination of summer heating and high low...  Numerous trees were reported down in the Green...         CSV  \n",
       "4               NaN          1.0           WSW         PITNER        1.0         WSW       PITNER      35.87     -83.77    35.87   -83.77  The combination of summer heating and high low...  Numerous trees were reported down in Seymour. ...         CSV  "
      ]
     },
     "execution_count": 3,
     "metadata": {},
     "output_type": "execute_result"
    }
   ],
   "source": [
    "# vertically merge\n",
    "\n",
    "details = pd.concat([details_2016, details_2017])\n",
    "locations = pd.concat([locations_2016, locations_2017])\n",
    "fatalities = pd.concat([fatalities_2016, fatalities_2017])\n",
    "\n",
    "print(details.shape)\n",
    "details.head()"
   ]
  },
  {
   "cell_type": "markdown",
   "metadata": {},
   "source": [
    "# Part 2: Preliminary Data Analysis and Cleaning"
   ]
  },
  {
   "cell_type": "code",
   "execution_count": 4,
   "metadata": {
    "collapsed": false
   },
   "outputs": [
    {
     "name": "stdout",
     "output_type": "stream",
     "text": [
      "['BEGIN_YEARMONTH', 'BEGIN_DAY', 'BEGIN_TIME', 'END_YEARMONTH', 'END_DAY', 'END_TIME', 'EPISODE_ID', 'EVENT_ID', 'STATE', 'STATE_FIPS', 'YEAR', 'MONTH_NAME', 'EVENT_TYPE', 'CZ_TYPE', 'CZ_FIPS', 'CZ_NAME', 'WFO', 'BEGIN_DATE_TIME', 'CZ_TIMEZONE', 'END_DATE_TIME', 'INJURIES_DIRECT', 'INJURIES_INDIRECT', 'DEATHS_DIRECT', 'DEATHS_INDIRECT', 'DAMAGE_PROPERTY', 'DAMAGE_CROPS', 'SOURCE', 'MAGNITUDE', 'MAGNITUDE_TYPE', 'FLOOD_CAUSE', 'CATEGORY', 'TOR_F_SCALE', 'TOR_LENGTH', 'TOR_WIDTH', 'TOR_OTHER_WFO', 'TOR_OTHER_CZ_STATE', 'TOR_OTHER_CZ_FIPS', 'TOR_OTHER_CZ_NAME', 'BEGIN_RANGE', 'BEGIN_AZIMUTH', 'BEGIN_LOCATION', 'END_RANGE', 'END_AZIMUTH', 'END_LOCATION', 'BEGIN_LAT', 'BEGIN_LON', 'END_LAT', 'END_LON', 'EPISODE_NARRATIVE', 'EVENT_NARRATIVE', 'DATA_SOURCE']\n",
      "\n",
      "['YEARMONTH', 'EPISODE_ID', 'EVENT_ID', 'LOCATION_INDEX', 'RANGE', 'AZIMUTH', 'LOCATION', 'LATITUDE', 'LONGITUDE', 'LAT2', 'LON2']\n",
      "\n",
      "['FAT_YEARMONTH', 'FAT_DAY', 'FAT_TIME', 'FATALITY_ID', 'EVENT_ID', 'FATALITY_TYPE', 'FATALITY_DATE', 'FATALITY_AGE', 'FATALITY_SEX', 'FATALITY_LOCATION', 'EVENT_YEARMONTH']\n"
     ]
    }
   ],
   "source": [
    "# look at column names\n",
    "\n",
    "print(list(details.columns))\n",
    "print()\n",
    "print(list(locations.columns))\n",
    "print()\n",
    "print(list(fatalities.columns))"
   ]
  },
  {
   "cell_type": "code",
   "execution_count": 5,
   "metadata": {
    "collapsed": false
   },
   "outputs": [
    {
     "name": "stdout",
     "output_type": "stream",
     "text": [
      "20501\n",
      "20501\n"
     ]
    }
   ],
   "source": [
    "# re-format Property and Crop Damage\n",
    "\n",
    "print(details['DAMAGE_PROPERTY'][details['DAMAGE_PROPERTY'].isnull()].size)\n",
    "\n",
    "damage_property = []\n",
    "for i in details[\"DAMAGE_PROPERTY\"]:\n",
    "    try:\n",
    "        dam = float(i.split('K')[0])*1000.0\n",
    "        damage_property.append(dam)\n",
    "    except:\n",
    "        try:\n",
    "            dam = float(i.split('M')[0])*1000000.0\n",
    "            damage_property.append(dam)\n",
    "        except:\n",
    "            try:\n",
    "                dam = float(i.split('B')[0])*1000000000.0\n",
    "                damage_property.append(dam)\n",
    "            except:\n",
    "                try:\n",
    "                    dam = float(i)*1.0\n",
    "                    damage_property.append(dam)\n",
    "                except:\n",
    "                    print(i)\n",
    "                    \n",
    "damage_crops = []\n",
    "for i in details[\"DAMAGE_CROPS\"]:\n",
    "    try:\n",
    "        dam = float(i.split('K')[0])*1000.0\n",
    "        damage_crops.append(dam)\n",
    "    except:\n",
    "        try:\n",
    "            dam = float(i.split('M')[0])*1000000.0\n",
    "            damage_crops.append(dam)\n",
    "        except:\n",
    "            try:\n",
    "                dam = float(i.split('B')[0])*1000000000.0\n",
    "                damage_crops.append(dam)\n",
    "            except:\n",
    "                try:\n",
    "                    dam = float(i)*1.0\n",
    "                    damage_crops.append(dam)\n",
    "                except:\n",
    "                    print(i)\n",
    "                    \n",
    "details[\"DAMAGE_PROPERTY\"] = damage_property\n",
    "details[\"DAMAGE_CROPS\"] = damage_crops\n",
    "\n",
    "print(details['DAMAGE_PROPERTY'][details['DAMAGE_PROPERTY'].isnull()].size)\n",
    "        \n",
    "# create new Total Damage Column\n",
    "    \n",
    "details['DAMAGE_TOTAL'] = details['DAMAGE_PROPERTY'] + details['DAMAGE_CROPS']"
   ]
  },
  {
   "cell_type": "code",
   "execution_count": 6,
   "metadata": {
    "collapsed": false
   },
   "outputs": [
    {
     "data": {
      "text/plain": [
       "0    1\n",
       "1    0\n",
       "2    0\n",
       "3    0\n",
       "4    0\n",
       "Name: HAS_DAMAGE, dtype: int64"
      ]
     },
     "execution_count": 6,
     "metadata": {},
     "output_type": "execute_result"
    }
   ],
   "source": [
    "# Make new categorical column for has_damage\n",
    "\n",
    "has_damage = []\n",
    "for x in details['DAMAGE_TOTAL']:\n",
    "    if x > 0.0:\n",
    "        has_damage.append(1)\n",
    "    else:\n",
    "        has_damage.append(0)\n",
    "\n",
    "details['HAS_DAMAGE'] = has_damage\n",
    "details['HAS_DAMAGE'].head()"
   ]
  },
  {
   "cell_type": "code",
   "execution_count": 7,
   "metadata": {
    "collapsed": false
   },
   "outputs": [
    {
     "name": "stdout",
     "output_type": "stream",
     "text": [
      "(87563, 62)\n"
     ]
    },
    {
     "data": {
      "text/html": [
       "<div>\n",
       "<table border=\"1\" class=\"dataframe\">\n",
       "  <thead>\n",
       "    <tr style=\"text-align: right;\">\n",
       "      <th></th>\n",
       "      <th>BEGIN_YEARMONTH</th>\n",
       "      <th>BEGIN_DAY</th>\n",
       "      <th>BEGIN_TIME</th>\n",
       "      <th>END_YEARMONTH</th>\n",
       "      <th>END_DAY</th>\n",
       "      <th>END_TIME</th>\n",
       "      <th>EPISODE_ID</th>\n",
       "      <th>EVENT_ID</th>\n",
       "      <th>STATE</th>\n",
       "      <th>STATE_FIPS</th>\n",
       "      <th>YEAR</th>\n",
       "      <th>MONTH_NAME</th>\n",
       "      <th>EVENT_TYPE</th>\n",
       "      <th>CZ_TYPE</th>\n",
       "      <th>CZ_FIPS</th>\n",
       "      <th>CZ_NAME</th>\n",
       "      <th>WFO</th>\n",
       "      <th>BEGIN_DATE_TIME</th>\n",
       "      <th>CZ_TIMEZONE</th>\n",
       "      <th>END_DATE_TIME</th>\n",
       "      <th>INJURIES_DIRECT</th>\n",
       "      <th>INJURIES_INDIRECT</th>\n",
       "      <th>DEATHS_DIRECT</th>\n",
       "      <th>DEATHS_INDIRECT</th>\n",
       "      <th>DAMAGE_PROPERTY</th>\n",
       "      <th>DAMAGE_CROPS</th>\n",
       "      <th>SOURCE</th>\n",
       "      <th>MAGNITUDE</th>\n",
       "      <th>MAGNITUDE_TYPE</th>\n",
       "      <th>FLOOD_CAUSE</th>\n",
       "      <th>CATEGORY</th>\n",
       "      <th>TOR_F_SCALE</th>\n",
       "      <th>TOR_LENGTH</th>\n",
       "      <th>TOR_WIDTH</th>\n",
       "      <th>TOR_OTHER_WFO</th>\n",
       "      <th>TOR_OTHER_CZ_STATE</th>\n",
       "      <th>TOR_OTHER_CZ_FIPS</th>\n",
       "      <th>TOR_OTHER_CZ_NAME</th>\n",
       "      <th>BEGIN_RANGE</th>\n",
       "      <th>BEGIN_AZIMUTH</th>\n",
       "      <th>BEGIN_LOCATION</th>\n",
       "      <th>END_RANGE</th>\n",
       "      <th>END_AZIMUTH</th>\n",
       "      <th>END_LOCATION</th>\n",
       "      <th>BEGIN_LAT</th>\n",
       "      <th>BEGIN_LON</th>\n",
       "      <th>END_LAT</th>\n",
       "      <th>END_LON</th>\n",
       "      <th>EPISODE_NARRATIVE</th>\n",
       "      <th>EVENT_NARRATIVE</th>\n",
       "      <th>DATA_SOURCE</th>\n",
       "      <th>DAMAGE_TOTAL</th>\n",
       "      <th>HAS_DAMAGE</th>\n",
       "      <th>YEARMONTH</th>\n",
       "      <th>LOCATION_INDEX</th>\n",
       "      <th>RANGE</th>\n",
       "      <th>AZIMUTH</th>\n",
       "      <th>LOCATION</th>\n",
       "      <th>LATITUDE</th>\n",
       "      <th>LONGITUDE</th>\n",
       "      <th>LAT2</th>\n",
       "      <th>LON2</th>\n",
       "    </tr>\n",
       "  </thead>\n",
       "  <tbody>\n",
       "    <tr>\n",
       "      <th>0</th>\n",
       "      <td>201603</td>\n",
       "      <td>15</td>\n",
       "      <td>2316</td>\n",
       "      <td>201603</td>\n",
       "      <td>15</td>\n",
       "      <td>2316</td>\n",
       "      <td>102911</td>\n",
       "      <td>614969</td>\n",
       "      <td>WISCONSIN</td>\n",
       "      <td>55</td>\n",
       "      <td>2016</td>\n",
       "      <td>March</td>\n",
       "      <td>Hail</td>\n",
       "      <td>C</td>\n",
       "      <td>105</td>\n",
       "      <td>ROCK</td>\n",
       "      <td>MKX</td>\n",
       "      <td>15-MAR-16 23:16:00</td>\n",
       "      <td>CST-6</td>\n",
       "      <td>15-MAR-16 23:16:00</td>\n",
       "      <td>0</td>\n",
       "      <td>0</td>\n",
       "      <td>0</td>\n",
       "      <td>0</td>\n",
       "      <td>0.0</td>\n",
       "      <td>0.0</td>\n",
       "      <td>Public</td>\n",
       "      <td>1.00</td>\n",
       "      <td>NaN</td>\n",
       "      <td>NaN</td>\n",
       "      <td>NaN</td>\n",
       "      <td>NaN</td>\n",
       "      <td>NaN</td>\n",
       "      <td>NaN</td>\n",
       "      <td>NaN</td>\n",
       "      <td>NaN</td>\n",
       "      <td>NaN</td>\n",
       "      <td>NaN</td>\n",
       "      <td>1.0</td>\n",
       "      <td>N</td>\n",
       "      <td>EDGERTON</td>\n",
       "      <td>1.0</td>\n",
       "      <td>N</td>\n",
       "      <td>EDGERTON</td>\n",
       "      <td>42.8400</td>\n",
       "      <td>-89.0700</td>\n",
       "      <td>42.8400</td>\n",
       "      <td>-89.0700</td>\n",
       "      <td>A deepening low pressure area tracked from Wes...</td>\n",
       "      <td>NaN</td>\n",
       "      <td>CSV</td>\n",
       "      <td>0.0</td>\n",
       "      <td>0</td>\n",
       "      <td>201603</td>\n",
       "      <td>1</td>\n",
       "      <td>0.69</td>\n",
       "      <td>N</td>\n",
       "      <td>EDGERTON</td>\n",
       "      <td>42.8400</td>\n",
       "      <td>-89.0700</td>\n",
       "      <td>4250400</td>\n",
       "      <td>894200</td>\n",
       "    </tr>\n",
       "    <tr>\n",
       "      <th>1</th>\n",
       "      <td>201603</td>\n",
       "      <td>15</td>\n",
       "      <td>2239</td>\n",
       "      <td>201603</td>\n",
       "      <td>15</td>\n",
       "      <td>2300</td>\n",
       "      <td>102911</td>\n",
       "      <td>619253</td>\n",
       "      <td>WISCONSIN</td>\n",
       "      <td>55</td>\n",
       "      <td>2016</td>\n",
       "      <td>March</td>\n",
       "      <td>Lightning</td>\n",
       "      <td>C</td>\n",
       "      <td>133</td>\n",
       "      <td>WAUKESHA</td>\n",
       "      <td>MKX</td>\n",
       "      <td>15-MAR-16 22:39:00</td>\n",
       "      <td>CST-6</td>\n",
       "      <td>15-MAR-16 23:00:00</td>\n",
       "      <td>0</td>\n",
       "      <td>0</td>\n",
       "      <td>0</td>\n",
       "      <td>0</td>\n",
       "      <td>1000.0</td>\n",
       "      <td>0.0</td>\n",
       "      <td>Law Enforcement</td>\n",
       "      <td>NaN</td>\n",
       "      <td>NaN</td>\n",
       "      <td>NaN</td>\n",
       "      <td>NaN</td>\n",
       "      <td>NaN</td>\n",
       "      <td>NaN</td>\n",
       "      <td>NaN</td>\n",
       "      <td>NaN</td>\n",
       "      <td>NaN</td>\n",
       "      <td>NaN</td>\n",
       "      <td>NaN</td>\n",
       "      <td>1.0</td>\n",
       "      <td>NNE</td>\n",
       "      <td>HARTLAND</td>\n",
       "      <td>1.0</td>\n",
       "      <td>NNE</td>\n",
       "      <td>HARTLAND</td>\n",
       "      <td>43.1069</td>\n",
       "      <td>-88.3468</td>\n",
       "      <td>43.1069</td>\n",
       "      <td>-88.3468</td>\n",
       "      <td>A deepening low pressure area tracked from Wes...</td>\n",
       "      <td>Lightning struck a tree and then traveled into...</td>\n",
       "      <td>CSV</td>\n",
       "      <td>1000.0</td>\n",
       "      <td>1</td>\n",
       "      <td>201603</td>\n",
       "      <td>1</td>\n",
       "      <td>0.50</td>\n",
       "      <td>NNE</td>\n",
       "      <td>HARTLAND</td>\n",
       "      <td>43.1069</td>\n",
       "      <td>-88.3468</td>\n",
       "      <td>436414</td>\n",
       "      <td>8820808</td>\n",
       "    </tr>\n",
       "    <tr>\n",
       "      <th>2</th>\n",
       "      <td>201607</td>\n",
       "      <td>7</td>\n",
       "      <td>2137</td>\n",
       "      <td>201607</td>\n",
       "      <td>7</td>\n",
       "      <td>2137</td>\n",
       "      <td>108811</td>\n",
       "      <td>651842</td>\n",
       "      <td>KANSAS</td>\n",
       "      <td>20</td>\n",
       "      <td>2016</td>\n",
       "      <td>July</td>\n",
       "      <td>Hail</td>\n",
       "      <td>C</td>\n",
       "      <td>109</td>\n",
       "      <td>LOGAN</td>\n",
       "      <td>GLD</td>\n",
       "      <td>07-JUL-16 21:37:00</td>\n",
       "      <td>CST-6</td>\n",
       "      <td>07-JUL-16 21:37:00</td>\n",
       "      <td>0</td>\n",
       "      <td>0</td>\n",
       "      <td>0</td>\n",
       "      <td>0</td>\n",
       "      <td>0.0</td>\n",
       "      <td>0.0</td>\n",
       "      <td>Public</td>\n",
       "      <td>4.00</td>\n",
       "      <td>NaN</td>\n",
       "      <td>NaN</td>\n",
       "      <td>NaN</td>\n",
       "      <td>NaN</td>\n",
       "      <td>NaN</td>\n",
       "      <td>NaN</td>\n",
       "      <td>NaN</td>\n",
       "      <td>NaN</td>\n",
       "      <td>NaN</td>\n",
       "      <td>NaN</td>\n",
       "      <td>11.0</td>\n",
       "      <td>S</td>\n",
       "      <td>OAKLEY MUNI ARPT</td>\n",
       "      <td>11.0</td>\n",
       "      <td>S</td>\n",
       "      <td>OAKLEY MUNI ARPT</td>\n",
       "      <td>38.9686</td>\n",
       "      <td>-100.8518</td>\n",
       "      <td>38.9686</td>\n",
       "      <td>-100.8518</td>\n",
       "      <td>During the early evening a cold front moved th...</td>\n",
       "      <td>Measured size of the hail was 3.75 inches in d...</td>\n",
       "      <td>CSV</td>\n",
       "      <td>0.0</td>\n",
       "      <td>0</td>\n",
       "      <td>201607</td>\n",
       "      <td>1</td>\n",
       "      <td>10.60</td>\n",
       "      <td>S</td>\n",
       "      <td>OAKLEY MUNI ARPT</td>\n",
       "      <td>38.9686</td>\n",
       "      <td>-100.8518</td>\n",
       "      <td>3858116</td>\n",
       "      <td>10051108</td>\n",
       "    </tr>\n",
       "    <tr>\n",
       "      <th>3</th>\n",
       "      <td>201607</td>\n",
       "      <td>7</td>\n",
       "      <td>2013</td>\n",
       "      <td>201607</td>\n",
       "      <td>7</td>\n",
       "      <td>2013</td>\n",
       "      <td>108811</td>\n",
       "      <td>651844</td>\n",
       "      <td>KANSAS</td>\n",
       "      <td>20</td>\n",
       "      <td>2016</td>\n",
       "      <td>July</td>\n",
       "      <td>Thunderstorm Wind</td>\n",
       "      <td>C</td>\n",
       "      <td>193</td>\n",
       "      <td>THOMAS</td>\n",
       "      <td>GLD</td>\n",
       "      <td>07-JUL-16 20:13:00</td>\n",
       "      <td>CST-6</td>\n",
       "      <td>07-JUL-16 20:13:00</td>\n",
       "      <td>0</td>\n",
       "      <td>0</td>\n",
       "      <td>0</td>\n",
       "      <td>0</td>\n",
       "      <td>0.0</td>\n",
       "      <td>0.0</td>\n",
       "      <td>Mesonet</td>\n",
       "      <td>52.00</td>\n",
       "      <td>MG</td>\n",
       "      <td>NaN</td>\n",
       "      <td>NaN</td>\n",
       "      <td>NaN</td>\n",
       "      <td>NaN</td>\n",
       "      <td>NaN</td>\n",
       "      <td>NaN</td>\n",
       "      <td>NaN</td>\n",
       "      <td>NaN</td>\n",
       "      <td>NaN</td>\n",
       "      <td>2.0</td>\n",
       "      <td>E</td>\n",
       "      <td>COLBY</td>\n",
       "      <td>2.0</td>\n",
       "      <td>E</td>\n",
       "      <td>COLBY</td>\n",
       "      <td>39.4001</td>\n",
       "      <td>-101.0130</td>\n",
       "      <td>39.4001</td>\n",
       "      <td>-101.0130</td>\n",
       "      <td>During the early evening a cold front moved th...</td>\n",
       "      <td>Estimated time of report from radar.</td>\n",
       "      <td>CSV</td>\n",
       "      <td>0.0</td>\n",
       "      <td>0</td>\n",
       "      <td>201607</td>\n",
       "      <td>1</td>\n",
       "      <td>1.98</td>\n",
       "      <td>E</td>\n",
       "      <td>COLBY</td>\n",
       "      <td>39.4001</td>\n",
       "      <td>-101.0130</td>\n",
       "      <td>3924006</td>\n",
       "      <td>101780</td>\n",
       "    </tr>\n",
       "    <tr>\n",
       "      <th>4</th>\n",
       "      <td>201607</td>\n",
       "      <td>7</td>\n",
       "      <td>2116</td>\n",
       "      <td>201607</td>\n",
       "      <td>7</td>\n",
       "      <td>2116</td>\n",
       "      <td>108811</td>\n",
       "      <td>651857</td>\n",
       "      <td>KANSAS</td>\n",
       "      <td>20</td>\n",
       "      <td>2016</td>\n",
       "      <td>July</td>\n",
       "      <td>Hail</td>\n",
       "      <td>C</td>\n",
       "      <td>109</td>\n",
       "      <td>LOGAN</td>\n",
       "      <td>GLD</td>\n",
       "      <td>07-JUL-16 21:16:00</td>\n",
       "      <td>CST-6</td>\n",
       "      <td>07-JUL-16 21:16:00</td>\n",
       "      <td>0</td>\n",
       "      <td>0</td>\n",
       "      <td>0</td>\n",
       "      <td>0</td>\n",
       "      <td>0.0</td>\n",
       "      <td>0.0</td>\n",
       "      <td>Emergency Manager</td>\n",
       "      <td>1.75</td>\n",
       "      <td>NaN</td>\n",
       "      <td>NaN</td>\n",
       "      <td>NaN</td>\n",
       "      <td>NaN</td>\n",
       "      <td>NaN</td>\n",
       "      <td>NaN</td>\n",
       "      <td>NaN</td>\n",
       "      <td>NaN</td>\n",
       "      <td>NaN</td>\n",
       "      <td>NaN</td>\n",
       "      <td>6.0</td>\n",
       "      <td>SSW</td>\n",
       "      <td>OAKLEY MUNI ARPT</td>\n",
       "      <td>6.0</td>\n",
       "      <td>SSW</td>\n",
       "      <td>OAKLEY MUNI ARPT</td>\n",
       "      <td>39.0474</td>\n",
       "      <td>-100.8672</td>\n",
       "      <td>39.0474</td>\n",
       "      <td>-100.8672</td>\n",
       "      <td>During the early evening a cold front moved th...</td>\n",
       "      <td>Golf ball size hail broke rain gauge.  Estimat...</td>\n",
       "      <td>CSV</td>\n",
       "      <td>0.0</td>\n",
       "      <td>0</td>\n",
       "      <td>201607</td>\n",
       "      <td>1</td>\n",
       "      <td>5.62</td>\n",
       "      <td>SSW</td>\n",
       "      <td>OAKLEY MUNI ARPT</td>\n",
       "      <td>39.0474</td>\n",
       "      <td>-100.8672</td>\n",
       "      <td>392844</td>\n",
       "      <td>10052032</td>\n",
       "    </tr>\n",
       "  </tbody>\n",
       "</table>\n",
       "</div>"
      ],
      "text/plain": [
       "   BEGIN_YEARMONTH  BEGIN_DAY  BEGIN_TIME  END_YEARMONTH  END_DAY  END_TIME  EPISODE_ID  EVENT_ID      STATE  STATE_FIPS  YEAR MONTH_NAME         EVENT_TYPE CZ_TYPE  CZ_FIPS   CZ_NAME  WFO     BEGIN_DATE_TIME CZ_TIMEZONE       END_DATE_TIME  INJURIES_DIRECT  INJURIES_INDIRECT  DEATHS_DIRECT  DEATHS_INDIRECT  DAMAGE_PROPERTY  DAMAGE_CROPS             SOURCE  MAGNITUDE MAGNITUDE_TYPE FLOOD_CAUSE  CATEGORY TOR_F_SCALE  TOR_LENGTH  TOR_WIDTH TOR_OTHER_WFO TOR_OTHER_CZ_STATE  TOR_OTHER_CZ_FIPS  \\\n",
       "0           201603         15        2316         201603       15      2316      102911    614969  WISCONSIN          55  2016      March               Hail       C      105      ROCK  MKX  15-MAR-16 23:16:00       CST-6  15-MAR-16 23:16:00                0                  0              0                0              0.0           0.0             Public       1.00            NaN         NaN       NaN         NaN         NaN        NaN           NaN                NaN                NaN   \n",
       "1           201603         15        2239         201603       15      2300      102911    619253  WISCONSIN          55  2016      March          Lightning       C      133  WAUKESHA  MKX  15-MAR-16 22:39:00       CST-6  15-MAR-16 23:00:00                0                  0              0                0           1000.0           0.0    Law Enforcement        NaN            NaN         NaN       NaN         NaN         NaN        NaN           NaN                NaN                NaN   \n",
       "2           201607          7        2137         201607        7      2137      108811    651842     KANSAS          20  2016       July               Hail       C      109     LOGAN  GLD  07-JUL-16 21:37:00       CST-6  07-JUL-16 21:37:00                0                  0              0                0              0.0           0.0             Public       4.00            NaN         NaN       NaN         NaN         NaN        NaN           NaN                NaN                NaN   \n",
       "3           201607          7        2013         201607        7      2013      108811    651844     KANSAS          20  2016       July  Thunderstorm Wind       C      193    THOMAS  GLD  07-JUL-16 20:13:00       CST-6  07-JUL-16 20:13:00                0                  0              0                0              0.0           0.0            Mesonet      52.00             MG         NaN       NaN         NaN         NaN        NaN           NaN                NaN                NaN   \n",
       "4           201607          7        2116         201607        7      2116      108811    651857     KANSAS          20  2016       July               Hail       C      109     LOGAN  GLD  07-JUL-16 21:16:00       CST-6  07-JUL-16 21:16:00                0                  0              0                0              0.0           0.0  Emergency Manager       1.75            NaN         NaN       NaN         NaN         NaN        NaN           NaN                NaN                NaN   \n",
       "\n",
       "  TOR_OTHER_CZ_NAME  BEGIN_RANGE BEGIN_AZIMUTH    BEGIN_LOCATION  END_RANGE END_AZIMUTH      END_LOCATION  BEGIN_LAT  BEGIN_LON  END_LAT   END_LON                                  EPISODE_NARRATIVE                                    EVENT_NARRATIVE DATA_SOURCE  DAMAGE_TOTAL  HAS_DAMAGE  YEARMONTH  LOCATION_INDEX  RANGE AZIMUTH          LOCATION  LATITUDE  LONGITUDE     LAT2      LON2  \n",
       "0               NaN          1.0             N          EDGERTON        1.0           N          EDGERTON    42.8400   -89.0700  42.8400  -89.0700  A deepening low pressure area tracked from Wes...                                                NaN         CSV           0.0           0     201603               1   0.69       N          EDGERTON   42.8400   -89.0700  4250400    894200  \n",
       "1               NaN          1.0           NNE          HARTLAND        1.0         NNE          HARTLAND    43.1069   -88.3468  43.1069  -88.3468  A deepening low pressure area tracked from Wes...  Lightning struck a tree and then traveled into...         CSV        1000.0           1     201603               1   0.50     NNE          HARTLAND   43.1069   -88.3468   436414   8820808  \n",
       "2               NaN         11.0             S  OAKLEY MUNI ARPT       11.0           S  OAKLEY MUNI ARPT    38.9686  -100.8518  38.9686 -100.8518  During the early evening a cold front moved th...  Measured size of the hail was 3.75 inches in d...         CSV           0.0           0     201607               1  10.60       S  OAKLEY MUNI ARPT   38.9686  -100.8518  3858116  10051108  \n",
       "3               NaN          2.0             E             COLBY        2.0           E             COLBY    39.4001  -101.0130  39.4001 -101.0130  During the early evening a cold front moved th...               Estimated time of report from radar.         CSV           0.0           0     201607               1   1.98       E             COLBY   39.4001  -101.0130  3924006    101780  \n",
       "4               NaN          6.0           SSW  OAKLEY MUNI ARPT        6.0         SSW  OAKLEY MUNI ARPT    39.0474  -100.8672  39.0474 -100.8672  During the early evening a cold front moved th...  Golf ball size hail broke rain gauge.  Estimat...         CSV           0.0           0     201607               1   5.62     SSW  OAKLEY MUNI ARPT   39.0474  -100.8672   392844  10052032  "
      ]
     },
     "execution_count": 7,
     "metadata": {},
     "output_type": "execute_result"
    }
   ],
   "source": [
    "# merge details and location data\n",
    "\n",
    "data = pd.merge(details, locations, how='inner', on=['EPISODE_ID', 'EVENT_ID'])\n",
    "print(data.shape)\n",
    "data.head()\n",
    "\n",
    "## NOTE: possibility to merge on fatalities, but there are very few (766) so this would be a special case model\n",
    "## perhaps use for some final added analysis\n",
    "## data = pd.merge(data1, fatalities, how='inner', on=['EVENT_ID'])"
   ]
  },
  {
   "cell_type": "markdown",
   "metadata": {},
   "source": [
    "# Part 3: Some of our EDA"
   ]
  },
  {
   "cell_type": "code",
   "execution_count": 8,
   "metadata": {
    "collapsed": false
   },
   "outputs": [
    {
     "data": {
      "image/png": "[encoded data removed]",
      "text/plain": [
       "<matplotlib.figure.Figure at 0x10cd18e48>"
      ]
     },
     "metadata": {},
     "output_type": "display_data"
    }
   ],
   "source": [
    "# storm counts by state\n",
    "\n",
    "import seaborn as sns\n",
    "sns.set(color_codes=True)\n",
    "storm_counts_loc = np.unique(details['STATE'], return_counts=True)\n",
    "\n",
    "# plot this info\n",
    "fig, ax = plt.subplots(1, 1, figsize=(18, 5))\n",
    "\n",
    "ax.bar(range(67), storm_counts_loc[1], align='center', alpha=0.5)\n",
    "ax.set_xlim([-1, 67])\n",
    "ax.set_xticks(range(67))\n",
    "ax.set_xticklabels(storm_counts_loc[0], rotation=90)\n",
    "ax.set_xlabel('State/Region')\n",
    "ax.set_ylabel('Freq of Storms')\n",
    "ax.set_title('Frequency of Storms by State/Region')\n",
    "\n",
    "plt.show()"
   ]
  },
  {
   "cell_type": "code",
   "execution_count": 9,
   "metadata": {
    "collapsed": false
   },
   "outputs": [
    {
     "name": "stdout",
     "output_type": "stream",
     "text": [
      "(array(['April', 'August', 'December', 'February', 'January', 'July',\n",
      "       'June', 'March', 'May', 'November', 'October', 'September'], dtype=object), array([10699,  9110,  4514,  8680,  8563, 16912, 13249, 10688, 13064,\n",
      "        2066,  2349,  3283]))\n"
     ]
    },
    {
     "data": {
      "image/png": "[encoded data removed]",
      "text/plain": [
       "<matplotlib.figure.Figure at 0x11282e4a8>"
      ]
     },
     "metadata": {},
     "output_type": "display_data"
    }
   ],
   "source": [
    "# storm count by month\n",
    "\n",
    "storm_counts_mo = np.unique(details['MONTH_NAME'], return_counts=True)\n",
    "print(storm_counts_mo)\n",
    "\n",
    "# plot this info\n",
    "fig, ax = plt.subplots(1, 1, figsize=(18, 5))\n",
    "\n",
    "ax.bar(range(12), storm_counts_mo[1], align='center', alpha=0.5)\n",
    "ax.set_xlim([-1, 12])\n",
    "ax.set_xticks(range(12))\n",
    "ax.set_xticklabels(storm_counts_mo[0], rotation=0)\n",
    "ax.set_xlabel('Month')\n",
    "ax.set_ylabel('Freq of Storms')\n",
    "ax.set_title('Frequency of Storms by Month in 2016 and 2017')\n",
    "\n",
    "plt.show()"
   ]
  },
  {
   "cell_type": "code",
   "execution_count": 10,
   "metadata": {
    "collapsed": false
   },
   "outputs": [
    {
     "name": "stdout",
     "output_type": "stream",
     "text": [
      "(array([2016, 2017]), array([55964, 47213]))\n"
     ]
    },
    {
     "data": {
      "image/png": "[encoded data removed]",
      "text/plain": [
       "<matplotlib.figure.Figure at 0x1142eeeb8>"
      ]
     },
     "metadata": {},
     "output_type": "display_data"
    }
   ],
   "source": [
    "# storm count by year\n",
    "\n",
    "storm_counts_mo = np.unique(details['YEAR'], return_counts=True)\n",
    "print(storm_counts_mo)\n",
    "\n",
    "# plot this info\n",
    "fig, ax = plt.subplots(1, 1, figsize=(18, 5))\n",
    "\n",
    "ax.bar(range(2), storm_counts_mo[1], align='center', alpha=0.5)\n",
    "ax.set_xlim([-1, 12])\n",
    "ax.set_xticks(range(12))\n",
    "ax.set_xticklabels(storm_counts_mo[0], rotation=0)\n",
    "ax.set_xlabel('Year')\n",
    "ax.set_ylabel('Freq of Storms')\n",
    "ax.set_title('Frequency of Storms by Year for 2016 and 2017')\n",
    "\n",
    "plt.show()"
   ]
  },
  {
   "cell_type": "code",
   "execution_count": 11,
   "metadata": {
    "collapsed": false
   },
   "outputs": [
    {
     "name": "stdout",
     "output_type": "stream",
     "text": [
      "24940\n"
     ]
    }
   ],
   "source": [
    "# EDA, out of storms with damage, where are they occuring\n",
    "\n",
    "damage_data = data[data['HAS_DAMAGE'] == 1]\n",
    "print(len(damage_data))"
   ]
  },
  {
   "cell_type": "code",
   "execution_count": 12,
   "metadata": {
    "collapsed": false
   },
   "outputs": [
    {
     "data": {
      "image/png": "[encoded data removed]",
      "text/plain": [
       "<matplotlib.figure.Figure at 0x10fe809e8>"
      ]
     },
     "metadata": {},
     "output_type": "display_data"
    }
   ],
   "source": [
    "# display average damage per state given causes damage\n",
    "\n",
    "sns.set(color_codes=True)\n",
    "\n",
    "states = list(set(damage_data['STATE'].values))\n",
    "\n",
    "states_final = []\n",
    "ave_per_state = []\n",
    "for i in range(len(states)):\n",
    "    state = states[i]\n",
    "    state_damage = damage_data[damage_data['STATE'] == state]['DAMAGE_TOTAL']\n",
    "    if len(state_damage) > 10:\n",
    "        ave = np.mean(state_damage)\n",
    "        states_final.append(state)\n",
    "        ave_per_state.append(ave)\n",
    "        \n",
    "# plot this info\n",
    "fig, ax = plt.subplots(1, 1, figsize=(18, 5))\n",
    "\n",
    "ax.bar(range(len(ave_per_state)), ave_per_state, align='center', alpha=0.5)\n",
    "ax.set_xlim([-1, 35])\n",
    "ax.set_xticks(range(35))\n",
    "ax.set_xticklabels(states_final, rotation=90)\n",
    "ax.set_xlabel('State/Region')\n",
    "ax.set_ylabel('Average Damage of Storm')\n",
    "ax.set_title('Average Damage of Damaging Storms by State')\n",
    "\n",
    "plt.show()"
   ]
  },
  {
   "cell_type": "code",
   "execution_count": 13,
   "metadata": {
    "collapsed": false
   },
   "outputs": [
    {
     "name": "stdout",
     "output_type": "stream",
     "text": [
      "['Flash Flood', 'Heavy Rain', 'Debris Flow', 'Marine Thunderstorm Wind', 'Thunderstorm Wind', 'Dust Devil', 'Tornado', 'Marine Strong Wind', 'Flood', 'Hail', 'Lightning', 'Waterspout', 'Funnel Cloud']\n"
     ]
    },
    {
     "data": {
      "image/png": "[encoded data removed]",
      "text/plain": [
       "<matplotlib.figure.Figure at 0x117edeb00>"
      ]
     },
     "metadata": {},
     "output_type": "display_data"
    }
   ],
   "source": [
    "# display average damage per storm type given causes damage\n",
    "\n",
    "sns.set(color_codes=True)\n",
    "\n",
    "storm_types = list(set(damage_data['EVENT_TYPE'].values))\n",
    "print(storm_types)\n",
    "\n",
    "ave_per_storm = []\n",
    "for i in range(len(storm_types)):\n",
    "    storm = storm_types[i]\n",
    "    storm_damage = damage_data[damage_data['EVENT_TYPE'] == storm]['DAMAGE_TOTAL']\n",
    "    ave = np.mean(storm_damage)\n",
    "    ave_per_storm.append(ave)\n",
    "\n",
    "# plot this info\n",
    "fig, ax = plt.subplots(1, 1, figsize=(18, 5))\n",
    "\n",
    "ax.bar(range(len(storm_types)), ave_per_storm, align='center', alpha=0.5)\n",
    "ax.set_xlim([-1, len(storm_types)])\n",
    "ax.set_xticks(range(len(storm_types)))\n",
    "ax.set_xticklabels(storm_types, rotation=90)\n",
    "ax.set_xlabel('Storm Type')\n",
    "ax.set_ylabel('Average Damage of Storm')\n",
    "ax.set_title('Average Damage of Damaging Storms by Storm Type')\n",
    "\n",
    "plt.show()"
   ]
  },
  {
   "cell_type": "code",
   "execution_count": 14,
   "metadata": {
    "collapsed": false
   },
   "outputs": [
    {
     "data": {
      "image/png": "[encoded data removed]",
      "text/plain": [
       "<matplotlib.figure.Figure at 0x117edee10>"
      ]
     },
     "metadata": {},
     "output_type": "display_data"
    }
   ],
   "source": [
    "# display average damage per storm type without conditioning on damage causing\n",
    "\n",
    "sns.set(color_codes=True)\n",
    "\n",
    "storm_types = list(set(data['EVENT_TYPE'].values))\n",
    "\n",
    "ave_per_storm = []\n",
    "for i in range(len(storm_types)):\n",
    "    storm = storm_types[i]\n",
    "    storm_damage = data[data['EVENT_TYPE'] == storm]['DAMAGE_TOTAL']\n",
    "    ave = np.mean(storm_damage)\n",
    "    ave_per_storm.append(ave)\n",
    "\n",
    "# plot this info\n",
    "fig, ax = plt.subplots(1, 1, figsize=(18, 5))\n",
    "\n",
    "ax.bar(range(len(storm_types)), ave_per_storm, align='center', alpha=0.5)\n",
    "ax.set_xlim([-1, len(storm_types)])\n",
    "ax.set_xticks(range(len(storm_types)))\n",
    "ax.set_xticklabels(storm_types, rotation=90)\n",
    "ax.set_xlabel('Storm Type')\n",
    "ax.set_ylabel('Average Damage of Storm')\n",
    "ax.set_title('Average Damage of Damaging Storms by Storm Type')\n",
    "\n",
    "plt.show()"
   ]
  },
  {
   "cell_type": "markdown",
   "metadata": {},
   "source": [
    "# Part 4: More Cleaning and *Handling of Nulls*"
   ]
  },
  {
   "cell_type": "code",
   "execution_count": 15,
   "metadata": {
    "collapsed": false
   },
   "outputs": [
    {
     "name": "stdout",
     "output_type": "stream",
     "text": [
      "(87563, 62)\n",
      "(31659, 62)\n"
     ]
    }
   ],
   "source": [
    "# drop null rows and check if any null values remaining\n",
    "# MORE ROBUST\n",
    "\n",
    "print(data.shape)\n",
    "data.dropna(inplace=True, subset = ['DAMAGE_PROPERTY', 'DAMAGE_CROPS','BEGIN_YEARMONTH', 'BEGIN_DAY','STATE_FIPS', 'YEAR','CZ_FIPS','MAGNITUDE','LOCATION_INDEX', 'RANGE','LATITUDE', 'LONGITUDE'])      \n",
    "print(data.shape)\n",
    "\n",
    "# deleted 50000 rows\n",
    "# need to do better than this! Handle later on"
   ]
  },
  {
   "cell_type": "markdown",
   "metadata": {},
   "source": [
    "### EDA on Our Response Variable"
   ]
  },
  {
   "cell_type": "code",
   "execution_count": 16,
   "metadata": {
    "collapsed": false
   },
   "outputs": [
    {
     "data": {
      "text/plain": [
       "<matplotlib.text.Text at 0x10fe80358>"
      ]
     },
     "execution_count": 16,
     "metadata": {},
     "output_type": "execute_result"
    },
    {
     "data": {
      "image/png": "[encoded data removed]",
      "text/plain": [
       "<matplotlib.figure.Figure at 0x116a889e8>"
      ]
     },
     "metadata": {},
     "output_type": "display_data"
    }
   ],
   "source": [
    "data[\"DAMAGE_PROPERTY\"] = pd.Series(damage_property)\n",
    "plt.hist(x=data.DAMAGE_PROPERTY[data.DAMAGE_PROPERTY <= 100000])\n",
    "plt.xlabel(\"Damage (in dollars)\")\n",
    "plt.ylabel(\"Frequency\")\n",
    "plt.title(\"Histogram of Damage\")"
   ]
  },
  {
   "cell_type": "code",
   "execution_count": 17,
   "metadata": {
    "collapsed": false
   },
   "outputs": [
    {
     "data": {
      "text/plain": [
       "array([[  1.00000000e+00,  -2.09943846e-04],\n",
       "       [ -2.09943846e-04,   1.00000000e+00]])"
      ]
     },
     "execution_count": 17,
     "metadata": {},
     "output_type": "execute_result"
    }
   ],
   "source": [
    "np.corrcoef(data[\"DAMAGE_TOTAL\"],data[\"DEATHS_DIRECT\"])"
   ]
  },
  {
   "cell_type": "code",
   "execution_count": 18,
   "metadata": {
    "collapsed": false
   },
   "outputs": [
    {
     "data": {
      "text/plain": [
       "(443,)"
      ]
     },
     "execution_count": 18,
     "metadata": {},
     "output_type": "execute_result"
    }
   ],
   "source": [
    "# validation of our damage estimates\n",
    "data.DAMAGE_TOTAL[data.DAMAGE_TOTAL > 100000].shape"
   ]
  },
  {
   "cell_type": "code",
   "execution_count": 19,
   "metadata": {
    "collapsed": false
   },
   "outputs": [
    {
     "name": "stdout",
     "output_type": "stream",
     "text": [
      "Mean: 33968\n",
      "Median: 0.0\n",
      "Skew: 146.33\n"
     ]
    }
   ],
   "source": [
    "import scipy.stats as ss\n",
    "print(\"Mean: {}\".format(round(np.mean(data.DAMAGE_TOTAL)),4))\n",
    "print(\"Median: {}\".format(np.median(data.DAMAGE_TOTAL)))\n",
    "print(\"Skew: {}\".format(round(ss.skew(data.DAMAGE_TOTAL),2)))"
   ]
  },
  {
   "cell_type": "code",
   "execution_count": 20,
   "metadata": {
    "collapsed": false
   },
   "outputs": [
    {
     "data": {
      "text/plain": [
       "<matplotlib.text.Text at 0x1137ac940>"
      ]
     },
     "execution_count": 20,
     "metadata": {},
     "output_type": "execute_result"
    },
    {
     "data": {
      "image/png": "[encoded data removed]",
      "text/plain": [
       "<matplotlib.figure.Figure at 0x117f12780>"
      ]
     },
     "metadata": {},
     "output_type": "display_data"
    }
   ],
   "source": [
    "# we see our big concentration at 0, and a (hopefully) near-normal distribution otherwise\n",
    "\n",
    "plt.hist(x=np.log(data.DAMAGE_TOTAL + .000001))\n",
    "plt.xlabel(\"Damage (in log dollars)\")\n",
    "plt.ylabel(\"Frequency\")\n",
    "plt.title(\"Histogram of Damage\")"
   ]
  },
  {
   "cell_type": "code",
   "execution_count": 21,
   "metadata": {
    "collapsed": false
   },
   "outputs": [
    {
     "data": {
      "text/plain": [
       "<matplotlib.text.Text at 0x112cc8940>"
      ]
     },
     "execution_count": 21,
     "metadata": {},
     "output_type": "execute_result"
    },
    {
     "data": {
      "image/png": "[encoded data removed]",
      "text/plain": [
       "<matplotlib.figure.Figure at 0x116a79d30>"
      ]
     },
     "metadata": {},
     "output_type": "display_data"
    }
   ],
   "source": [
    "# confirming near-normal response for data with a damage over 0\n",
    "\n",
    "plt.hist(x=np.log(data.DAMAGE_TOTAL[data.DAMAGE_TOTAL>0] + .000001))\n",
    "plt.xlabel(\"Damage (in log dollars)\")\n",
    "plt.ylabel(\"Frequency\")\n",
    "plt.title(\"Histogram of Damage\")"
   ]
  },
  {
   "cell_type": "markdown",
   "metadata": {},
   "source": [
    "# Part 5: Zipcode Work"
   ]
  },
  {
   "cell_type": "code",
   "execution_count": null,
   "metadata": {
    "collapsed": false
   },
   "outputs": [],
   "source": [
    "zip_data = pd.read_csv(\"AfterGotZips2016.csv\", \n",
    "                      encoding = \"ISO-8859-1\")\n",
    "zip_data[\"BEGIN_ZIP\"].head()"
   ]
  },
  {
   "cell_type": "code",
   "execution_count": null,
   "metadata": {
    "collapsed": false
   },
   "outputs": [],
   "source": [
    "import requests\n",
    "\n",
    "s = requests.session()\n",
    "#s.headers['user-agent'] = 'Mozilla/5.0'\n",
    "print(s) \n",
    "r = s.get('https://factfinder.census.gov/rest/communityFactsNav/nav', params={'searchTerm': 99501})\n",
    "r\n",
    "type(r.json())"
   ]
  },
  {
   "cell_type": "code",
   "execution_count": null,
   "metadata": {
    "collapsed": false
   },
   "outputs": [],
   "source": [
    "r.json().keys()\n",
    "r.json()['CFMetaData'].keys()"
   ]
  },
  {
   "cell_type": "code",
   "execution_count": null,
   "metadata": {
    "collapsed": false
   },
   "outputs": [],
   "source": [
    "r.json()['CFMetaData']['measureAndLinksContent']"
   ]
  },
  {
   "cell_type": "code",
   "execution_count": null,
   "metadata": {
    "collapsed": true
   },
   "outputs": [],
   "source": [
    "html = r.json()['CFMetaData']['measureAndLinksContent']"
   ]
  },
  {
   "cell_type": "code",
   "execution_count": null,
   "metadata": {
    "collapsed": false
   },
   "outputs": [],
   "source": [
    "s.get('https://factfinder.census.gov/bkmk/table/1.0/en/DEC/10_DP/DPDP1/8600000US99501')\n",
    "r = s.get('https://factfinder.census.gov/tablerestful/tableServices/renderProductData')\n",
    "r.json().keys()\n",
    "#['ProductData']\n",
    "r.json()['ProductData'].keys()"
   ]
  },
  {
   "cell_type": "code",
   "execution_count": null,
   "metadata": {
    "collapsed": false
   },
   "outputs": [],
   "source": [
    "import requests\n",
    "s = requests.session()\n",
    "s.headers['user-agent'] = 'Mozilla/5.0'\n",
    "\n",
    "s.get('https://factfinder.census.gov/bkmk/table/1.0/en/DEC/10_DP/DPDP1/8600000US99501')\n",
    "#<Response [200]>\n",
    "r = s.get('https://factfinder.census.gov/tablerestful/tableServices/renderProductData')\n",
    "r.json().keys()\n",
    "#['ProductData']\n",
    "r.json()['ProductData']['productDataTable'][:50]"
   ]
  },
  {
   "cell_type": "code",
   "execution_count": null,
   "metadata": {
    "collapsed": true
   },
   "outputs": [],
   "source": [
    "import requests\n",
    "from   bs4 import BeautifulSoup\n",
    "from IPython.core.display import display, HTML\n",
    "\n",
    "# This is just to get the column names\n",
    "\n",
    "zipcodes = ['32963']\n",
    "\n",
    "base   = 'https://factfinder.census.gov/'\n",
    "report = base + 'bkmk/table/1.0/en/DEC/10_DP/DPDP1/8600000US'\n",
    "render = base + 'tablerestful/tableServices/renderProductData'\n",
    "\n",
    "with requests.session() as s:\n",
    "\n",
    "    for zipcode in zipcodes:\n",
    "        s.get(report + zipcode)\n",
    "        r = s.get(render)\n",
    "\n",
    "        html = r.json()['ProductData']['productDataTable']\n",
    "        soup = BeautifulSoup(html, 'html.parser')\n",
    "        \n",
    "        rows = soup.find(\"table\").find_all(\"tr\")[2:217]\n",
    "        \n",
    "        my_cols = []\n",
    "        \n",
    "        for row in rows:\n",
    "            headers = row.find_all(\"th\")\n",
    "            for header in headers:\n",
    "                actual_header = header.get_text()\n",
    "                count = actual_header + \"count\"\n",
    "                perc = actual_header + \"percent\"\n",
    "                my_cols.append(count)\n",
    "                my_cols.append(perc)"
   ]
  },
  {
   "cell_type": "code",
   "execution_count": null,
   "metadata": {
    "collapsed": false
   },
   "outputs": [],
   "source": [
    "unknown_counter = 0\n",
    "print(len(zip_data[\"BEGIN_ZIP\"][24256:]))\n",
    "print(len(zip_data[\"BEGIN_ZIP\"]))"
   ]
  },
  {
   "cell_type": "code",
   "execution_count": null,
   "metadata": {
    "collapsed": true
   },
   "outputs": [],
   "source": [
    "# This part is just extracting data then\n",
    "\n",
    "\n",
    "zipcodes = zip_data[\"BEGIN_ZIP\"][24256:]\n",
    "\n",
    "scraped = pd.DataFrame()\n",
    "\n",
    "base   = 'https://factfinder.census.gov/'\n",
    "report = base + 'bkmk/table/1.0/en/DEC/10_DP/DPDP1/8600000US'\n",
    "render = base + 'tablerestful/tableServices/renderProductData'\n",
    "\n",
    "with requests.session() as s:\n",
    "    #s.headers['user-agent'] = 'Mozilla/5.0'\n",
    "\n",
    "    for zipcode in zipcodes:\n",
    "        #print(zipcode)\n",
    "        \n",
    "        if zipcode == \"Unknown\":\n",
    "            unknown_counter = unknown_counter + 1\n",
    "        \n",
    "        else:\n",
    "            \n",
    "            time.sleep(3)\n",
    "            s.get(report + zipcode)\n",
    "            r = s.get(render)\n",
    "\n",
    "            html = r.json()['ProductData']['productDataTable']\n",
    "            soup = BeautifulSoup(html, 'html.parser')\n",
    "            #print(soup)\n",
    "\n",
    "            rows = soup.find(\"table\").find_all(\"tr\")[2:217]\n",
    "\n",
    "            my_cols = []\n",
    "            my_data = []\n",
    "            data_zipcode = {}\n",
    "\n",
    "            for row in rows:\n",
    "                #print(\"inhere\")\n",
    "                #print(row)\n",
    "                headers = row.find_all(\"th\")\n",
    "                for header in headers:\n",
    "                    actual_header = header.get_text()\n",
    "\n",
    "                    count = actual_header + \"count\"\n",
    "                    perc = actual_header + \"percent\"\n",
    "\n",
    "                    my_cols.append(count)\n",
    "                    my_cols.append(perc)\n",
    "\n",
    "                datums = row.find_all(\"td\") # + row.find_all(\"th\")\n",
    "                #print(datums)\n",
    "\n",
    "                actual_data = []\n",
    "\n",
    "                for datum in datums:\n",
    "                    #print(datum)\n",
    "                    actual_data.append(datum.get_text())\n",
    "                    my_data.append(datum.get_text())\n",
    "                    #print(datum.get_text())\n",
    "                #print(actual_data)\n",
    "\n",
    "                data_zipcode[actual_header] = actual_data\n",
    "            #print(my_data)\n",
    "            #print(zipcode)\n",
    "            my_data = [zipcode] + my_data\n",
    "            #print(my_data)\n",
    "            scraped[zipcode] = my_data\n",
    "    #         print(rows)\n",
    "    #         datums = rows.find_all(\"td\")[0]\n",
    "    #         print('now datums')\n",
    "    #         print(datums.get_text())\n",
    "\n",
    "            #display(HTML(soup.prettify()))"
   ]
  },
  {
   "cell_type": "code",
   "execution_count": null,
   "metadata": {
    "collapsed": true
   },
   "outputs": [],
   "source": [
    "scraped.shape"
   ]
  },
  {
   "cell_type": "code",
   "execution_count": null,
   "metadata": {
    "collapsed": true
   },
   "outputs": [],
   "source": [
    "if my_cols[0] != \"Zipcode\":\n",
    "    my_cols = [\"Zipcode\"] + my_cols\n",
    "better_scraped = scraped.transpose()\n",
    "better_scraped\n",
    "print(len(my_cols))\n",
    "print(better_scraped.shape)"
   ]
  },
  {
   "cell_type": "code",
   "execution_count": null,
   "metadata": {
    "collapsed": true
   },
   "outputs": [],
   "source": [
    "better_scraped.columns = my_cols\n",
    "better_scraped"
   ]
  },
  {
   "cell_type": "code",
   "execution_count": null,
   "metadata": {
    "collapsed": true
   },
   "outputs": [],
   "source": [
    "better_scraped.to_csv(\"32_457_MonPM2010.csv\")"
   ]
  },
  {
   "cell_type": "code",
   "execution_count": null,
   "metadata": {
    "collapsed": true
   },
   "outputs": [],
   "source": [
    "better_scraped_remove_r = pd.read_csv(\"ScrapedZipCodeInfo.csv\", encoding = \"ISO-8859-1\")\n",
    "better_scraped_remove_r.head()"
   ]
  },
  {
   "cell_type": "code",
   "execution_count": null,
   "metadata": {
    "collapsed": true
   },
   "outputs": [],
   "source": [
    "better_scraped_remove_r.to_csv(\"ScrapedZipCodeInfo_NoR.csv\")"
   ]
  },
  {
   "cell_type": "code",
   "execution_count": null,
   "metadata": {
    "collapsed": true
   },
   "outputs": [],
   "source": [
    "example = \"308,745,538(r38234)\"\n",
    "example.split(\"(\")[0]"
   ]
  },
  {
   "cell_type": "code",
   "execution_count": null,
   "metadata": {
    "collapsed": true
   },
   "outputs": [],
   "source": [
    "better_scraped_remove_r[\"Total populationcount\"][58:68]"
   ]
  },
  {
   "cell_type": "code",
   "execution_count": null,
   "metadata": {
    "collapsed": true
   },
   "outputs": [],
   "source": [
    "file = open(\"laborforce_annual_2015.txt\", \"r\") \n",
    "file.read() "
   ]
  },
  {
   "cell_type": "markdown",
   "metadata": {},
   "source": [
    "# Part 6: More EDA"
   ]
  },
  {
   "cell_type": "code",
   "execution_count": null,
   "metadata": {
    "collapsed": true
   },
   "outputs": [],
   "source": [
    "## Focus on EDA to see what from the zipcode data might be useful"
   ]
  },
  {
   "cell_type": "markdown",
   "metadata": {},
   "source": [
    "# Part 7: Merge Data and Prepare Predictors"
   ]
  },
  {
   "cell_type": "code",
   "execution_count": 22,
   "metadata": {
    "collapsed": true
   },
   "outputs": [],
   "source": [
    "## WORK TO MERGE IN ZIPCODE DATA\n",
    "## THEN IT CAN BE USED FOR PRELIMINARY MODEL"
   ]
  },
  {
   "cell_type": "code",
   "execution_count": 23,
   "metadata": {
    "collapsed": true
   },
   "outputs": [],
   "source": [
    "\n",
    "#train_cols = cols.remove([['BEGIN_YEARMONTH', 'END_YEARMONTH', 'END_DAY', 'END_TIME', 'EPISODE_ID', 'EVENT_ID', 'STATE', 'MONTH_NAME', 'EVENT_TYPE', 'CZ_TYPE', 'CZ_NAME', 'WFO', 'BEGIN_DATE_TIME', 'CZ_TIMEZONE', 'END_DATE_TIME', 'INJURIES_DIRECT', 'INJURIES_INDIRECT', 'DEATHS_DIRECT', 'DEATHS_INDIRECT', 'DAMAGE_PROPERTY', 'DAMAGE_CROPS', 'SOURCE', 'MAGNITUDE_TYPE', 'FLOOD_CAUSE', 'CATEGORY', 'TOR_F_SCALE', 'TOR_LENGTH', 'TOR_WIDTH', 'TOR_OTHER_WFO', 'TOR_OTHER_CZ_STATE', 'TOR_OTHER_CZ_FIPS', 'TOR_OTHER_CZ_NAME', 'BEGIN_AZIMUTH', 'BEGIN_LOCATION', 'END_RANGE', 'END_AZIMUTH', 'END_LOCATION', 'BEGIN_LAT', 'BEGIN_LON', 'END_LAT', 'END_LON', 'EPISODE_NARRATIVE', 'EVENT_NARRATIVE', 'DATA_SOURCE', 'YEARMONTH', 'AZIMUTH', 'LOCATION', 'LAT2', 'LON2']])\n",
    "#train_cols = ['BEGIN_DAY', 'YEAR','CZ_FIPS','MAGNITUDE','LOCATION_INDEX', 'RANGE','LATITUDE', 'LONGITUDE', 'STATE', 'EVENT_TYPE', 'CZ_TYPE', 'MONTH_NAME', 'CZ_TIMEZONE']\n",
    "train_cols = ['EVENT_TYPE', 'STATE', 'MAGNITUDE', 'CZ_TIMEZONE', 'RANGE', 'LATITUDE', 'LONGITUDE']\n",
    "\n",
    "X = data[train_cols]\n",
    "y = data['HAS_DAMAGE']\n",
    "\n",
    "#X = pd.get_dummies(X, columns=['STATE','EVENT_TYPE','CZ_TYPE', 'MONTH_NAME', 'CZ_TIMEZONE'], drop_first=True)\n",
    "X = pd.get_dummies(X, columns=['EVENT_TYPE', 'STATE', 'CZ_TIMEZONE'], drop_first=True)\n",
    "\n",
    "X_train, X_test, y_train, y_test = train_test_split(X, y, test_size=0.33, random_state=42)"
   ]
  },
  {
   "cell_type": "markdown",
   "metadata": {},
   "source": [
    "# Part 8: Preliminary Classification Model"
   ]
  },
  {
   "cell_type": "code",
   "execution_count": 26,
   "metadata": {
    "collapsed": false
   },
   "outputs": [
    {
     "name": "stdout",
     "output_type": "stream",
     "text": [
      "Num points without damage: 20454\n",
      "Num points with damage: 11205\n",
      "\n",
      "Training Accuracy: 0.818443260572\n",
      "Testing Accuracy: 0.820444104135\n"
     ]
    }
   ],
   "source": [
    "# fit prelim model\n",
    "\n",
    "print(\"Num points without damage: \" + str(len(data[data['HAS_DAMAGE'] == 0])))\n",
    "print(\"Num points with damage: \" + str(len(data[data['HAS_DAMAGE'] == 1])))\n",
    "\n",
    "#print(X_train[X_train.isnull().any(axis=1)].size)\n",
    "#print(y_train[y_train.isnull()].size)\n",
    "#print(X_test[X_test.isnull().any(axis=1)].size)\n",
    "#print(y_test[y_test.isnull()].size)\n",
    "\n",
    "model = LogisticRegressionCV(penalty = 'l2')\n",
    "model.fit(X_train, y_train)\n",
    "train_pred = model.predict(X_train)\n",
    "test_pred = model.predict(X_test)\n",
    "\n",
    "print()\n",
    "print(\"Training Accuracy: \" + str(accuracy_score(train_pred, y_train)))\n",
    "print(\"Testing Accuracy: \" + str(accuracy_score(test_pred, y_test)))\n"
   ]
  },
  {
   "cell_type": "markdown",
   "metadata": {},
   "source": [
    "# Part 9: Improving Classification Model"
   ]
  },
  {
   "cell_type": "code",
   "execution_count": null,
   "metadata": {
    "collapsed": true
   },
   "outputs": [],
   "source": []
  },
  {
   "cell_type": "markdown",
   "metadata": {},
   "source": [
    "# Part 10: Preliminary Regression Model"
   ]
  },
  {
   "cell_type": "code",
   "execution_count": null,
   "metadata": {
    "collapsed": true
   },
   "outputs": [],
   "source": []
  },
  {
   "cell_type": "markdown",
   "metadata": {},
   "source": [
    "# Part 11:  Improving Regression Model"
   ]
  },
  {
   "cell_type": "code",
   "execution_count": null,
   "metadata": {
    "collapsed": true
   },
   "outputs": [],
   "source": []
  },
  {
   "cell_type": "markdown",
   "metadata": {},
   "source": [
    "# Part 12: Model Analysis and Presentation"
   ]
  },
  {
   "cell_type": "code",
   "execution_count": null,
   "metadata": {
    "collapsed": true
   },
   "outputs": [],
   "source": []
  }
 ],
 "metadata": {
  "kernelspec": {
   "display_name": "Python 3",
   "language": "python",
   "name": "python3"
  },
  "language_info": {
   "codemirror_mode": {
    "name": "ipython",
    "version": 3
   },
   "file_extension": ".py",
   "mimetype": "text/x-python",
   "name": "python",
   "nbconvert_exporter": "python",
   "pygments_lexer": "ipython3",
   "version": "3.6.0"
  }
 },
 "nbformat": 4,
 "nbformat_minor": 2
}
