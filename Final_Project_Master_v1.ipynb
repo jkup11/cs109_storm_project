{
 "cells": [
  {
   "cell_type": "markdown",
   "metadata": {},
   "source": [
    "# CS109a Final Project: Group 90 <br>Predicting damage of US storms<br>\n",
    "### Data Science 1: CS 109A/STAT 121A/AC 209A/ E 109A <br> Instructors: Pavlos Protopapas, Kevin Rader, Rahul Dave\n",
    "#### Harvard University <br> Fall 2017 <br> \n",
    "#### Date: December 7, 2017<br> Written By: George Hu, Manav Khandelwal, Josh Kuppersmith Evan Mackay <br> \n",
    "\n",
    "---\n",
    "\n",
    "\n"
   ]
  },
  {
   "cell_type": "code",
   "execution_count": 77,
   "metadata": {
    "collapsed": true
   },
   "outputs": [],
   "source": [
    "import pandas as pd\n",
    "import numpy as np\n",
    "import seaborn as sns\n",
    "import matplotlib.pyplot as plt\n",
    "from sklearn.model_selection import train_test_split\n",
    "from sklearn.linear_model import LogisticRegressionCV\n",
    "import sklearn.metrics as metrics\n",
    "from sklearn.preprocessing import PolynomialFeatures\n",
    "from sklearn.discriminant_analysis import LinearDiscriminantAnalysis\n",
    "from sklearn.discriminant_analysis import QuadraticDiscriminantAnalysis\n",
    "from sklearn.linear_model import LinearRegression\n",
    "from sklearn.neighbors import KNeighborsClassifier\n",
    "from sklearn.tree import DecisionTreeClassifier\n",
    "from sklearn.model_selection import cross_val_score\n",
    "from sklearn.metrics import accuracy_score\n",
    "from sklearn.metrics import confusion_matrix\n",
    "from sklearn.preprocessing import Imputer\n",
    "from sklearn.metrics import mean_squared_error\n",
    "from sklearn.metrics import r2_score\n",
    "\n",
    "# from zipcode\n",
    "%matplotlib inline\n",
    "import numpy as np\n",
    "import scipy as sp\n",
    "import matplotlib as mpl\n",
    "import matplotlib.cm as cm\n",
    "import matplotlib.pyplot as plt\n",
    "import pandas as pd\n",
    "import time\n",
    "pd.set_option('display.width', 500)\n",
    "pd.set_option('display.max_columns', 100)\n",
    "pd.set_option('display.notebook_repr_html', True)\n",
    "import seaborn as sns\n",
    "sns.set_style(\"whitegrid\")\n",
    "sns.set_context(\"poster\")\n",
    "import time\n",
    "\n",
    "import copy\n",
    "from sklearn.ensemble import RandomForestClassifier\n",
    "from sklearn.ensemble import AdaBoostClassifier"
   ]
  },
  {
   "cell_type": "markdown",
   "metadata": {},
   "source": [
    "# Part 1: Loading In Data"
   ]
  },
  {
   "cell_type": "code",
   "execution_count": 2,
   "metadata": {
    "collapsed": false
   },
   "outputs": [
    {
     "name": "stdout",
     "output_type": "stream",
     "text": [
      "(55964, 51)\n"
     ]
    },
    {
     "data": {
      "text/html": [
       "<div>\n",
       "<table border=\"1\" class=\"dataframe\">\n",
       "  <thead>\n",
       "    <tr style=\"text-align: right;\">\n",
       "      <th></th>\n",
       "      <th>BEGIN_YEARMONTH</th>\n",
       "      <th>BEGIN_DAY</th>\n",
       "      <th>BEGIN_TIME</th>\n",
       "      <th>END_YEARMONTH</th>\n",
       "      <th>END_DAY</th>\n",
       "      <th>END_TIME</th>\n",
       "      <th>EPISODE_ID</th>\n",
       "      <th>EVENT_ID</th>\n",
       "      <th>STATE</th>\n",
       "      <th>STATE_FIPS</th>\n",
       "      <th>YEAR</th>\n",
       "      <th>MONTH_NAME</th>\n",
       "      <th>EVENT_TYPE</th>\n",
       "      <th>CZ_TYPE</th>\n",
       "      <th>CZ_FIPS</th>\n",
       "      <th>CZ_NAME</th>\n",
       "      <th>WFO</th>\n",
       "      <th>BEGIN_DATE_TIME</th>\n",
       "      <th>CZ_TIMEZONE</th>\n",
       "      <th>END_DATE_TIME</th>\n",
       "      <th>INJURIES_DIRECT</th>\n",
       "      <th>INJURIES_INDIRECT</th>\n",
       "      <th>DEATHS_DIRECT</th>\n",
       "      <th>DEATHS_INDIRECT</th>\n",
       "      <th>DAMAGE_PROPERTY</th>\n",
       "      <th>DAMAGE_CROPS</th>\n",
       "      <th>SOURCE</th>\n",
       "      <th>MAGNITUDE</th>\n",
       "      <th>MAGNITUDE_TYPE</th>\n",
       "      <th>FLOOD_CAUSE</th>\n",
       "      <th>CATEGORY</th>\n",
       "      <th>TOR_F_SCALE</th>\n",
       "      <th>TOR_LENGTH</th>\n",
       "      <th>TOR_WIDTH</th>\n",
       "      <th>TOR_OTHER_WFO</th>\n",
       "      <th>TOR_OTHER_CZ_STATE</th>\n",
       "      <th>TOR_OTHER_CZ_FIPS</th>\n",
       "      <th>TOR_OTHER_CZ_NAME</th>\n",
       "      <th>BEGIN_RANGE</th>\n",
       "      <th>BEGIN_AZIMUTH</th>\n",
       "      <th>BEGIN_LOCATION</th>\n",
       "      <th>END_RANGE</th>\n",
       "      <th>END_AZIMUTH</th>\n",
       "      <th>END_LOCATION</th>\n",
       "      <th>BEGIN_LAT</th>\n",
       "      <th>BEGIN_LON</th>\n",
       "      <th>END_LAT</th>\n",
       "      <th>END_LON</th>\n",
       "      <th>EPISODE_NARRATIVE</th>\n",
       "      <th>EVENT_NARRATIVE</th>\n",
       "      <th>DATA_SOURCE</th>\n",
       "    </tr>\n",
       "  </thead>\n",
       "  <tbody>\n",
       "    <tr>\n",
       "      <th>0</th>\n",
       "      <td>201607</td>\n",
       "      <td>15</td>\n",
       "      <td>1715</td>\n",
       "      <td>201607</td>\n",
       "      <td>15</td>\n",
       "      <td>1715</td>\n",
       "      <td>108769</td>\n",
       "      <td>651823</td>\n",
       "      <td>SOUTH CAROLINA</td>\n",
       "      <td>45</td>\n",
       "      <td>2016</td>\n",
       "      <td>July</td>\n",
       "      <td>Heavy Rain</td>\n",
       "      <td>C</td>\n",
       "      <td>91</td>\n",
       "      <td>YORK</td>\n",
       "      <td>GSP</td>\n",
       "      <td>15-JUL-16 17:15:00</td>\n",
       "      <td>EST-5</td>\n",
       "      <td>15-JUL-16 17:15:00</td>\n",
       "      <td>0</td>\n",
       "      <td>0</td>\n",
       "      <td>0</td>\n",
       "      <td>0</td>\n",
       "      <td>2.00K</td>\n",
       "      <td>0.00K</td>\n",
       "      <td>Social Media</td>\n",
       "      <td>NaN</td>\n",
       "      <td>NaN</td>\n",
       "      <td>NaN</td>\n",
       "      <td>NaN</td>\n",
       "      <td>NaN</td>\n",
       "      <td>NaN</td>\n",
       "      <td>NaN</td>\n",
       "      <td>NaN</td>\n",
       "      <td>NaN</td>\n",
       "      <td>NaN</td>\n",
       "      <td>NaN</td>\n",
       "      <td>1.0</td>\n",
       "      <td>N</td>\n",
       "      <td>BOYD HILL</td>\n",
       "      <td>1.0</td>\n",
       "      <td>N</td>\n",
       "      <td>BOYD HILL</td>\n",
       "      <td>34.94</td>\n",
       "      <td>-81.03</td>\n",
       "      <td>34.94</td>\n",
       "      <td>-81.03</td>\n",
       "      <td>Scattered thunderstorms developed across the U...</td>\n",
       "      <td>One to two feet of deep standing water develop...</td>\n",
       "      <td>CSV</td>\n",
       "    </tr>\n",
       "    <tr>\n",
       "      <th>1</th>\n",
       "      <td>201607</td>\n",
       "      <td>15</td>\n",
       "      <td>1725</td>\n",
       "      <td>201607</td>\n",
       "      <td>15</td>\n",
       "      <td>1725</td>\n",
       "      <td>108769</td>\n",
       "      <td>651825</td>\n",
       "      <td>SOUTH CAROLINA</td>\n",
       "      <td>45</td>\n",
       "      <td>2016</td>\n",
       "      <td>July</td>\n",
       "      <td>Thunderstorm Wind</td>\n",
       "      <td>C</td>\n",
       "      <td>91</td>\n",
       "      <td>YORK</td>\n",
       "      <td>GSP</td>\n",
       "      <td>15-JUL-16 17:25:00</td>\n",
       "      <td>EST-5</td>\n",
       "      <td>15-JUL-16 17:25:00</td>\n",
       "      <td>0</td>\n",
       "      <td>0</td>\n",
       "      <td>0</td>\n",
       "      <td>0</td>\n",
       "      <td>0.00K</td>\n",
       "      <td>0.00K</td>\n",
       "      <td>NWS Employee</td>\n",
       "      <td>50.0</td>\n",
       "      <td>EG</td>\n",
       "      <td>NaN</td>\n",
       "      <td>NaN</td>\n",
       "      <td>NaN</td>\n",
       "      <td>NaN</td>\n",
       "      <td>NaN</td>\n",
       "      <td>NaN</td>\n",
       "      <td>NaN</td>\n",
       "      <td>NaN</td>\n",
       "      <td>NaN</td>\n",
       "      <td>1.0</td>\n",
       "      <td>S</td>\n",
       "      <td>FT MILL</td>\n",
       "      <td>1.0</td>\n",
       "      <td>S</td>\n",
       "      <td>FT MILL</td>\n",
       "      <td>35.01</td>\n",
       "      <td>-80.93</td>\n",
       "      <td>35.01</td>\n",
       "      <td>-80.93</td>\n",
       "      <td>Scattered thunderstorms developed across the U...</td>\n",
       "      <td>NWS Columbia relayed a report of trees blown d...</td>\n",
       "      <td>CSV</td>\n",
       "    </tr>\n",
       "    <tr>\n",
       "      <th>2</th>\n",
       "      <td>201607</td>\n",
       "      <td>16</td>\n",
       "      <td>1246</td>\n",
       "      <td>201607</td>\n",
       "      <td>16</td>\n",
       "      <td>1246</td>\n",
       "      <td>108812</td>\n",
       "      <td>651828</td>\n",
       "      <td>NORTH CAROLINA</td>\n",
       "      <td>37</td>\n",
       "      <td>2016</td>\n",
       "      <td>July</td>\n",
       "      <td>Thunderstorm Wind</td>\n",
       "      <td>C</td>\n",
       "      <td>111</td>\n",
       "      <td>MCDOWELL</td>\n",
       "      <td>GSP</td>\n",
       "      <td>16-JUL-16 12:46:00</td>\n",
       "      <td>EST-5</td>\n",
       "      <td>16-JUL-16 12:46:00</td>\n",
       "      <td>0</td>\n",
       "      <td>0</td>\n",
       "      <td>0</td>\n",
       "      <td>0</td>\n",
       "      <td>0.00K</td>\n",
       "      <td>0.00K</td>\n",
       "      <td>Broadcast Media</td>\n",
       "      <td>50.0</td>\n",
       "      <td>EG</td>\n",
       "      <td>NaN</td>\n",
       "      <td>NaN</td>\n",
       "      <td>NaN</td>\n",
       "      <td>NaN</td>\n",
       "      <td>NaN</td>\n",
       "      <td>NaN</td>\n",
       "      <td>NaN</td>\n",
       "      <td>NaN</td>\n",
       "      <td>NaN</td>\n",
       "      <td>2.0</td>\n",
       "      <td>ENE</td>\n",
       "      <td>OLD FT</td>\n",
       "      <td>2.0</td>\n",
       "      <td>ENE</td>\n",
       "      <td>OLD FT</td>\n",
       "      <td>35.64</td>\n",
       "      <td>-82.14</td>\n",
       "      <td>35.64</td>\n",
       "      <td>-82.14</td>\n",
       "      <td>Scattered thunderstorms developed near the Blu...</td>\n",
       "      <td>Media reported two trees blown down along I-40...</td>\n",
       "      <td>CSV</td>\n",
       "    </tr>\n",
       "    <tr>\n",
       "      <th>3</th>\n",
       "      <td>201607</td>\n",
       "      <td>8</td>\n",
       "      <td>1755</td>\n",
       "      <td>201607</td>\n",
       "      <td>8</td>\n",
       "      <td>1755</td>\n",
       "      <td>105872</td>\n",
       "      <td>635287</td>\n",
       "      <td>TENNESSEE</td>\n",
       "      <td>47</td>\n",
       "      <td>2016</td>\n",
       "      <td>July</td>\n",
       "      <td>Thunderstorm Wind</td>\n",
       "      <td>C</td>\n",
       "      <td>105</td>\n",
       "      <td>LOUDON</td>\n",
       "      <td>MRX</td>\n",
       "      <td>08-JUL-16 17:55:00</td>\n",
       "      <td>EST-5</td>\n",
       "      <td>08-JUL-16 17:55:00</td>\n",
       "      <td>0</td>\n",
       "      <td>0</td>\n",
       "      <td>0</td>\n",
       "      <td>0</td>\n",
       "      <td>NaN</td>\n",
       "      <td>NaN</td>\n",
       "      <td>Public</td>\n",
       "      <td>50.0</td>\n",
       "      <td>EG</td>\n",
       "      <td>NaN</td>\n",
       "      <td>NaN</td>\n",
       "      <td>NaN</td>\n",
       "      <td>NaN</td>\n",
       "      <td>NaN</td>\n",
       "      <td>NaN</td>\n",
       "      <td>NaN</td>\n",
       "      <td>NaN</td>\n",
       "      <td>NaN</td>\n",
       "      <td>1.0</td>\n",
       "      <td>W</td>\n",
       "      <td>JENA</td>\n",
       "      <td>1.0</td>\n",
       "      <td>W</td>\n",
       "      <td>JENA</td>\n",
       "      <td>35.65</td>\n",
       "      <td>-84.18</td>\n",
       "      <td>35.65</td>\n",
       "      <td>-84.18</td>\n",
       "      <td>The combination of summer heating and high low...</td>\n",
       "      <td>Numerous trees were reported down in the Green...</td>\n",
       "      <td>CSV</td>\n",
       "    </tr>\n",
       "    <tr>\n",
       "      <th>4</th>\n",
       "      <td>201607</td>\n",
       "      <td>8</td>\n",
       "      <td>1810</td>\n",
       "      <td>201607</td>\n",
       "      <td>8</td>\n",
       "      <td>1810</td>\n",
       "      <td>105872</td>\n",
       "      <td>635296</td>\n",
       "      <td>TENNESSEE</td>\n",
       "      <td>47</td>\n",
       "      <td>2016</td>\n",
       "      <td>July</td>\n",
       "      <td>Thunderstorm Wind</td>\n",
       "      <td>C</td>\n",
       "      <td>155</td>\n",
       "      <td>SEVIER</td>\n",
       "      <td>MRX</td>\n",
       "      <td>08-JUL-16 18:10:00</td>\n",
       "      <td>EST-5</td>\n",
       "      <td>08-JUL-16 18:10:00</td>\n",
       "      <td>0</td>\n",
       "      <td>0</td>\n",
       "      <td>0</td>\n",
       "      <td>0</td>\n",
       "      <td>NaN</td>\n",
       "      <td>NaN</td>\n",
       "      <td>State Official</td>\n",
       "      <td>60.0</td>\n",
       "      <td>EG</td>\n",
       "      <td>NaN</td>\n",
       "      <td>NaN</td>\n",
       "      <td>NaN</td>\n",
       "      <td>NaN</td>\n",
       "      <td>NaN</td>\n",
       "      <td>NaN</td>\n",
       "      <td>NaN</td>\n",
       "      <td>NaN</td>\n",
       "      <td>NaN</td>\n",
       "      <td>1.0</td>\n",
       "      <td>WSW</td>\n",
       "      <td>PITNER</td>\n",
       "      <td>1.0</td>\n",
       "      <td>WSW</td>\n",
       "      <td>PITNER</td>\n",
       "      <td>35.87</td>\n",
       "      <td>-83.77</td>\n",
       "      <td>35.87</td>\n",
       "      <td>-83.77</td>\n",
       "      <td>The combination of summer heating and high low...</td>\n",
       "      <td>Numerous trees were reported down in Seymour. ...</td>\n",
       "      <td>CSV</td>\n",
       "    </tr>\n",
       "  </tbody>\n",
       "</table>\n",
       "</div>"
      ],
      "text/plain": [
       "   BEGIN_YEARMONTH  BEGIN_DAY  BEGIN_TIME  END_YEARMONTH  END_DAY  END_TIME  EPISODE_ID  EVENT_ID           STATE  STATE_FIPS  YEAR MONTH_NAME         EVENT_TYPE CZ_TYPE  CZ_FIPS   CZ_NAME  WFO     BEGIN_DATE_TIME CZ_TIMEZONE       END_DATE_TIME  INJURIES_DIRECT  INJURIES_INDIRECT  DEATHS_DIRECT  DEATHS_INDIRECT DAMAGE_PROPERTY DAMAGE_CROPS           SOURCE  MAGNITUDE MAGNITUDE_TYPE FLOOD_CAUSE  CATEGORY TOR_F_SCALE  TOR_LENGTH  TOR_WIDTH TOR_OTHER_WFO TOR_OTHER_CZ_STATE  TOR_OTHER_CZ_FIPS  \\\n",
       "0           201607         15        1715         201607       15      1715      108769    651823  SOUTH CAROLINA          45  2016       July         Heavy Rain       C       91      YORK  GSP  15-JUL-16 17:15:00       EST-5  15-JUL-16 17:15:00                0                  0              0                0           2.00K        0.00K     Social Media        NaN            NaN         NaN       NaN         NaN         NaN        NaN           NaN                NaN                NaN   \n",
       "1           201607         15        1725         201607       15      1725      108769    651825  SOUTH CAROLINA          45  2016       July  Thunderstorm Wind       C       91      YORK  GSP  15-JUL-16 17:25:00       EST-5  15-JUL-16 17:25:00                0                  0              0                0           0.00K        0.00K     NWS Employee       50.0             EG         NaN       NaN         NaN         NaN        NaN           NaN                NaN                NaN   \n",
       "2           201607         16        1246         201607       16      1246      108812    651828  NORTH CAROLINA          37  2016       July  Thunderstorm Wind       C      111  MCDOWELL  GSP  16-JUL-16 12:46:00       EST-5  16-JUL-16 12:46:00                0                  0              0                0           0.00K        0.00K  Broadcast Media       50.0             EG         NaN       NaN         NaN         NaN        NaN           NaN                NaN                NaN   \n",
       "3           201607          8        1755         201607        8      1755      105872    635287       TENNESSEE          47  2016       July  Thunderstorm Wind       C      105    LOUDON  MRX  08-JUL-16 17:55:00       EST-5  08-JUL-16 17:55:00                0                  0              0                0             NaN          NaN           Public       50.0             EG         NaN       NaN         NaN         NaN        NaN           NaN                NaN                NaN   \n",
       "4           201607          8        1810         201607        8      1810      105872    635296       TENNESSEE          47  2016       July  Thunderstorm Wind       C      155    SEVIER  MRX  08-JUL-16 18:10:00       EST-5  08-JUL-16 18:10:00                0                  0              0                0             NaN          NaN   State Official       60.0             EG         NaN       NaN         NaN         NaN        NaN           NaN                NaN                NaN   \n",
       "\n",
       "  TOR_OTHER_CZ_NAME  BEGIN_RANGE BEGIN_AZIMUTH BEGIN_LOCATION  END_RANGE END_AZIMUTH END_LOCATION  BEGIN_LAT  BEGIN_LON  END_LAT  END_LON                                  EPISODE_NARRATIVE                                    EVENT_NARRATIVE DATA_SOURCE  \n",
       "0               NaN          1.0             N      BOYD HILL        1.0           N    BOYD HILL      34.94     -81.03    34.94   -81.03  Scattered thunderstorms developed across the U...  One to two feet of deep standing water develop...         CSV  \n",
       "1               NaN          1.0             S        FT MILL        1.0           S      FT MILL      35.01     -80.93    35.01   -80.93  Scattered thunderstorms developed across the U...  NWS Columbia relayed a report of trees blown d...         CSV  \n",
       "2               NaN          2.0           ENE         OLD FT        2.0         ENE       OLD FT      35.64     -82.14    35.64   -82.14  Scattered thunderstorms developed near the Blu...  Media reported two trees blown down along I-40...         CSV  \n",
       "3               NaN          1.0             W           JENA        1.0           W         JENA      35.65     -84.18    35.65   -84.18  The combination of summer heating and high low...  Numerous trees were reported down in the Green...         CSV  \n",
       "4               NaN          1.0           WSW         PITNER        1.0         WSW       PITNER      35.87     -83.77    35.87   -83.77  The combination of summer heating and high low...  Numerous trees were reported down in Seymour. ...         CSV  "
      ]
     },
     "execution_count": 2,
     "metadata": {},
     "output_type": "execute_result"
    }
   ],
   "source": [
    "# load in all data for 2016 and 2017\n",
    "\n",
    "details_2016 = pd.read_csv('Details_2016.csv')\n",
    "details_2017 = pd.read_csv('Details_2017.csv')\n",
    "locations_2016 = pd.read_csv('Locations_2016.csv')\n",
    "locations_2017 = pd.read_csv('Locations_2017.csv')\n",
    "#fatalities_2016 = pd.read_csv('Fatalities_2016.csv')\n",
    "#fatalities_2017 = pd.read_csv('Fatalities_2017.csv')\n",
    "\n",
    "print(details_2016.shape)\n",
    "details_2016.head()"
   ]
  },
  {
   "cell_type": "code",
   "execution_count": 3,
   "metadata": {
    "collapsed": false
   },
   "outputs": [
    {
     "name": "stdout",
     "output_type": "stream",
     "text": [
      "(103177, 51)\n"
     ]
    },
    {
     "data": {
      "text/html": [
       "<div>\n",
       "<table border=\"1\" class=\"dataframe\">\n",
       "  <thead>\n",
       "    <tr style=\"text-align: right;\">\n",
       "      <th></th>\n",
       "      <th>BEGIN_YEARMONTH</th>\n",
       "      <th>BEGIN_DAY</th>\n",
       "      <th>BEGIN_TIME</th>\n",
       "      <th>END_YEARMONTH</th>\n",
       "      <th>END_DAY</th>\n",
       "      <th>END_TIME</th>\n",
       "      <th>EPISODE_ID</th>\n",
       "      <th>EVENT_ID</th>\n",
       "      <th>STATE</th>\n",
       "      <th>STATE_FIPS</th>\n",
       "      <th>YEAR</th>\n",
       "      <th>MONTH_NAME</th>\n",
       "      <th>EVENT_TYPE</th>\n",
       "      <th>CZ_TYPE</th>\n",
       "      <th>CZ_FIPS</th>\n",
       "      <th>CZ_NAME</th>\n",
       "      <th>WFO</th>\n",
       "      <th>BEGIN_DATE_TIME</th>\n",
       "      <th>CZ_TIMEZONE</th>\n",
       "      <th>END_DATE_TIME</th>\n",
       "      <th>INJURIES_DIRECT</th>\n",
       "      <th>INJURIES_INDIRECT</th>\n",
       "      <th>DEATHS_DIRECT</th>\n",
       "      <th>DEATHS_INDIRECT</th>\n",
       "      <th>DAMAGE_PROPERTY</th>\n",
       "      <th>DAMAGE_CROPS</th>\n",
       "      <th>SOURCE</th>\n",
       "      <th>MAGNITUDE</th>\n",
       "      <th>MAGNITUDE_TYPE</th>\n",
       "      <th>FLOOD_CAUSE</th>\n",
       "      <th>CATEGORY</th>\n",
       "      <th>TOR_F_SCALE</th>\n",
       "      <th>TOR_LENGTH</th>\n",
       "      <th>TOR_WIDTH</th>\n",
       "      <th>TOR_OTHER_WFO</th>\n",
       "      <th>TOR_OTHER_CZ_STATE</th>\n",
       "      <th>TOR_OTHER_CZ_FIPS</th>\n",
       "      <th>TOR_OTHER_CZ_NAME</th>\n",
       "      <th>BEGIN_RANGE</th>\n",
       "      <th>BEGIN_AZIMUTH</th>\n",
       "      <th>BEGIN_LOCATION</th>\n",
       "      <th>END_RANGE</th>\n",
       "      <th>END_AZIMUTH</th>\n",
       "      <th>END_LOCATION</th>\n",
       "      <th>BEGIN_LAT</th>\n",
       "      <th>BEGIN_LON</th>\n",
       "      <th>END_LAT</th>\n",
       "      <th>END_LON</th>\n",
       "      <th>EPISODE_NARRATIVE</th>\n",
       "      <th>EVENT_NARRATIVE</th>\n",
       "      <th>DATA_SOURCE</th>\n",
       "    </tr>\n",
       "  </thead>\n",
       "  <tbody>\n",
       "    <tr>\n",
       "      <th>0</th>\n",
       "      <td>201607</td>\n",
       "      <td>15</td>\n",
       "      <td>1715</td>\n",
       "      <td>201607</td>\n",
       "      <td>15</td>\n",
       "      <td>1715</td>\n",
       "      <td>108769</td>\n",
       "      <td>651823</td>\n",
       "      <td>SOUTH CAROLINA</td>\n",
       "      <td>45</td>\n",
       "      <td>2016</td>\n",
       "      <td>July</td>\n",
       "      <td>Heavy Rain</td>\n",
       "      <td>C</td>\n",
       "      <td>91</td>\n",
       "      <td>YORK</td>\n",
       "      <td>GSP</td>\n",
       "      <td>15-JUL-16 17:15:00</td>\n",
       "      <td>EST-5</td>\n",
       "      <td>15-JUL-16 17:15:00</td>\n",
       "      <td>0</td>\n",
       "      <td>0</td>\n",
       "      <td>0</td>\n",
       "      <td>0</td>\n",
       "      <td>2.00K</td>\n",
       "      <td>0.00K</td>\n",
       "      <td>Social Media</td>\n",
       "      <td>NaN</td>\n",
       "      <td>NaN</td>\n",
       "      <td>NaN</td>\n",
       "      <td>NaN</td>\n",
       "      <td>NaN</td>\n",
       "      <td>NaN</td>\n",
       "      <td>NaN</td>\n",
       "      <td>NaN</td>\n",
       "      <td>NaN</td>\n",
       "      <td>NaN</td>\n",
       "      <td>NaN</td>\n",
       "      <td>1.0</td>\n",
       "      <td>N</td>\n",
       "      <td>BOYD HILL</td>\n",
       "      <td>1.0</td>\n",
       "      <td>N</td>\n",
       "      <td>BOYD HILL</td>\n",
       "      <td>34.94</td>\n",
       "      <td>-81.03</td>\n",
       "      <td>34.94</td>\n",
       "      <td>-81.03</td>\n",
       "      <td>Scattered thunderstorms developed across the U...</td>\n",
       "      <td>One to two feet of deep standing water develop...</td>\n",
       "      <td>CSV</td>\n",
       "    </tr>\n",
       "    <tr>\n",
       "      <th>1</th>\n",
       "      <td>201607</td>\n",
       "      <td>15</td>\n",
       "      <td>1725</td>\n",
       "      <td>201607</td>\n",
       "      <td>15</td>\n",
       "      <td>1725</td>\n",
       "      <td>108769</td>\n",
       "      <td>651825</td>\n",
       "      <td>SOUTH CAROLINA</td>\n",
       "      <td>45</td>\n",
       "      <td>2016</td>\n",
       "      <td>July</td>\n",
       "      <td>Thunderstorm Wind</td>\n",
       "      <td>C</td>\n",
       "      <td>91</td>\n",
       "      <td>YORK</td>\n",
       "      <td>GSP</td>\n",
       "      <td>15-JUL-16 17:25:00</td>\n",
       "      <td>EST-5</td>\n",
       "      <td>15-JUL-16 17:25:00</td>\n",
       "      <td>0</td>\n",
       "      <td>0</td>\n",
       "      <td>0</td>\n",
       "      <td>0</td>\n",
       "      <td>0.00K</td>\n",
       "      <td>0.00K</td>\n",
       "      <td>NWS Employee</td>\n",
       "      <td>50.0</td>\n",
       "      <td>EG</td>\n",
       "      <td>NaN</td>\n",
       "      <td>NaN</td>\n",
       "      <td>NaN</td>\n",
       "      <td>NaN</td>\n",
       "      <td>NaN</td>\n",
       "      <td>NaN</td>\n",
       "      <td>NaN</td>\n",
       "      <td>NaN</td>\n",
       "      <td>NaN</td>\n",
       "      <td>1.0</td>\n",
       "      <td>S</td>\n",
       "      <td>FT MILL</td>\n",
       "      <td>1.0</td>\n",
       "      <td>S</td>\n",
       "      <td>FT MILL</td>\n",
       "      <td>35.01</td>\n",
       "      <td>-80.93</td>\n",
       "      <td>35.01</td>\n",
       "      <td>-80.93</td>\n",
       "      <td>Scattered thunderstorms developed across the U...</td>\n",
       "      <td>NWS Columbia relayed a report of trees blown d...</td>\n",
       "      <td>CSV</td>\n",
       "    </tr>\n",
       "    <tr>\n",
       "      <th>2</th>\n",
       "      <td>201607</td>\n",
       "      <td>16</td>\n",
       "      <td>1246</td>\n",
       "      <td>201607</td>\n",
       "      <td>16</td>\n",
       "      <td>1246</td>\n",
       "      <td>108812</td>\n",
       "      <td>651828</td>\n",
       "      <td>NORTH CAROLINA</td>\n",
       "      <td>37</td>\n",
       "      <td>2016</td>\n",
       "      <td>July</td>\n",
       "      <td>Thunderstorm Wind</td>\n",
       "      <td>C</td>\n",
       "      <td>111</td>\n",
       "      <td>MCDOWELL</td>\n",
       "      <td>GSP</td>\n",
       "      <td>16-JUL-16 12:46:00</td>\n",
       "      <td>EST-5</td>\n",
       "      <td>16-JUL-16 12:46:00</td>\n",
       "      <td>0</td>\n",
       "      <td>0</td>\n",
       "      <td>0</td>\n",
       "      <td>0</td>\n",
       "      <td>0.00K</td>\n",
       "      <td>0.00K</td>\n",
       "      <td>Broadcast Media</td>\n",
       "      <td>50.0</td>\n",
       "      <td>EG</td>\n",
       "      <td>NaN</td>\n",
       "      <td>NaN</td>\n",
       "      <td>NaN</td>\n",
       "      <td>NaN</td>\n",
       "      <td>NaN</td>\n",
       "      <td>NaN</td>\n",
       "      <td>NaN</td>\n",
       "      <td>NaN</td>\n",
       "      <td>NaN</td>\n",
       "      <td>2.0</td>\n",
       "      <td>ENE</td>\n",
       "      <td>OLD FT</td>\n",
       "      <td>2.0</td>\n",
       "      <td>ENE</td>\n",
       "      <td>OLD FT</td>\n",
       "      <td>35.64</td>\n",
       "      <td>-82.14</td>\n",
       "      <td>35.64</td>\n",
       "      <td>-82.14</td>\n",
       "      <td>Scattered thunderstorms developed near the Blu...</td>\n",
       "      <td>Media reported two trees blown down along I-40...</td>\n",
       "      <td>CSV</td>\n",
       "    </tr>\n",
       "    <tr>\n",
       "      <th>3</th>\n",
       "      <td>201607</td>\n",
       "      <td>8</td>\n",
       "      <td>1755</td>\n",
       "      <td>201607</td>\n",
       "      <td>8</td>\n",
       "      <td>1755</td>\n",
       "      <td>105872</td>\n",
       "      <td>635287</td>\n",
       "      <td>TENNESSEE</td>\n",
       "      <td>47</td>\n",
       "      <td>2016</td>\n",
       "      <td>July</td>\n",
       "      <td>Thunderstorm Wind</td>\n",
       "      <td>C</td>\n",
       "      <td>105</td>\n",
       "      <td>LOUDON</td>\n",
       "      <td>MRX</td>\n",
       "      <td>08-JUL-16 17:55:00</td>\n",
       "      <td>EST-5</td>\n",
       "      <td>08-JUL-16 17:55:00</td>\n",
       "      <td>0</td>\n",
       "      <td>0</td>\n",
       "      <td>0</td>\n",
       "      <td>0</td>\n",
       "      <td>NaN</td>\n",
       "      <td>NaN</td>\n",
       "      <td>Public</td>\n",
       "      <td>50.0</td>\n",
       "      <td>EG</td>\n",
       "      <td>NaN</td>\n",
       "      <td>NaN</td>\n",
       "      <td>NaN</td>\n",
       "      <td>NaN</td>\n",
       "      <td>NaN</td>\n",
       "      <td>NaN</td>\n",
       "      <td>NaN</td>\n",
       "      <td>NaN</td>\n",
       "      <td>NaN</td>\n",
       "      <td>1.0</td>\n",
       "      <td>W</td>\n",
       "      <td>JENA</td>\n",
       "      <td>1.0</td>\n",
       "      <td>W</td>\n",
       "      <td>JENA</td>\n",
       "      <td>35.65</td>\n",
       "      <td>-84.18</td>\n",
       "      <td>35.65</td>\n",
       "      <td>-84.18</td>\n",
       "      <td>The combination of summer heating and high low...</td>\n",
       "      <td>Numerous trees were reported down in the Green...</td>\n",
       "      <td>CSV</td>\n",
       "    </tr>\n",
       "    <tr>\n",
       "      <th>4</th>\n",
       "      <td>201607</td>\n",
       "      <td>8</td>\n",
       "      <td>1810</td>\n",
       "      <td>201607</td>\n",
       "      <td>8</td>\n",
       "      <td>1810</td>\n",
       "      <td>105872</td>\n",
       "      <td>635296</td>\n",
       "      <td>TENNESSEE</td>\n",
       "      <td>47</td>\n",
       "      <td>2016</td>\n",
       "      <td>July</td>\n",
       "      <td>Thunderstorm Wind</td>\n",
       "      <td>C</td>\n",
       "      <td>155</td>\n",
       "      <td>SEVIER</td>\n",
       "      <td>MRX</td>\n",
       "      <td>08-JUL-16 18:10:00</td>\n",
       "      <td>EST-5</td>\n",
       "      <td>08-JUL-16 18:10:00</td>\n",
       "      <td>0</td>\n",
       "      <td>0</td>\n",
       "      <td>0</td>\n",
       "      <td>0</td>\n",
       "      <td>NaN</td>\n",
       "      <td>NaN</td>\n",
       "      <td>State Official</td>\n",
       "      <td>60.0</td>\n",
       "      <td>EG</td>\n",
       "      <td>NaN</td>\n",
       "      <td>NaN</td>\n",
       "      <td>NaN</td>\n",
       "      <td>NaN</td>\n",
       "      <td>NaN</td>\n",
       "      <td>NaN</td>\n",
       "      <td>NaN</td>\n",
       "      <td>NaN</td>\n",
       "      <td>NaN</td>\n",
       "      <td>1.0</td>\n",
       "      <td>WSW</td>\n",
       "      <td>PITNER</td>\n",
       "      <td>1.0</td>\n",
       "      <td>WSW</td>\n",
       "      <td>PITNER</td>\n",
       "      <td>35.87</td>\n",
       "      <td>-83.77</td>\n",
       "      <td>35.87</td>\n",
       "      <td>-83.77</td>\n",
       "      <td>The combination of summer heating and high low...</td>\n",
       "      <td>Numerous trees were reported down in Seymour. ...</td>\n",
       "      <td>CSV</td>\n",
       "    </tr>\n",
       "  </tbody>\n",
       "</table>\n",
       "</div>"
      ],
      "text/plain": [
       "   BEGIN_YEARMONTH  BEGIN_DAY  BEGIN_TIME  END_YEARMONTH  END_DAY  END_TIME  EPISODE_ID  EVENT_ID           STATE  STATE_FIPS  YEAR MONTH_NAME         EVENT_TYPE CZ_TYPE  CZ_FIPS   CZ_NAME  WFO     BEGIN_DATE_TIME CZ_TIMEZONE       END_DATE_TIME  INJURIES_DIRECT  INJURIES_INDIRECT  DEATHS_DIRECT  DEATHS_INDIRECT DAMAGE_PROPERTY DAMAGE_CROPS           SOURCE  MAGNITUDE MAGNITUDE_TYPE FLOOD_CAUSE  CATEGORY TOR_F_SCALE  TOR_LENGTH  TOR_WIDTH TOR_OTHER_WFO TOR_OTHER_CZ_STATE  TOR_OTHER_CZ_FIPS  \\\n",
       "0           201607         15        1715         201607       15      1715      108769    651823  SOUTH CAROLINA          45  2016       July         Heavy Rain       C       91      YORK  GSP  15-JUL-16 17:15:00       EST-5  15-JUL-16 17:15:00                0                  0              0                0           2.00K        0.00K     Social Media        NaN            NaN         NaN       NaN         NaN         NaN        NaN           NaN                NaN                NaN   \n",
       "1           201607         15        1725         201607       15      1725      108769    651825  SOUTH CAROLINA          45  2016       July  Thunderstorm Wind       C       91      YORK  GSP  15-JUL-16 17:25:00       EST-5  15-JUL-16 17:25:00                0                  0              0                0           0.00K        0.00K     NWS Employee       50.0             EG         NaN       NaN         NaN         NaN        NaN           NaN                NaN                NaN   \n",
       "2           201607         16        1246         201607       16      1246      108812    651828  NORTH CAROLINA          37  2016       July  Thunderstorm Wind       C      111  MCDOWELL  GSP  16-JUL-16 12:46:00       EST-5  16-JUL-16 12:46:00                0                  0              0                0           0.00K        0.00K  Broadcast Media       50.0             EG         NaN       NaN         NaN         NaN        NaN           NaN                NaN                NaN   \n",
       "3           201607          8        1755         201607        8      1755      105872    635287       TENNESSEE          47  2016       July  Thunderstorm Wind       C      105    LOUDON  MRX  08-JUL-16 17:55:00       EST-5  08-JUL-16 17:55:00                0                  0              0                0             NaN          NaN           Public       50.0             EG         NaN       NaN         NaN         NaN        NaN           NaN                NaN                NaN   \n",
       "4           201607          8        1810         201607        8      1810      105872    635296       TENNESSEE          47  2016       July  Thunderstorm Wind       C      155    SEVIER  MRX  08-JUL-16 18:10:00       EST-5  08-JUL-16 18:10:00                0                  0              0                0             NaN          NaN   State Official       60.0             EG         NaN       NaN         NaN         NaN        NaN           NaN                NaN                NaN   \n",
       "\n",
       "  TOR_OTHER_CZ_NAME  BEGIN_RANGE BEGIN_AZIMUTH BEGIN_LOCATION  END_RANGE END_AZIMUTH END_LOCATION  BEGIN_LAT  BEGIN_LON  END_LAT  END_LON                                  EPISODE_NARRATIVE                                    EVENT_NARRATIVE DATA_SOURCE  \n",
       "0               NaN          1.0             N      BOYD HILL        1.0           N    BOYD HILL      34.94     -81.03    34.94   -81.03  Scattered thunderstorms developed across the U...  One to two feet of deep standing water develop...         CSV  \n",
       "1               NaN          1.0             S        FT MILL        1.0           S      FT MILL      35.01     -80.93    35.01   -80.93  Scattered thunderstorms developed across the U...  NWS Columbia relayed a report of trees blown d...         CSV  \n",
       "2               NaN          2.0           ENE         OLD FT        2.0         ENE       OLD FT      35.64     -82.14    35.64   -82.14  Scattered thunderstorms developed near the Blu...  Media reported two trees blown down along I-40...         CSV  \n",
       "3               NaN          1.0             W           JENA        1.0           W         JENA      35.65     -84.18    35.65   -84.18  The combination of summer heating and high low...  Numerous trees were reported down in the Green...         CSV  \n",
       "4               NaN          1.0           WSW         PITNER        1.0         WSW       PITNER      35.87     -83.77    35.87   -83.77  The combination of summer heating and high low...  Numerous trees were reported down in Seymour. ...         CSV  "
      ]
     },
     "execution_count": 3,
     "metadata": {},
     "output_type": "execute_result"
    }
   ],
   "source": [
    "# vertically merge\n",
    "\n",
    "details = pd.concat([details_2016, details_2017])\n",
    "locations = pd.concat([locations_2016, locations_2017])\n",
    "#fatalities = pd.concat([fatalities_2016, fatalities_2017])\n",
    "\n",
    "print(details.shape)\n",
    "details.head()"
   ]
  },
  {
   "cell_type": "markdown",
   "metadata": {},
   "source": [
    "# Part 2: Preliminary Data Analysis and Cleaning"
   ]
  },
  {
   "cell_type": "code",
   "execution_count": 4,
   "metadata": {
    "collapsed": false
   },
   "outputs": [
    {
     "name": "stdout",
     "output_type": "stream",
     "text": [
      "['BEGIN_YEARMONTH', 'BEGIN_DAY', 'BEGIN_TIME', 'END_YEARMONTH', 'END_DAY', 'END_TIME', 'EPISODE_ID', 'EVENT_ID', 'STATE', 'STATE_FIPS', 'YEAR', 'MONTH_NAME', 'EVENT_TYPE', 'CZ_TYPE', 'CZ_FIPS', 'CZ_NAME', 'WFO', 'BEGIN_DATE_TIME', 'CZ_TIMEZONE', 'END_DATE_TIME', 'INJURIES_DIRECT', 'INJURIES_INDIRECT', 'DEATHS_DIRECT', 'DEATHS_INDIRECT', 'DAMAGE_PROPERTY', 'DAMAGE_CROPS', 'SOURCE', 'MAGNITUDE', 'MAGNITUDE_TYPE', 'FLOOD_CAUSE', 'CATEGORY', 'TOR_F_SCALE', 'TOR_LENGTH', 'TOR_WIDTH', 'TOR_OTHER_WFO', 'TOR_OTHER_CZ_STATE', 'TOR_OTHER_CZ_FIPS', 'TOR_OTHER_CZ_NAME', 'BEGIN_RANGE', 'BEGIN_AZIMUTH', 'BEGIN_LOCATION', 'END_RANGE', 'END_AZIMUTH', 'END_LOCATION', 'BEGIN_LAT', 'BEGIN_LON', 'END_LAT', 'END_LON', 'EPISODE_NARRATIVE', 'EVENT_NARRATIVE', 'DATA_SOURCE']\n",
      "\n",
      "['YEARMONTH', 'EPISODE_ID', 'EVENT_ID', 'LOCATION_INDEX', 'RANGE', 'AZIMUTH', 'LOCATION', 'LATITUDE', 'LONGITUDE', 'LAT2', 'LON2']\n",
      "\n"
     ]
    }
   ],
   "source": [
    "# look at column names\n",
    "\n",
    "print(list(details.columns))\n",
    "print()\n",
    "print(list(locations.columns))\n",
    "print()\n",
    "#print(list(fatalities.columns))"
   ]
  },
  {
   "cell_type": "code",
   "execution_count": 5,
   "metadata": {
    "collapsed": false
   },
   "outputs": [
    {
     "name": "stdout",
     "output_type": "stream",
     "text": [
      "20501\n",
      "20501\n"
     ]
    }
   ],
   "source": [
    "# re-format Property and Crop Damage\n",
    "\n",
    "print(details['DAMAGE_PROPERTY'][details['DAMAGE_PROPERTY'].isnull()].size)\n",
    "\n",
    "damage_property = []\n",
    "for i in details[\"DAMAGE_PROPERTY\"]:\n",
    "    try:\n",
    "        dam = float(i.split('K')[0])*1000.0\n",
    "        damage_property.append(dam)\n",
    "    except:\n",
    "        try:\n",
    "            dam = float(i.split('M')[0])*1000000.0\n",
    "            damage_property.append(dam)\n",
    "        except:\n",
    "            try:\n",
    "                dam = float(i.split('B')[0])*1000000000.0\n",
    "                damage_property.append(dam)\n",
    "            except:\n",
    "                try:\n",
    "                    dam = float(i)*1.0\n",
    "                    damage_property.append(dam)\n",
    "                except:\n",
    "                    print(i)\n",
    "                    \n",
    "damage_crops = []\n",
    "for i in details[\"DAMAGE_CROPS\"]:\n",
    "    try:\n",
    "        dam = float(i.split('K')[0])*1000.0\n",
    "        damage_crops.append(dam)\n",
    "    except:\n",
    "        try:\n",
    "            dam = float(i.split('M')[0])*1000000.0\n",
    "            damage_crops.append(dam)\n",
    "        except:\n",
    "            try:\n",
    "                dam = float(i.split('B')[0])*1000000000.0\n",
    "                damage_crops.append(dam)\n",
    "            except:\n",
    "                try:\n",
    "                    dam = float(i)*1.0\n",
    "                    damage_crops.append(dam)\n",
    "                except:\n",
    "                    print(i)\n",
    "                    \n",
    "details[\"DAMAGE_PROPERTY\"] = damage_property\n",
    "details[\"DAMAGE_CROPS\"] = damage_crops\n",
    "\n",
    "print(details['DAMAGE_PROPERTY'][details['DAMAGE_PROPERTY'].isnull()].size)\n",
    "        \n",
    "# create new Total Damage Column\n",
    "    \n",
    "details['DAMAGE_TOTAL'] = details['DAMAGE_PROPERTY'] + details['DAMAGE_CROPS']"
   ]
  },
  {
   "cell_type": "code",
   "execution_count": 48,
   "metadata": {
    "collapsed": false
   },
   "outputs": [
    {
     "ename": "NameError",
     "evalue": "name 'details' is not defined",
     "output_type": "error",
     "traceback": [
      "\u001b[0;31m---------------------------------------------------------------------------\u001b[0m",
      "\u001b[0;31mNameError\u001b[0m                                 Traceback (most recent call last)",
      "\u001b[0;32m<ipython-input-48-ef3b76159f70>\u001b[0m in \u001b[0;36m<module>\u001b[0;34m()\u001b[0m\n\u001b[1;32m      2\u001b[0m \u001b[0;34m\u001b[0m\u001b[0m\n\u001b[1;32m      3\u001b[0m \u001b[0mhas_damage\u001b[0m \u001b[0;34m=\u001b[0m \u001b[0;34m[\u001b[0m\u001b[0;34m]\u001b[0m\u001b[0;34m\u001b[0m\u001b[0m\n\u001b[0;32m----> 4\u001b[0;31m \u001b[0;32mfor\u001b[0m \u001b[0mx\u001b[0m \u001b[0;32min\u001b[0m \u001b[0mdetails\u001b[0m\u001b[0;34m[\u001b[0m\u001b[0;34m'DAMAGE_PROPERTY'\u001b[0m\u001b[0;34m]\u001b[0m\u001b[0;34m:\u001b[0m\u001b[0;34m\u001b[0m\u001b[0m\n\u001b[0m\u001b[1;32m      5\u001b[0m     \u001b[0;32mif\u001b[0m \u001b[0mx\u001b[0m \u001b[0;34m>\u001b[0m \u001b[0;36m0.0\u001b[0m\u001b[0;34m:\u001b[0m\u001b[0;34m\u001b[0m\u001b[0m\n\u001b[1;32m      6\u001b[0m         \u001b[0mhas_damage\u001b[0m\u001b[0;34m.\u001b[0m\u001b[0mappend\u001b[0m\u001b[0;34m(\u001b[0m\u001b[0;36m1\u001b[0m\u001b[0;34m)\u001b[0m\u001b[0;34m\u001b[0m\u001b[0m\n",
      "\u001b[0;31mNameError\u001b[0m: name 'details' is not defined"
     ]
    }
   ],
   "source": [
    "# Make new categorical column for has_damage\n",
    "\n",
    "has_damage = []\n",
    "for x in details['DAMAGE_PROPERTY']:\n",
    "    if x > 0.0:\n",
    "        has_damage.append(1)\n",
    "    else:\n",
    "        has_damage.append(0)\n",
    "\n",
    "details['HAS_DAMAGE'] = has_damage\n",
    "details['HAS_DAMAGE'].head()"
   ]
  },
  {
   "cell_type": "code",
   "execution_count": 7,
   "metadata": {
    "collapsed": false
   },
   "outputs": [
    {
     "name": "stdout",
     "output_type": "stream",
     "text": [
      "(87563, 62)\n"
     ]
    },
    {
     "data": {
      "text/html": [
       "<div>\n",
       "<table border=\"1\" class=\"dataframe\">\n",
       "  <thead>\n",
       "    <tr style=\"text-align: right;\">\n",
       "      <th></th>\n",
       "      <th>BEGIN_YEARMONTH</th>\n",
       "      <th>BEGIN_DAY</th>\n",
       "      <th>BEGIN_TIME</th>\n",
       "      <th>END_YEARMONTH</th>\n",
       "      <th>END_DAY</th>\n",
       "      <th>END_TIME</th>\n",
       "      <th>EPISODE_ID</th>\n",
       "      <th>EVENT_ID</th>\n",
       "      <th>STATE</th>\n",
       "      <th>STATE_FIPS</th>\n",
       "      <th>YEAR</th>\n",
       "      <th>MONTH_NAME</th>\n",
       "      <th>EVENT_TYPE</th>\n",
       "      <th>CZ_TYPE</th>\n",
       "      <th>CZ_FIPS</th>\n",
       "      <th>CZ_NAME</th>\n",
       "      <th>WFO</th>\n",
       "      <th>BEGIN_DATE_TIME</th>\n",
       "      <th>CZ_TIMEZONE</th>\n",
       "      <th>END_DATE_TIME</th>\n",
       "      <th>INJURIES_DIRECT</th>\n",
       "      <th>INJURIES_INDIRECT</th>\n",
       "      <th>DEATHS_DIRECT</th>\n",
       "      <th>DEATHS_INDIRECT</th>\n",
       "      <th>DAMAGE_PROPERTY</th>\n",
       "      <th>DAMAGE_CROPS</th>\n",
       "      <th>SOURCE</th>\n",
       "      <th>MAGNITUDE</th>\n",
       "      <th>MAGNITUDE_TYPE</th>\n",
       "      <th>FLOOD_CAUSE</th>\n",
       "      <th>CATEGORY</th>\n",
       "      <th>TOR_F_SCALE</th>\n",
       "      <th>TOR_LENGTH</th>\n",
       "      <th>TOR_WIDTH</th>\n",
       "      <th>TOR_OTHER_WFO</th>\n",
       "      <th>TOR_OTHER_CZ_STATE</th>\n",
       "      <th>TOR_OTHER_CZ_FIPS</th>\n",
       "      <th>TOR_OTHER_CZ_NAME</th>\n",
       "      <th>BEGIN_RANGE</th>\n",
       "      <th>BEGIN_AZIMUTH</th>\n",
       "      <th>BEGIN_LOCATION</th>\n",
       "      <th>END_RANGE</th>\n",
       "      <th>END_AZIMUTH</th>\n",
       "      <th>END_LOCATION</th>\n",
       "      <th>BEGIN_LAT</th>\n",
       "      <th>BEGIN_LON</th>\n",
       "      <th>END_LAT</th>\n",
       "      <th>END_LON</th>\n",
       "      <th>EPISODE_NARRATIVE</th>\n",
       "      <th>EVENT_NARRATIVE</th>\n",
       "      <th>DATA_SOURCE</th>\n",
       "      <th>DAMAGE_TOTAL</th>\n",
       "      <th>HAS_DAMAGE</th>\n",
       "      <th>YEARMONTH</th>\n",
       "      <th>LOCATION_INDEX</th>\n",
       "      <th>RANGE</th>\n",
       "      <th>AZIMUTH</th>\n",
       "      <th>LOCATION</th>\n",
       "      <th>LATITUDE</th>\n",
       "      <th>LONGITUDE</th>\n",
       "      <th>LAT2</th>\n",
       "      <th>LON2</th>\n",
       "    </tr>\n",
       "  </thead>\n",
       "  <tbody>\n",
       "    <tr>\n",
       "      <th>0</th>\n",
       "      <td>201603</td>\n",
       "      <td>15</td>\n",
       "      <td>2316</td>\n",
       "      <td>201603</td>\n",
       "      <td>15</td>\n",
       "      <td>2316</td>\n",
       "      <td>102911</td>\n",
       "      <td>614969</td>\n",
       "      <td>WISCONSIN</td>\n",
       "      <td>55</td>\n",
       "      <td>2016</td>\n",
       "      <td>March</td>\n",
       "      <td>Hail</td>\n",
       "      <td>C</td>\n",
       "      <td>105</td>\n",
       "      <td>ROCK</td>\n",
       "      <td>MKX</td>\n",
       "      <td>15-MAR-16 23:16:00</td>\n",
       "      <td>CST-6</td>\n",
       "      <td>15-MAR-16 23:16:00</td>\n",
       "      <td>0</td>\n",
       "      <td>0</td>\n",
       "      <td>0</td>\n",
       "      <td>0</td>\n",
       "      <td>0.0</td>\n",
       "      <td>0.0</td>\n",
       "      <td>Public</td>\n",
       "      <td>1.00</td>\n",
       "      <td>NaN</td>\n",
       "      <td>NaN</td>\n",
       "      <td>NaN</td>\n",
       "      <td>NaN</td>\n",
       "      <td>NaN</td>\n",
       "      <td>NaN</td>\n",
       "      <td>NaN</td>\n",
       "      <td>NaN</td>\n",
       "      <td>NaN</td>\n",
       "      <td>NaN</td>\n",
       "      <td>1.0</td>\n",
       "      <td>N</td>\n",
       "      <td>EDGERTON</td>\n",
       "      <td>1.0</td>\n",
       "      <td>N</td>\n",
       "      <td>EDGERTON</td>\n",
       "      <td>42.8400</td>\n",
       "      <td>-89.0700</td>\n",
       "      <td>42.8400</td>\n",
       "      <td>-89.0700</td>\n",
       "      <td>A deepening low pressure area tracked from Wes...</td>\n",
       "      <td>NaN</td>\n",
       "      <td>CSV</td>\n",
       "      <td>0.0</td>\n",
       "      <td>0</td>\n",
       "      <td>201603</td>\n",
       "      <td>1</td>\n",
       "      <td>0.69</td>\n",
       "      <td>N</td>\n",
       "      <td>EDGERTON</td>\n",
       "      <td>42.8400</td>\n",
       "      <td>-89.0700</td>\n",
       "      <td>4250400</td>\n",
       "      <td>894200</td>\n",
       "    </tr>\n",
       "    <tr>\n",
       "      <th>1</th>\n",
       "      <td>201603</td>\n",
       "      <td>15</td>\n",
       "      <td>2239</td>\n",
       "      <td>201603</td>\n",
       "      <td>15</td>\n",
       "      <td>2300</td>\n",
       "      <td>102911</td>\n",
       "      <td>619253</td>\n",
       "      <td>WISCONSIN</td>\n",
       "      <td>55</td>\n",
       "      <td>2016</td>\n",
       "      <td>March</td>\n",
       "      <td>Lightning</td>\n",
       "      <td>C</td>\n",
       "      <td>133</td>\n",
       "      <td>WAUKESHA</td>\n",
       "      <td>MKX</td>\n",
       "      <td>15-MAR-16 22:39:00</td>\n",
       "      <td>CST-6</td>\n",
       "      <td>15-MAR-16 23:00:00</td>\n",
       "      <td>0</td>\n",
       "      <td>0</td>\n",
       "      <td>0</td>\n",
       "      <td>0</td>\n",
       "      <td>1000.0</td>\n",
       "      <td>0.0</td>\n",
       "      <td>Law Enforcement</td>\n",
       "      <td>NaN</td>\n",
       "      <td>NaN</td>\n",
       "      <td>NaN</td>\n",
       "      <td>NaN</td>\n",
       "      <td>NaN</td>\n",
       "      <td>NaN</td>\n",
       "      <td>NaN</td>\n",
       "      <td>NaN</td>\n",
       "      <td>NaN</td>\n",
       "      <td>NaN</td>\n",
       "      <td>NaN</td>\n",
       "      <td>1.0</td>\n",
       "      <td>NNE</td>\n",
       "      <td>HARTLAND</td>\n",
       "      <td>1.0</td>\n",
       "      <td>NNE</td>\n",
       "      <td>HARTLAND</td>\n",
       "      <td>43.1069</td>\n",
       "      <td>-88.3468</td>\n",
       "      <td>43.1069</td>\n",
       "      <td>-88.3468</td>\n",
       "      <td>A deepening low pressure area tracked from Wes...</td>\n",
       "      <td>Lightning struck a tree and then traveled into...</td>\n",
       "      <td>CSV</td>\n",
       "      <td>1000.0</td>\n",
       "      <td>1</td>\n",
       "      <td>201603</td>\n",
       "      <td>1</td>\n",
       "      <td>0.50</td>\n",
       "      <td>NNE</td>\n",
       "      <td>HARTLAND</td>\n",
       "      <td>43.1069</td>\n",
       "      <td>-88.3468</td>\n",
       "      <td>436414</td>\n",
       "      <td>8820808</td>\n",
       "    </tr>\n",
       "    <tr>\n",
       "      <th>2</th>\n",
       "      <td>201607</td>\n",
       "      <td>7</td>\n",
       "      <td>2137</td>\n",
       "      <td>201607</td>\n",
       "      <td>7</td>\n",
       "      <td>2137</td>\n",
       "      <td>108811</td>\n",
       "      <td>651842</td>\n",
       "      <td>KANSAS</td>\n",
       "      <td>20</td>\n",
       "      <td>2016</td>\n",
       "      <td>July</td>\n",
       "      <td>Hail</td>\n",
       "      <td>C</td>\n",
       "      <td>109</td>\n",
       "      <td>LOGAN</td>\n",
       "      <td>GLD</td>\n",
       "      <td>07-JUL-16 21:37:00</td>\n",
       "      <td>CST-6</td>\n",
       "      <td>07-JUL-16 21:37:00</td>\n",
       "      <td>0</td>\n",
       "      <td>0</td>\n",
       "      <td>0</td>\n",
       "      <td>0</td>\n",
       "      <td>0.0</td>\n",
       "      <td>0.0</td>\n",
       "      <td>Public</td>\n",
       "      <td>4.00</td>\n",
       "      <td>NaN</td>\n",
       "      <td>NaN</td>\n",
       "      <td>NaN</td>\n",
       "      <td>NaN</td>\n",
       "      <td>NaN</td>\n",
       "      <td>NaN</td>\n",
       "      <td>NaN</td>\n",
       "      <td>NaN</td>\n",
       "      <td>NaN</td>\n",
       "      <td>NaN</td>\n",
       "      <td>11.0</td>\n",
       "      <td>S</td>\n",
       "      <td>OAKLEY MUNI ARPT</td>\n",
       "      <td>11.0</td>\n",
       "      <td>S</td>\n",
       "      <td>OAKLEY MUNI ARPT</td>\n",
       "      <td>38.9686</td>\n",
       "      <td>-100.8518</td>\n",
       "      <td>38.9686</td>\n",
       "      <td>-100.8518</td>\n",
       "      <td>During the early evening a cold front moved th...</td>\n",
       "      <td>Measured size of the hail was 3.75 inches in d...</td>\n",
       "      <td>CSV</td>\n",
       "      <td>0.0</td>\n",
       "      <td>0</td>\n",
       "      <td>201607</td>\n",
       "      <td>1</td>\n",
       "      <td>10.60</td>\n",
       "      <td>S</td>\n",
       "      <td>OAKLEY MUNI ARPT</td>\n",
       "      <td>38.9686</td>\n",
       "      <td>-100.8518</td>\n",
       "      <td>3858116</td>\n",
       "      <td>10051108</td>\n",
       "    </tr>\n",
       "    <tr>\n",
       "      <th>3</th>\n",
       "      <td>201607</td>\n",
       "      <td>7</td>\n",
       "      <td>2013</td>\n",
       "      <td>201607</td>\n",
       "      <td>7</td>\n",
       "      <td>2013</td>\n",
       "      <td>108811</td>\n",
       "      <td>651844</td>\n",
       "      <td>KANSAS</td>\n",
       "      <td>20</td>\n",
       "      <td>2016</td>\n",
       "      <td>July</td>\n",
       "      <td>Thunderstorm Wind</td>\n",
       "      <td>C</td>\n",
       "      <td>193</td>\n",
       "      <td>THOMAS</td>\n",
       "      <td>GLD</td>\n",
       "      <td>07-JUL-16 20:13:00</td>\n",
       "      <td>CST-6</td>\n",
       "      <td>07-JUL-16 20:13:00</td>\n",
       "      <td>0</td>\n",
       "      <td>0</td>\n",
       "      <td>0</td>\n",
       "      <td>0</td>\n",
       "      <td>0.0</td>\n",
       "      <td>0.0</td>\n",
       "      <td>Mesonet</td>\n",
       "      <td>52.00</td>\n",
       "      <td>MG</td>\n",
       "      <td>NaN</td>\n",
       "      <td>NaN</td>\n",
       "      <td>NaN</td>\n",
       "      <td>NaN</td>\n",
       "      <td>NaN</td>\n",
       "      <td>NaN</td>\n",
       "      <td>NaN</td>\n",
       "      <td>NaN</td>\n",
       "      <td>NaN</td>\n",
       "      <td>2.0</td>\n",
       "      <td>E</td>\n",
       "      <td>COLBY</td>\n",
       "      <td>2.0</td>\n",
       "      <td>E</td>\n",
       "      <td>COLBY</td>\n",
       "      <td>39.4001</td>\n",
       "      <td>-101.0130</td>\n",
       "      <td>39.4001</td>\n",
       "      <td>-101.0130</td>\n",
       "      <td>During the early evening a cold front moved th...</td>\n",
       "      <td>Estimated time of report from radar.</td>\n",
       "      <td>CSV</td>\n",
       "      <td>0.0</td>\n",
       "      <td>0</td>\n",
       "      <td>201607</td>\n",
       "      <td>1</td>\n",
       "      <td>1.98</td>\n",
       "      <td>E</td>\n",
       "      <td>COLBY</td>\n",
       "      <td>39.4001</td>\n",
       "      <td>-101.0130</td>\n",
       "      <td>3924006</td>\n",
       "      <td>101780</td>\n",
       "    </tr>\n",
       "    <tr>\n",
       "      <th>4</th>\n",
       "      <td>201607</td>\n",
       "      <td>7</td>\n",
       "      <td>2116</td>\n",
       "      <td>201607</td>\n",
       "      <td>7</td>\n",
       "      <td>2116</td>\n",
       "      <td>108811</td>\n",
       "      <td>651857</td>\n",
       "      <td>KANSAS</td>\n",
       "      <td>20</td>\n",
       "      <td>2016</td>\n",
       "      <td>July</td>\n",
       "      <td>Hail</td>\n",
       "      <td>C</td>\n",
       "      <td>109</td>\n",
       "      <td>LOGAN</td>\n",
       "      <td>GLD</td>\n",
       "      <td>07-JUL-16 21:16:00</td>\n",
       "      <td>CST-6</td>\n",
       "      <td>07-JUL-16 21:16:00</td>\n",
       "      <td>0</td>\n",
       "      <td>0</td>\n",
       "      <td>0</td>\n",
       "      <td>0</td>\n",
       "      <td>0.0</td>\n",
       "      <td>0.0</td>\n",
       "      <td>Emergency Manager</td>\n",
       "      <td>1.75</td>\n",
       "      <td>NaN</td>\n",
       "      <td>NaN</td>\n",
       "      <td>NaN</td>\n",
       "      <td>NaN</td>\n",
       "      <td>NaN</td>\n",
       "      <td>NaN</td>\n",
       "      <td>NaN</td>\n",
       "      <td>NaN</td>\n",
       "      <td>NaN</td>\n",
       "      <td>NaN</td>\n",
       "      <td>6.0</td>\n",
       "      <td>SSW</td>\n",
       "      <td>OAKLEY MUNI ARPT</td>\n",
       "      <td>6.0</td>\n",
       "      <td>SSW</td>\n",
       "      <td>OAKLEY MUNI ARPT</td>\n",
       "      <td>39.0474</td>\n",
       "      <td>-100.8672</td>\n",
       "      <td>39.0474</td>\n",
       "      <td>-100.8672</td>\n",
       "      <td>During the early evening a cold front moved th...</td>\n",
       "      <td>Golf ball size hail broke rain gauge.  Estimat...</td>\n",
       "      <td>CSV</td>\n",
       "      <td>0.0</td>\n",
       "      <td>0</td>\n",
       "      <td>201607</td>\n",
       "      <td>1</td>\n",
       "      <td>5.62</td>\n",
       "      <td>SSW</td>\n",
       "      <td>OAKLEY MUNI ARPT</td>\n",
       "      <td>39.0474</td>\n",
       "      <td>-100.8672</td>\n",
       "      <td>392844</td>\n",
       "      <td>10052032</td>\n",
       "    </tr>\n",
       "  </tbody>\n",
       "</table>\n",
       "</div>"
      ],
      "text/plain": [
       "   BEGIN_YEARMONTH  BEGIN_DAY  BEGIN_TIME  END_YEARMONTH  END_DAY  END_TIME  EPISODE_ID  EVENT_ID      STATE  STATE_FIPS  YEAR MONTH_NAME         EVENT_TYPE CZ_TYPE  CZ_FIPS   CZ_NAME  WFO     BEGIN_DATE_TIME CZ_TIMEZONE       END_DATE_TIME  INJURIES_DIRECT  INJURIES_INDIRECT  DEATHS_DIRECT  DEATHS_INDIRECT  DAMAGE_PROPERTY  DAMAGE_CROPS             SOURCE  MAGNITUDE MAGNITUDE_TYPE FLOOD_CAUSE  CATEGORY TOR_F_SCALE  TOR_LENGTH  TOR_WIDTH TOR_OTHER_WFO TOR_OTHER_CZ_STATE  TOR_OTHER_CZ_FIPS  \\\n",
       "0           201603         15        2316         201603       15      2316      102911    614969  WISCONSIN          55  2016      March               Hail       C      105      ROCK  MKX  15-MAR-16 23:16:00       CST-6  15-MAR-16 23:16:00                0                  0              0                0              0.0           0.0             Public       1.00            NaN         NaN       NaN         NaN         NaN        NaN           NaN                NaN                NaN   \n",
       "1           201603         15        2239         201603       15      2300      102911    619253  WISCONSIN          55  2016      March          Lightning       C      133  WAUKESHA  MKX  15-MAR-16 22:39:00       CST-6  15-MAR-16 23:00:00                0                  0              0                0           1000.0           0.0    Law Enforcement        NaN            NaN         NaN       NaN         NaN         NaN        NaN           NaN                NaN                NaN   \n",
       "2           201607          7        2137         201607        7      2137      108811    651842     KANSAS          20  2016       July               Hail       C      109     LOGAN  GLD  07-JUL-16 21:37:00       CST-6  07-JUL-16 21:37:00                0                  0              0                0              0.0           0.0             Public       4.00            NaN         NaN       NaN         NaN         NaN        NaN           NaN                NaN                NaN   \n",
       "3           201607          7        2013         201607        7      2013      108811    651844     KANSAS          20  2016       July  Thunderstorm Wind       C      193    THOMAS  GLD  07-JUL-16 20:13:00       CST-6  07-JUL-16 20:13:00                0                  0              0                0              0.0           0.0            Mesonet      52.00             MG         NaN       NaN         NaN         NaN        NaN           NaN                NaN                NaN   \n",
       "4           201607          7        2116         201607        7      2116      108811    651857     KANSAS          20  2016       July               Hail       C      109     LOGAN  GLD  07-JUL-16 21:16:00       CST-6  07-JUL-16 21:16:00                0                  0              0                0              0.0           0.0  Emergency Manager       1.75            NaN         NaN       NaN         NaN         NaN        NaN           NaN                NaN                NaN   \n",
       "\n",
       "  TOR_OTHER_CZ_NAME  BEGIN_RANGE BEGIN_AZIMUTH    BEGIN_LOCATION  END_RANGE END_AZIMUTH      END_LOCATION  BEGIN_LAT  BEGIN_LON  END_LAT   END_LON                                  EPISODE_NARRATIVE                                    EVENT_NARRATIVE DATA_SOURCE  DAMAGE_TOTAL  HAS_DAMAGE  YEARMONTH  LOCATION_INDEX  RANGE AZIMUTH          LOCATION  LATITUDE  LONGITUDE     LAT2      LON2  \n",
       "0               NaN          1.0             N          EDGERTON        1.0           N          EDGERTON    42.8400   -89.0700  42.8400  -89.0700  A deepening low pressure area tracked from Wes...                                                NaN         CSV           0.0           0     201603               1   0.69       N          EDGERTON   42.8400   -89.0700  4250400    894200  \n",
       "1               NaN          1.0           NNE          HARTLAND        1.0         NNE          HARTLAND    43.1069   -88.3468  43.1069  -88.3468  A deepening low pressure area tracked from Wes...  Lightning struck a tree and then traveled into...         CSV        1000.0           1     201603               1   0.50     NNE          HARTLAND   43.1069   -88.3468   436414   8820808  \n",
       "2               NaN         11.0             S  OAKLEY MUNI ARPT       11.0           S  OAKLEY MUNI ARPT    38.9686  -100.8518  38.9686 -100.8518  During the early evening a cold front moved th...  Measured size of the hail was 3.75 inches in d...         CSV           0.0           0     201607               1  10.60       S  OAKLEY MUNI ARPT   38.9686  -100.8518  3858116  10051108  \n",
       "3               NaN          2.0             E             COLBY        2.0           E             COLBY    39.4001  -101.0130  39.4001 -101.0130  During the early evening a cold front moved th...               Estimated time of report from radar.         CSV           0.0           0     201607               1   1.98       E             COLBY   39.4001  -101.0130  3924006    101780  \n",
       "4               NaN          6.0           SSW  OAKLEY MUNI ARPT        6.0         SSW  OAKLEY MUNI ARPT    39.0474  -100.8672  39.0474 -100.8672  During the early evening a cold front moved th...  Golf ball size hail broke rain gauge.  Estimat...         CSV           0.0           0     201607               1   5.62     SSW  OAKLEY MUNI ARPT   39.0474  -100.8672   392844  10052032  "
      ]
     },
     "execution_count": 7,
     "metadata": {},
     "output_type": "execute_result"
    }
   ],
   "source": [
    "# merge details and location data\n",
    "\n",
    "data = pd.merge(details, locations, how='inner', on=['EPISODE_ID', 'EVENT_ID'])\n",
    "print(data.shape)\n",
    "data.head()\n",
    "\n",
    "## NOTE: possibility to merge on fatalities, but there are very few (766) so this would be a special case model\n",
    "## perhaps use for some final added analysis\n",
    "## data = pd.merge(data1, fatalities, how='inner', on=['EVENT_ID'])"
   ]
  },
  {
   "cell_type": "markdown",
   "metadata": {},
   "source": [
    "# Part 3: Some of our EDA"
   ]
  },
  {
   "cell_type": "code",
   "execution_count": 8,
   "metadata": {
    "collapsed": false
   },
   "outputs": [
    {
     "data": {
      "image/png": "[encoded data removed]",
      "text/plain": [
       "<matplotlib.figure.Figure at 0x10d4a6198>"
      ]
     },
     "metadata": {},
     "output_type": "display_data"
    }
   ],
   "source": [
    "# storm counts by state\n",
    "\n",
    "import seaborn as sns\n",
    "sns.set(color_codes=True)\n",
    "storm_counts_loc = np.unique(details['STATE'], return_counts=True)\n",
    "\n",
    "# plot this info\n",
    "fig, ax = plt.subplots(1, 1, figsize=(18, 5))\n",
    "\n",
    "ax.bar(range(67), storm_counts_loc[1], align='center', alpha=0.5)\n",
    "ax.set_xlim([-1, 67])\n",
    "ax.set_xticks(range(67))\n",
    "ax.set_xticklabels(storm_counts_loc[0], rotation=90)\n",
    "ax.set_xlabel('State/Region')\n",
    "ax.set_ylabel('Freq of Storms')\n",
    "ax.set_title('Frequency of Storms by State/Region')\n",
    "\n",
    "plt.show()"
   ]
  },
  {
   "cell_type": "code",
   "execution_count": 9,
   "metadata": {
    "collapsed": false
   },
   "outputs": [
    {
     "name": "stdout",
     "output_type": "stream",
     "text": [
      "(array(['April', 'August', 'December', 'February', 'January', 'July',\n",
      "       'June', 'March', 'May', 'November', 'October', 'September'], dtype=object), array([10699,  9110,  4514,  8680,  8563, 16912, 13249, 10688, 13064,\n",
      "        2066,  2349,  3283]))\n"
     ]
    },
    {
     "data": {
      "image/png": "[encoded data removed]",
      "text/plain": [
       "<matplotlib.figure.Figure at 0x111b3ac88>"
      ]
     },
     "metadata": {},
     "output_type": "display_data"
    }
   ],
   "source": [
    "# storm count by month\n",
    "\n",
    "storm_counts_mo = np.unique(details['MONTH_NAME'], return_counts=True)\n",
    "print(storm_counts_mo)\n",
    "\n",
    "# plot this info\n",
    "fig, ax = plt.subplots(1, 1, figsize=(18, 5))\n",
    "\n",
    "ax.bar(range(12), storm_counts_mo[1], align='center', alpha=0.5)\n",
    "ax.set_xlim([-1, 12])\n",
    "ax.set_xticks(range(12))\n",
    "ax.set_xticklabels(storm_counts_mo[0], rotation=0)\n",
    "ax.set_xlabel('Month')\n",
    "ax.set_ylabel('Freq of Storms')\n",
    "ax.set_title('Frequency of Storms by Month in 2016 and 2017')\n",
    "\n",
    "plt.show()"
   ]
  },
  {
   "cell_type": "code",
   "execution_count": 10,
   "metadata": {
    "collapsed": false
   },
   "outputs": [
    {
     "name": "stdout",
     "output_type": "stream",
     "text": [
      "(array([2016, 2017]), array([55964, 47213]))\n"
     ]
    },
    {
     "data": {
      "image/png": "[encoded data removed]",
      "text/plain": [
       "<matplotlib.figure.Figure at 0x1148c4d68>"
      ]
     },
     "metadata": {},
     "output_type": "display_data"
    }
   ],
   "source": [
    "# storm count by year\n",
    "\n",
    "storm_counts_mo = np.unique(details['YEAR'], return_counts=True)\n",
    "print(storm_counts_mo)\n",
    "\n",
    "# plot this info\n",
    "fig, ax = plt.subplots(1, 1, figsize=(18, 5))\n",
    "\n",
    "ax.bar(range(2), storm_counts_mo[1], align='center', alpha=0.5)\n",
    "ax.set_xlim([-1, 12])\n",
    "ax.set_xticks(range(12))\n",
    "ax.set_xticklabels(storm_counts_mo[0], rotation=0)\n",
    "ax.set_xlabel('Year')\n",
    "ax.set_ylabel('Freq of Storms')\n",
    "ax.set_title('Frequency of Storms by Year for 2016 and 2017')\n",
    "\n",
    "plt.show()"
   ]
  },
  {
   "cell_type": "code",
   "execution_count": 11,
   "metadata": {
    "collapsed": false
   },
   "outputs": [
    {
     "name": "stdout",
     "output_type": "stream",
     "text": [
      "24940\n"
     ]
    }
   ],
   "source": [
    "# EDA, out of storms with damage, where are they occuring\n",
    "\n",
    "damage_data = data[data['HAS_DAMAGE'] == 1]\n",
    "print(len(damage_data))"
   ]
  },
  {
   "cell_type": "code",
   "execution_count": 12,
   "metadata": {
    "collapsed": false
   },
   "outputs": [
    {
     "data": {
      "image/png": "[encoded data removed]",
      "text/plain": [
       "<matplotlib.figure.Figure at 0x1108a89b0>"
      ]
     },
     "metadata": {},
     "output_type": "display_data"
    }
   ],
   "source": [
    "# display average damage per state given causes damage\n",
    "\n",
    "sns.set(color_codes=True)\n",
    "\n",
    "states = list(set(damage_data['STATE'].values))\n",
    "\n",
    "states_final = []\n",
    "ave_per_state = []\n",
    "for i in range(len(states)):\n",
    "    state = states[i]\n",
    "    state_damage = damage_data[damage_data['STATE'] == state]['DAMAGE_TOTAL']\n",
    "    if len(state_damage) > 10:\n",
    "        ave = np.mean(state_damage)\n",
    "        states_final.append(state)\n",
    "        ave_per_state.append(ave)\n",
    "        \n",
    "# plot this info\n",
    "fig, ax = plt.subplots(1, 1, figsize=(18, 5))\n",
    "\n",
    "ax.bar(range(len(ave_per_state)), ave_per_state, align='center', alpha=0.5)\n",
    "ax.set_xlim([-1, 35])\n",
    "ax.set_xticks(range(35))\n",
    "ax.set_xticklabels(states_final, rotation=90)\n",
    "ax.set_xlabel('State/Region')\n",
    "ax.set_ylabel('Average Damage of Storm')\n",
    "ax.set_title('Average Damage of Damaging Storms by State')\n",
    "\n",
    "plt.show()"
   ]
  },
  {
   "cell_type": "code",
   "execution_count": 13,
   "metadata": {
    "collapsed": false
   },
   "outputs": [
    {
     "name": "stdout",
     "output_type": "stream",
     "text": [
      "['Marine Thunderstorm Wind', 'Funnel Cloud', 'Flood', 'Debris Flow', 'Tornado', 'Waterspout', 'Marine Strong Wind', 'Heavy Rain', 'Hail', 'Dust Devil', 'Thunderstorm Wind', 'Lightning', 'Flash Flood']\n"
     ]
    },
    {
     "data": {
      "image/png": "[encoded data removed]",
      "text/plain": [
       "<matplotlib.figure.Figure at 0x1186a3cc0>"
      ]
     },
     "metadata": {},
     "output_type": "display_data"
    }
   ],
   "source": [
    "# display average damage per storm type given causes damage\n",
    "\n",
    "sns.set(color_codes=True)\n",
    "\n",
    "storm_types = list(set(damage_data['EVENT_TYPE'].values))\n",
    "print(storm_types)\n",
    "\n",
    "ave_per_storm = []\n",
    "for i in range(len(storm_types)):\n",
    "    storm = storm_types[i]\n",
    "    storm_damage = damage_data[damage_data['EVENT_TYPE'] == storm]['DAMAGE_TOTAL']\n",
    "    ave = np.mean(storm_damage)\n",
    "    ave_per_storm.append(ave)\n",
    "\n",
    "# plot this info\n",
    "fig, ax = plt.subplots(1, 1, figsize=(18, 5))\n",
    "\n",
    "ax.bar(range(len(storm_types)), ave_per_storm, align='center', alpha=0.5)\n",
    "ax.set_xlim([-1, len(storm_types)])\n",
    "ax.set_xticks(range(len(storm_types)))\n",
    "ax.set_xticklabels(storm_types, rotation=90)\n",
    "ax.set_xlabel('Storm Type')\n",
    "ax.set_ylabel('Average Damage of Storm')\n",
    "ax.set_title('Average Damage of Damaging Storms by Storm Type')\n",
    "\n",
    "plt.show()"
   ]
  },
  {
   "cell_type": "code",
   "execution_count": 14,
   "metadata": {
    "collapsed": false
   },
   "outputs": [
    {
     "data": {
      "image/png": "[encoded data removed]",
      "text/plain": [
       "<matplotlib.figure.Figure at 0x11e6c57b8>"
      ]
     },
     "metadata": {},
     "output_type": "display_data"
    }
   ],
   "source": [
    "# display average damage per storm type without conditioning on damage causing\n",
    "\n",
    "sns.set(color_codes=True)\n",
    "\n",
    "storm_types = list(set(data['EVENT_TYPE'].values))\n",
    "\n",
    "ave_per_storm = []\n",
    "for i in range(len(storm_types)):\n",
    "    storm = storm_types[i]\n",
    "    storm_damage = data[data['EVENT_TYPE'] == storm]['DAMAGE_TOTAL']\n",
    "    ave = np.mean(storm_damage)\n",
    "    ave_per_storm.append(ave)\n",
    "\n",
    "# plot this info\n",
    "fig, ax = plt.subplots(1, 1, figsize=(18, 5))\n",
    "\n",
    "ax.bar(range(len(storm_types)), ave_per_storm, align='center', alpha=0.5)\n",
    "ax.set_xlim([-1, len(storm_types)])\n",
    "ax.set_xticks(range(len(storm_types)))\n",
    "ax.set_xticklabels(storm_types, rotation=90)\n",
    "ax.set_xlabel('Storm Type')\n",
    "ax.set_ylabel('Average Damage of Storm')\n",
    "ax.set_title('Average Damage of Damaging Storms by Storm Type')\n",
    "\n",
    "plt.show()"
   ]
  },
  {
   "cell_type": "markdown",
   "metadata": {},
   "source": [
    "# Part 4: More Cleaning and *Handling of Nulls*"
   ]
  },
  {
   "cell_type": "code",
   "execution_count": 15,
   "metadata": {
    "collapsed": false
   },
   "outputs": [
    {
     "data": {
      "text/plain": [
       "(array(['Debris Flow', 'Dust Devil', 'Flash Flood', 'Flood', 'Funnel Cloud',\n",
       "        'Heavy Rain', 'Lightning', 'Tornado', 'Waterspout'], dtype=object),\n",
       " array([  626,    19, 22544, 13463,   445,  2706,   596,  3067,   379]))"
      ]
     },
     "execution_count": 15,
     "metadata": {},
     "output_type": "execute_result"
    }
   ],
   "source": [
    "# These are the storms that don't have magnitude\n",
    "np.unique(data[data.MAGNITUDE.isnull()][\"EVENT_TYPE\"], return_counts=True)"
   ]
  },
  {
   "cell_type": "code",
   "execution_count": 16,
   "metadata": {
    "collapsed": false
   },
   "outputs": [
    {
     "name": "stdout",
     "output_type": "stream",
     "text": [
      "(87563, 62)\n",
      "(74161, 62)\n"
     ]
    }
   ],
   "source": [
    "# drop null rows and check if any null values remaining\n",
    "# MORE ROBUST\n",
    "\n",
    "print(data.shape)\n",
    "# Replace NA magnitudes with 0\n",
    "data[\"MAGNITUDE\"] = data.MAGNITUDE.fillna(value=0)\n",
    "data.dropna(inplace=True, subset = ['DAMAGE_PROPERTY', 'DAMAGE_CROPS','BEGIN_YEARMONTH', 'YEAR','MAGNITUDE','LOCATION_INDEX', 'RANGE','LATITUDE', 'LONGITUDE'])      \n",
    "print(data.shape)\n",
    "\n",
    "# deleted 13400 rows"
   ]
  },
  {
   "cell_type": "markdown",
   "metadata": {},
   "source": [
    "### EDA on Our Response Variable"
   ]
  },
  {
   "cell_type": "code",
   "execution_count": 17,
   "metadata": {
    "collapsed": false
   },
   "outputs": [
    {
     "data": {
      "text/plain": [
       "<matplotlib.text.Text at 0x114c73470>"
      ]
     },
     "execution_count": 17,
     "metadata": {},
     "output_type": "execute_result"
    },
    {
     "data": {
      "image/png": "[encoded data removed]",
      "text/plain": [
       "<matplotlib.figure.Figure at 0x1186059e8>"
      ]
     },
     "metadata": {},
     "output_type": "display_data"
    }
   ],
   "source": [
    "data[\"DAMAGE_PROPERTY\"] = pd.Series(damage_property)\n",
    "plt.hist(x=data.DAMAGE_PROPERTY[data.DAMAGE_PROPERTY <= 100000])\n",
    "plt.xlabel(\"Damage (in dollars)\")\n",
    "plt.ylabel(\"Frequency\")\n",
    "plt.title(\"Histogram of Damage\")"
   ]
  },
  {
   "cell_type": "code",
   "execution_count": 18,
   "metadata": {
    "collapsed": false
   },
   "outputs": [
    {
     "data": {
      "text/plain": [
       "array([[ 1.        ,  0.53652199],\n",
       "       [ 0.53652199,  1.        ]])"
      ]
     },
     "execution_count": 18,
     "metadata": {},
     "output_type": "execute_result"
    }
   ],
   "source": [
    "np.corrcoef(data[\"DAMAGE_TOTAL\"],data[\"DEATHS_DIRECT\"])"
   ]
  },
  {
   "cell_type": "code",
   "execution_count": 19,
   "metadata": {
    "collapsed": false
   },
   "outputs": [
    {
     "data": {
      "text/plain": [
       "(3492,)"
      ]
     },
     "execution_count": 19,
     "metadata": {},
     "output_type": "execute_result"
    }
   ],
   "source": [
    "# validation of our damage estimates\n",
    "data.DAMAGE_TOTAL[data.DAMAGE_TOTAL > 100000].shape"
   ]
  },
  {
   "cell_type": "code",
   "execution_count": 20,
   "metadata": {
    "collapsed": false
   },
   "outputs": [
    {
     "name": "stdout",
     "output_type": "stream",
     "text": [
      "Mean: 1530613\n",
      "Median: 0.0\n",
      "Skew: 46.34\n"
     ]
    }
   ],
   "source": [
    "import scipy.stats as ss\n",
    "print(\"Mean: {}\".format(round(np.mean(data.DAMAGE_TOTAL)),4))\n",
    "print(\"Median: {}\".format(np.median(data.DAMAGE_TOTAL)))\n",
    "print(\"Skew: {}\".format(round(ss.skew(data.DAMAGE_TOTAL),2)))"
   ]
  },
  {
   "cell_type": "code",
   "execution_count": 21,
   "metadata": {
    "collapsed": false
   },
   "outputs": [
    {
     "data": {
      "text/plain": [
       "<matplotlib.text.Text at 0x113242f60>"
      ]
     },
     "execution_count": 21,
     "metadata": {},
     "output_type": "execute_result"
    },
    {
     "data": {
      "image/png": "[encoded data removed]",
      "text/plain": [
       "<matplotlib.figure.Figure at 0x1171e47f0>"
      ]
     },
     "metadata": {},
     "output_type": "display_data"
    }
   ],
   "source": [
    "# we see our big concentration at 0, and a (hopefully) near-normal distribution otherwise\n",
    "\n",
    "plt.hist(x=np.log(data.DAMAGE_TOTAL + .000001))\n",
    "plt.xlabel(\"Damage (in log dollars)\")\n",
    "plt.ylabel(\"Frequency\")\n",
    "plt.title(\"Histogram of Damage\")"
   ]
  },
  {
   "cell_type": "code",
   "execution_count": 22,
   "metadata": {
    "collapsed": false
   },
   "outputs": [
    {
     "data": {
      "text/plain": [
       "<matplotlib.text.Text at 0x111985780>"
      ]
     },
     "execution_count": 22,
     "metadata": {},
     "output_type": "execute_result"
    },
    {
     "data": {
      "image/png": "[encoded data removed]",
      "text/plain": [
       "<matplotlib.figure.Figure at 0x11866fba8>"
      ]
     },
     "metadata": {},
     "output_type": "display_data"
    }
   ],
   "source": [
    "# confirming near-normal response for data with a damage over 0\n",
    "\n",
    "plt.hist(x=np.log(data.DAMAGE_TOTAL[data.DAMAGE_TOTAL>0] + .000001))\n",
    "plt.xlabel(\"Damage (in log dollars)\")\n",
    "plt.ylabel(\"Frequency\")\n",
    "plt.title(\"Histogram of Damage\")"
   ]
  },
  {
   "cell_type": "markdown",
   "metadata": {},
   "source": [
    "# Part 5: Zipcode + Demographic Data"
   ]
  },
  {
   "cell_type": "code",
   "execution_count": 73,
   "metadata": {
    "collapsed": true
   },
   "outputs": [],
   "source": [
    "from uszipcode import ZipcodeSearchEngine\n",
    "search = ZipcodeSearchEngine()\n",
    "\n",
    "def calc_density(row):\n",
    "    zipcode = search.by_coordinate(row['LATITUDE'], row['LONGITUDE'], radius=50)\n",
    "    if (int(row.name) % 1000 == 0):\n",
    "        print(row.name)\n",
    "    try: \n",
    "        zc = zipcode[0]\n",
    "        return zc.Density\n",
    "    except:\n",
    "        return np.nan\n",
    "\n",
    "def calc_popul(row):\n",
    "    zipcode = search.by_coordinate(row['LATITUDE'], row['LONGITUDE'], radius=50)\n",
    "    try:\n",
    "        zc = zipcode[0]\n",
    "        return zc.Population\n",
    "    except:\n",
    "        return np.nan\n",
    "\n",
    "def calc_wealth(row):\n",
    "    zipcode = search.by_coordinate(row['LATITUDE'], row['LONGITUDE'], radius=50)\n",
    "    try:\n",
    "        zc = zipcode[0]\n",
    "        return zc.Wealthy\n",
    "    except:\n",
    "        return np.nan"
   ]
  },
  {
   "cell_type": "code",
   "execution_count": null,
   "metadata": {
    "collapsed": true
   },
   "outputs": [],
   "source": [
    "# DO NOT RUN AGAIN, SINCE WE SAVE TO A CSV BELOW\n",
    "\n",
    "data['DENSITY'] = data.apply(calc_density, axis=1)\n",
    "data['POPULATION'] = data.apply(calc_popul, axis=1)\n",
    "data['HH_INCOME'] = data.apply(calc_wealth, axis=1)"
   ]
  },
  {
   "cell_type": "code",
   "execution_count": null,
   "metadata": {
    "collapsed": true
   },
   "outputs": [],
   "source": [
    "data.to_csv(\"model_data_full.csv\")"
   ]
  },
  {
   "cell_type": "markdown",
   "metadata": {},
   "source": [
    "# Part 6: More EDA"
   ]
  },
  {
   "cell_type": "code",
   "execution_count": null,
   "metadata": {
    "collapsed": true
   },
   "outputs": [],
   "source": [
    "## Focus on EDA to see what from the zipcode data might be useful"
   ]
  },
  {
   "cell_type": "markdown",
   "metadata": {},
   "source": [
    "# Part 7: Prepare Predictors + Final Cleaning"
   ]
  },
  {
   "cell_type": "code",
   "execution_count": 24,
   "metadata": {
    "collapsed": false
   },
   "outputs": [
    {
     "data": {
      "text/plain": [
       "Index(['BEGIN_YEARMONTH', 'BEGIN_DAY', 'BEGIN_TIME', 'END_YEARMONTH', 'END_DAY', 'END_TIME', 'EPISODE_ID', 'EVENT_ID', 'STATE', 'STATE_FIPS', 'YEAR', 'MONTH_NAME', 'EVENT_TYPE', 'CZ_TYPE', 'CZ_FIPS', 'CZ_NAME', 'WFO', 'BEGIN_DATE_TIME', 'CZ_TIMEZONE', 'END_DATE_TIME', 'INJURIES_DIRECT', 'INJURIES_INDIRECT', 'DEATHS_DIRECT', 'DEATHS_INDIRECT', 'DAMAGE_PROPERTY', 'DAMAGE_CROPS', 'SOURCE', 'MAGNITUDE', 'MAGNITUDE_TYPE', 'FLOOD_CAUSE', 'CATEGORY', 'TOR_F_SCALE', 'TOR_LENGTH', 'TOR_WIDTH',\n",
       "       'TOR_OTHER_WFO', 'TOR_OTHER_CZ_STATE', 'TOR_OTHER_CZ_FIPS', 'TOR_OTHER_CZ_NAME', 'BEGIN_RANGE', 'BEGIN_AZIMUTH', 'BEGIN_LOCATION', 'END_RANGE', 'END_AZIMUTH', 'END_LOCATION', 'BEGIN_LAT', 'BEGIN_LON', 'END_LAT', 'END_LON', 'EPISODE_NARRATIVE', 'EVENT_NARRATIVE', 'DATA_SOURCE', 'DAMAGE_TOTAL', 'HAS_DAMAGE', 'YEARMONTH', 'LOCATION_INDEX', 'RANGE', 'AZIMUTH', 'LOCATION', 'LATITUDE', 'LONGITUDE', 'LAT2', 'LON2'],\n",
       "      dtype='object')"
      ]
     },
     "execution_count": 24,
     "metadata": {},
     "output_type": "execute_result"
    }
   ],
   "source": [
    "data.columns"
   ]
  },
  {
   "cell_type": "code",
   "execution_count": 3,
   "metadata": {
    "collapsed": false
   },
   "outputs": [
    {
     "name": "stderr",
     "output_type": "stream",
     "text": [
      "/anaconda/lib/python3.6/site-packages/IPython/core/interactiveshell.py:2717: DtypeWarning: Columns (35,36,38) have mixed types. Specify dtype option on import or set low_memory=False.\n",
      "  interactivity=interactivity, compiler=compiler, result=result)\n"
     ]
    }
   ],
   "source": [
    "data = pd.read_csv('model_data_full.csv')\n",
    "# Comment out if needed\n",
    "data.dropna(inplace=True, subset = ['DENSITY', 'POPULATION', 'HH_INCOME'])      "
   ]
  },
  {
   "cell_type": "code",
   "execution_count": 4,
   "metadata": {
    "collapsed": true
   },
   "outputs": [],
   "source": [
    "def getmonth(row):\n",
    "    return int(str(row[\"BEGIN_YEARMONTH\"])[-2:])\n",
    "\n",
    "def getyear(row):\n",
    "    return int(str(row[\"BEGIN_YEARMONTH\"])[:4])\n",
    "\n",
    "data[\"MONTH\"] = data.apply(getmonth,axis=1)\n",
    "data[\"YEAR\"] = data.apply(getyear,axis=1)\n",
    "#data = data.drop(['Unnamed: 0',\"BEGIN_YEARMONTH\",\"END_YEARMONTH\",\"LAT2\",\"LON2\",\n",
    "#                  \"YEARMONTH\",\"CZ_FIPS\",\"CZ_TYPE\",\"CZ_NAME\",\n",
    "#                  \"WFO\",\"MAGNITUDE_TYPE\",\"FLOOD_CAUSE\",'CATEGORY', 'TOR_F_SCALE', \n",
    "#                  'TOR_LENGTH', 'TOR_WIDTH', 'TOR_OTHER_WFO', 'TOR_OTHER_CZ_STATE',\n",
    "#                  'TOR_OTHER_CZ_FIPS','TOR_OTHER_CZ_NAME',\n",
    "#                  'EPISODE_NARRATIVE', 'EVENT_NARRATIVE'],axis=1)"
   ]
  },
  {
   "cell_type": "code",
   "execution_count": 5,
   "metadata": {
    "collapsed": false
   },
   "outputs": [
    {
     "data": {
      "text/plain": [
       "Index(['Unnamed: 0', 'BEGIN_YEARMONTH', 'BEGIN_DAY', 'BEGIN_TIME', 'END_YEARMONTH', 'END_DAY', 'END_TIME', 'EPISODE_ID', 'EVENT_ID', 'STATE', 'STATE_FIPS', 'YEAR', 'MONTH_NAME', 'EVENT_TYPE', 'CZ_TYPE', 'CZ_FIPS', 'CZ_NAME', 'WFO', 'BEGIN_DATE_TIME', 'CZ_TIMEZONE', 'END_DATE_TIME', 'INJURIES_DIRECT', 'INJURIES_INDIRECT', 'DEATHS_DIRECT', 'DEATHS_INDIRECT', 'DAMAGE_PROPERTY', 'DAMAGE_CROPS', 'SOURCE', 'MAGNITUDE', 'MAGNITUDE_TYPE', 'FLOOD_CAUSE', 'CATEGORY', 'TOR_F_SCALE', 'TOR_LENGTH',\n",
       "       'TOR_WIDTH', 'TOR_OTHER_WFO', 'TOR_OTHER_CZ_STATE', 'TOR_OTHER_CZ_FIPS', 'TOR_OTHER_CZ_NAME', 'BEGIN_RANGE', 'BEGIN_AZIMUTH', 'BEGIN_LOCATION', 'END_RANGE', 'END_AZIMUTH', 'END_LOCATION', 'BEGIN_LAT', 'BEGIN_LON', 'END_LAT', 'END_LON', 'EPISODE_NARRATIVE', 'EVENT_NARRATIVE', 'DATA_SOURCE', 'DAMAGE_TOTAL', 'HAS_DAMAGE', 'YEARMONTH', 'LOCATION_INDEX', 'RANGE', 'AZIMUTH', 'LOCATION', 'LATITUDE', 'LONGITUDE', 'LAT2', 'LON2', 'DENSITY', 'POPULATION', 'HH_INCOME', 'MONTH'],\n",
       "      dtype='object')"
      ]
     },
     "execution_count": 5,
     "metadata": {},
     "output_type": "execute_result"
    }
   ],
   "source": [
    "data.columns"
   ]
  },
  {
   "cell_type": "code",
   "execution_count": 6,
   "metadata": {
    "collapsed": false
   },
   "outputs": [
    {
     "name": "stdout",
     "output_type": "stream",
     "text": [
      "65447\n",
      "65443\n"
     ]
    }
   ],
   "source": [
    "X = data.drop(\"HAS_DAMAGE\",axis=1)\n",
    "y = data['HAS_DAMAGE']\n",
    "\n",
    "# drop 3 rows where household income is \"infinity\"\n",
    "drop_indices = []\n",
    "for i in range(len(X)):\n",
    "    if not np.isfinite(X['HH_INCOME'].iloc[i]):\n",
    "        drop_indices.append(i)\n",
    "\n",
    "print(len(X))\n",
    "X = X.drop(X.index[drop_indices])\n",
    "y = y.drop(y.index[drop_indices])\n",
    "#y = y.drop(drop_indices, axis=0)\n",
    "print(len(X))"
   ]
  },
  {
   "cell_type": "code",
   "execution_count": 7,
   "metadata": {
    "collapsed": true
   },
   "outputs": [],
   "source": [
    "X_train, X_test, y_train, y_test = train_test_split(X, y, test_size=0.33, random_state=42)"
   ]
  },
  {
   "cell_type": "markdown",
   "metadata": {},
   "source": [
    "# Part 8: Preliminary Classification Model"
   ]
  },
  {
   "cell_type": "code",
   "execution_count": 8,
   "metadata": {
    "collapsed": false
   },
   "outputs": [
    {
     "name": "stdout",
     "output_type": "stream",
     "text": [
      "Num points without damage: 42822\n",
      "Num points with damage: 22625\n",
      "\n",
      "Training Accuracy: 0.759955298089\n",
      "Testing Accuracy: 0.758438672038\n",
      "True Positive Rate:  0.538778768126\n",
      "True Negative Rate:  0.875710227273\n",
      "AUC:  0.818954186798\n"
     ]
    }
   ],
   "source": [
    "# fit prelim model\n",
    "\n",
    "\n",
    "        \n",
    "#for col in list(X_train.columns):\n",
    "#    for i in X_train[col]:\n",
    "#        if not np.isfinite(i):\n",
    "#            print(i)\n",
    "#            print(col)\n",
    "\n",
    "#print(list(set(X_train.columns.values)))\n",
    "\n",
    "print(\"Num points without damage: \" + str(len(data[data['HAS_DAMAGE'] == 0])))\n",
    "print(\"Num points with damage: \" + str(len(data[data['HAS_DAMAGE'] == 1])))\n",
    "\n",
    "basic_cols = ['EVENT_TYPE', 'STATE', 'MAGNITUDE', 'CZ_TIMEZONE', 'RANGE', 'LATITUDE', 'LONGITUDE']\n",
    "X_train_basic = X_train[basic_cols]\n",
    "X_test_basic = X_test[basic_cols]\n",
    "\n",
    "X_train_basic = pd.get_dummies(X_train_basic, columns=['EVENT_TYPE', 'STATE', 'CZ_TIMEZONE'], drop_first=True)\n",
    "X_test_basic = pd.get_dummies(X_test_basic, columns=['EVENT_TYPE', 'STATE', 'CZ_TIMEZONE'], drop_first=True)\n",
    "\n",
    "#print(X_train[X_train.isnull().any(axis=1)].size)\n",
    "#print(y_train[y_train.isnull()].size)\n",
    "#print(X_test[X_test.isnull().any(axis=1)].size)\n",
    "#print(y_test[y_test.isnull()].size)\n",
    "\n",
    "model = LogisticRegressionCV(penalty = 'l2')\n",
    "model.fit(X_train_basic, y_train)\n",
    "train_pred = model.predict(X_train_basic)\n",
    "test_pred = model.predict(X_test_basic)\n",
    "\n",
    "print()\n",
    "print(\"Training Accuracy: \" + str(accuracy_score(train_pred, y_train)))\n",
    "print(\"Testing Accuracy: \" + str(accuracy_score(test_pred, y_test)))\n",
    "\n",
    "from sklearn.metrics import confusion_matrix\n",
    "conf_mat = confusion_matrix(y_test,test_pred)\n",
    "print(\"True Positive Rate: \", float(conf_mat[1][1])/(conf_mat[1][1]+ conf_mat[1][0]))\n",
    "print(\"True Negative Rate: \", float(conf_mat[0][0])/(conf_mat[0][0] + conf_mat[0][1]))\n",
    "\n",
    "test_pred_proba = model.predict_proba(X_test_basic)[:,1]\n",
    "fpr, tpr, thresholds = metrics.roc_curve(y_test, test_pred_proba)\n",
    "roc_auc = metrics.auc(fpr, tpr)\n",
    "print(\"AUC: \", roc_auc)"
   ]
  },
  {
   "cell_type": "markdown",
   "metadata": {},
   "source": [
    "# Part 9: Improving Classification Model"
   ]
  },
  {
   "cell_type": "markdown",
   "metadata": {},
   "source": [
    "## PREDICTOR INTUITION\n",
    "\n",
    "BEGIN_TIME: time of day could be helpful, helps accuracy. think about duration! (NORMALIZE)\n",
    "\n",
    "STATE: geographical significance (ONE-HOT) // TAKING OUT\n",
    "\n",
    "CZ_TYPE: C is county, Z is over water, significant predictor (ONE-HOT)\n",
    "\n",
    "YEAR: doesn't do a ton, but helps accuracy slightly (ONE-HOT)\n",
    "\n",
    "MONTH_NAME: EDA showed months correlating with damage frequency (ONE-HOT)\n",
    "\n",
    "WFO: weather forecast office- another way to break down geographically by main metropolitan areas (ONE-HOT)\n",
    "\n",
    "EVENT_TYPE: type of storm. highly predictive (ONE-HOT)\n",
    "\n",
    "LATITUDE: geographical inuition (AS IS) // TAKING OUT\n",
    "\n",
    "LONGITUDE: geographical inuition (AS IS) // TAKING OUT\n",
    "\n",
    "AZIMUTH: direction of storm, helps very slightly (ONE-HOT)\n",
    "\n",
    "DENSITY: helps when normalized, not great (NORMALIZE)\n",
    "\n",
    "POPULATION: helps when normalized, not great (NORMALIZE)\n",
    "\n",
    "HH_INCOME: helps when normalized, not great (NORMALIZE)"
   ]
  },
  {
   "cell_type": "code",
   "execution_count": 42,
   "metadata": {
    "collapsed": false
   },
   "outputs": [
    {
     "name": "stderr",
     "output_type": "stream",
     "text": [
      "/anaconda/lib/python3.6/site-packages/ipykernel_launcher.py:12: SettingWithCopyWarning: \n",
      "A value is trying to be set on a copy of a slice from a DataFrame.\n",
      "Try using .loc[row_indexer,col_indexer] = value instead\n",
      "\n",
      "See the caveats in the documentation: http://pandas.pydata.org/pandas-docs/stable/indexing.html#indexing-view-versus-copy\n",
      "  if sys.path[0] == '':\n",
      "/anaconda/lib/python3.6/site-packages/ipykernel_launcher.py:13: SettingWithCopyWarning: \n",
      "A value is trying to be set on a copy of a slice from a DataFrame.\n",
      "Try using .loc[row_indexer,col_indexer] = value instead\n",
      "\n",
      "See the caveats in the documentation: http://pandas.pydata.org/pandas-docs/stable/indexing.html#indexing-view-versus-copy\n",
      "  del sys.path[0]\n"
     ]
    }
   ],
   "source": [
    "# BETTER SELECTION OF PREDICTORS\n",
    "full_cols = ['BEGIN_TIME', 'CZ_TYPE', 'YEAR',\n",
    "             'WFO', 'EVENT_TYPE', 'MONTH_NAME',\n",
    "             'AZIMUTH', 'DENSITY', 'POPULATION', 'HH_INCOME']\n",
    "X_train_full = X_train[full_cols]\n",
    "X_test_full = X_test[full_cols]\n",
    "\n",
    "# standardize the numerical predictors\n",
    "for i in ['BEGIN_TIME', 'DENSITY', 'POPULATION', 'HH_INCOME']:\n",
    "    train_mean = X_train_full[i].mean()\n",
    "    train_sd = X_train_full[i].std()\n",
    "    X_train_full[i] = (X_train_full[i] - train_mean) / train_sd\n",
    "    X_test_full[i] = (X_test_full[i] - train_mean) / train_sd\n",
    "\n",
    "X_train_full = pd.get_dummies(X_train_full, columns=['MONTH_NAME', 'WFO', 'YEAR', 'EVENT_TYPE', 'CZ_TYPE', 'AZIMUTH'], drop_first=True)\n",
    "X_test_full = pd.get_dummies(X_test_full, columns=['MONTH_NAME', 'WFO', 'YEAR', 'EVENT_TYPE', 'CZ_TYPE', 'AZIMUTH'], drop_first=True)"
   ]
  },
  {
   "cell_type": "code",
   "execution_count": 43,
   "metadata": {
    "collapsed": false
   },
   "outputs": [
    {
     "name": "stdout",
     "output_type": "stream",
     "text": [
      "Num points without damage: 42822\n",
      "Num points with damage: 22625\n",
      "\n",
      "Training Accuracy: 0.828445012088\n",
      "Testing Accuracy: 0.820160207436\n",
      "True Positive Rate:  0.690967141147\n",
      "True Negative Rate:  0.889133522727\n",
      "AUC:  0.893158641549\n"
     ]
    }
   ],
   "source": [
    "print(\"Num points without damage: \" + str(len(data[data['HAS_DAMAGE'] == 0])))\n",
    "print(\"Num points with damage: \" + str(len(data[data['HAS_DAMAGE'] == 1])))\n",
    "\n",
    "model = LogisticRegressionCV(penalty = 'l2')\n",
    "model.fit(X_train_full, y_train)\n",
    "train_pred = model.predict(X_train_full)\n",
    "test_pred = model.predict(X_test_full)\n",
    "\n",
    "print()\n",
    "print(\"Training Accuracy: \" + str(accuracy_score(train_pred, y_train)))\n",
    "print(\"Testing Accuracy: \" + str(accuracy_score(test_pred, y_test)))\n",
    "\n",
    "from sklearn.metrics import confusion_matrix\n",
    "conf_mat = confusion_matrix(y_test,test_pred)\n",
    "print(\"True Positive Rate: \", float(conf_mat[1][1])/(conf_mat[1][1]+ conf_mat[1][0]))\n",
    "print(\"True Negative Rate: \", float(conf_mat[0][0])/(conf_mat[0][0] + conf_mat[0][1]))\n",
    "\n",
    "test_pred_proba = model.predict_proba(X_test_full)[:,1]\n",
    "fpr, tpr, thresholds = metrics.roc_curve(y_test, test_pred_proba)\n",
    "roc_auc = metrics.auc(fpr, tpr)\n",
    "print(\"AUC: \", roc_auc)"
   ]
  },
  {
   "cell_type": "markdown",
   "metadata": {},
   "source": [
    "## ADDING COMPLEX EFFECTS"
   ]
  },
  {
   "cell_type": "code",
   "execution_count": 49,
   "metadata": {
    "collapsed": true
   },
   "outputs": [],
   "source": [
    "# MAKE SURE INTERACTION BETWEEN MAGNITUDE AND EVENT TYPE\n",
    "X_train_complex = copy.deepcopy(X_train_full)\n",
    "X_test_complex = copy.deepcopy(X_test_full)\n",
    "\n",
    "# hardcode interaction term\n",
    "for event_type in ['EVENT_TYPE_Dust Devil', 'EVENT_TYPE_Flash Flood', 'EVENT_TYPE_Flood', \n",
    "            'EVENT_TYPE_Funnel Cloud', 'EVENT_TYPE_Hail', 'EVENT_TYPE_Heavy Rain', \n",
    "            'EVENT_TYPE_Lightning', 'EVENT_TYPE_Marine Hail', 'EVENT_TYPE_Marine High Wind', \n",
    "            'EVENT_TYPE_Marine Strong Wind', 'EVENT_TYPE_Marine Thunderstorm Wind', \n",
    "            'EVENT_TYPE_Thunderstorm Wind', 'EVENT_TYPE_Tornado', 'EVENT_TYPE_Waterspout']:\n",
    "    X_train_complex[event_type + \"*MAGNITUDE\"] = X_train_complex[event_type]*X_train[\"MAGNITUDE\"]\n",
    "    X_test_complex[event_type + \"*MAGNITUDE\"] = X_test_complex[event_type]*X_test[\"MAGNITUDE\"]\n",
    "    \n",
    "X_train_complex[\"HH_INCOME*DENSITY\"] = X_train_complex[\"DENSITY\"]*X_train_complex[\"HH_INCOME\"]\n",
    "X_train_complex[\"HH_INCOME*POPULATION\"] = X_train_complex[\"POPULATION\"]*X_train_complex[\"HH_INCOME\"]\n",
    "X_train_complex[\"DENSITY*POPULATION\"] = X_train_complex[\"POPULATION\"]*X_train_complex[\"DENSITY\"]\n",
    "X_test_complex[\"HH_INCOME*DENSITY\"] = X_test_complex[\"DENSITY\"]*X_test_complex[\"HH_INCOME\"]\n",
    "X_test_complex[\"HH_INCOME*POPULATION\"] = X_test_complex[\"POPULATION\"]*X_test_complex[\"HH_INCOME\"]\n",
    "X_test_complex[\"DENSITY*POPULATION\"] = X_test_complex[\"POPULATION\"]*X_test_complex[\"DENSITY\"]"
   ]
  },
  {
   "cell_type": "code",
   "execution_count": 50,
   "metadata": {
    "collapsed": false
   },
   "outputs": [
    {
     "name": "stdout",
     "output_type": "stream",
     "text": [
      "\n",
      "Training Accuracy: 0.830338001186\n",
      "Testing Accuracy: 0.822012316525\n",
      "True Positive Rate:  0.693228681655\n",
      "True Negative Rate:  0.890767045455\n",
      "AUC:  0.898780623768\n"
     ]
    }
   ],
   "source": [
    "model = LogisticRegressionCV(penalty = 'l2')\n",
    "model.fit(X_train_complex, y_train)\n",
    "train_pred = model.predict(X_train_complex)\n",
    "test_pred = model.predict(X_test_complex)\n",
    "\n",
    "print()\n",
    "print(\"Training Accuracy: \" + str(accuracy_score(train_pred, y_train)))\n",
    "print(\"Testing Accuracy: \" + str(accuracy_score(test_pred, y_test)))\n",
    "\n",
    "from sklearn.metrics import confusion_matrix\n",
    "conf_mat = confusion_matrix(y_test,test_pred)\n",
    "print(\"True Positive Rate: \", float(conf_mat[1][1])/(conf_mat[1][1]+ conf_mat[1][0]))\n",
    "print(\"True Negative Rate: \", float(conf_mat[0][0])/(conf_mat[0][0] + conf_mat[0][1]))\n",
    "\n",
    "test_pred_proba = model.predict_proba(X_test_complex)[:,1]\n",
    "fpr, tpr, thresholds = metrics.roc_curve(y_test, test_pred_proba)\n",
    "roc_auc = metrics.auc(fpr, tpr)\n",
    "print(\"AUC: \", roc_auc)"
   ]
  },
  {
   "cell_type": "markdown",
   "metadata": {},
   "source": [
    "### k-NN"
   ]
  },
  {
   "cell_type": "code",
   "execution_count": 55,
   "metadata": {
    "collapsed": true
   },
   "outputs": [],
   "source": [
    "# max_score = 0\n",
    "# max_k = 0 \n",
    "\n",
    "# for k in range(15,31,3):\n",
    "#     knn = KNeighborsClassifier(n_neighbors = k)\n",
    "#     score = cross_val_score(knn,X_train_complex,y_train).mean()\n",
    "#     if score > max_score:\n",
    "#         max_k = k\n",
    "#         max_score = score\n",
    "# print(max_k)\n",
    "#  #max_k = 15"
   ]
  },
  {
   "cell_type": "code",
   "execution_count": 56,
   "metadata": {
    "collapsed": false
   },
   "outputs": [
    {
     "name": "stdout",
     "output_type": "stream",
     "text": [
      "\n",
      "Training Accuracy: 0.871687269078\n",
      "Testing Accuracy: 0.846228642867\n",
      "True Positive Rate:  0.725422375948\n",
      "True Negative Rate:  0.910724431818\n",
      "AUC:  0.919406594106\n"
     ]
    }
   ],
   "source": [
    "model_knn = KNeighborsClassifier(n_neighbors = max_k)\n",
    "model_knn.fit(X_train_complex, y_train)\n",
    "train_pred = model_knn.predict(X_train_complex)\n",
    "test_pred = model_knn.predict(X_test_complex)\n",
    "\n",
    "print()\n",
    "print(\"Training Accuracy: \" + str(accuracy_score(train_pred, y_train)))\n",
    "print(\"Testing Accuracy: \" + str(accuracy_score(test_pred, y_test)))\n",
    "\n",
    "from sklearn.metrics import confusion_matrix\n",
    "conf_mat = confusion_matrix(y_test,test_pred)\n",
    "print(\"True Positive Rate: \", float(conf_mat[1][1])/(conf_mat[1][1]+ conf_mat[1][0]))\n",
    "print(\"True Negative Rate: \", float(conf_mat[0][0])/(conf_mat[0][0] + conf_mat[0][1]))\n",
    "\n",
    "test_pred_proba = model_knn.predict_proba(X_test_complex)[:,1]\n",
    "fpr, tpr, thresholds = metrics.roc_curve(y_test, test_pred_proba)\n",
    "roc_auc = metrics.auc(fpr, tpr)\n",
    "print(\"AUC: \", roc_auc)"
   ]
  },
  {
   "cell_type": "markdown",
   "metadata": {},
   "source": [
    "### LDA/QDA"
   ]
  },
  {
   "cell_type": "code",
   "execution_count": 57,
   "metadata": {
    "collapsed": false
   },
   "outputs": [
    {
     "name": "stdout",
     "output_type": "stream",
     "text": [
      "\n",
      "Training Accuracy: 0.824727455184\n",
      "Testing Accuracy: 0.817937676529\n",
      "True Positive Rate:  0.68005853399\n",
      "True Negative Rate:  0.891548295455\n",
      "AUC:  0.891747484112\n"
     ]
    },
    {
     "name": "stderr",
     "output_type": "stream",
     "text": [
      "/anaconda/lib/python3.6/site-packages/sklearn/discriminant_analysis.py:387: UserWarning: Variables are collinear.\n",
      "  warnings.warn(\"Variables are collinear.\")\n"
     ]
    }
   ],
   "source": [
    "lda = LinearDiscriminantAnalysis()\n",
    "lda.fit(X_train_complex,y_train)\n",
    "\n",
    "train_pred = lda.predict(X_train_complex)\n",
    "test_pred = lda.predict(X_test_complex)\n",
    "print()\n",
    "print(\"Training Accuracy: \" + str(accuracy_score(train_pred, y_train)))\n",
    "print(\"Testing Accuracy: \" + str(accuracy_score(test_pred, y_test)))\n",
    "\n",
    "from sklearn.metrics import confusion_matrix\n",
    "conf_mat = confusion_matrix(y_test,test_pred)\n",
    "print(\"True Positive Rate: \", float(conf_mat[1][1])/(conf_mat[1][1]+ conf_mat[1][0]))\n",
    "print(\"True Negative Rate: \", float(conf_mat[0][0])/(conf_mat[0][0] + conf_mat[0][1]))\n",
    "\n",
    "test_pred_proba = lda.predict_proba(X_test_complex)[:,1]\n",
    "fpr, tpr, thresholds = metrics.roc_curve(y_test, test_pred_proba)\n",
    "roc_auc = metrics.auc(fpr, tpr)\n",
    "print(\"AUC: \", roc_auc)"
   ]
  },
  {
   "cell_type": "code",
   "execution_count": 58,
   "metadata": {
    "collapsed": false
   },
   "outputs": [
    {
     "name": "stderr",
     "output_type": "stream",
     "text": [
      "/anaconda/lib/python3.6/site-packages/sklearn/discriminant_analysis.py:695: UserWarning: Variables are collinear\n",
      "  warnings.warn(\"Variables are collinear\")\n"
     ]
    },
    {
     "name": "stdout",
     "output_type": "stream",
     "text": [
      "\n",
      "Training Accuracy: 0.650230351685\n",
      "Testing Accuracy: 0.654813168496\n",
      "True Positive Rate:  0.639084741253\n",
      "True Negative Rate:  0.663210227273\n",
      "AUC:  0.66195760254\n"
     ]
    }
   ],
   "source": [
    "qda = QuadraticDiscriminantAnalysis()\n",
    "qda.fit(X_train_complex,y_train)\n",
    "\n",
    "train_pred = qda.predict(X_train_complex)\n",
    "test_pred = qda.predict(X_test_complex)\n",
    "print()\n",
    "print(\"Training Accuracy: \" + str(accuracy_score(train_pred, y_train)))\n",
    "print(\"Testing Accuracy: \" + str(accuracy_score(test_pred, y_test)))\n",
    "\n",
    "from sklearn.metrics import confusion_matrix\n",
    "conf_mat = confusion_matrix(y_test,test_pred)\n",
    "print(\"True Positive Rate: \", float(conf_mat[1][1])/(conf_mat[1][1]+ conf_mat[1][0]))\n",
    "print(\"True Negative Rate: \", float(conf_mat[0][0])/(conf_mat[0][0] + conf_mat[0][1]))\n",
    "\n",
    "test_pred_proba = qda.predict_proba(X_test_complex)[:,1]\n",
    "fpr, tpr, thresholds = metrics.roc_curve(y_test, test_pred_proba)\n",
    "roc_auc = metrics.auc(fpr, tpr)\n",
    "print(\"AUC: \", roc_auc)"
   ]
  },
  {
   "cell_type": "markdown",
   "metadata": {},
   "source": [
    "### Random Forest/Decision Trees"
   ]
  },
  {
   "cell_type": "code",
   "execution_count": 71,
   "metadata": {
    "collapsed": true
   },
   "outputs": [],
   "source": [
    "best_score = 0\n",
    "best_depth = 0\n",
    "for i in range(80,95):\n",
    "    dt = DecisionTreeClassifier(max_depth=i)\n",
    "    # Perform 5-fold cross validation \n",
    "    score = cross_val_score(estimator=dt, X=X_train_complex, y=y_train, cv=5, n_jobs=-1).mean()\n",
    "    if score > best_score:\n",
    "        best_score = score\n",
    "        best_depth = i"
   ]
  },
  {
   "cell_type": "code",
   "execution_count": 72,
   "metadata": {
    "collapsed": false
   },
   "outputs": [
    {
     "data": {
      "text/plain": [
       "88"
      ]
     },
     "execution_count": 72,
     "metadata": {},
     "output_type": "execute_result"
    }
   ],
   "source": [
    "best_depth"
   ]
  },
  {
   "cell_type": "code",
   "execution_count": null,
   "metadata": {
    "collapsed": true
   },
   "outputs": [],
   "source": [
    "# GRAPH"
   ]
  },
  {
   "cell_type": "code",
   "execution_count": 74,
   "metadata": {
    "collapsed": false
   },
   "outputs": [
    {
     "name": "stdout",
     "output_type": "stream",
     "text": [
      "\n",
      "Training Accuracy: 0.999635086439\n",
      "Testing Accuracy: 0.929342038246\n",
      "True Positive Rate:  0.897698549953\n",
      "True Negative Rate:  0.946235795455\n",
      "AUC:  0.92214520666\n"
     ]
    }
   ],
   "source": [
    "dt = DecisionTreeClassifier(max_depth=best_depth)\n",
    "dt.fit(X_train_complex,y_train)\n",
    "\n",
    "train_pred = dt.predict(X_train_complex)\n",
    "test_pred = dt.predict(X_test_complex)\n",
    "print()\n",
    "print(\"Training Accuracy: \" + str(accuracy_score(train_pred, y_train)))\n",
    "print(\"Testing Accuracy: \" + str(accuracy_score(test_pred, y_test)))\n",
    "\n",
    "from sklearn.metrics import confusion_matrix\n",
    "conf_mat = confusion_matrix(y_test,test_pred)\n",
    "print(\"True Positive Rate: \", float(conf_mat[1][1])/(conf_mat[1][1]+ conf_mat[1][0]))\n",
    "print(\"True Negative Rate: \", float(conf_mat[0][0])/(conf_mat[0][0] + conf_mat[0][1]))\n",
    "\n",
    "test_pred_proba = dt.predict_proba(X_test_complex)[:,1]\n",
    "fpr, tpr, thresholds = metrics.roc_curve(y_test, test_pred_proba)\n",
    "roc_auc = metrics.auc(fpr, tpr)\n",
    "print(\"AUC: \", roc_auc)"
   ]
  },
  {
   "cell_type": "code",
   "execution_count": 84,
   "metadata": {
    "collapsed": false
   },
   "outputs": [
    {
     "data": {
      "text/html": [
       "<div>\n",
       "<style>\n",
       "    .dataframe thead tr:only-child th {\n",
       "        text-align: right;\n",
       "    }\n",
       "\n",
       "    .dataframe thead th {\n",
       "        text-align: left;\n",
       "    }\n",
       "\n",
       "    .dataframe tbody tr th {\n",
       "        vertical-align: top;\n",
       "    }\n",
       "</style>\n",
       "<table border=\"1\" class=\"dataframe\">\n",
       "  <thead>\n",
       "    <tr style=\"text-align: right;\">\n",
       "      <th></th>\n",
       "      <th>Predictor</th>\n",
       "      <th>Importance</th>\n",
       "    </tr>\n",
       "  </thead>\n",
       "  <tbody>\n",
       "    <tr>\n",
       "      <th>175</th>\n",
       "      <td>EVENT_TYPE_Thunderstorm Wind*MAGNITUDE</td>\n",
       "      <td>0.115180</td>\n",
       "    </tr>\n",
       "    <tr>\n",
       "      <th>0</th>\n",
       "      <td>BEGIN_TIME</td>\n",
       "      <td>0.084630</td>\n",
       "    </tr>\n",
       "    <tr>\n",
       "      <th>1</th>\n",
       "      <td>DENSITY</td>\n",
       "      <td>0.048839</td>\n",
       "    </tr>\n",
       "    <tr>\n",
       "      <th>72</th>\n",
       "      <td>WFO_JAN</td>\n",
       "      <td>0.034368</td>\n",
       "    </tr>\n",
       "    <tr>\n",
       "      <th>179</th>\n",
       "      <td>HH_INCOME*POPULATION</td>\n",
       "      <td>0.033912</td>\n",
       "    </tr>\n",
       "    <tr>\n",
       "      <th>168</th>\n",
       "      <td>EVENT_TYPE_Hail*MAGNITUDE</td>\n",
       "      <td>0.032777</td>\n",
       "    </tr>\n",
       "    <tr>\n",
       "      <th>3</th>\n",
       "      <td>HH_INCOME</td>\n",
       "      <td>0.030913</td>\n",
       "    </tr>\n",
       "    <tr>\n",
       "      <th>180</th>\n",
       "      <td>DENSITY*POPULATION</td>\n",
       "      <td>0.028557</td>\n",
       "    </tr>\n",
       "    <tr>\n",
       "      <th>2</th>\n",
       "      <td>POPULATION</td>\n",
       "      <td>0.027857</td>\n",
       "    </tr>\n",
       "    <tr>\n",
       "      <th>178</th>\n",
       "      <td>HH_INCOME*DENSITY</td>\n",
       "      <td>0.024781</td>\n",
       "    </tr>\n",
       "    <tr>\n",
       "      <th>23</th>\n",
       "      <td>WFO_BGM</td>\n",
       "      <td>0.020118</td>\n",
       "    </tr>\n",
       "    <tr>\n",
       "      <th>116</th>\n",
       "      <td>WFO_RLX</td>\n",
       "      <td>0.015789</td>\n",
       "    </tr>\n",
       "    <tr>\n",
       "      <th>132</th>\n",
       "      <td>WFO_VEF</td>\n",
       "      <td>0.014787</td>\n",
       "    </tr>\n",
       "    <tr>\n",
       "      <th>146</th>\n",
       "      <td>EVENT_TYPE_Tornado</td>\n",
       "      <td>0.013880</td>\n",
       "    </tr>\n",
       "    <tr>\n",
       "      <th>33</th>\n",
       "      <td>WFO_CAE</td>\n",
       "      <td>0.013128</td>\n",
       "    </tr>\n",
       "    <tr>\n",
       "      <th>60</th>\n",
       "      <td>WFO_GSP</td>\n",
       "      <td>0.012999</td>\n",
       "    </tr>\n",
       "    <tr>\n",
       "      <th>8</th>\n",
       "      <td>MONTH_NAME_July</td>\n",
       "      <td>0.011962</td>\n",
       "    </tr>\n",
       "    <tr>\n",
       "      <th>121</th>\n",
       "      <td>WFO_SHV</td>\n",
       "      <td>0.011804</td>\n",
       "    </tr>\n",
       "    <tr>\n",
       "      <th>133</th>\n",
       "      <td>YEAR_2017</td>\n",
       "      <td>0.011236</td>\n",
       "    </tr>\n",
       "    <tr>\n",
       "      <th>135</th>\n",
       "      <td>EVENT_TYPE_Flash Flood</td>\n",
       "      <td>0.010614</td>\n",
       "    </tr>\n",
       "  </tbody>\n",
       "</table>\n",
       "</div>"
      ],
      "text/plain": [
       "                                  Predictor  Importance\n",
       "175  EVENT_TYPE_Thunderstorm Wind*MAGNITUDE    0.115180\n",
       "0                                BEGIN_TIME    0.084630\n",
       "1                                   DENSITY    0.048839\n",
       "72                                  WFO_JAN    0.034368\n",
       "179                    HH_INCOME*POPULATION    0.033912\n",
       "168               EVENT_TYPE_Hail*MAGNITUDE    0.032777\n",
       "3                                 HH_INCOME    0.030913\n",
       "180                      DENSITY*POPULATION    0.028557\n",
       "2                                POPULATION    0.027857\n",
       "178                       HH_INCOME*DENSITY    0.024781\n",
       "23                                  WFO_BGM    0.020118\n",
       "116                                 WFO_RLX    0.015789\n",
       "132                                 WFO_VEF    0.014787\n",
       "146                      EVENT_TYPE_Tornado    0.013880\n",
       "33                                  WFO_CAE    0.013128\n",
       "60                                  WFO_GSP    0.012999\n",
       "8                           MONTH_NAME_July    0.011962\n",
       "121                                 WFO_SHV    0.011804\n",
       "133                               YEAR_2017    0.011236\n",
       "135                  EVENT_TYPE_Flash Flood    0.010614"
      ]
     },
     "execution_count": 84,
     "metadata": {},
     "output_type": "execute_result"
    }
   ],
   "source": [
    "# TODO: GINI IMPORTANCE FOR DECISION TREE\n",
    "treeimportance_df = pd.DataFrame(columns=[\"Predictor\",\"Importance\"])\n",
    "treeimportance_df[\"Importance\"] = pd.Series(dt.feature_importances_)\n",
    "treeimportance_df[\"Predictor\"] = pd.Series(X_train_complex.columns)\n",
    "treeimportance_df.sort_values('Importance',ascending=False)[:20]"
   ]
  },
  {
   "cell_type": "code",
   "execution_count": 78,
   "metadata": {
    "collapsed": true
   },
   "outputs": [],
   "source": [
    "# Out-of-bag cross-validation to choose RF number of predictors\n",
    "best_pred = 0\n",
    "best_score = 0\n",
    "for f in [20,40,60,80]:\n",
    "    est = RandomForestClassifier(oob_score=True, \n",
    "                                n_estimators=32, max_features=f, max_depth=best_depth, n_jobs=-1)\n",
    "    est.fit(X_train_complex, y_train)\n",
    "    if est.oob_score_ > best_score:\n",
    "        best_score = est.oob_score_\n",
    "        best_pred = f"
   ]
  },
  {
   "cell_type": "code",
   "execution_count": 79,
   "metadata": {
    "collapsed": false
   },
   "outputs": [
    {
     "name": "stdout",
     "output_type": "stream",
     "text": [
      "\n",
      "Training Accuracy: 0.999566665146\n",
      "Testing Accuracy: 0.94716858823\n",
      "True Positive Rate:  0.910469602235\n",
      "True Negative Rate:  0.966761363636\n",
      "AUC:  0.985779926296\n"
     ]
    }
   ],
   "source": [
    "rf = RandomForestClassifier(oob_score=True, n_estimators=64, max_features=best_pred, \n",
    "                            max_depth=best_depth, n_jobs=-1)\n",
    "rf.fit(X_train_complex,y_train)\n",
    "\n",
    "train_pred = rf.predict(X_train_complex)\n",
    "test_pred = rf.predict(X_test_complex)\n",
    "print()\n",
    "print(\"Training Accuracy: \" + str(accuracy_score(train_pred, y_train)))\n",
    "print(\"Testing Accuracy: \" + str(accuracy_score(test_pred, y_test)))\n",
    "\n",
    "from sklearn.metrics import confusion_matrix\n",
    "conf_mat = confusion_matrix(y_test,test_pred)\n",
    "print(\"True Positive Rate: \", float(conf_mat[1][1])/(conf_mat[1][1]+ conf_mat[1][0]))\n",
    "print(\"True Negative Rate: \", float(conf_mat[0][0])/(conf_mat[0][0] + conf_mat[0][1]))\n",
    "\n",
    "test_pred_proba = rf.predict_proba(X_test_complex)[:,1]\n",
    "fpr, tpr, thresholds = metrics.roc_curve(y_test, test_pred_proba)\n",
    "roc_auc = metrics.auc(fpr, tpr)\n",
    "print(\"AUC: \", roc_auc)"
   ]
  },
  {
   "cell_type": "markdown",
   "metadata": {},
   "source": [
    "### AdaBoost"
   ]
  },
  {
   "cell_type": "code",
   "execution_count": 91,
   "metadata": {
    "collapsed": false
   },
   "outputs": [
    {
     "data": {
      "text/plain": [
       "AdaBoostClassifier(algorithm='SAMME.R',\n",
       "          base_estimator=DecisionTreeClassifier(class_weight=None, criterion='gini', max_depth=15,\n",
       "            max_features=None, max_leaf_nodes=None,\n",
       "            min_impurity_split=1e-07, min_samples_leaf=1,\n",
       "            min_samples_split=2, min_weight_fraction_leaf=0.0,\n",
       "            presort=False, random_state=None, splitter='best'),\n",
       "          learning_rate=0.08, n_estimators=150, random_state=None)"
      ]
     },
     "execution_count": 91,
     "metadata": {},
     "output_type": "execute_result"
    }
   ],
   "source": [
    "# TODO: 15 MAX_DEPTH ???\n",
    "from sklearn.model_selection import GridSearchCV\n",
    "param_grid_boost = {\n",
    "              'base_estimator__max_depth': list(range(5,16,2))\n",
    "}\n",
    "gb = AdaBoostClassifier(base_estimator=DecisionTreeClassifier(), n_estimators=150, learning_rate=.08)\n",
    "gb_cv = GridSearchCV(gb, param_grid_boost, cv=5, n_jobs=-1)\n",
    "\n",
    "gb_cv.fit(X_train_complex, y_train)\n",
    "\n",
    "begb = gb_cv.best_estimator_\n",
    "begb"
   ]
  },
  {
   "cell_type": "code",
   "execution_count": 95,
   "metadata": {
    "collapsed": false
   },
   "outputs": [
    {
     "data": {
      "text/plain": [
       "<matplotlib.text.Text at 0x11bdbddd8>"
      ]
     },
     "execution_count": 95,
     "metadata": {},
     "output_type": "execute_result"
    },
    {
     "data": {
      "image/png": "[encoded data removed]",
      "text/plain": [
       "<matplotlib.figure.Figure at 0x1253680f0>"
      ]
     },
     "metadata": {},
     "output_type": "display_data"
    }
   ],
   "source": [
    "test_scores=[]\n",
    "for spred in begb.staged_predict(X_test_complex):\n",
    "    test_scores.append(metrics.accuracy_score(spred, y_test))\n",
    "plt.plot(range(1, 151), test_scores)\n",
    "plt.xlabel(\"Number of Trees\")\n",
    "plt.ylabel(\"Cross-Validation Score\")"
   ]
  },
  {
   "cell_type": "code",
   "execution_count": 96,
   "metadata": {
    "collapsed": false
   },
   "outputs": [
    {
     "name": "stdout",
     "output_type": "stream",
     "text": [
      "Optimal # trees =  71\n",
      "Optimal depth =  15\n"
     ]
    }
   ],
   "source": [
    "print (\"Optimal # trees = \", range(1, 150)[np.argmax(test_scores)])\n",
    "print (\"Optimal depth = \", 15) # from begb printout above"
   ]
  },
  {
   "cell_type": "code",
   "execution_count": 97,
   "metadata": {
    "collapsed": false
   },
   "outputs": [
    {
     "name": "stdout",
     "output_type": "stream",
     "text": [
      "\n",
      "Training Accuracy: 0.999635086439\n",
      "Testing Accuracy: 0.939436032782\n",
      "True Positive Rate:  0.901290408408\n",
      "True Negative Rate:  0.959801136364\n",
      "AUC:  0.95146428512\n"
     ]
    }
   ],
   "source": [
    "gb_optimized = AdaBoostClassifier(base_estimator=DecisionTreeClassifier(max_depth=15),\n",
    "                                  n_estimators=71, learning_rate=.08)\n",
    "gb_optimized.fit(X_train_complex, y_train)\n",
    "\n",
    "train_pred = gb_optimized.predict(X_train_complex)\n",
    "test_pred = gb_optimized.predict(X_test_complex)\n",
    "print()\n",
    "print(\"Training Accuracy: \" + str(accuracy_score(train_pred, y_train)))\n",
    "print(\"Testing Accuracy: \" + str(accuracy_score(test_pred, y_test)))\n",
    "\n",
    "from sklearn.metrics import confusion_matrix\n",
    "conf_mat = confusion_matrix(y_test,test_pred)\n",
    "print(\"True Positive Rate: \", float(conf_mat[1][1])/(conf_mat[1][1]+ conf_mat[1][0]))\n",
    "print(\"True Negative Rate: \", float(conf_mat[0][0])/(conf_mat[0][0] + conf_mat[0][1]))\n",
    "\n",
    "test_pred_proba = gb_optimized.predict_proba(X_test_complex)[:,1]\n",
    "fpr, tpr, thresholds = metrics.roc_curve(y_test, test_pred_proba)\n",
    "roc_auc = metrics.auc(fpr, tpr)\n",
    "print(\"AUC: \", roc_auc)"
   ]
  },
  {
   "cell_type": "markdown",
   "metadata": {},
   "source": [
    "# Part 10: Preliminary Regression Model"
   ]
  },
  {
   "cell_type": "code",
   "execution_count": null,
   "metadata": {
    "collapsed": true
   },
   "outputs": [],
   "source": []
  },
  {
   "cell_type": "markdown",
   "metadata": {},
   "source": [
    "# Part 11:  Improving Regression Model"
   ]
  },
  {
   "cell_type": "code",
   "execution_count": null,
   "metadata": {
    "collapsed": true
   },
   "outputs": [],
   "source": []
  },
  {
   "cell_type": "markdown",
   "metadata": {},
   "source": [
    "# Part 12: Model Analysis and Presentation"
   ]
  },
  {
   "cell_type": "code",
   "execution_count": null,
   "metadata": {
    "collapsed": true
   },
   "outputs": [],
   "source": []
  }
 ],
 "metadata": {
  "kernelspec": {
   "display_name": "Python 3",
   "language": "python",
   "name": "python3"
  },
  "language_info": {
   "codemirror_mode": {
    "name": "ipython",
    "version": 3
   },
   "file_extension": ".py",
   "mimetype": "text/x-python",
   "name": "python",
   "nbconvert_exporter": "python",
   "pygments_lexer": "ipython3",
   "version": "3.6.0"
  }
 },
 "nbformat": 4,
 "nbformat_minor": 2
}
